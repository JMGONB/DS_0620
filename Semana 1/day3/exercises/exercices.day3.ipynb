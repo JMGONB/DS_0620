{
 "cells": [
  {
   "cell_type": "code",
   "execution_count": 1,
   "metadata": {
    "tags": []
   },
   "outputs": [
    {
     "output_type": "stream",
     "name": "stdout",
     "text": "¡Hola mundo!\n"
    }
   ],
   "source": [
    "# Mostrar por pantalla la cadena \"¡Hola mundo!\"\n",
    "print(\"¡Hola mundo!\")"
   ]
  },
  {
   "cell_type": "code",
   "execution_count": null,
   "metadata": {},
   "outputs": [],
   "source": [
    "# Guardar la cadena \"¡Hola mundo!\" en la variable a\n",
    "# Mostrar por pantalla contenido de la variable a"
   ]
  },
  {
   "cell_type": "code",
   "execution_count": 2,
   "metadata": {
    "tags": []
   },
   "outputs": [
    {
     "output_type": "stream",
     "name": "stdout",
     "text": "¡Hola mundo!\n"
    }
   ],
   "source": [
    "a=(\"¡Hola mundo!\")\n",
    "print(a)"
   ]
  },
  {
   "cell_type": "code",
   "execution_count": null,
   "metadata": {},
   "outputs": [],
   "source": [
    "# Preguntar el nombre del usuario y guardarlo en la variable nombre\n",
    "\n",
    "# Mostrar por pantalla el saludo con el nombre"
   ]
  },
  {
   "cell_type": "code",
   "execution_count": 7,
   "metadata": {
    "tags": []
   },
   "outputs": [
    {
     "output_type": "stream",
     "name": "stdout",
     "text": "Hola: jose Bienvenido\n"
    }
   ],
   "source": [
    "nombre=input(\"Nombre de usuario:\")\n",
    "print(\"Hola:\",nombre,\"Bienvenido\")"
   ]
  },
  {
   "cell_type": "code",
   "execution_count": null,
   "metadata": {},
   "outputs": [],
   "source": [
    "Escribir un programa que pregunte el nombre del usuario en la consola y un número entero e imprima por pantalla en líneas distintas el nombre del usuario tantas veces como el número introducido.\n",
    "\n",
    "\n"
   ]
  },
  {
   "cell_type": "code",
   "execution_count": 2,
   "metadata": {
    "tags": []
   },
   "outputs": [
    {
     "output_type": "stream",
     "name": "stdout",
     "text": "jose\njose\njose\njose\njose\njose\njose\n\n"
    }
   ],
   "source": [
    "nombre=input(\"Nombre de usuario\")\n",
    "numero=input(\"numero\")\n",
    "print((nombre+\"\\n\")*int(numero))"
   ]
  },
  {
   "cell_type": "code",
   "execution_count": null,
   "metadata": {},
   "outputs": [],
   "source": [
    "Escribir un programa que pregunte el nombre del usuario en la consola y después de que el usuario lo introduzca muestre por pantalla <NOMBRE> tiene <n> letras, donde <NOMBRE> es el nombre de usuario en mayúsculas y <n> es el número de letras que tienen el nombre."
   ]
  },
  {
   "cell_type": "code",
   "execution_count": 16,
   "metadata": {
    "tags": []
   },
   "outputs": [
    {
     "output_type": "stream",
     "name": "stdout",
     "text": "JOSE tiene 4 letras\n"
    }
   ],
   "source": [
    "nombre=input(\"Nombre de usuario\")\n",
    "letras = len (nombre)\n",
    "letras2=str(letras)\n",
    "print ((nombre.upper() ),(\"tiene\" ) ,(letras2 ),(\"letras\")) \n"
   ]
  },
  {
   "cell_type": "code",
   "execution_count": null,
   "metadata": {},
   "outputs": [],
   "source": [
    "Escribir un programa que realice la siguiente operación aritmética (3+2/2⋅5)2"
   ]
  },
  {
   "cell_type": "code",
   "execution_count": 19,
   "metadata": {
    "tags": []
   },
   "outputs": [
    {
     "output_type": "stream",
     "name": "stdout",
     "text": "4.0\n"
    }
   ],
   "source": [
    "x=3.0\n",
    "y=2.0\n",
    "z=2.5\n",
    "suma=x+y\n",
    "division=suma/2.5\n",
    "print(division**2)"
   ]
  },
  {
   "cell_type": "code",
   "execution_count": null,
   "metadata": {},
   "outputs": [],
   "source": [
    "Escribir un programa que pregunte al usuario por el número de horas trabajadas y el coste por hora. Después debe mostrar por pantalla la paga que le corresponde.\n",
    "\n",
    "\n"
   ]
  },
  {
   "cell_type": "code",
   "execution_count": 23,
   "metadata": {
    "tags": []
   },
   "outputs": [
    {
     "output_type": "stream",
     "name": "stdout",
     "text": "El salario es de:35€\n"
    }
   ],
   "source": [
    "horas=input(\"numero de horas\")\n",
    "coste_hora=input(\"coste/hora\")\n",
    "salario=int(horas)*int(coste_hora)\n",
    "salario2=str(salario)\n",
    "print ((\"El salario es de:\")+(salario2)+(\"€\"))"
   ]
  },
  {
   "cell_type": "code",
   "execution_count": null,
   "metadata": {},
   "outputs": [],
   "source": [
    "Escribir un programa que lea un entero positivo, 𝑛, introducido por el usuario y después muestre en pantalla la suma de todos los enteros desde 1 hasta 𝑛. La suma de los 𝑛 primeros enteros positivos puede ser calculada de la siguiente forma:Suma=n(n+1)/2"
   ]
  },
  {
   "cell_type": "code",
   "execution_count": 6,
   "metadata": {
    "tags": []
   },
   "outputs": [
    {
     "output_type": "stream",
     "name": "stdout",
     "text": "El numero no es valido\n"
    }
   ],
   "source": [
    "num=input (\"Introducir numero\")\n",
    "valor=int (num)\n",
    "if valor >= 0:\n",
    "    suma= valor*(valor+1)/2\n",
    "    print (suma)\n",
    "else:\n",
    "    print(\"El numero no es valido\")\n",
    "    \n"
   ]
  },
  {
   "cell_type": "code",
   "execution_count": null,
   "metadata": {},
   "outputs": [],
   "source": [
    "#Escribir un programa que pida al usuario su peso (en kg) y estatura (en metros), calcule el índice de masa corporal y lo almacene en una variable, y muestre por pantalla la frase Tu índice de masa corporal es <imc> donde <imc> es el índice de masa corporal calculado redondeado con dos decimales.\n",
    "\n",
    "\n"
   ]
  },
  {
   "cell_type": "code",
   "execution_count": 14,
   "metadata": {
    "tags": []
   },
   "outputs": [
    {
     "output_type": "stream",
     "name": "stdout",
     "text": "tu indice de masa corporal es 18.94\n"
    }
   ],
   "source": [
    "peso=input(\"Introduzca su peso en kg\")\n",
    "altura=input(\"Introduzca su altura en metros\")\n",
    "im=round(float (peso) / float (altura)**2,2)     #round redondea a los decimales indicados en el segundo objeto de la variable que en esta caso es 2\n",
    "im2=str(im)\n",
    "print(\"tu indice de masa corporal es\", (im2))\n"
   ]
  },
  {
   "cell_type": "code",
   "execution_count": null,
   "metadata": {},
   "outputs": [],
   "source": [
    "#Escribir un programa que pida al usuario dos números enteros y muestre por pantalla la <n> entre <m> da un cociente <c> y un resto <r> donde <n> y <m> son los números introducidos por el usuario, y <c> y <r> son el cociente y el resto de la división entera respectivamente.\n"
   ]
  },
  {
   "cell_type": "code",
   "execution_count": 33,
   "metadata": {
    "tags": []
   },
   "outputs": [
    {
     "output_type": "stream",
     "name": "stdout",
     "text": "el primer numero dividido entre el numero 2 da un cociente de 2 y da un resto de 3\n"
    }
   ],
   "source": [
    "numero1=input (\"Introduzca un numero entero\")\n",
    "numero2=input (\"Ahora introduzca otro numero entero\")\n",
    "division=int(numero1)//int(numero2)\n",
    "cociente=(division)\n",
    "resto= int(numero1)- (division * int (numero2))\n",
    "print(\"El primer numero dividido entre el numero 2 da un cociente de\",(cociente), \"y da un resto de\", (resto))"
   ]
  },
  {
   "cell_type": "code",
   "execution_count": null,
   "metadata": {},
   "outputs": [],
   "source": []
  }
 ],
 "metadata": {
  "language_info": {
   "codemirror_mode": {
    "name": "ipython",
    "version": 3
   },
   "file_extension": ".py",
   "mimetype": "text/x-python",
   "name": "python",
   "nbconvert_exporter": "python",
   "pygments_lexer": "ipython3",
   "version": "3.8.3-final"
  },
  "orig_nbformat": 2,
  "kernelspec": {
   "name": "python38332bit3b88bc2c3ab54c688f6a631855e13655",
   "display_name": "Python 3.8.3 32-bit"
  }
 },
 "nbformat": 4,
 "nbformat_minor": 2
}