{
 "metadata": {
  "language_info": {
   "codemirror_mode": {
    "name": "ipython",
    "version": 3
   },
   "file_extension": ".py",
   "mimetype": "text/x-python",
   "name": "python",
   "nbconvert_exporter": "python",
   "pygments_lexer": "ipython3",
   "version": "3.8.3-final"
  },
  "orig_nbformat": 2,
  "kernelspec": {
   "name": "python_defaultSpec_1597681141232",
   "display_name": "Python 3.8.3 32-bit"
  }
 },
 "nbformat": 4,
 "nbformat_minor": 2,
 "cells": [
  {
   "cell_type": "code",
   "execution_count": 1,
   "metadata": {},
   "outputs": [],
   "source": [
    "import requests\n",
    "import pandas as pd\n",
    "import re\n",
    "from bs4 import BeautifulSoup\n",
    "import urllib"
   ]
  },
  {
   "cell_type": "code",
   "execution_count": 2,
   "metadata": {},
   "outputs": [],
   "source": [
    "url=\"https://www.consalud.es/autonomias/c-madrid/comunidad-madrid-logra-dato-campana-gripe-1107000-vacunados_74077_102.html\""
   ]
  },
  {
   "cell_type": "code",
   "execution_count": 3,
   "metadata": {},
   "outputs": [],
   "source": [
    "mi_url=urllib.request.urlopen(url)"
   ]
  },
  {
   "cell_type": "code",
   "execution_count": 4,
   "metadata": {
    "tags": []
   },
   "outputs": [],
   "source": [
    "soup=BeautifulSoup(mi_url,\"html.parser\")\n"
   ]
  },
  {
   "cell_type": "code",
   "execution_count": 5,
   "metadata": {
    "tags": [
     "outputPrepend"
    ]
   },
   "outputs": [
    {
     "output_type": "stream",
     "name": "stdout",
     "text": "-revive-id=\"6f357429b9c02270b30fdb2e5d995de6\" data-revive-zoneid=\" 266\">\n              </ins>\n              <script async=\"\" src=\"//ad.consalud.es/www/delivery/asyncjs.php\">\n              </script>\n             </div>\n            </div>\n            <div class=\"item m2 vert\">\n             <div class=\"cont\">\n              <a href=\"https://www.consalud.es/ecsalud/internacional/bristol-myers-squibb-destina-250-millones-acelerar-esfuerzos-equidad-salud_83941_102.html\" target=\"_blank\" title=\"Bristol Myers Squibb destina más de 250 millones para acelerar los esfuerzos de equidad en la salud\">\n               <img alt=\"Bristol Myers Squibb destina más de 250 millones para acelerar los esfuerzos de equidad en la salud\" src=\"https://www.consalud.es/ecsalud/uploads/s1/45/29/53/giovanni-caforio-ceo-de-bristol-myers-squibb_4_508x316.jpeg\" title=\"Bristol Myers Squibb destina más de 250 millones para acelerar los esfuerzos de equidad en la salud\">\n               </img>\n              </a>\n              <p class=\"title\">\n               <a href=\"https://www.consalud.es/ecsalud/internacional/bristol-myers-squibb-destina-250-millones-acelerar-esfuerzos-equidad-salud_83941_102.html\" target=\"_blank\" title=\"Bristol Myers Squibb destina más de 250 millones para acelerar los esfuerzos de equidad en la salud\">\n                Bristol Myers Squibb destina más de 250 millones para acelerar los esfuerzos de equidad en la salud\n               </a>\n              </p>\n              <div class=\"comp nocomment\">\n              </div>\n             </div>\n            </div>\n            <div class=\"item small m2\">\n             <div class=\"cont\">\n              <a href=\"https://www.consalud.es/ecsalud/internacional/acuerdo-thermo-fisher-qiagen-fracasa_83986_102.html\" target=\"_blank\" title=\"El acuerdo entre Thermo Fisher y Qiagen fracasa\">\n               <img alt=\"El acuerdo entre Thermo Fisher y Qiagen fracasa\" src=\"https://www.consalud.es/ecsalud/uploads/s1/92/52/97/sede-de-thermo-fisher_4_508x316.jpeg\" title=\"El acuerdo entre Thermo Fisher y Qiagen fracasa\">\n               </img>\n              </a>\n              <p class=\"title\">\n               <a href=\"https://www.consalud.es/ecsalud/internacional/acuerdo-thermo-fisher-qiagen-fracasa_83986_102.html\" target=\"_blank\" title=\"El acuerdo entre Thermo Fisher y Qiagen fracasa\">\n                El acuerdo entre Thermo Fisher y Qiagen fracasa\n               </a>\n              </p>\n              <div class=\"comp nocomment\">\n              </div>\n             </div>\n            </div>\n            <div class=\"item small m2\">\n             <div class=\"cont\">\n              <a href=\"https://www.consalud.es/ecsalud/internacional/labcorp-realizara-prueba-anticuerpos-cargo-acelerar-donacion-plasma-sanguineo_83904_102.html\" target=\"_blank\" title='LabCorp realizará prueba de anticuerpos \"sin cargo\" para acelerar la donación de plasma sanguíneo'>\n               <img alt='LabCorp realizará prueba de anticuerpos \"sin cargo\" para acelerar la donación de plasma sanguíneo' src=\"https://www.consalud.es/ecsalud/uploads/s1/14/01/13/1/labcorp_4_508x316.jpeg\" title='LabCorp realizará prueba de anticuerpos \"sin cargo\" para acelerar la donación de plasma sanguíneo'>\n               </img>\n              </a>\n              <p class=\"title\">\n               <a href=\"https://www.consalud.es/ecsalud/internacional/labcorp-realizara-prueba-anticuerpos-cargo-acelerar-donacion-plasma-sanguineo_83904_102.html\" target=\"_blank\" title='LabCorp realizará prueba de anticuerpos \"sin cargo\" para acelerar la donación de plasma sanguíneo'>\n                LabCorp realizará prueba de anticuerpos \"sin cargo\" para acelerar la donación de plasma sanguíneo\n               </a>\n              </p>\n              <div class=\"comp nocomment\">\n              </div>\n             </div>\n            </div>\n           </div>\n           <div class=\"banner banner-400x150\" data-zoneid=\" - 36\" data-zonename=\"zona: 4\">\n            <ins data-revive-block=\"1\" data-revive-id=\"6f357429b9c02270b30fdb2e5d995de6\" data-revive-zoneid=\"36\">\n            </ins>\n            <script async=\"\" src=\"//ad.consalud.es/www/delivery/asyncjs.php\">\n            </script>\n           </div>\n           <div class=\"banner banner-400x150\" data-zoneid=\" - 39\" data-zonename=\"zona: 1\">\n            <ins data-revive-block=\"1\" data-revive-id=\"6f357429b9c02270b30fdb2e5d995de6\" data-revive-zoneid=\"39\">\n            </ins>\n            <script async=\"\" src=\"//ad.consalud.es/www/delivery/asyncjs.php\">\n            </script>\n           </div>\n           <div class=\"banner banner-250x500\" data-zoneid=\" - 34\" data-zonename=\"zona: 1\">\n            <ins data-revive-block=\"1\" data-revive-id=\"6f357429b9c02270b30fdb2e5d995de6\" data-revive-zoneid=\"34\">\n            </ins>\n            <script async=\"\" src=\"//ad.consalud.es/www/delivery/asyncjs.php\">\n            </script>\n           </div>\n          </div>\n         </div>\n        </div>\n        <div class=\"row editable_item\">\n         <div class=\"col-xs-16 col-sm-16 col-md-16 col-lg-16\">\n          <div class=\"csl-inner csl-hot\">\n           <div class=\"comment-block\">\n            <div class=\"comments-inner\">\n             <span class=\"title-section sub\">\n              Escribir un comentario\n              <span>\n               (0)\n              </span>\n             </span>\n             <div class=\"col-xs-16 col-sm-16 col-md-16 col-lg-16\" data-container=\"comments-form\">\n              <div class=\"row\">\n               <div class=\"comments-form\">\n                <div class=\"comment-reply-info\" style=\"display: none\">\n                 Respuesta al usuario\n                 <span id=\"comment-replyto\">\n                 </span>\n                 <a class=\"comment-reply-close\" href=\"#\">\n                  X\n                 </a>\n                </div>\n                <div class=\"col-xs-16 col-sm-16 col-md-10 col-lg-10\">\n                 <div class=\"comments-form row\">\n                  <form action=\"/_call?controller=ComitiumSuite%5CBundle%5CCSBundle%5CWidgets%5CComments%5CController%5CWidgetController&amp;action=renderFormAction&amp;_article=74077&amp;_contentType=102\" class=\"comment_form\" data-comment-form-widget=\"1\" method=\"post\" name=\"comment_form\">\n                   <div class=\"name-and-mail\">\n                    <div class=\"input\">\n                     <input id=\"comment_form_name\" name=\"comment_form[name]\" placeholder=\"Nombre\" required=\"required\" type=\"text\"/>\n                    </div>\n                    <div class=\"input\">\n                     <input id=\"comment_form_mail\" name=\"comment_form[mail]\" placeholder=\"Correo electrónico\" required=\"required\" type=\"email\"/>\n                    </div>\n                   </div>\n                   <div class=\"textarea\">\n                    <textarea id=\"comment_form_comment\" maxlength=\"500\" name=\"comment_form[comment]\" placeholder=\"Comentario\" required=\"required\"></textarea>\n                   </div>\n                   <div class=\"g-recaptcha\" data-sitekey=\"6LeaWCQUAAAAAKWP70Hbes3yrN3iUJeL7o4xo5U5\" id=\"comment_form_g_recaptcha\" style=\"margin-bottom: 20px\">\n                   </div>\n                   <input id=\"comment_form_parent\" name=\"comment_form[parent]\" type=\"hidden\"/>\n                   <input id=\"comment_form_contentId\" name=\"comment_form[contentId]\" type=\"hidden\" value=\"74077\"/>\n                   <input id=\"comment_form_contentTitle\" name=\"comment_form[contentTitle]\" type=\"hidden\" value=\"La Comunidad de Madrid logra su mejor dato en la campaña contra la gripe: 1.107.000 vacunados\"/>\n                   <input id=\"comment_form_contentTypeId\" name=\"comment_form[contentTypeId]\" type=\"hidden\" value=\"102\"/>\n                   <input class=\"btn\" type=\"submit\" value=\"Enviar\"/>\n                   <input name=\"_uuid\" type=\"hidden\" value=\"592bec1925458\"/>\n                  </form>\n                 </div>\n                </div>\n               </div>\n              </div>\n             </div>\n            </div>\n           </div>\n           <div class=\"col-xs-16 col-sm-16 col-md-10 col-lg-10\" data-container=\"comments-content\">\n            <div class=\"comments-list\" id=\"comments-list\">\n            </div>\n           </div>\n          </div>\n         </div>\n        </div>\n       </div>\n      </div>\n     </div>\n    </div>\n   </div>\n   <div class=\"row row-bottom\">\n    <div class=\"col-xs-16 col-sm-16 col-md-16 col-lg-16\">\n     <div class=\"csl-inner csl-hot\">\n      <div class=\"row row-bottom\">\n       <div class=\"col-xs-16 col-sm-16 col-md-16 col-lg-16\">\n        <footer>\n         <div class=\"sup\">\n          <div class=\"wrapper\">\n           <span class=\"anchor\">\n           </span>\n           <div class=\"block1\">\n            <div class=\"logo\">\n             <img alt=\"ConSalud.es\" src=\"/bundles/cs/Widgets/Footer/images/consalud_white.png\" title=\"ConSalud.es\"/>\n            </div>\n            <div class=\"nl\">\n             <a href=\"/alta-newsletter.html\" rel=\"nofollow\" title=\"Newsletter\">\n              <img alt=\"Newsletter\" src=\"/bundles/cs/Widgets/Footer/images/mail_white.svg\" title=\"Newsletter\"/>\n              Newsletter\n             </a>\n            </div>\n           </div>\n           <div class=\"block2\">\n            <div class=\"col\">\n             <p class=\"title\">\n              Actualidad\n             </p>\n             <a href=\"/politica\" rel=\"nofollow\" title=\"Política\">\n              Política\n             </a>\n             <a href=\"/industria\" rel=\"nofollow\" title=\"Industria\">\n              Industria\n             </a>\n             <a href=\"/tecnologia\" rel=\"nofollow\" title=\"Tecnología\">\n              Tecnología\n             </a>\n             <a href=\"/profesionales\" rel=\"nofollow\" title=\"Profesionales\">\n              Profesionales\n             </a>\n             <a href=\"/autonomias\" rel=\"nofollow\" title=\"Autonomías\">\n              Autonomías\n             </a>\n             <a href=\"/pacientes\" rel=\"nofollow\" title=\"Pacientes\">\n              Pacientes\n             </a>\n             <a href=\"/opinion\" rel=\"nofollow\" title=\"Opinión\">\n              Opinión\n             </a>\n            </div>\n            <div class=\"col\">\n             <p class=\"title\">\n              Áreas\n             </p>\n             <a href=\"/barometro-sanitario\" rel=\"nofollow\" title=\"Barómetro sanitario\">\n              Barómetro sanitario\n             </a>\n             <a href=\"/el-buzo-sanitario\" rel=\"nofollow\" title=\"El Buzo Sanitario\">\n              El Buzo Sanitario\n             </a>\n             <a href=\"/la-entrevista\" rel=\"nofollow\" title=\"La entrevista\">\n              La entrevista\n             </a>\n             <a href=\"/lupa-sanitaria\" rel=\"nofollow\" title=\"Lupa sanitaria\">\n              Lupa sanitaria\n             </a>\n             <a href=\"/industria/medicamentos\" rel=\"nofollow\" title=\"Medicamentos\">\n              Medicamentos\n             </a>\n             <a href=\"/pacientes/c-medico-de-referencia\" rel=\"nofollow\" title=\"C. Médico de referencia\">\n              C. Médico de referencia\n             </a>\n            </div>\n            <div class=\"col\">\n             <p class=\"title\">\n              Sobre nosotros\n             </p>\n             <a href=\"http://www.mediforum.es/equipo\" rel=\"nofollow\" target=\"_blank\" title=\"Quiénes somos\">\n              Quiénes somos\n             </a>\n             <a href=\"http://www.mediforum.es/contacto\" rel=\"nofollow\" target=\"_blank\" title=\"Trabaja con nosotros\">\n              Trabaja con nosotros\n             </a>\n             <a href=\"/politica-de-cookies.html\" rel=\"nofollow\" title=\"Política de cookies\">\n              Política de cookies\n             </a>\n             <a href=\"/aviso-legal.html\" rel=\"nofollow\" title=\"Aviso legal\">\n              Aviso legal\n             </a>\n             <a href=\"/baja-newsletter.html\" rel=\"nofollow\" title=\"Baja Newsletter\">\n              Baja Newsletter\n             </a>\n             <a href=\"/publicidad.html\" rel=\"nofollow\" title=\"Publicidad\">\n              <span>\n               Publicidad\n              </span>\n             </a>\n            </div>\n            <div class=\"col\">\n             <div class=\"social\">\n              <p class=\"title\">\n               Síguenos en redes:\n              </p>\n              <span class=\"h-links-social\">\n               <a href=\"https://www.facebook.com/ConSalud.es\" rel=\"nofollow\" target=\"_blank\" title=\"Facebook\">\n                <i class=\"fa fa-facebook\">\n                </i>\n               </a>\n               <a href=\"https://twitter.com/consalud_es\" rel=\"nofollow\" target=\"_blank\" title=\"Twitter\">\n                <i class=\"fa fa-twitter\">\n                </i>\n               </a>\n               <a href=\"https://plus.google.com/+ConsaludEs\" rel=\"nofollow\" target=\"_blank\" title=\"Google Plus\">\n                <i class=\"fa fa-google-plus\">\n                </i>\n               </a>\n               <a href=\"https://www.linkedin.com/groups/4675547\" rel=\"nofollow\" target=\"_blank\" title=\"LinkedIn\">\n                <i class=\"fa fa-linkedin\">\n                </i>\n               </a>\n               <a href=\"https://www.instagram.com/consalud.es/\" rel=\"nofollow\" target=\"_blank\" title=\"Instagram\">\n                <i class=\"fa fa-instagram\">\n                </i>\n               </a>\n               <a href=\"https://www.youtube.com/user/Consalud2011/\" rel=\"nofollow\" target=\"_blank\" title=\"YouTube\">\n                <i class=\"fa fa-youtube\">\n                </i>\n               </a>\n              </span>\n             </div>\n             <div class=\"publi\">\n              <p class=\"title\">\n               Una publicación de:\n              </p>\n              <a href=\"http://www.mediforum.es/\" rel=\"nofollow\" target=\"_blank\" title=\"Grupo Mediforum\">\n               <img alt=\"Grupo Mediforum\" src=\"/bundles/cs/Widgets/Footer/images/mediforum.png\" title=\"Grupo Mediforum\"/>\n              </a>\n             </div>\n            </div>\n           </div>\n           <div class=\"block3\">\n            <span>\n             Otras webs del grupo:\n            </span>\n            <a href=\"/ecsalud\" rel=\"nofollow\" target=\"_blank\">\n             <img src=\"/bundles/cs/Widgets/Footer/images/ecsalud.png\" title=\"Empresas ConSalud\"/>\n            </a>\n            <a href=\"/estetic\" rel=\"nofollow\" target=\"_blank\">\n             <img src=\"/bundles/cs/Widgets/Footer/images/estetic.png\" title=\"Estetic.es\"/>\n            </a>\n            <a href=\"http://www.saludigital.es\" rel=\"nofollow\" target=\"_blank\">\n             <img src=\"/bundles/cs/Widgets/Footer/images/saludigital.png\" title=\"SaluDigital.es\"/>\n            </a>\n            <a href=\"http://www.galenusjobs.es\" rel=\"nofollow\" target=\"_blank\">\n             <img src=\"/bundles/cs/Widgets/Footer/images/galenusjobs.png\" title=\"Galenusjobs\"/>\n            </a>\n           </div>\n          </div>\n         </div>\n         <div class=\"info-footer\">\n          <div class=\"infos\">\n           <p>\n            © Copyright 2018. ConSalud.es.\n            <strong>\n             Todos los derechos reservados.\n            </strong>\n           </p>\n           <p>\n            <img alt=\"Dirección\" src=\"/bundles/cs/Widgets/Footer/images/stiu.svg\" title=\"Dirección\"/>\n            C/ Batalla de Belchite 5, 4ª planta, 28045, Madrid, España.\n           </p>\n           <p>\n            <img alt=\"Teléfono\" src=\"/bundles/cs/Widgets/Footer/images/tel.svg\" title=\"Teléfono\"/>\n            91 014 83 70.\n           </p>\n           <p>\n            <img alt=\"Correo electrónico\" src=\"/bundles/cs/Widgets/Footer/images/msg.svg\" title=\"Correo electrónico\"/>\n            <a href=\"mailto:info@consalud.es\">\n             info@consalud.es\n            </a>\n           </p>\n          </div>\n          Auditado por\n          <span>\n           Comscore\n          </span>\n         </div>\n         <a class=\"placa-cm\" href=\"https://www.consalud.es/uploads/s1/94/79/52/bocm-consalud.pdf\" target=\"_blank\" title=\"Placa de Plata 2018 - Comunidad de Madrid\">\n          <img src=\"https://www.consalud.es/uploads/static/consalud/Placa_Plata2018_ConSalud_R.png\"/>\n         </a>\n        </footer>\n       </div>\n      </div>\n      <div class=\"mod\" data-modal=\"newsletter-subscription\" style=\"\">\n       <span class=\"close\" data-action=\"close-modal\">\n        <svg style=\"enable-background:new 0 0 371.23 371.23;\" viewbox=\"0 0 371.23 371.23\" x=\"0px\" xml:space=\"preserve\" xmlns=\"http://www.w3.org/2000/svg\" xmlns:xlink=\"http://www.w3.org/1999/xlink\" y=\"0px\">\n         <polygon points=\"371.23,21.213 350.018,0 185.615,164.402 21.213,0 0,21.213 164.402,185.615 0,350.018 21.213,371.23\n        185.615,206.828 350.018,371.23 371.23,350.018 206.828,185.615 \">\n         </polygon>\n        </svg>\n       </span>\n       <div class=\"content-modal\">\n        <p class=\"title\">\n         Recibe la Newsletter de ConSalud.es\n        </p>\n        <p class=\"subtitle\">\n         Todos los días y de forma gratuita la newsletter con toda la información del sector sanitario\n        </p>\n        <form action=\"javascript:void(0)\" data-action=\"/_call?controller=ComitiumSuite%5CBundle%5CCSBundle%5CWidgets%5CNewsletterSubscription%5CController%5CWidgetController&amp;action=subscriptionAction&amp;_uuid=5b600bc7d0322&amp;_locale=es\" method=\"post\" name=\"newsletter_form\">\n         <input class=\"mail\" id=\"newsletter_form_email\" name=\"newsletter_form[email]\" placeholder=\"Correo electrónico\" required=\"required\" type=\"email\">\n          <span class=\"submit\">\n           <input class=\"btn\" id=\"newsletter_form_submit\" name=\"newsletter_form[submit]\" type=\"submit\" value=\"Suscríbete\">\n           </input>\n          </span>\n          <div class=\"legal\">\n           <input id=\"newsletter_form_legal\" name=\"newsletter_form[legal]\" required=\"required\" type=\"checkbox\" value=\"1\"/>\n           <label>\n            Aceptar los términos y\n            <a href=\"/aviso-legal.html\" title=\"condiciones\">\n             condiciones\n            </a>\n           </label>\n          </div>\n         </input>\n        </form>\n       </div>\n      </div>\n      <script type=\"text/javascript\">\n       jQuery(function ($) {\n        function setCookie(c_name, value, expiredays) {\n            var exdate = new Date();\n            exdate.setDate(exdate.getDate() + expiredays);\n            document.cookie = c_name + \"=\" + escape(value) + \";path=/\" + ((expiredays == null) ? \"\" : \";expires=\" + exdate.toUTCString());\n        }\n\n        function getCookie(c_name) {\n            var name = c_name + \"=\";\n            var ca = document.cookie.split(';');\n            for (var i = 0; i < ca.length; i++) {\n                var c = ca[i];\n                while (c.charAt(0) == ' ') c = c.substring(1);\n                if (c.indexOf(name) != -1) return c.substring(name.length, c.length);\n            }\n            return '';\n        }\n\n        $('[data-action=\"close-modal\"]', '[data-modal=\"newsletter-subscription\"]').on('click', function () {\n            setCookie('dissmiss-modal', 1, 10);\n            $('[data-modal=\"newsletter-subscription\"]').fadeOut();\n            $('body').removeClass('noscroll');\n        });\n\n        var showModal = getCookie('dissmiss-modal');\n\n        if (parseInt(showModal) !== 1) {\n            $(document).on('scroll.modal-subscription', function (e) {\n                $('[data-modal=\"newsletter-subscription\"]').fadeIn();\n                $('body').addClass('noscroll');\n                $(document).off('scroll.modal-subscription');\n            });\n        }\n    });\n      </script>\n      <div class=\"cookies cookies_alert_wrapper\" id=\"container_ciiT10\">\n       <div class=\"cookies_alert\">\n        Esta web utiliza 'cookies' propias y de terceros para ofrecerte una mejor experiencia y servicio.\n        <a href=\"https://www.consalud.es/politica-de-cookies.html\" title=\"Más información\">\n         Más información\n        </a>\n        <a class=\"close_allow_use_cookies\" href=\"javascript: void(0);\" title=\"Acepto\">\n         Acepto\n        </a>\n       </div>\n      </div>\n     </div>\n    </div>\n   </div>\n  </div>\n </body>\n</html>\n<script src=\"/js/0126b56.js?v=5f381eb7c9ea0\" type=\"text/javascript\">\n</script>\n<script src=\"/js/272f08a.js?v=5f381eb7eff86\" type=\"text/javascript\">\n</script>\n\n"
    }
   ],
   "source": [
    "print(soup.prettify())"
   ]
  },
  {
   "cell_type": "code",
   "execution_count": 6,
   "metadata": {},
   "outputs": [
    {
     "output_type": "execute_result",
     "data": {
      "text/plain": "[<p class=\"time\">\n <img alt=\"time\" src=\"/bundles/cs/Widgets/ArticleViewerOpening/images/time_consalud.jpg\" title=\"time\"/>\n                         3 min\n                     </p>,\n <p class=\"comments\">\n <a href=\"#comments-list\" title=\"Comentarios\">\n <img alt=\"Comentarios\" src=\"/bundles/cs/Widgets/ArticleViewerOpening/images/social-message_consalud.svg\" title=\"Comentarios\"/>\n                                                                                         0\n                                         </a>\n </p>,\n <p class=\"tile\">Tags:</p>,\n <p class=\"publicated\">10.02.2020 - 14:10</p>,\n <p>La <strong>Comunidad de Madrid</strong> ha conseguido su mejor cifra en la <strong>campaña frente a la gripe</strong>, superando sus propias cifras de vacunación frente a la <a data-external=\"0\" data-intl-links-es=\"https://www.consalud.es/pacientes/incidencia-gripe-acentua-poblacion-infantil_73600_102.html\" href=\"https://www.consalud.es/pacientes/incidencia-gripe-acentua-poblacion-infantil_73600_102.html\" rel=\"follow\" target=\"_self\" title=\"La incidencia de la gripe se acentúa entre la población infantil\">gripe estacional</a> en esta temporada, con <strong>1.107.000 personas vacunadas </strong>en la región, un 6% más respecto a la campaña anterior.</p>,\n <p>Ante estos resultados <strong><a data-external=\"0\" data-intl-links-es=\"https://www.consalud.es/barometro-sanitario/positivo/enrique-ruiz-escudero-proyecto-investigacion_72887_102.html\" href=\"https://www.consalud.es/barometro-sanitario/positivo/enrique-ruiz-escudero-proyecto-investigacion_72887_102.html\" rel=\"follow\" target=\"_self\" title=\"Enrique Ruiz Escudero: Proyecto de investigación\">Enrique Ruiz Escudero</a></strong>, consejero de Sanidad de la Comunidad de Madrid, ha agradecido a todos los profesionales de la Consejería su esfuerzo e implicación en la<strong> campaña de vacunación antigripal</strong>. Lo ha hecho a través de un mensaje en formato pop-up que ha aparecido en todos los ordenadores de la red madrileña de salud.</p>,\n <p>El consejero de Sanidad ha visitado el Centro de Salud Almendrales (distrito de Usera) para conocer de primera mano el trabajo realizado por los profesionales de Atención Primaria y de Salud Pública en la <strong>vacunación frente a la gripe</strong>, así como el trabajo de vigilancia y detección del virus gripal.</p>,\n <p>Una labor desempeñada por 135 médicos de la Red de Médicos Centinela, dos de los cuales trabajan en el centro visitado por Ruiz Escudero.</p>,\n <p>La Comunidad de Madrid<strong> ha invertido 4.716.400 euros en la adquisición de 1.250.000 dosis de vacunas</strong> frente a la gripe en esta campaña, que se han distribuido en los 430 dispositivos de Atención Primaria de la Comunidad de Madrid y, en total, en más de 700 puntos de vacunación.</p>,\n <p>La plantilla de Enfermería de los centros de salud de la Comunidad de Madrid asciende a 3.535 profesionales, que es la encargada de administrar la vacuna. Hasta la fecha, se han administrado 1.107.000 vacunas, es decir, <strong>más de 58.000 dosis con respecto a la temporada pasada</strong> (1.048.720), y <strong>la cobertura vacunal ha aumentado en todos los tramos de edad</strong>, destacando el de seis meses a 59 años, que responde a pacientes con enfermedades crónicas, uno de los grupos de riesgo a los que se dirige la vacunación.</p>,\n <p>Desde la <strong>Dirección General de Salud Pública</strong> han desarrollado una serie de<strong> iniciativas para fomentar la vacunación frente a la gripe</strong>. Entre estas destacan el envío de 900.000 SMS a personas de los grupos de riesgo, 5.900 carteles para fomentar la vacunación en embarazadas, personal sanitario y enfermos crónicos, y 45.000 folletos destinados para la población general.</p>,\n <p>Unas acciones que se han completado con el desarrollo de un programa de actuaciones que busca <strong>favorecer la vacunación específicamente entre los sanitarios</strong>, como la primera convocatoria de un premio a los hospitales con mayores coberturas entre su personal o la financiación de un proyecto solidario por parte del Laboratorio que suministra la vacuna en función de las dosis que se administren.</p>,\n <p><strong>VIGILANCIA DE LA GRIPE</strong></p>,\n <p>La Dirección General de Salud Pública de la Comunidad de Madrid elabora un informe semanal que contempla la incidencia y características clínicas y microbiológicas de la gripe estacional en la región, es decir, la vigilancia y detección epidémica del virus.</p>,\n <p>Se entiende que e<strong>xiste epidemia cuando se observa mayor incidencia o circulación del virus gripal al sobrepasarse el umbral epidémico</strong>, que esta temporada se ha establecido en <strong>38 casos por cada 100.000 habitantes</strong>.</p>,\n <p> La información se obtiene con la <strong>Red de Médicos Centinela</strong>, creada en 1991, y que coordina el Servicio de Epidemiología. La Red está formada, de manera voluntaria, por 135 médicos de los Centros de Salud de la Comunidad de Madrid (médicos de familia y pediatras) que atiende a una población representativa de la región (197.940 habitantes, el 3% de la población). Los <strong>médicos centinela </strong>cumplimentan un cuestionario para cada caso con síntomas de gripe que atienden en consulta y se encargan de la recogida de muestras nasofaríngeas (secreciones nasales) de una proporción de sus pacientes para la identificación y caracterización de los virus circulantes.</p>,\n <p> Las muestras se aíslan en dos laboratorios del Servicio Madrileño de Salud ubicados en el Hospital Universitario Ramón y Cajal y el Hospital Unversitario12 de Octubre.</p>,\n <p class=\"need\">Porque salud necesitamos todos... <span>ConSalud.es</span></p>,\n <p class=\"recomend\">Te recomendamos:</p>,\n <p class=\"title\">\n <a href=\"https://www.consalud.es/pacientes/incidencia-gripe-acentua-poblacion-infantil_73600_102.html\" title=\"La incidencia de la gripe se acentúa entre la población infantil\">\n                             La incidencia de la gripe se acentúa entre la población infantil\n                         </a>\n </p>,\n <p class=\"title\">\n <a href=\"https://www.consalud.es/autonomias/c-madrid/gripe-mantiene-tendencia-alcista-2872-casos-100000-habitantes_73586_102.html\" title=\"La gripe mantiene su tendencia alcista y se intensifica en España\">\n                             La gripe mantiene su tendencia alcista y se intensifica en España\n                         </a>\n </p>,\n <p class=\"title\">\n <a href=\"https://www.consalud.es/ecsalud/internacional/bristol-myers-squibb-destina-250-millones-acelerar-esfuerzos-equidad-salud_83941_102.html\" target=\"_blank\" title=\"Bristol Myers Squibb destina más de 250 millones para acelerar los esfuerzos de equidad en la salud\">Bristol Myers Squibb destina más de 250 millones para acelerar los esfuerzos de equidad en la salud</a>\n </p>,\n <p class=\"title\">\n <a href=\"https://www.consalud.es/ecsalud/internacional/acuerdo-thermo-fisher-qiagen-fracasa_83986_102.html\" target=\"_blank\" title=\"El acuerdo entre Thermo Fisher y Qiagen fracasa\">El acuerdo entre Thermo Fisher y Qiagen fracasa</a>\n </p>,\n <p class=\"title\">\n <a href=\"https://www.consalud.es/ecsalud/internacional/labcorp-realizara-prueba-anticuerpos-cargo-acelerar-donacion-plasma-sanguineo_83904_102.html\" target=\"_blank\" title='LabCorp realizará prueba de anticuerpos \"sin cargo\" para acelerar la donación de plasma sanguíneo'>LabCorp realizará prueba de anticuerpos \"sin cargo\" para acelerar la donación de plasma sanguíneo</a>\n </p>,\n <p class=\"title\">Actualidad</p>,\n <p class=\"title\">Áreas</p>,\n <p class=\"title\">Sobre nosotros</p>,\n <p class=\"title\">Síguenos en redes:</p>,\n <p class=\"title\">\n                                         Una publicación de: \n                                     </p>,\n <p>© Copyright 2018. ConSalud.es. <strong>Todos los derechos reservados. </strong></p>,\n <p>\n <img alt=\"Dirección\" src=\"/bundles/cs/Widgets/Footer/images/stiu.svg\" title=\"Dirección\"/>\n                             C/ Batalla de Belchite 5, 4ª planta, 28045, Madrid, España.\n                         </p>,\n <p>\n <img alt=\"Teléfono\" src=\"/bundles/cs/Widgets/Footer/images/tel.svg\" title=\"Teléfono\"/>\n                             91 014 83 70.\n                         </p>,\n <p>\n <img alt=\"Correo electrónico\" src=\"/bundles/cs/Widgets/Footer/images/msg.svg\" title=\"Correo electrónico\"/>\n <a href=\"mailto:info@consalud.es\">info@consalud.es</a>\n </p>,\n <p class=\"title\">Recibe la Newsletter de ConSalud.es</p>,\n <p class=\"subtitle\">\n             Todos los días y de forma gratuita la newsletter con toda la información del sector sanitario\n         </p>]"
     },
     "metadata": {},
     "execution_count": 6
    }
   ],
   "source": [
    "dir=soup.find_all(\"p\")\n",
    "dir"
   ]
  },
  {
   "cell_type": "code",
   "execution_count": 7,
   "metadata": {},
   "outputs": [
    {
     "output_type": "execute_result",
     "data": {
      "text/plain": "[<strong>Comunidad de Madrid</strong>,\n <strong>campaña frente a la gripe</strong>,\n <strong>1.107.000 personas vacunadas </strong>,\n <strong><a data-external=\"0\" data-intl-links-es=\"https://www.consalud.es/barometro-sanitario/positivo/enrique-ruiz-escudero-proyecto-investigacion_72887_102.html\" href=\"https://www.consalud.es/barometro-sanitario/positivo/enrique-ruiz-escudero-proyecto-investigacion_72887_102.html\" rel=\"follow\" target=\"_self\" title=\"Enrique Ruiz Escudero: Proyecto de investigación\">Enrique Ruiz Escudero</a></strong>,\n <strong> campaña de vacunación antigripal</strong>,\n <strong>vacunación frente a la gripe</strong>,\n <strong> ha invertido 4.716.400 euros en la adquisición de 1.250.000 dosis de vacunas</strong>,\n <strong>más de 58.000 dosis con respecto a la temporada pasada</strong>,\n <strong>la cobertura vacunal ha aumentado en todos los tramos de edad</strong>,\n <strong>La Comunidad de Madrid ha invertido 4.716.400 euros en la adquisición de 1.250.000 dosis de vacunas frente a la gripe en esta campaña</strong>,\n <strong>Dirección General de Salud Pública</strong>,\n <strong> iniciativas para fomentar la vacunación frente a la gripe</strong>,\n <strong>favorecer la vacunación específicamente entre los sanitarios</strong>,\n <strong>VIGILANCIA DE LA GRIPE</strong>,\n <strong>xiste epidemia cuando se observa mayor incidencia o circulación del virus gripal al sobrepasarse el umbral epidémico</strong>,\n <strong>38 casos por cada 100.000 habitantes</strong>,\n <strong>Red de Médicos Centinela</strong>,\n <strong>médicos centinela </strong>,\n <strong>Todos los derechos reservados. </strong>]"
     },
     "metadata": {},
     "execution_count": 7
    }
   ],
   "source": [
    "datos=soup.find_all(\"strong\")\n",
    "datos"
   ]
  },
  {
   "cell_type": "code",
   "execution_count": 8,
   "metadata": {},
   "outputs": [
    {
     "output_type": "execute_result",
     "data": {
      "text/plain": "<strong>1.107.000 personas vacunadas </strong>"
     },
     "metadata": {},
     "execution_count": 8
    }
   ],
   "source": [
    "datos1=datos[2]\n",
    "datos1"
   ]
  },
  {
   "cell_type": "code",
   "execution_count": 9,
   "metadata": {},
   "outputs": [],
   "source": [
    "soup=datos1"
   ]
  },
  {
   "cell_type": "code",
   "execution_count": 10,
   "metadata": {
    "tags": []
   },
   "outputs": [
    {
     "output_type": "stream",
     "name": "stdout",
     "text": "1.107.000 personas vacunadas \n"
    }
   ],
   "source": [
    "print(soup.get_text())"
   ]
  },
  {
   "cell_type": "code",
   "execution_count": 11,
   "metadata": {},
   "outputs": [],
   "source": [
    "text1=str(soup)"
   ]
  },
  {
   "cell_type": "code",
   "execution_count": 12,
   "metadata": {},
   "outputs": [
    {
     "output_type": "execute_result",
     "data": {
      "text/plain": "'1.107.000'"
     },
     "metadata": {},
     "execution_count": 12
    }
   ],
   "source": [
    "text1_text=text1[8:17]\n",
    "text1_text"
   ]
  },
  {
   "cell_type": "code",
   "execution_count": 13,
   "metadata": {},
   "outputs": [
    {
     "output_type": "execute_result",
     "data": {
      "text/plain": "'1107000'"
     },
     "metadata": {},
     "execution_count": 13
    }
   ],
   "source": [
    "text1_text = re.sub('[.]', '', text1_text) \n",
    "text1_text\n",
    "#con resub quito los puntos entre los números del string porque me daban error para convrtirlo en entero."
   ]
  },
  {
   "cell_type": "code",
   "execution_count": 14,
   "metadata": {},
   "outputs": [
    {
     "output_type": "execute_result",
     "data": {
      "text/plain": "<strong> ha invertido 4.716.400 euros en la adquisición de 1.250.000 dosis de vacunas</strong>"
     },
     "metadata": {},
     "execution_count": 14
    }
   ],
   "source": [
    "datos2=datos[6]\n",
    "datos2"
   ]
  },
  {
   "cell_type": "code",
   "execution_count": 15,
   "metadata": {},
   "outputs": [],
   "source": [
    "soup1=datos2"
   ]
  },
  {
   "cell_type": "code",
   "execution_count": 16,
   "metadata": {
    "tags": []
   },
   "outputs": [
    {
     "output_type": "stream",
     "name": "stdout",
     "text": "ha invertido 4.716.400 euros en la adquisición de 1.250.000 dosis de vacunas\n"
    }
   ],
   "source": [
    "print(soup1.get_text())"
   ]
  },
  {
   "cell_type": "code",
   "execution_count": 17,
   "metadata": {},
   "outputs": [],
   "source": [
    "text2=str(soup1)"
   ]
  },
  {
   "cell_type": "code",
   "execution_count": 18,
   "metadata": {},
   "outputs": [
    {
     "output_type": "execute_result",
     "data": {
      "text/plain": "'4.716.400'"
     },
     "metadata": {},
     "execution_count": 18
    }
   ],
   "source": [
    "text2_text=text2[22:31]\n",
    "text2_text"
   ]
  },
  {
   "cell_type": "code",
   "execution_count": 19,
   "metadata": {},
   "outputs": [],
   "source": [
    "text2_text = re.sub('[.]', '', text2_text) \n",
    "#con resub quito los puntos entre los números del string porque me daban error para convrtirlo en entero."
   ]
  },
  {
   "cell_type": "code",
   "execution_count": 20,
   "metadata": {},
   "outputs": [
    {
     "output_type": "execute_result",
     "data": {
      "text/plain": "'4716400'"
     },
     "metadata": {},
     "execution_count": 20
    }
   ],
   "source": [
    "text2_text"
   ]
  },
  {
   "cell_type": "code",
   "execution_count": 21,
   "metadata": {},
   "outputs": [
    {
     "output_type": "execute_result",
     "data": {
      "text/plain": "<strong>más de 58.000 dosis con respecto a la temporada pasada</strong>"
     },
     "metadata": {},
     "execution_count": 21
    }
   ],
   "source": [
    "datos3=datos[7]\n",
    "datos3"
   ]
  },
  {
   "cell_type": "code",
   "execution_count": 22,
   "metadata": {},
   "outputs": [
    {
     "output_type": "execute_result",
     "data": {
      "text/plain": "<strong>más de 58.000 dosis con respecto a la temporada pasada</strong>"
     },
     "metadata": {},
     "execution_count": 22
    }
   ],
   "source": [
    "soup2=datos3\n",
    "soup2"
   ]
  },
  {
   "cell_type": "code",
   "execution_count": 23,
   "metadata": {},
   "outputs": [
    {
     "output_type": "execute_result",
     "data": {
      "text/plain": "'<strong>más de 58.000 dosis con respecto a la temporada pasada</strong>'"
     },
     "metadata": {},
     "execution_count": 23
    }
   ],
   "source": [
    "text3=str(soup2)\n",
    "text3"
   ]
  },
  {
   "cell_type": "code",
   "execution_count": 24,
   "metadata": {},
   "outputs": [
    {
     "output_type": "execute_result",
     "data": {
      "text/plain": "'58.000'"
     },
     "metadata": {},
     "execution_count": 24
    }
   ],
   "source": [
    "text3_text=text3[15:21]\n",
    "text3_text"
   ]
  },
  {
   "cell_type": "code",
   "execution_count": 25,
   "metadata": {},
   "outputs": [
    {
     "output_type": "execute_result",
     "data": {
      "text/plain": "'1.250.000'"
     },
     "metadata": {},
     "execution_count": 25
    }
   ],
   "source": [
    "text4_text=text2[59:68]\n",
    "text4_text"
   ]
  },
  {
   "cell_type": "code",
   "execution_count": 26,
   "metadata": {},
   "outputs": [],
   "source": [
    "text4_text = re.sub('[.]', '', text4_text) \n",
    "#con resub quito los puntos entre los números del string porque me daban error para convrtirlo en entero."
   ]
  },
  {
   "cell_type": "code",
   "execution_count": 27,
   "metadata": {},
   "outputs": [
    {
     "output_type": "execute_result",
     "data": {
      "text/plain": "58000"
     },
     "metadata": {},
     "execution_count": 27
    }
   ],
   "source": [
    "valor3=int(float(text3_text))*1000\n",
    "valor3"
   ]
  },
  {
   "cell_type": "code",
   "execution_count": 28,
   "metadata": {},
   "outputs": [
    {
     "output_type": "execute_result",
     "data": {
      "text/plain": "4716400"
     },
     "metadata": {},
     "execution_count": 28
    }
   ],
   "source": [
    "valor2=int(float(text2_text))\n",
    "valor2"
   ]
  },
  {
   "cell_type": "code",
   "execution_count": 29,
   "metadata": {},
   "outputs": [
    {
     "output_type": "execute_result",
     "data": {
      "text/plain": "1107000"
     },
     "metadata": {},
     "execution_count": 29
    }
   ],
   "source": [
    "valor1=int(float(text1_text))\n",
    "valor1"
   ]
  },
  {
   "cell_type": "code",
   "execution_count": 30,
   "metadata": {},
   "outputs": [
    {
     "output_type": "execute_result",
     "data": {
      "text/plain": "1250000"
     },
     "metadata": {},
     "execution_count": 30
    }
   ],
   "source": [
    "valor4=int(float(text4_text))\n",
    "valor4"
   ]
  },
  {
   "cell_type": "code",
   "execution_count": 31,
   "metadata": {},
   "outputs": [
    {
     "output_type": "execute_result",
     "data": {
      "text/plain": "[1107000, 4716400, 58000, 1250000]"
     },
     "metadata": {},
     "execution_count": 31
    }
   ],
   "source": [
    "gasto=[valor1,valor2,valor3,valor4]\n",
    "gasto"
   ]
  },
  {
   "cell_type": "code",
   "execution_count": 32,
   "metadata": {},
   "outputs": [],
   "source": [
    "title=[\"Personas vacunadas\",\"Adquisición €\",\"Incremento dosis administradas /temporada pasada\",\"Adquisición dosis\"]"
   ]
  },
  {
   "cell_type": "code",
   "execution_count": 33,
   "metadata": {},
   "outputs": [],
   "source": [
    "data={\"Personas vacunadas\": [1107000],\"Adquisición €\":[4716400],\"Incremento dosis administradas /temporada pasada\":[58000],\"Adquisición dosis\":[1250000]}"
   ]
  },
  {
   "cell_type": "code",
   "execution_count": 34,
   "metadata": {},
   "outputs": [
    {
     "output_type": "execute_result",
     "data": {
      "text/plain": "   Personas vacunadas  Adquisición €  \\\n0             1107000        4716400   \n\n   Incremento dosis administradas /temporada pasada  Adquisición dosis  \n0                                             58000            1250000  ",
      "text/html": "<div>\n<style scoped>\n    .dataframe tbody tr th:only-of-type {\n        vertical-align: middle;\n    }\n\n    .dataframe tbody tr th {\n        vertical-align: top;\n    }\n\n    .dataframe thead th {\n        text-align: right;\n    }\n</style>\n<table border=\"1\" class=\"dataframe\">\n  <thead>\n    <tr style=\"text-align: right;\">\n      <th></th>\n      <th>Personas vacunadas</th>\n      <th>Adquisición €</th>\n      <th>Incremento dosis administradas /temporada pasada</th>\n      <th>Adquisición dosis</th>\n    </tr>\n  </thead>\n  <tbody>\n    <tr>\n      <th>0</th>\n      <td>1107000</td>\n      <td>4716400</td>\n      <td>58000</td>\n      <td>1250000</td>\n    </tr>\n  </tbody>\n</table>\n</div>"
     },
     "metadata": {},
     "execution_count": 34
    }
   ],
   "source": [
    "gasto_vacunas=pd.DataFrame(data)\n",
    "gasto_vacunas"
   ]
  },
  {
   "cell_type": "code",
   "execution_count": 35,
   "metadata": {},
   "outputs": [
    {
     "output_type": "execute_result",
     "data": {
      "text/plain": "        Personas vacunadas  Adquisición €  \\\nCCAAMM             1107000        4716400   \n\n        Incremento dosis administradas /temporada pasada  Adquisición dosis  \nCCAAMM                                             58000            1250000  ",
      "text/html": "<div>\n<style scoped>\n    .dataframe tbody tr th:only-of-type {\n        vertical-align: middle;\n    }\n\n    .dataframe tbody tr th {\n        vertical-align: top;\n    }\n\n    .dataframe thead th {\n        text-align: right;\n    }\n</style>\n<table border=\"1\" class=\"dataframe\">\n  <thead>\n    <tr style=\"text-align: right;\">\n      <th></th>\n      <th>Personas vacunadas</th>\n      <th>Adquisición €</th>\n      <th>Incremento dosis administradas /temporada pasada</th>\n      <th>Adquisición dosis</th>\n    </tr>\n  </thead>\n  <tbody>\n    <tr>\n      <th>CCAAMM</th>\n      <td>1107000</td>\n      <td>4716400</td>\n      <td>58000</td>\n      <td>1250000</td>\n    </tr>\n  </tbody>\n</table>\n</div>"
     },
     "metadata": {},
     "execution_count": 35
    }
   ],
   "source": [
    "gasto_vacunas.rename(index={0:'CCAAMM'})"
   ]
  },
  {
   "cell_type": "code",
   "execution_count": null,
   "metadata": {},
   "outputs": [],
   "source": []
  }
 ]
}