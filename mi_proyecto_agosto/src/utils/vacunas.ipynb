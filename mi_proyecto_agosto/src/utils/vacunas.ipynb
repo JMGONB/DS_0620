{
 "metadata": {
  "language_info": {
   "codemirror_mode": {
    "name": "ipython",
    "version": 3
   },
   "file_extension": ".py",
   "mimetype": "text/x-python",
   "name": "python",
   "nbconvert_exporter": "python",
   "pygments_lexer": "ipython3",
   "version": "3.8.3-final"
  },
  "orig_nbformat": 2,
  "kernelspec": {
   "name": "python_defaultSpec_1597763662793",
   "display_name": "Python 3.8.3 32-bit"
  }
 },
 "nbformat": 4,
 "nbformat_minor": 2,
 "cells": [
  {
   "cell_type": "code",
   "execution_count": 1238,
   "metadata": {},
   "outputs": [],
   "source": [
    "import requests\n",
    "import pandas as pd\n",
    "import numpy as np\n",
    "import re\n",
    "from bs4 import BeautifulSoup\n",
    "import urllib\n",
    "import json\n",
    "import matplotlib.pyplot as plt\n",
    "import csv"
   ]
  },
  {
   "cell_type": "code",
   "execution_count": 1239,
   "metadata": {},
   "outputs": [],
   "source": [
    "url=\"https://www.consalud.es/autonomias/c-madrid/comunidad-madrid-logra-dato-campana-gripe-1107000-vacunados_74077_102.html\""
   ]
  },
  {
   "cell_type": "code",
   "execution_count": 1240,
   "metadata": {},
   "outputs": [],
   "source": [
    "mi_url=urllib.request.urlopen(url)"
   ]
  },
  {
   "cell_type": "code",
   "execution_count": 1241,
   "metadata": {
    "tags": []
   },
   "outputs": [],
   "source": [
    "soup=BeautifulSoup(mi_url,\"html.parser\")\n"
   ]
  },
  {
   "cell_type": "code",
   "execution_count": 1242,
   "metadata": {
    "tags": [
     "outputPrepend"
    ]
   },
   "outputs": [
    {
     "output_type": "stream",
     "name": "stdout",
     "text": "-revive-id=\"6f357429b9c02270b30fdb2e5d995de6\" data-revive-zoneid=\" 266\">\n              </ins>\n              <script async=\"\" src=\"//ad.consalud.es/www/delivery/asyncjs.php\">\n              </script>\n             </div>\n            </div>\n            <div class=\"item m2 vert\">\n             <div class=\"cont\">\n              <a href=\"https://www.consalud.es/ecsalud/internacional/bristol-myers-squibb-destina-250-millones-acelerar-esfuerzos-equidad-salud_83941_102.html\" target=\"_blank\" title=\"Bristol Myers Squibb destina más de 250 millones para acelerar los esfuerzos de equidad en la salud\">\n               <img alt=\"Bristol Myers Squibb destina más de 250 millones para acelerar los esfuerzos de equidad en la salud\" src=\"https://www.consalud.es/ecsalud/uploads/s1/45/29/53/giovanni-caforio-ceo-de-bristol-myers-squibb_4_508x316.jpeg\" title=\"Bristol Myers Squibb destina más de 250 millones para acelerar los esfuerzos de equidad en la salud\">\n               </img>\n              </a>\n              <p class=\"title\">\n               <a href=\"https://www.consalud.es/ecsalud/internacional/bristol-myers-squibb-destina-250-millones-acelerar-esfuerzos-equidad-salud_83941_102.html\" target=\"_blank\" title=\"Bristol Myers Squibb destina más de 250 millones para acelerar los esfuerzos de equidad en la salud\">\n                Bristol Myers Squibb destina más de 250 millones para acelerar los esfuerzos de equidad en la salud\n               </a>\n              </p>\n              <div class=\"comp nocomment\">\n              </div>\n             </div>\n            </div>\n            <div class=\"item small m2\">\n             <div class=\"cont\">\n              <a href=\"https://www.consalud.es/ecsalud/internacional/acuerdo-thermo-fisher-qiagen-fracasa_83986_102.html\" target=\"_blank\" title=\"El acuerdo entre Thermo Fisher y Qiagen fracasa\">\n               <img alt=\"El acuerdo entre Thermo Fisher y Qiagen fracasa\" src=\"https://www.consalud.es/ecsalud/uploads/s1/92/52/97/sede-de-thermo-fisher_4_508x316.jpeg\" title=\"El acuerdo entre Thermo Fisher y Qiagen fracasa\">\n               </img>\n              </a>\n              <p class=\"title\">\n               <a href=\"https://www.consalud.es/ecsalud/internacional/acuerdo-thermo-fisher-qiagen-fracasa_83986_102.html\" target=\"_blank\" title=\"El acuerdo entre Thermo Fisher y Qiagen fracasa\">\n                El acuerdo entre Thermo Fisher y Qiagen fracasa\n               </a>\n              </p>\n              <div class=\"comp nocomment\">\n              </div>\n             </div>\n            </div>\n            <div class=\"item small m2\">\n             <div class=\"cont\">\n              <a href=\"https://www.consalud.es/ecsalud/internacional/labcorp-realizara-prueba-anticuerpos-cargo-acelerar-donacion-plasma-sanguineo_83904_102.html\" target=\"_blank\" title='LabCorp realizará prueba de anticuerpos \"sin cargo\" para acelerar la donación de plasma sanguíneo'>\n               <img alt='LabCorp realizará prueba de anticuerpos \"sin cargo\" para acelerar la donación de plasma sanguíneo' src=\"https://www.consalud.es/ecsalud/uploads/s1/14/01/13/1/labcorp_4_508x316.jpeg\" title='LabCorp realizará prueba de anticuerpos \"sin cargo\" para acelerar la donación de plasma sanguíneo'>\n               </img>\n              </a>\n              <p class=\"title\">\n               <a href=\"https://www.consalud.es/ecsalud/internacional/labcorp-realizara-prueba-anticuerpos-cargo-acelerar-donacion-plasma-sanguineo_83904_102.html\" target=\"_blank\" title='LabCorp realizará prueba de anticuerpos \"sin cargo\" para acelerar la donación de plasma sanguíneo'>\n                LabCorp realizará prueba de anticuerpos \"sin cargo\" para acelerar la donación de plasma sanguíneo\n               </a>\n              </p>\n              <div class=\"comp nocomment\">\n              </div>\n             </div>\n            </div>\n           </div>\n           <div class=\"banner banner-400x150\" data-zoneid=\" - 36\" data-zonename=\"zona: 4\">\n            <ins data-revive-block=\"1\" data-revive-id=\"6f357429b9c02270b30fdb2e5d995de6\" data-revive-zoneid=\"36\">\n            </ins>\n            <script async=\"\" src=\"//ad.consalud.es/www/delivery/asyncjs.php\">\n            </script>\n           </div>\n           <div class=\"banner banner-400x150\" data-zoneid=\" - 39\" data-zonename=\"zona: 1\">\n            <ins data-revive-block=\"1\" data-revive-id=\"6f357429b9c02270b30fdb2e5d995de6\" data-revive-zoneid=\"39\">\n            </ins>\n            <script async=\"\" src=\"//ad.consalud.es/www/delivery/asyncjs.php\">\n            </script>\n           </div>\n           <div class=\"banner banner-250x500\" data-zoneid=\" - 34\" data-zonename=\"zona: 1\">\n            <ins data-revive-block=\"1\" data-revive-id=\"6f357429b9c02270b30fdb2e5d995de6\" data-revive-zoneid=\"34\">\n            </ins>\n            <script async=\"\" src=\"//ad.consalud.es/www/delivery/asyncjs.php\">\n            </script>\n           </div>\n          </div>\n         </div>\n        </div>\n        <div class=\"row editable_item\">\n         <div class=\"col-xs-16 col-sm-16 col-md-16 col-lg-16\">\n          <div class=\"csl-inner csl-hot\">\n           <div class=\"comment-block\">\n            <div class=\"comments-inner\">\n             <span class=\"title-section sub\">\n              Escribir un comentario\n              <span>\n               (0)\n              </span>\n             </span>\n             <div class=\"col-xs-16 col-sm-16 col-md-16 col-lg-16\" data-container=\"comments-form\">\n              <div class=\"row\">\n               <div class=\"comments-form\">\n                <div class=\"comment-reply-info\" style=\"display: none\">\n                 Respuesta al usuario\n                 <span id=\"comment-replyto\">\n                 </span>\n                 <a class=\"comment-reply-close\" href=\"#\">\n                  X\n                 </a>\n                </div>\n                <div class=\"col-xs-16 col-sm-16 col-md-10 col-lg-10\">\n                 <div class=\"comments-form row\">\n                  <form action=\"/_call?controller=ComitiumSuite%5CBundle%5CCSBundle%5CWidgets%5CComments%5CController%5CWidgetController&amp;action=renderFormAction&amp;_article=74077&amp;_contentType=102\" class=\"comment_form\" data-comment-form-widget=\"1\" method=\"post\" name=\"comment_form\">\n                   <div class=\"name-and-mail\">\n                    <div class=\"input\">\n                     <input id=\"comment_form_name\" name=\"comment_form[name]\" placeholder=\"Nombre\" required=\"required\" type=\"text\"/>\n                    </div>\n                    <div class=\"input\">\n                     <input id=\"comment_form_mail\" name=\"comment_form[mail]\" placeholder=\"Correo electrónico\" required=\"required\" type=\"email\"/>\n                    </div>\n                   </div>\n                   <div class=\"textarea\">\n                    <textarea id=\"comment_form_comment\" maxlength=\"500\" name=\"comment_form[comment]\" placeholder=\"Comentario\" required=\"required\"></textarea>\n                   </div>\n                   <div class=\"g-recaptcha\" data-sitekey=\"6LeaWCQUAAAAAKWP70Hbes3yrN3iUJeL7o4xo5U5\" id=\"comment_form_g_recaptcha\" style=\"margin-bottom: 20px\">\n                   </div>\n                   <input id=\"comment_form_parent\" name=\"comment_form[parent]\" type=\"hidden\"/>\n                   <input id=\"comment_form_contentId\" name=\"comment_form[contentId]\" type=\"hidden\" value=\"74077\"/>\n                   <input id=\"comment_form_contentTitle\" name=\"comment_form[contentTitle]\" type=\"hidden\" value=\"La Comunidad de Madrid logra su mejor dato en la campaña contra la gripe: 1.107.000 vacunados\"/>\n                   <input id=\"comment_form_contentTypeId\" name=\"comment_form[contentTypeId]\" type=\"hidden\" value=\"102\"/>\n                   <input class=\"btn\" type=\"submit\" value=\"Enviar\"/>\n                   <input name=\"_uuid\" type=\"hidden\" value=\"592bec1925458\"/>\n                  </form>\n                 </div>\n                </div>\n               </div>\n              </div>\n             </div>\n            </div>\n           </div>\n           <div class=\"col-xs-16 col-sm-16 col-md-10 col-lg-10\" data-container=\"comments-content\">\n            <div class=\"comments-list\" id=\"comments-list\">\n            </div>\n           </div>\n          </div>\n         </div>\n        </div>\n       </div>\n      </div>\n     </div>\n    </div>\n   </div>\n   <div class=\"row row-bottom\">\n    <div class=\"col-xs-16 col-sm-16 col-md-16 col-lg-16\">\n     <div class=\"csl-inner csl-hot\">\n      <div class=\"row row-bottom\">\n       <div class=\"col-xs-16 col-sm-16 col-md-16 col-lg-16\">\n        <footer>\n         <div class=\"sup\">\n          <div class=\"wrapper\">\n           <span class=\"anchor\">\n           </span>\n           <div class=\"block1\">\n            <div class=\"logo\">\n             <img alt=\"ConSalud.es\" src=\"/bundles/cs/Widgets/Footer/images/consalud_white.png\" title=\"ConSalud.es\"/>\n            </div>\n            <div class=\"nl\">\n             <a href=\"/alta-newsletter.html\" rel=\"nofollow\" title=\"Newsletter\">\n              <img alt=\"Newsletter\" src=\"/bundles/cs/Widgets/Footer/images/mail_white.svg\" title=\"Newsletter\"/>\n              Newsletter\n             </a>\n            </div>\n           </div>\n           <div class=\"block2\">\n            <div class=\"col\">\n             <p class=\"title\">\n              Actualidad\n             </p>\n             <a href=\"/politica\" rel=\"nofollow\" title=\"Política\">\n              Política\n             </a>\n             <a href=\"/industria\" rel=\"nofollow\" title=\"Industria\">\n              Industria\n             </a>\n             <a href=\"/tecnologia\" rel=\"nofollow\" title=\"Tecnología\">\n              Tecnología\n             </a>\n             <a href=\"/profesionales\" rel=\"nofollow\" title=\"Profesionales\">\n              Profesionales\n             </a>\n             <a href=\"/autonomias\" rel=\"nofollow\" title=\"Autonomías\">\n              Autonomías\n             </a>\n             <a href=\"/pacientes\" rel=\"nofollow\" title=\"Pacientes\">\n              Pacientes\n             </a>\n             <a href=\"/opinion\" rel=\"nofollow\" title=\"Opinión\">\n              Opinión\n             </a>\n            </div>\n            <div class=\"col\">\n             <p class=\"title\">\n              Áreas\n             </p>\n             <a href=\"/barometro-sanitario\" rel=\"nofollow\" title=\"Barómetro sanitario\">\n              Barómetro sanitario\n             </a>\n             <a href=\"/el-buzo-sanitario\" rel=\"nofollow\" title=\"El Buzo Sanitario\">\n              El Buzo Sanitario\n             </a>\n             <a href=\"/la-entrevista\" rel=\"nofollow\" title=\"La entrevista\">\n              La entrevista\n             </a>\n             <a href=\"/lupa-sanitaria\" rel=\"nofollow\" title=\"Lupa sanitaria\">\n              Lupa sanitaria\n             </a>\n             <a href=\"/industria/medicamentos\" rel=\"nofollow\" title=\"Medicamentos\">\n              Medicamentos\n             </a>\n             <a href=\"/pacientes/c-medico-de-referencia\" rel=\"nofollow\" title=\"C. Médico de referencia\">\n              C. Médico de referencia\n             </a>\n            </div>\n            <div class=\"col\">\n             <p class=\"title\">\n              Sobre nosotros\n             </p>\n             <a href=\"http://www.mediforum.es/equipo\" rel=\"nofollow\" target=\"_blank\" title=\"Quiénes somos\">\n              Quiénes somos\n             </a>\n             <a href=\"http://www.mediforum.es/contacto\" rel=\"nofollow\" target=\"_blank\" title=\"Trabaja con nosotros\">\n              Trabaja con nosotros\n             </a>\n             <a href=\"/politica-de-cookies.html\" rel=\"nofollow\" title=\"Política de cookies\">\n              Política de cookies\n             </a>\n             <a href=\"/aviso-legal.html\" rel=\"nofollow\" title=\"Aviso legal\">\n              Aviso legal\n             </a>\n             <a href=\"/baja-newsletter.html\" rel=\"nofollow\" title=\"Baja Newsletter\">\n              Baja Newsletter\n             </a>\n             <a href=\"/publicidad.html\" rel=\"nofollow\" title=\"Publicidad\">\n              <span>\n               Publicidad\n              </span>\n             </a>\n            </div>\n            <div class=\"col\">\n             <div class=\"social\">\n              <p class=\"title\">\n               Síguenos en redes:\n              </p>\n              <span class=\"h-links-social\">\n               <a href=\"https://www.facebook.com/ConSalud.es\" rel=\"nofollow\" target=\"_blank\" title=\"Facebook\">\n                <i class=\"fa fa-facebook\">\n                </i>\n               </a>\n               <a href=\"https://twitter.com/consalud_es\" rel=\"nofollow\" target=\"_blank\" title=\"Twitter\">\n                <i class=\"fa fa-twitter\">\n                </i>\n               </a>\n               <a href=\"https://plus.google.com/+ConsaludEs\" rel=\"nofollow\" target=\"_blank\" title=\"Google Plus\">\n                <i class=\"fa fa-google-plus\">\n                </i>\n               </a>\n               <a href=\"https://www.linkedin.com/groups/4675547\" rel=\"nofollow\" target=\"_blank\" title=\"LinkedIn\">\n                <i class=\"fa fa-linkedin\">\n                </i>\n               </a>\n               <a href=\"https://www.instagram.com/consalud.es/\" rel=\"nofollow\" target=\"_blank\" title=\"Instagram\">\n                <i class=\"fa fa-instagram\">\n                </i>\n               </a>\n               <a href=\"https://www.youtube.com/user/Consalud2011/\" rel=\"nofollow\" target=\"_blank\" title=\"YouTube\">\n                <i class=\"fa fa-youtube\">\n                </i>\n               </a>\n              </span>\n             </div>\n             <div class=\"publi\">\n              <p class=\"title\">\n               Una publicación de:\n              </p>\n              <a href=\"http://www.mediforum.es/\" rel=\"nofollow\" target=\"_blank\" title=\"Grupo Mediforum\">\n               <img alt=\"Grupo Mediforum\" src=\"/bundles/cs/Widgets/Footer/images/mediforum.png\" title=\"Grupo Mediforum\"/>\n              </a>\n             </div>\n            </div>\n           </div>\n           <div class=\"block3\">\n            <span>\n             Otras webs del grupo:\n            </span>\n            <a href=\"/ecsalud\" rel=\"nofollow\" target=\"_blank\">\n             <img src=\"/bundles/cs/Widgets/Footer/images/ecsalud.png\" title=\"Empresas ConSalud\"/>\n            </a>\n            <a href=\"/estetic\" rel=\"nofollow\" target=\"_blank\">\n             <img src=\"/bundles/cs/Widgets/Footer/images/estetic.png\" title=\"Estetic.es\"/>\n            </a>\n            <a href=\"http://www.saludigital.es\" rel=\"nofollow\" target=\"_blank\">\n             <img src=\"/bundles/cs/Widgets/Footer/images/saludigital.png\" title=\"SaluDigital.es\"/>\n            </a>\n            <a href=\"http://www.galenusjobs.es\" rel=\"nofollow\" target=\"_blank\">\n             <img src=\"/bundles/cs/Widgets/Footer/images/galenusjobs.png\" title=\"Galenusjobs\"/>\n            </a>\n           </div>\n          </div>\n         </div>\n         <div class=\"info-footer\">\n          <div class=\"infos\">\n           <p>\n            © Copyright 2018. ConSalud.es.\n            <strong>\n             Todos los derechos reservados.\n            </strong>\n           </p>\n           <p>\n            <img alt=\"Dirección\" src=\"/bundles/cs/Widgets/Footer/images/stiu.svg\" title=\"Dirección\"/>\n            C/ Batalla de Belchite 5, 4ª planta, 28045, Madrid, España.\n           </p>\n           <p>\n            <img alt=\"Teléfono\" src=\"/bundles/cs/Widgets/Footer/images/tel.svg\" title=\"Teléfono\"/>\n            91 014 83 70.\n           </p>\n           <p>\n            <img alt=\"Correo electrónico\" src=\"/bundles/cs/Widgets/Footer/images/msg.svg\" title=\"Correo electrónico\"/>\n            <a href=\"mailto:info@consalud.es\">\n             info@consalud.es\n            </a>\n           </p>\n          </div>\n          Auditado por\n          <span>\n           Comscore\n          </span>\n         </div>\n         <a class=\"placa-cm\" href=\"https://www.consalud.es/uploads/s1/94/79/52/bocm-consalud.pdf\" target=\"_blank\" title=\"Placa de Plata 2018 - Comunidad de Madrid\">\n          <img src=\"https://www.consalud.es/uploads/static/consalud/Placa_Plata2018_ConSalud_R.png\"/>\n         </a>\n        </footer>\n       </div>\n      </div>\n      <div class=\"mod\" data-modal=\"newsletter-subscription\" style=\"\">\n       <span class=\"close\" data-action=\"close-modal\">\n        <svg style=\"enable-background:new 0 0 371.23 371.23;\" viewbox=\"0 0 371.23 371.23\" x=\"0px\" xml:space=\"preserve\" xmlns=\"http://www.w3.org/2000/svg\" xmlns:xlink=\"http://www.w3.org/1999/xlink\" y=\"0px\">\n         <polygon points=\"371.23,21.213 350.018,0 185.615,164.402 21.213,0 0,21.213 164.402,185.615 0,350.018 21.213,371.23\n        185.615,206.828 350.018,371.23 371.23,350.018 206.828,185.615 \">\n         </polygon>\n        </svg>\n       </span>\n       <div class=\"content-modal\">\n        <p class=\"title\">\n         Recibe la Newsletter de ConSalud.es\n        </p>\n        <p class=\"subtitle\">\n         Todos los días y de forma gratuita la newsletter con toda la información del sector sanitario\n        </p>\n        <form action=\"javascript:void(0)\" data-action=\"/_call?controller=ComitiumSuite%5CBundle%5CCSBundle%5CWidgets%5CNewsletterSubscription%5CController%5CWidgetController&amp;action=subscriptionAction&amp;_uuid=5b600bc7d0322&amp;_locale=es\" method=\"post\" name=\"newsletter_form\">\n         <input class=\"mail\" id=\"newsletter_form_email\" name=\"newsletter_form[email]\" placeholder=\"Correo electrónico\" required=\"required\" type=\"email\">\n          <span class=\"submit\">\n           <input class=\"btn\" id=\"newsletter_form_submit\" name=\"newsletter_form[submit]\" type=\"submit\" value=\"Suscríbete\">\n           </input>\n          </span>\n          <div class=\"legal\">\n           <input id=\"newsletter_form_legal\" name=\"newsletter_form[legal]\" required=\"required\" type=\"checkbox\" value=\"1\"/>\n           <label>\n            Aceptar los términos y\n            <a href=\"/aviso-legal.html\" title=\"condiciones\">\n             condiciones\n            </a>\n           </label>\n          </div>\n         </input>\n        </form>\n       </div>\n      </div>\n      <script type=\"text/javascript\">\n       jQuery(function ($) {\n        function setCookie(c_name, value, expiredays) {\n            var exdate = new Date();\n            exdate.setDate(exdate.getDate() + expiredays);\n            document.cookie = c_name + \"=\" + escape(value) + \";path=/\" + ((expiredays == null) ? \"\" : \";expires=\" + exdate.toUTCString());\n        }\n\n        function getCookie(c_name) {\n            var name = c_name + \"=\";\n            var ca = document.cookie.split(';');\n            for (var i = 0; i < ca.length; i++) {\n                var c = ca[i];\n                while (c.charAt(0) == ' ') c = c.substring(1);\n                if (c.indexOf(name) != -1) return c.substring(name.length, c.length);\n            }\n            return '';\n        }\n\n        $('[data-action=\"close-modal\"]', '[data-modal=\"newsletter-subscription\"]').on('click', function () {\n            setCookie('dissmiss-modal', 1, 10);\n            $('[data-modal=\"newsletter-subscription\"]').fadeOut();\n            $('body').removeClass('noscroll');\n        });\n\n        var showModal = getCookie('dissmiss-modal');\n\n        if (parseInt(showModal) !== 1) {\n            $(document).on('scroll.modal-subscription', function (e) {\n                $('[data-modal=\"newsletter-subscription\"]').fadeIn();\n                $('body').addClass('noscroll');\n                $(document).off('scroll.modal-subscription');\n            });\n        }\n    });\n      </script>\n      <div class=\"cookies cookies_alert_wrapper\" id=\"container_ciiT10\">\n       <div class=\"cookies_alert\">\n        Esta web utiliza 'cookies' propias y de terceros para ofrecerte una mejor experiencia y servicio.\n        <a href=\"https://www.consalud.es/politica-de-cookies.html\" title=\"Más información\">\n         Más información\n        </a>\n        <a class=\"close_allow_use_cookies\" href=\"javascript: void(0);\" title=\"Acepto\">\n         Acepto\n        </a>\n       </div>\n      </div>\n     </div>\n    </div>\n   </div>\n  </div>\n </body>\n</html>\n<script src=\"/js/0126b56.js?v=5f381eb7c9ea0\" type=\"text/javascript\">\n</script>\n<script src=\"/js/272f08a.js?v=5f381eb7eff86\" type=\"text/javascript\">\n</script>\n\n"
    }
   ],
   "source": [
    "print(soup.prettify())"
   ]
  },
  {
   "cell_type": "code",
   "execution_count": 1243,
   "metadata": {},
   "outputs": [
    {
     "output_type": "execute_result",
     "data": {
      "text/plain": "[<p class=\"time\">\n <img alt=\"time\" src=\"/bundles/cs/Widgets/ArticleViewerOpening/images/time_consalud.jpg\" title=\"time\"/>\n                         3 min\n                     </p>,\n <p class=\"comments\">\n <a href=\"#comments-list\" title=\"Comentarios\">\n <img alt=\"Comentarios\" src=\"/bundles/cs/Widgets/ArticleViewerOpening/images/social-message_consalud.svg\" title=\"Comentarios\"/>\n                                                                                         0\n                                         </a>\n </p>,\n <p class=\"tile\">Tags:</p>,\n <p class=\"publicated\">10.02.2020 - 14:10</p>,\n <p>La <strong>Comunidad de Madrid</strong> ha conseguido su mejor cifra en la <strong>campaña frente a la gripe</strong>, superando sus propias cifras de vacunación frente a la <a data-external=\"0\" data-intl-links-es=\"https://www.consalud.es/pacientes/incidencia-gripe-acentua-poblacion-infantil_73600_102.html\" href=\"https://www.consalud.es/pacientes/incidencia-gripe-acentua-poblacion-infantil_73600_102.html\" rel=\"follow\" target=\"_self\" title=\"La incidencia de la gripe se acentúa entre la población infantil\">gripe estacional</a> en esta temporada, con <strong>1.107.000 personas vacunadas </strong>en la región, un 6% más respecto a la campaña anterior.</p>,\n <p>Ante estos resultados <strong><a data-external=\"0\" data-intl-links-es=\"https://www.consalud.es/barometro-sanitario/positivo/enrique-ruiz-escudero-proyecto-investigacion_72887_102.html\" href=\"https://www.consalud.es/barometro-sanitario/positivo/enrique-ruiz-escudero-proyecto-investigacion_72887_102.html\" rel=\"follow\" target=\"_self\" title=\"Enrique Ruiz Escudero: Proyecto de investigación\">Enrique Ruiz Escudero</a></strong>, consejero de Sanidad de la Comunidad de Madrid, ha agradecido a todos los profesionales de la Consejería su esfuerzo e implicación en la<strong> campaña de vacunación antigripal</strong>. Lo ha hecho a través de un mensaje en formato pop-up que ha aparecido en todos los ordenadores de la red madrileña de salud.</p>,\n <p>El consejero de Sanidad ha visitado el Centro de Salud Almendrales (distrito de Usera) para conocer de primera mano el trabajo realizado por los profesionales de Atención Primaria y de Salud Pública en la <strong>vacunación frente a la gripe</strong>, así como el trabajo de vigilancia y detección del virus gripal.</p>,\n <p>Una labor desempeñada por 135 médicos de la Red de Médicos Centinela, dos de los cuales trabajan en el centro visitado por Ruiz Escudero.</p>,\n <p>La Comunidad de Madrid<strong> ha invertido 4.716.400 euros en la adquisición de 1.250.000 dosis de vacunas</strong> frente a la gripe en esta campaña, que se han distribuido en los 430 dispositivos de Atención Primaria de la Comunidad de Madrid y, en total, en más de 700 puntos de vacunación.</p>,\n <p>La plantilla de Enfermería de los centros de salud de la Comunidad de Madrid asciende a 3.535 profesionales, que es la encargada de administrar la vacuna. Hasta la fecha, se han administrado 1.107.000 vacunas, es decir, <strong>más de 58.000 dosis con respecto a la temporada pasada</strong> (1.048.720), y <strong>la cobertura vacunal ha aumentado en todos los tramos de edad</strong>, destacando el de seis meses a 59 años, que responde a pacientes con enfermedades crónicas, uno de los grupos de riesgo a los que se dirige la vacunación.</p>,\n <p>Desde la <strong>Dirección General de Salud Pública</strong> han desarrollado una serie de<strong> iniciativas para fomentar la vacunación frente a la gripe</strong>. Entre estas destacan el envío de 900.000 SMS a personas de los grupos de riesgo, 5.900 carteles para fomentar la vacunación en embarazadas, personal sanitario y enfermos crónicos, y 45.000 folletos destinados para la población general.</p>,\n <p>Unas acciones que se han completado con el desarrollo de un programa de actuaciones que busca <strong>favorecer la vacunación específicamente entre los sanitarios</strong>, como la primera convocatoria de un premio a los hospitales con mayores coberturas entre su personal o la financiación de un proyecto solidario por parte del Laboratorio que suministra la vacuna en función de las dosis que se administren.</p>,\n <p><strong>VIGILANCIA DE LA GRIPE</strong></p>,\n <p>La Dirección General de Salud Pública de la Comunidad de Madrid elabora un informe semanal que contempla la incidencia y características clínicas y microbiológicas de la gripe estacional en la región, es decir, la vigilancia y detección epidémica del virus.</p>,\n <p>Se entiende que e<strong>xiste epidemia cuando se observa mayor incidencia o circulación del virus gripal al sobrepasarse el umbral epidémico</strong>, que esta temporada se ha establecido en <strong>38 casos por cada 100.000 habitantes</strong>.</p>,\n <p> La información se obtiene con la <strong>Red de Médicos Centinela</strong>, creada en 1991, y que coordina el Servicio de Epidemiología. La Red está formada, de manera voluntaria, por 135 médicos de los Centros de Salud de la Comunidad de Madrid (médicos de familia y pediatras) que atiende a una población representativa de la región (197.940 habitantes, el 3% de la población). Los <strong>médicos centinela </strong>cumplimentan un cuestionario para cada caso con síntomas de gripe que atienden en consulta y se encargan de la recogida de muestras nasofaríngeas (secreciones nasales) de una proporción de sus pacientes para la identificación y caracterización de los virus circulantes.</p>,\n <p> Las muestras se aíslan en dos laboratorios del Servicio Madrileño de Salud ubicados en el Hospital Universitario Ramón y Cajal y el Hospital Unversitario12 de Octubre.</p>,\n <p class=\"need\">Porque salud necesitamos todos... <span>ConSalud.es</span></p>,\n <p class=\"recomend\">Te recomendamos:</p>,\n <p class=\"title\">\n <a href=\"https://www.consalud.es/pacientes/incidencia-gripe-acentua-poblacion-infantil_73600_102.html\" title=\"La incidencia de la gripe se acentúa entre la población infantil\">\n                             La incidencia de la gripe se acentúa entre la población infantil\n                         </a>\n </p>,\n <p class=\"title\">\n <a href=\"https://www.consalud.es/autonomias/c-madrid/gripe-mantiene-tendencia-alcista-2872-casos-100000-habitantes_73586_102.html\" title=\"La gripe mantiene su tendencia alcista y se intensifica en España\">\n                             La gripe mantiene su tendencia alcista y se intensifica en España\n                         </a>\n </p>,\n <p class=\"title\">\n <a href=\"https://www.consalud.es/ecsalud/internacional/bristol-myers-squibb-destina-250-millones-acelerar-esfuerzos-equidad-salud_83941_102.html\" target=\"_blank\" title=\"Bristol Myers Squibb destina más de 250 millones para acelerar los esfuerzos de equidad en la salud\">Bristol Myers Squibb destina más de 250 millones para acelerar los esfuerzos de equidad en la salud</a>\n </p>,\n <p class=\"title\">\n <a href=\"https://www.consalud.es/ecsalud/internacional/acuerdo-thermo-fisher-qiagen-fracasa_83986_102.html\" target=\"_blank\" title=\"El acuerdo entre Thermo Fisher y Qiagen fracasa\">El acuerdo entre Thermo Fisher y Qiagen fracasa</a>\n </p>,\n <p class=\"title\">\n <a href=\"https://www.consalud.es/ecsalud/internacional/labcorp-realizara-prueba-anticuerpos-cargo-acelerar-donacion-plasma-sanguineo_83904_102.html\" target=\"_blank\" title='LabCorp realizará prueba de anticuerpos \"sin cargo\" para acelerar la donación de plasma sanguíneo'>LabCorp realizará prueba de anticuerpos \"sin cargo\" para acelerar la donación de plasma sanguíneo</a>\n </p>,\n <p class=\"title\">Actualidad</p>,\n <p class=\"title\">Áreas</p>,\n <p class=\"title\">Sobre nosotros</p>,\n <p class=\"title\">Síguenos en redes:</p>,\n <p class=\"title\">\n                                         Una publicación de: \n                                     </p>,\n <p>© Copyright 2018. ConSalud.es. <strong>Todos los derechos reservados. </strong></p>,\n <p>\n <img alt=\"Dirección\" src=\"/bundles/cs/Widgets/Footer/images/stiu.svg\" title=\"Dirección\"/>\n                             C/ Batalla de Belchite 5, 4ª planta, 28045, Madrid, España.\n                         </p>,\n <p>\n <img alt=\"Teléfono\" src=\"/bundles/cs/Widgets/Footer/images/tel.svg\" title=\"Teléfono\"/>\n                             91 014 83 70.\n                         </p>,\n <p>\n <img alt=\"Correo electrónico\" src=\"/bundles/cs/Widgets/Footer/images/msg.svg\" title=\"Correo electrónico\"/>\n <a href=\"mailto:info@consalud.es\">info@consalud.es</a>\n </p>,\n <p class=\"title\">Recibe la Newsletter de ConSalud.es</p>,\n <p class=\"subtitle\">\n             Todos los días y de forma gratuita la newsletter con toda la información del sector sanitario\n         </p>]"
     },
     "metadata": {},
     "execution_count": 1243
    }
   ],
   "source": [
    "dir=soup.find_all(\"p\")\n",
    "dir"
   ]
  },
  {
   "cell_type": "code",
   "execution_count": 1244,
   "metadata": {},
   "outputs": [
    {
     "output_type": "execute_result",
     "data": {
      "text/plain": "<p>La Comunidad de Madrid<strong> ha invertido 4.716.400 euros en la adquisición de 1.250.000 dosis de vacunas</strong> frente a la gripe en esta campaña, que se han distribuido en los 430 dispositivos de Atención Primaria de la Comunidad de Madrid y, en total, en más de 700 puntos de vacunación.</p>"
     },
     "metadata": {},
     "execution_count": 1244
    }
   ],
   "source": [
    "medicos1=dir[8]\n",
    "medicos1"
   ]
  },
  {
   "cell_type": "code",
   "execution_count": 1245,
   "metadata": {},
   "outputs": [],
   "source": [
    "soup4=medicos1"
   ]
  },
  {
   "cell_type": "code",
   "execution_count": 1246,
   "metadata": {
    "tags": []
   },
   "outputs": [
    {
     "output_type": "stream",
     "name": "stdout",
     "text": "La Comunidad de Madrid ha invertido 4.716.400 euros en la adquisición de 1.250.000 dosis de vacunas frente a la gripe en esta campaña, que se han distribuido en los 430 dispositivos de Atención Primaria de la Comunidad de Madrid y, en total, en más de 700 puntos de vacunación.\n"
    }
   ],
   "source": [
    "print(soup4.get_text())"
   ]
  },
  {
   "cell_type": "code",
   "execution_count": 1247,
   "metadata": {},
   "outputs": [],
   "source": [
    "ptos_vac=str(soup4)"
   ]
  },
  {
   "cell_type": "code",
   "execution_count": 1248,
   "metadata": {
    "tags": []
   },
   "outputs": [
    {
     "output_type": "stream",
     "name": "stdout",
     "text": "301\n"
    }
   ],
   "source": [
    "print(len(ptos_vac))"
   ]
  },
  {
   "cell_type": "code",
   "execution_count": 1249,
   "metadata": {},
   "outputs": [
    {
     "output_type": "execute_result",
     "data": {
      "text/plain": "'700'"
     },
     "metadata": {},
     "execution_count": 1249
    }
   ],
   "source": [
    "ptos_vac1=ptos_vac[272:275]\n",
    "ptos_vac1"
   ]
  },
  {
   "cell_type": "code",
   "execution_count": 1250,
   "metadata": {},
   "outputs": [
    {
     "output_type": "execute_result",
     "data": {
      "text/plain": "<p>La plantilla de Enfermería de los centros de salud de la Comunidad de Madrid asciende a 3.535 profesionales, que es la encargada de administrar la vacuna. Hasta la fecha, se han administrado 1.107.000 vacunas, es decir, <strong>más de 58.000 dosis con respecto a la temporada pasada</strong> (1.048.720), y <strong>la cobertura vacunal ha aumentado en todos los tramos de edad</strong>, destacando el de seis meses a 59 años, que responde a pacientes con enfermedades crónicas, uno de los grupos de riesgo a los que se dirige la vacunación.</p>"
     },
     "metadata": {},
     "execution_count": 1250
    }
   ],
   "source": [
    "medicos2=dir[9]\n",
    "medicos2"
   ]
  },
  {
   "cell_type": "code",
   "execution_count": 1251,
   "metadata": {},
   "outputs": [],
   "source": [
    "soup5=medicos2"
   ]
  },
  {
   "cell_type": "code",
   "execution_count": 1252,
   "metadata": {
    "tags": []
   },
   "outputs": [
    {
     "output_type": "stream",
     "name": "stdout",
     "text": "La plantilla de Enfermería de los centros de salud de la Comunidad de Madrid asciende a 3.535 profesionales, que es la encargada de administrar la vacuna. Hasta la fecha, se han administrado 1.107.000 vacunas, es decir, más de 58.000 dosis con respecto a la temporada pasada (1.048.720), y la cobertura vacunal ha aumentado en todos los tramos de edad, destacando el de seis meses a 59 años, que responde a pacientes con enfermedades crónicas, uno de los grupos de riesgo a los que se dirige la vacunación.\n"
    }
   ],
   "source": [
    "print(soup5.get_text())"
   ]
  },
  {
   "cell_type": "code",
   "execution_count": 1253,
   "metadata": {},
   "outputs": [],
   "source": [
    "profesionales=str(soup5)"
   ]
  },
  {
   "cell_type": "code",
   "execution_count": 1254,
   "metadata": {},
   "outputs": [
    {
     "output_type": "execute_result",
     "data": {
      "text/plain": "'3.535'"
     },
     "metadata": {},
     "execution_count": 1254
    }
   ],
   "source": [
    "profesionales1=profesionales[91:96]\n",
    "profesionales1"
   ]
  },
  {
   "cell_type": "code",
   "execution_count": 1255,
   "metadata": {},
   "outputs": [
    {
     "output_type": "execute_result",
     "data": {
      "text/plain": "'3535'"
     },
     "metadata": {},
     "execution_count": 1255
    }
   ],
   "source": [
    "profesionales1=re.sub('[.]', '',profesionales1) \n",
    "profesionales1\n",
    "#con resub quito los puntos entre los números del string porque me daban error para convrtirlo en entero."
   ]
  },
  {
   "cell_type": "code",
   "execution_count": 1256,
   "metadata": {},
   "outputs": [
    {
     "output_type": "execute_result",
     "data": {
      "text/plain": "[<strong>Comunidad de Madrid</strong>,\n <strong>campaña frente a la gripe</strong>,\n <strong>1.107.000 personas vacunadas </strong>,\n <strong><a data-external=\"0\" data-intl-links-es=\"https://www.consalud.es/barometro-sanitario/positivo/enrique-ruiz-escudero-proyecto-investigacion_72887_102.html\" href=\"https://www.consalud.es/barometro-sanitario/positivo/enrique-ruiz-escudero-proyecto-investigacion_72887_102.html\" rel=\"follow\" target=\"_self\" title=\"Enrique Ruiz Escudero: Proyecto de investigación\">Enrique Ruiz Escudero</a></strong>,\n <strong> campaña de vacunación antigripal</strong>,\n <strong>vacunación frente a la gripe</strong>,\n <strong> ha invertido 4.716.400 euros en la adquisición de 1.250.000 dosis de vacunas</strong>,\n <strong>más de 58.000 dosis con respecto a la temporada pasada</strong>,\n <strong>la cobertura vacunal ha aumentado en todos los tramos de edad</strong>,\n <strong>La Comunidad de Madrid ha invertido 4.716.400 euros en la adquisición de 1.250.000 dosis de vacunas frente a la gripe en esta campaña</strong>,\n <strong>Dirección General de Salud Pública</strong>,\n <strong> iniciativas para fomentar la vacunación frente a la gripe</strong>,\n <strong>favorecer la vacunación específicamente entre los sanitarios</strong>,\n <strong>VIGILANCIA DE LA GRIPE</strong>,\n <strong>xiste epidemia cuando se observa mayor incidencia o circulación del virus gripal al sobrepasarse el umbral epidémico</strong>,\n <strong>38 casos por cada 100.000 habitantes</strong>,\n <strong>Red de Médicos Centinela</strong>,\n <strong>médicos centinela </strong>,\n <strong>Todos los derechos reservados. </strong>]"
     },
     "metadata": {},
     "execution_count": 1256
    }
   ],
   "source": [
    "datos=soup.find_all(\"strong\")\n",
    "datos"
   ]
  },
  {
   "cell_type": "code",
   "execution_count": 1257,
   "metadata": {},
   "outputs": [
    {
     "output_type": "execute_result",
     "data": {
      "text/plain": "<strong>1.107.000 personas vacunadas </strong>"
     },
     "metadata": {},
     "execution_count": 1257
    }
   ],
   "source": [
    "datos1=datos[2]\n",
    "datos1"
   ]
  },
  {
   "cell_type": "code",
   "execution_count": 1258,
   "metadata": {},
   "outputs": [],
   "source": [
    "soup=datos1"
   ]
  },
  {
   "cell_type": "code",
   "execution_count": 1259,
   "metadata": {
    "tags": []
   },
   "outputs": [
    {
     "output_type": "stream",
     "name": "stdout",
     "text": "1.107.000 personas vacunadas \n"
    }
   ],
   "source": [
    "print(soup.get_text())"
   ]
  },
  {
   "cell_type": "code",
   "execution_count": 1260,
   "metadata": {},
   "outputs": [],
   "source": [
    "text1=str(soup)"
   ]
  },
  {
   "cell_type": "code",
   "execution_count": 1261,
   "metadata": {},
   "outputs": [
    {
     "output_type": "execute_result",
     "data": {
      "text/plain": "'1.107.000'"
     },
     "metadata": {},
     "execution_count": 1261
    }
   ],
   "source": [
    "text1_text=text1[8:17]\n",
    "text1_text"
   ]
  },
  {
   "cell_type": "code",
   "execution_count": 1262,
   "metadata": {},
   "outputs": [
    {
     "output_type": "execute_result",
     "data": {
      "text/plain": "'1107000'"
     },
     "metadata": {},
     "execution_count": 1262
    }
   ],
   "source": [
    "text1_text = re.sub('[.]', '', text1_text) \n",
    "text1_text\n",
    "#con resub quito los puntos entre los números del string porque me daban error para convrtirlo en entero."
   ]
  },
  {
   "cell_type": "code",
   "execution_count": 1263,
   "metadata": {},
   "outputs": [
    {
     "output_type": "execute_result",
     "data": {
      "text/plain": "<strong> ha invertido 4.716.400 euros en la adquisición de 1.250.000 dosis de vacunas</strong>"
     },
     "metadata": {},
     "execution_count": 1263
    }
   ],
   "source": [
    "datos2=datos[6]\n",
    "datos2"
   ]
  },
  {
   "cell_type": "code",
   "execution_count": 1264,
   "metadata": {},
   "outputs": [],
   "source": [
    "soup1=datos2"
   ]
  },
  {
   "cell_type": "code",
   "execution_count": 1265,
   "metadata": {
    "tags": []
   },
   "outputs": [
    {
     "output_type": "stream",
     "name": "stdout",
     "text": "ha invertido 4.716.400 euros en la adquisición de 1.250.000 dosis de vacunas\n"
    }
   ],
   "source": [
    "print(soup1.get_text())"
   ]
  },
  {
   "cell_type": "code",
   "execution_count": 1266,
   "metadata": {},
   "outputs": [],
   "source": [
    "text2=str(soup1)"
   ]
  },
  {
   "cell_type": "code",
   "execution_count": 1267,
   "metadata": {},
   "outputs": [
    {
     "output_type": "execute_result",
     "data": {
      "text/plain": "'4.716.400'"
     },
     "metadata": {},
     "execution_count": 1267
    }
   ],
   "source": [
    "text2_text=text2[22:31]\n",
    "text2_text"
   ]
  },
  {
   "cell_type": "code",
   "execution_count": 1268,
   "metadata": {},
   "outputs": [],
   "source": [
    "text2_text = re.sub('[.]', '', text2_text) \n",
    "#con resub quito los puntos entre los números del string porque me daban error para convrtirlo en entero."
   ]
  },
  {
   "cell_type": "code",
   "execution_count": 1269,
   "metadata": {},
   "outputs": [
    {
     "output_type": "execute_result",
     "data": {
      "text/plain": "'4716400'"
     },
     "metadata": {},
     "execution_count": 1269
    }
   ],
   "source": [
    "text2_text"
   ]
  },
  {
   "cell_type": "code",
   "execution_count": 1270,
   "metadata": {},
   "outputs": [
    {
     "output_type": "execute_result",
     "data": {
      "text/plain": "<strong>más de 58.000 dosis con respecto a la temporada pasada</strong>"
     },
     "metadata": {},
     "execution_count": 1270
    }
   ],
   "source": [
    "datos3=datos[7]\n",
    "datos3"
   ]
  },
  {
   "cell_type": "code",
   "execution_count": 1271,
   "metadata": {},
   "outputs": [
    {
     "output_type": "execute_result",
     "data": {
      "text/plain": "<strong>más de 58.000 dosis con respecto a la temporada pasada</strong>"
     },
     "metadata": {},
     "execution_count": 1271
    }
   ],
   "source": [
    "soup2=datos3\n",
    "soup2"
   ]
  },
  {
   "cell_type": "code",
   "execution_count": 1272,
   "metadata": {},
   "outputs": [
    {
     "output_type": "execute_result",
     "data": {
      "text/plain": "bs4.element.Tag"
     },
     "metadata": {},
     "execution_count": 1272
    }
   ],
   "source": [
    "type(soup2)"
   ]
  },
  {
   "cell_type": "code",
   "execution_count": 1273,
   "metadata": {},
   "outputs": [
    {
     "output_type": "execute_result",
     "data": {
      "text/plain": "'<strong>más de 58.000 dosis con respecto a la temporada pasada</strong>'"
     },
     "metadata": {},
     "execution_count": 1273
    }
   ],
   "source": [
    "text3=str(soup2)\n",
    "text3"
   ]
  },
  {
   "cell_type": "code",
   "execution_count": 1274,
   "metadata": {},
   "outputs": [
    {
     "output_type": "execute_result",
     "data": {
      "text/plain": "'58.000'"
     },
     "metadata": {},
     "execution_count": 1274
    }
   ],
   "source": [
    "text3_text=text3[15:21]\n",
    "text3_text"
   ]
  },
  {
   "cell_type": "code",
   "execution_count": 1275,
   "metadata": {},
   "outputs": [
    {
     "output_type": "execute_result",
     "data": {
      "text/plain": "'1.250.000'"
     },
     "metadata": {},
     "execution_count": 1275
    }
   ],
   "source": [
    "text4_text=text2[59:68]\n",
    "text4_text"
   ]
  },
  {
   "cell_type": "code",
   "execution_count": 1276,
   "metadata": {},
   "outputs": [],
   "source": [
    "text4_text = re.sub('[.]', '', text4_text) \n",
    "#con resub quito los puntos entre los números del string porque me daban error para convrtirlo en entero."
   ]
  },
  {
   "cell_type": "code",
   "execution_count": 1277,
   "metadata": {},
   "outputs": [
    {
     "output_type": "execute_result",
     "data": {
      "text/plain": "58000"
     },
     "metadata": {},
     "execution_count": 1277
    }
   ],
   "source": [
    "valor3=int(float(text3_text))*1000\n",
    "valor3"
   ]
  },
  {
   "cell_type": "code",
   "execution_count": 1278,
   "metadata": {},
   "outputs": [
    {
     "output_type": "execute_result",
     "data": {
      "text/plain": "4716400"
     },
     "metadata": {},
     "execution_count": 1278
    }
   ],
   "source": [
    "valor2=int(float(text2_text))\n",
    "valor2"
   ]
  },
  {
   "cell_type": "code",
   "execution_count": 1279,
   "metadata": {},
   "outputs": [
    {
     "output_type": "execute_result",
     "data": {
      "text/plain": "1107000"
     },
     "metadata": {},
     "execution_count": 1279
    }
   ],
   "source": [
    "valor1=int(float(text1_text))\n",
    "valor1"
   ]
  },
  {
   "cell_type": "code",
   "execution_count": 1280,
   "metadata": {},
   "outputs": [
    {
     "output_type": "execute_result",
     "data": {
      "text/plain": "1250000"
     },
     "metadata": {},
     "execution_count": 1280
    }
   ],
   "source": [
    "valor4=int(float(text4_text))\n",
    "valor4"
   ]
  },
  {
   "cell_type": "code",
   "execution_count": 1281,
   "metadata": {},
   "outputs": [],
   "source": [
    "valor5=valor2/valor1\n",
    "valor5=np.float64(valor5) #Utilizo np.float porque me decía que el valor era un float tipo objeto y no se le podía atribuir Round."
   ]
  },
  {
   "cell_type": "code",
   "execution_count": 1282,
   "metadata": {},
   "outputs": [
    {
     "output_type": "execute_result",
     "data": {
      "text/plain": "4.26"
     },
     "metadata": {},
     "execution_count": 1282
    }
   ],
   "source": [
    "valor5=valor5.round(2)\n",
    "valor5"
   ]
  },
  {
   "cell_type": "code",
   "execution_count": 1283,
   "metadata": {},
   "outputs": [
    {
     "output_type": "execute_result",
     "data": {
      "text/plain": "1049000.0"
     },
     "metadata": {},
     "execution_count": 1283
    }
   ],
   "source": [
    "vacunaciones_2018=valor1-valor3\n",
    "vacunaciones_2018=np.float64(vacunaciones_2018)\n",
    "vacunaciones_2018.round()"
   ]
  },
  {
   "cell_type": "code",
   "execution_count": 1284,
   "metadata": {},
   "outputs": [
    {
     "output_type": "execute_result",
     "data": {
      "text/plain": "1049000"
     },
     "metadata": {},
     "execution_count": 1284
    }
   ],
   "source": [
    "vacunaciones_2018=int(vacunaciones_2018)\n",
    "vacunaciones_2018"
   ]
  },
  {
   "cell_type": "code",
   "execution_count": 1285,
   "metadata": {},
   "outputs": [
    {
     "output_type": "execute_result",
     "data": {
      "text/plain": "[4716400, 1250000, 1107000, 58000, 4.26, 1049000]"
     },
     "metadata": {},
     "execution_count": 1285
    }
   ],
   "source": [
    "gasto=[valor2,valor4,valor1,valor3,valor5,vacunaciones_2018]\n",
    "gasto"
   ]
  },
  {
   "cell_type": "code",
   "execution_count": 1286,
   "metadata": {},
   "outputs": [],
   "source": [
    "title=[\"Gasto adquisición €\",\"Coste dosis\",\"Dosis adquiridas\",\"Personas vacunadas 2019\",\"Personas vacunadas 2018\",\"Incremento de vacunaciones 2019 vs 2018\"]"
   ]
  },
  {
   "cell_type": "code",
   "execution_count": 1287,
   "metadata": {},
   "outputs": [],
   "source": [
    "data={title[0]:[valor2],title[1]:[valor5],title[2]:[valor4],title[3]:[valor1],title[4]:[vacunaciones_2018],title[5]:[valor3]}"
   ]
  },
  {
   "cell_type": "code",
   "execution_count": 1288,
   "metadata": {},
   "outputs": [],
   "source": [
    "gasto_vacunas=pd.DataFrame(data)"
   ]
  },
  {
   "cell_type": "code",
   "execution_count": 1289,
   "metadata": {},
   "outputs": [
    {
     "output_type": "execute_result",
     "data": {
      "text/plain": "     Gasto adquisición €  Coste dosis  Dosis adquiridas  \\\nCAM              4716400         4.26           1250000   \n\n     Personas vacunadas 2019  Personas vacunadas 2018  \\\nCAM                  1107000                  1049000   \n\n     Incremento de vacunaciones 2019 vs 2018  \nCAM                                    58000  ",
      "text/html": "<div>\n<style scoped>\n    .dataframe tbody tr th:only-of-type {\n        vertical-align: middle;\n    }\n\n    .dataframe tbody tr th {\n        vertical-align: top;\n    }\n\n    .dataframe thead th {\n        text-align: right;\n    }\n</style>\n<table border=\"1\" class=\"dataframe\">\n  <thead>\n    <tr style=\"text-align: right;\">\n      <th></th>\n      <th>Gasto adquisición €</th>\n      <th>Coste dosis</th>\n      <th>Dosis adquiridas</th>\n      <th>Personas vacunadas 2019</th>\n      <th>Personas vacunadas 2018</th>\n      <th>Incremento de vacunaciones 2019 vs 2018</th>\n    </tr>\n  </thead>\n  <tbody>\n    <tr>\n      <th>CAM</th>\n      <td>4716400</td>\n      <td>4.26</td>\n      <td>1250000</td>\n      <td>1107000</td>\n      <td>1049000</td>\n      <td>58000</td>\n    </tr>\n  </tbody>\n</table>\n</div>"
     },
     "metadata": {},
     "execution_count": 1289
    }
   ],
   "source": [
    "gasto_vacunas.rename(index={0:'CAM'})"
   ]
  },
  {
   "cell_type": "code",
   "execution_count": 1290,
   "metadata": {},
   "outputs": [],
   "source": [
    "title_2=[\"Total sanitarios vacunación\",\"Total ptos vacunación\"]"
   ]
  },
  {
   "cell_type": "code",
   "execution_count": 1291,
   "metadata": {},
   "outputs": [
    {
     "output_type": "execute_result",
     "data": {
      "text/plain": "['3535', '700']"
     },
     "metadata": {},
     "execution_count": 1291
    }
   ],
   "source": [
    "vacunacion=[profesionales1,ptos_vac1]\n",
    "vacunacion"
   ]
  },
  {
   "cell_type": "code",
   "execution_count": 1292,
   "metadata": {},
   "outputs": [],
   "source": [
    "data2={\"Total sanitarios vacunación\":[3535],\"Total ptos vacunación\":[700]}"
   ]
  },
  {
   "cell_type": "code",
   "execution_count": 1293,
   "metadata": {},
   "outputs": [],
   "source": [
    "operativa=pd.DataFrame(data2)"
   ]
  },
  {
   "cell_type": "code",
   "execution_count": 1294,
   "metadata": {},
   "outputs": [
    {
     "output_type": "execute_result",
     "data": {
      "text/plain": "     Total sanitarios vacunación  Total ptos vacunación\nCAM                         3535                    700",
      "text/html": "<div>\n<style scoped>\n    .dataframe tbody tr th:only-of-type {\n        vertical-align: middle;\n    }\n\n    .dataframe tbody tr th {\n        vertical-align: top;\n    }\n\n    .dataframe thead th {\n        text-align: right;\n    }\n</style>\n<table border=\"1\" class=\"dataframe\">\n  <thead>\n    <tr style=\"text-align: right;\">\n      <th></th>\n      <th>Total sanitarios vacunación</th>\n      <th>Total ptos vacunación</th>\n    </tr>\n  </thead>\n  <tbody>\n    <tr>\n      <th>CAM</th>\n      <td>3535</td>\n      <td>700</td>\n    </tr>\n  </tbody>\n</table>\n</div>"
     },
     "metadata": {},
     "execution_count": 1294
    }
   ],
   "source": [
    "operativa.rename(index={0:'CAM'})"
   ]
  },
  {
   "cell_type": "code",
   "execution_count": 1295,
   "metadata": {},
   "outputs": [],
   "source": [
    "url_2=\"https://www.europapress.es/madrid/noticia-comunidad-logra-mejor-campana-vacunacion-frente-gripe-mas-11-millones-madrilenos-mas-20200210135909.html\""
   ]
  },
  {
   "cell_type": "code",
   "execution_count": 1296,
   "metadata": {},
   "outputs": [],
   "source": [
    "mi_url_2=urllib.request.urlopen(url_2)"
   ]
  },
  {
   "cell_type": "code",
   "execution_count": 1297,
   "metadata": {},
   "outputs": [],
   "source": [
    "soup_6=BeautifulSoup(mi_url_2,\"html.parser\")"
   ]
  },
  {
   "cell_type": "code",
   "execution_count": 1298,
   "metadata": {
    "tags": [
     "outputPrepend"
    ]
   },
   "outputs": [
    {
     "output_type": "stream",
     "name": "stdout",
     "text": "0200818130553.html\" onclick=\"trackEventGAFull('MasLeidas_5_Castilla-La Mancha', 'click', '', 0);\">\n               <p class=\"masleidastexto extrawidth\">\n                Investigada en Toledo por tener abandonados a 41 perros, 29 de los cuales recibieron suero para sobrevivir\n               </p>\n              </a>\n             </li>\n             <script type=\"application/ld+json\">\n              {\"@type\": \"ReportageNewsArticle\",\"headline\": \"Investigada en Toledo por tener abandonados a 41 perros, 29 de los cuales recibieron suero para sobrevivir\",\"dateCreated\": \"2020-08-18T13:05:53 +02:00\",\"datePublished\": \"2020-08-18T13:05:53 +02:00\",\"dateModified\": \"2020-08-18T13:08:13 +02:00\",\"publisher\":{\"@type\": \"Organization\",\"name\": \"europa press\",\"logo\":{\"@type\": \"ImageObject\",\"url\": \"https://s01.europapress.net/imagenes/estaticos/amp-logo/logo-europapress.png\",\"width\": \"600\",\"height\": \"60\"}},\"description\": \"   La Guardia Civil investiga a una mujer por un presunto delito de maltrato animal contra 41 perros cometido\",\"articleSection\": \"Castilla-La Mancha\",\"mainEntityOfPage\":{\"@type\": \"WebPage\",\"@id\": \"https://www.europapress.es/castilla-lamancha/noticia-investigada-toledo-tener-abandonados-41-perros-29-cuales-recibieron-suero-sobrevivir-20200818130553.html\"\n},\"author\":{\"@type\": \"Organization\",\"name\": \"europa press\"},\"image\": {\"@type\": \"ImageObject\",\"url\": \"https://img.europapress.es/fotoweb/fotonoticia_20200818130553_1024.jpg\",\"height\": 819,\"width\": 1024},\"inLanguage\": \"es\",\"@context\": \"http://schema.org\"}\n             </script>\n            </ol>\n           </div>\n          </div>\n          <ul class=\"tabsMasLeidas\">\n           <li class=\"tabMasLeidas tabMasLeidas-activa\" data-id=\"MasLeidas_0_1_0_5\" onclick=\"trackEventGA('MasLeidas_Hoy', 'click')\">\n            <a href=\"#\">\n             Hoy\n            </a>\n           </li>\n           <li class=\"tabMasLeidas\" data-id=\"MasLeidas_7_1_0_5\" onclick=\"trackEventGA('MasLeidas_UnaSemana', 'click')\">\n            <a href=\"#\">\n             Una semana\n            </a>\n           </li>\n           <li class=\"tabMasLeidas\" data-id=\"MasLeidas_30_1_0_5\" onclick=\"trackEventGA('MasLeidas_UnMes', 'click')\">\n            <a href=\"#\">\n             Un mes\n            </a>\n           </li>\n          </ul>\n         </div>\n        </div>\n        <div class=\"bannerBajoMasLeido\">\n         <div class=\"wrapper-sticky\">\n          <div class=\"aire_v\" id=\"sc-mpu-btf2\">\n           <script type=\"text/javascript\">\n            googletag.cmd.push(function() { googletag.display('sc-mpu-btf2'); });\n           </script>\n          </div>\n         </div>\n        </div>\n       </div>\n      </div>\n     </div>\n     <div class=\"row\">\n      <div class=\"cabecera_actualidad\" height=\"25\">\n       La actualidad más visitada en\n       <img alt=\"EuropaPress logo: La actualidad más vista\" class=\"masvistas-logo-europapress\" src=\"https://s01.europapress.net/imagenes/estaticos/logosnuevos/logo-europapress.svg\"/>\n      </div>\n      <div class=\"twelve columns\">\n       <div class=\"divconsombra\">\n        <div class=\"FotoMasLeido\">\n         <a class=\"hgpfm-link hgpfm-image-link hgpfm-link-1 news-theme-bg-hover news-theme-border-hover\" href=\"https://www.europapress.es/madrid/noticia-concentracion-colon-contra-uso-mascarilla-obligatorio-asistentes-tildan-farsa-pandemia-20200816193112.html\">\n          <span class=\"theme-bg-ssts-label hgsm-ssts-label-top-left news-theme-bg\">\n           Madrid\n          </span>\n          <span class=\"hgpfm-image-gradient\">\n          </span>\n          <img alt='Concentración en Madrid contra el uso de mascarilla obligatorio con asistentes que tildan de \"farsa\" la pandemia' class=\"lazy hgpfm-image lazyload\" data-src=\"https://img.europapress.es/fotoweb/fotonoticia_20200816193112_422_71_71_0_0_v2.jpg\" loading=\"lazy\"/>\n          <div class=\"hgpfm-image-hed-wrap hgpfm-image-text-hed-wrap\">\n           <span class=\"hgpfm-image-text-hed-icon\">\n           </span>\n           <p class=\"hgpfm-image-hed\">\n            Concentración en Madrid contra el uso de mascarilla obligatorio con asistentes que tildan de \"farsa\" la pandemia\n           </p>\n          </div>\n         </a>\n        </div>\n        <div class=\"FotoMasLeido\">\n         <a class=\"hgpfm-link hgpfm-image-link hgpfm-link-1 news-theme-bg-hover news-theme-border-hover\" href=\"https://www.europapress.es/nacional/noticia-unidas-podemos-denuncia-acoso-pablo-iglesias-irene-montero-vacaciones-asturias-20200817181809.html\">\n          <span class=\"theme-bg-ssts-label hgsm-ssts-label-top-left news-theme-bg\">\n           España\n          </span>\n          <span class=\"hgpfm-image-gradient\">\n          </span>\n          <img alt='Unidas Podemos denuncia el \"acoso\" a Pablo Iglesias e Irene Montero en sus vacaciones en Asturias' class=\"lazy hgpfm-image lazyload\" data-src=\"https://img.europapress.es/fotoweb/fotonoticia_20200817181809_422_86_86_0_0.jpg\" loading=\"lazy\"/>\n          <div class=\"hgpfm-image-hed-wrap hgpfm-image-text-hed-wrap\">\n           <span class=\"hgpfm-image-text-hed-icon\">\n           </span>\n           <p class=\"hgpfm-image-hed\">\n            Unidas Podemos denuncia el \"acoso\" a Pablo Iglesias e Irene Montero en sus vacaciones en Asturias\n           </p>\n          </div>\n         </a>\n        </div>\n        <div class=\"FotoMasLeido\">\n         <a class=\"hgpfm-link hgpfm-image-link hgpfm-link-1 news-theme-bg-hover news-theme-border-hover\" href=\"https://www.europapress.es/chance/cineymusica/noticia-miguel-bose-mascarilla-despues-criticar-uso-animar-fans-no-llevarla-20200818131550.html\">\n          <span class=\"theme-bg-ssts-label hgsm-ssts-label-top-left news-theme-bg\">\n           Cine y Música\n          </span>\n          <span class=\"hgpfm-image-gradient\">\n          </span>\n          <img alt=\"Miguel Bosé, con mascarilla después de criticar su uso y animar a sus fans a no llevarla\" class=\"lazy hgpfm-image lazyload\" data-src=\"https://img.europapress.es/fotoweb/fotonoticia_20200818131550_422_0_237_0_0.jpg\" loading=\"lazy\"/>\n          <div class=\"hgpfm-image-hed-wrap hgpfm-image-text-hed-wrap\">\n           <span class=\"hgpfm-image-text-hed-icon\">\n           </span>\n           <p class=\"hgpfm-image-hed\">\n            Miguel Bosé, con mascarilla después de criticar su uso y animar a sus fans a no llevarla\n           </p>\n          </div>\n         </a>\n        </div>\n       </div>\n      </div>\n     </div>\n    </div>\n   </div>\n   <script src=\"https://unpkg.com/plyr@3\">\n   </script>\n   <script src=\"/js/audio-noticia.js?v=1f\">\n   </script>\n   <script>\n    CargarAudios([\n  {\n    \"title\": \"El consejero de Sanidad hace balance de las cifras históricas de vacunación en Madrid\",\n    \"url\": \"https://audioweb.europapress.net/473000/473585_1_32.mp3\"\n  }\n])\n   </script>\n  </form>\n  <footer class=\"footer\" id=\"footer\" role=\"contentinfo\">\n   <script>\n    if ('loading' in HTMLImageElement.prototype) {\n            const images = document.querySelectorAll(\"img.lazyload\");\n            images.forEach(img => {\n                img.src = img.dataset.src;\n            });\n        } else {\n            // Dynamically import the LazySizes library\n            let script = document.createElement(\"script\");\n            script.async = true;\n            script.src =\n                \"https://cdnjs.cloudflare.com/ajax/libs/lazysizes/4.1.8/lazysizes.min.js\";\n            document.body.appendChild(script);\n        }\n   </script>\n   <!-- Quantcast Tag -->\n   <script type=\"text/javascript\">\n    var _qevents = _qevents || [];\n\n            (function () {\n                var elem = document.createElement('script');\n                elem.src = (document.location.protocol == \"https:\" ? \"https://secure\" : \"http://edge\") + \".quantserve.com/quant.js\";\n                elem.async = true;\n                elem.type = \"text/javascript\";\n                var scpt = document.getElementsByTagName('script')[0];\n                scpt.parentNode.insertBefore(elem, scpt);\n            })();\n\n            _qevents.push({\n                qacct: \"p-_rzMAPjrFWeyB\"\n            });\n   </script>\n   <noscript>\n    <div style=\"display: none;\">\n     <img alt=\"Quantcast\" border=\"0\" height=\"1\" src=\"//pixel.quantserve.com/pixel/p-_rzMAPjrFWeyB.gif\" width=\"1\">\n     </img>\n    </div>\n   </noscript>\n   <!-- End Quantcast tag -->\n   <div class=\"row\">\n    <div class=\"twelve columns\">\n     <div class=\"bloquePie container\">\n      <div id=\"ctl00_Pie_2014_Pie_Europapress\">\n       <div class=\"footer-superior\">\n        <ul class=\"footer-secciones\">\n         <li class=\"footer-seccion\">\n          <a href=\"//www.europapress.es/noticias\" title=\"Últimas Noticias\">\n           Últimas Noticias\n          </a>\n         </li>\n         <li class=\"footer-seccion\">\n          <a href=\"//www.europapress.es/nacional/\" title=\"España\">\n           España\n          </a>\n         </li>\n         <li class=\"footer-seccion\">\n          <a href=\"//www.europapress.es/internacional/\" title=\"Internacional\">\n           Internacional\n          </a>\n         </li>\n         <li class=\"footer-seccion\">\n          <a href=\"//www.europapress.es/deportes/\" title=\"Deportes\">\n           Deportes\n          </a>\n         </li>\n         <li class=\"footer-seccion\">\n          <a href=\"https://www.europapress.tv\" title=\"Deportes\">\n           Vídeos\n          </a>\n         </li>\n        </ul>\n        <ul class=\"footer-secciones\">\n         <li class=\"footer-seccion\">\n          <a href=\"//www.europapress.es/economia/\" title=\"Economía - Mercado Financiero\">\n           Economía\n          </a>\n         </li>\n         <li class=\"footer-seccion\">\n          <a href=\"//www.europapress.es/sociedad/\" title=\"Sociedad\">\n           Sociedad\n          </a>\n         </li>\n         <li class=\"footer-seccion\">\n          <a href=\"//www.europapress.es/ciencia/\" title=\"CienciaPlus\">\n           Cienciaplus\n          </a>\n         </li>\n         <li class=\"footer-seccion\">\n          <a href=\"//www.europapress.es/portaltic/\" title=\"PortalTic\">\n           Portaltic\n          </a>\n         </li>\n         <li class=\"footer-seccion\">\n          <a href=\"//milojos.es\" title=\"milojos.es\">\n           milojos.es\n          </a>\n         </li>\n        </ul>\n        <ul class=\"footer-secciones\">\n         <li class=\"footer-seccion\">\n          <a href=\"//www.europapress.es/epsocial/\" title=\"EPSocial\">\n           EPSocial\n          </a>\n         </li>\n         <li class=\"footer-seccion\">\n          <a href=\"//www.europapress.es/chance/\" title=\"Chance\">\n           Chance\n          </a>\n         </li>\n         <li class=\"footer-seccion\">\n          <a href=\"https://www.culturaocio.com\" title=\"Cultura y Ocio\">\n           CulturaOcio\n          </a>\n         </li>\n         <li class=\"footer-seccion\">\n          <a href=\"//www.europapress.es/desconecta/\" title=\"Desconecta\">\n           Desconecta\n          </a>\n         </li>\n         <li class=\"footer-seccion\">\n          <a href=\"https://www.epdata.es\" title=\"EP data\">\n           epdata.es\n          </a>\n         </li>\n        </ul>\n        <ul class=\"footer-secciones\">\n         <li class=\"footer-seccion\">\n          <a href=\"https://www.infosalus.com\" title=\"Infosalus\">\n           Infosalus\n          </a>\n         </li>\n         <li class=\"footer-seccion\">\n          <a href=\"//www.europapress.es/motor/\" title=\"Motor\">\n           Motor\n          </a>\n         </li>\n         <li class=\"footer-seccion\">\n          <a href=\"//www.europapress.es/turismo/\" title=\"Turismo\">\n           Turismo\n          </a>\n         </li>\n         <li class=\"footer-seccion\">\n          <a href=\"https://www.notimerica.com\" title=\"Notimerica\">\n           Notimérica\n          </a>\n         </li>\n         <li class=\"footer-seccion\">\n          <a href=\"https://www.europapress.es/contactophoto/\" title=\"ContactoPhoto\">\n           ContactoPhoto\n          </a>\n         </li>\n        </ul>\n       </div>\n       <div class=\"footer-middle\">\n        <span>\n         SÍGUENOS\n        </span>\n        <ul class=\"footer-rrss\">\n         <li>\n          <a aria-label=\"Síguenos en Facebook\" data-md-tooltip=\"Síguenos en Facebook\" href=\"https://www.facebook.com/europapress.es\" rel=\"nofollow\" target=\"_blank\">\n           <span class=\"icon-facebook social-icon\">\n           </span>\n          </a>\n         </li>\n         <li>\n          <a aria-label=\"Síguenos en Twitter\" data-md-tooltip=\"Síguenos en Twitter\" href=\"https://twitter.com/@europapress\" rel=\"nofollow\" target=\"_blank\">\n           <span class=\"icon-twitter social-icon\">\n           </span>\n          </a>\n         </li>\n         <li>\n          <a aria-label=\"Síguenos en Youtube\" data-md-tooltip=\"Síguenos en Youtube\" href=\"https://www.youtube.com/user/europapress\" rel=\"nofollow\" target=\"_blank\">\n           <span class=\"icon-youtube social-icon\">\n           </span>\n          </a>\n         </li>\n         <li>\n          <a aria-label=\"Síguenos en Linkedin\" data-md-tooltip=\"Síguenos en Linkedin\" href=\"https://www.linkedin.com/company/europa-press\" rel=\"nofollow\" target=\"_blank\">\n           <span class=\"icon-linkedin social-icon\">\n           </span>\n          </a>\n         </li>\n        </ul>\n       </div>\n       <div class=\"footer-inferior\">\n        <ul class=\"footer-links\">\n         <li>\n          <a href=\"https://www.europapress.es/contacto/\" title=\"Contacto\">\n           Contacto\n          </a>\n         </li>\n         <li>\n          <a href=\"https://www.europapress.es/avisolegal.html\" title=\"Aviso legal\">\n           Aviso legal\n          </a>\n         </li>\n         <li class=\"relativo\">\n          <a href=\"#\" id=\"desplegable-enlace\" title=\"Cumplimiento normativo\">\n           Cumplimiento normativo\n           <span class=\"arrow_down\">\n           </span>\n          </a>\n          <div class=\"submenu\">\n           <div class=\"arrow\">\n           </div>\n           <ul>\n            <li>\n             <a href=\"https://www.europapress.es/codigo-etico/\" title=\"Código de conducta\">\n              Código de conducta\n             </a>\n             <li>\n              <a href=\"https://www.europapress.es/canal-denuncias/\" title=\"Canal de denuncias\">\n               Canal de denuncias\n              </a>\n             </li>\n            </li>\n           </ul>\n          </div>\n         </li>\n         <li>\n          <a href=\"https://www.europapress.es/productos/\" title=\"Catálogo\">\n           Catálogo\n          </a>\n         </li>\n         <li>\n          <a href=\"https://www.europapress.es/politica-cookies.html\" title=\"Política de Cookies\">\n           Política de Cookies\n          </a>\n         </li>\n         <li>\n          <a href=\"https://www.europapress.es/politica-privacidad.html\" title=\"Política de Privacidad\">\n           Política de Privacidad\n          </a>\n         </li>\n         <li>\n          <a href=\"https://www.europapress.es/mapa-web/\" title=\"Mapa Web Europa Press\">\n           Mapa Web\n          </a>\n         </li>\n         <li>\n          <a href=\"https://www.europapress.es/temas/listado/a/\" title=\"Temas\">\n           Temas\n          </a>\n         </li>\n         <li>\n         </li>\n        </ul>\n        <div class=\"textoDivLogo\" id=\"ctl00_Pie_2014_textoDivPie\">\n         <p>\n          Portal de actualidad y noticias de la Agencia Europa Press.\n         </p>\n        </div>\n       </div>\n      </div>\n     </div>\n     <p class=\"pieCopyright copyright-europapress\">\n      © 2020 Europa Press. Está expresamente prohibida la redistribución y la redifusión de todo\n    o parte de los contenidos de esta web sin su previo y expreso consentimiento.\n     </p>\n    </div>\n   </div>\n  </footer>\n  <script type=\"text/javascript\">\n   var t = '//des.smartclip.net/ads?type=dyn&plc=92978&sz=400x320&elementId=intextsmartclip';\n            t += '&ref=' + encodeURIComponent(window.top.document.URL);\n            t += '&rnd=' + Math.round(Math.random() * 1e8);\n            var s = document.createElement('script');\n            s.type = 'text/javascript';\n            s.src = t;\n            document.body.appendChild(s);\n  </script>\n  <script type=\"text/javascript\">\n   window._taboola = window._taboola || []; _taboola.push({flush: true});\n  </script>\n  <script type=\"text/javascript\">\n   var entra = true;\n        var usagent = navigator.userAgent.toLowerCase();\n\n        $(\".bannerBajoMasLeido\").stick_in_parent({ parent: $(\".row.flex\"), offset_top: 80, spacer: '.wrapper-sticky' });\n  </script>\n  <style>\n   .wrapper-sticky {\n                flex: 1 0 auto;\n                position: relative;\n                width: 100%;\n                display: flex;\n                box-sizing: border-box;\n                padding: 0 .3125rem .625rem;\n            }\n  </style>\n  <script>\n   function AdBlockedMobile() {\n                //var epcachebuster = Math.round(new Date().getTime() / 1000);\n                //var bigbanner = document.getElementById('ctl00_PublicidadSuperior');\n                //if (bigbanner != null) {\n                //    var linkMega = 'https://www.tienesmirespeto.com/?utm_source=DISPLAY&utm_medium=smartclip&utm_campaign=beefeater_respect_fy19&utm_term=billboard&utm_content=smartclip';\n                //    var imgsrcMega = 'https://s01.europapress.net/publi/beefeater_20190511/980x200ana.gif';\n                //    var pixelMega = '<img src=\\'https://secure.insightexpressai.com/adServer/adServerESI.aspx?script=false&bannerID=4891500&rnd=' + epcachebuster + '&tag=img\\' width=\\'1\\' height=\\'1\\' alt=\\'pixelcounter\\' />';\n                //    var contentMega = '<div id=\\'megaep\\'><a href =\\'' + linkMega + '\\' onclick=\\'trackEventGA(\\'adblocker_980\\', \\'click\\');return true;\\'><img src=\\'' + imgsrcMega + '\\' width=\\'980\\' height=\\'200\\' alt=\\'Ana pide tu respeto. Descubre por qué\\' /></a>' + pixelMega + '</div>';\n                //    document.getElementById('ctl00_PublicidadSuperior').innerHTML += contentMega;\n                //    trackEventGA('adblocker_980', 'impression');\n                //}\n                //var roba1 = document.getElementsByClassName('wrapper-sticky');\n                //if (roba1 != null && roba1.length > 0) {\n                //    var linkRoba1 = 'https://promociones.malibu.es/?utm_source=DISPLAY&utm_medium=SMARTCLIP&utm_campaign=MalibuGames19&utm_term=Connect%20Awareness%20local&utm_content=robapaginas';\n                //    var imgsrcRoba1 = 'https://s01.europapress.net/publi/malibu_20190716/mali.png';\n                //    var contentRoba1 = '<div id=\\'roba1ep\\' style=\\'width:300px;margin:0 auto 10px auto\\'><a href =\\'' + linkRoba1 + '\\' onclick=\\'trackEventGA(\\'adblocker_300\\', \\'click\\');return true;\\'><img src=\\'' + imgsrcRoba1 + '\\' width=\\'300\\' height=\\'250\\' /></a></div>';\n                //    document.getElementsByClassName('wrapper-sticky')[0].innerHTML = contentRoba1 + document.getElementsByClassName('wrapper-sticky')[0].innerHTML;\n                //    trackEventGA('adblocker_300', 'impression');\n                //}\n\n            }\n\n\n            $(function () {\n                function hasAdblock() { var t = document.createElement('div'); t.innerHTML = '&nbsp;', t.className = 'adsbox pub_300x250 pub_300x250m pub_728x90 text-ad textAd text_ad text_ads text-ads adglare-ad-server text-ad-links'; var e = !(t.style = 'width: 1px !important; height: 1px !important; position: absolute !important; left: -10000px !important; top: -1000px !important;'); try { document.body.appendChild(t); var a = document.getElementsByClassName('adsbox')[0]; if (0 !== a.offsetHeight && 0 !== a.clientHeight || (e = !0), void 0 !== window.getComputedStyle) { var d = window.getComputedStyle(a, null); !d || 'none' != d.getPropertyValue('display') && 'hidden' != d.getPropertyValue('visibility') || (e = !0) } document.body.removeChild(t) } catch (a) { } return e }\n\n                if (hasAdblock()) { AdBlockedMobile() }\n            });\n  </script>\n  <!--Código HTML de política de cookies -->\n  <!-- Fin del código de cookies -->\n  <!-- ad6 -->\n  <div id=\"div-gpt-id-Footer_Publi\">\n   <script type=\"text/javascript\">\n    googletag.cmd.push(function() { googletag.display('div-gpt-id-Footer_Publi'); });\n   </script>\n  </div>\n  <!-- ad6 -->\n </body>\n</html>\n\n"
    }
   ],
   "source": [
    "print(soup_6.prettify())"
   ]
  },
  {
   "cell_type": "code",
   "execution_count": 1299,
   "metadata": {},
   "outputs": [
    {
     "output_type": "execute_result",
     "data": {
      "text/plain": "[<p id=\"ctl00_NavegacionFixed_MenuHome\">Menú</p>,\n <p id=\"AbonadosEP\">Abonados</p>,\n <p>MADRID, 10 Feb. (EUROPA PRESS) - </p>,\n <p itemprop=\"description\">   La Comunidad de Madrid ha conseguido su mejor cifra histórica en la campaña frente a la gripe con 1.107.000 personas vacunadas en la región, lo que supone un 6 por ciento más respecto a la campaña anterior, según ha indicado este lunes el consejero de Sanidad, Enrique Ruiz Escudero.</p>,\n <p>   Durante una visita al centro de salud de Almendrales, Escudero ha señalado que de esta cifra el 60 por ciento corresponde a mayores de 65 años, un 9,5 por ciento entre la franja de 60 a 64 años y el restante 30,5 por ciento se reparte en el segmento de población entre seis meses y 59 años.</p>,\n <p>   El titular de la Consejería de Sanidad ha agradecido \"su esfuerzo e implicación\" en la campaña de vacunación antigripal, mediante un mensaje que ha aparecido hoy en formato pop-up en todos los ordenadores de la red madrileña de salud.</p>,\n <p>   Ruiz Escudero ha acudido a este centro de salud para reconocer la labor de los profesionales de Atención Primaria y de Salud Pública en la vacunación frente a la gripe, así como el trabajo de vigilancia y detección del virus gripal que llevan a cabo los 135 médicos de la Red de Médicos Centinela, dos de los cuales trabajan en este Centro.</p>,\n <p>   Respecto a la incidencia de la gripe, ha señalado que la semana pasada se logró la tasa más alta en cuatro años con 307,9 casos por cada 100.000 habitantes, si bien estima que el pico de incidencia de la enfermedad se haya superado y que los datos que se difundirán mañana martes reflejen que los índices de afectados por la gripe caiga.</p>,\n <p>   Allí, ha recordado que la Comunidad de Madrid ha invertido 4.716.400 euros en la adquisición de 1.250.000 dosis de vacunas frente a la gripe en esta campaña, que se han distribuido en los 430 dispositivos de Atención Primaria de la Comunidad de Madrid y, en total, en más de 700 puntos de vacunación.</p>,\n <p>   La plantilla de Enfermería de los centros de salud de la Comunidad de Madrid asciende a 3.535 profesionales, que es la encargada de administrar la vacuna. En este punto, Escudero les ha felicitado por la labor de información y concienciación que realizan para aumentar a la población vacunada frente a la gripe estacional.</p>,\n <p>   Hasta la fecha, se han administrado 1.107.000 vacunas, es decir, más de 58.000 dosis con respecto a la temporada pasada (1.048.720), y la cobertura vacunal ha aumentado en todos los tramos de edad, destacando el de 6 meses a 59 años, que responde a pacientes con enfermedades crónicas, uno de los grupos de riesgo a los que se dirige la vacunación.</p>,\n <p>   Asimismo, la Dirección General de Salud Pública ha desarrollado en esta temporada 2019/20 una serie de iniciativas para incentivar la vacunación antigripal, como el envío de 900.000 mensajes SMS a personas de los grupos de riesgo para recordar la conveniencia de la vacunación, así como la edición de nuevos materiales informativos: 5.900 carteles dirigidos a fomentar la vacunación en embarazadas, personal sanitario y enfermos crónicos; 45.000 folletos para la población en general, y documentos técnicos para los profesionales sanitarios.</p>,\n <p>   También se ha desarrollado un programa de actuaciones para favorecer la vacunación específicamente entre los sanitarios, como la primera convocatoria de un premio a los hospitales con mayores coberturas entre su personal o la financiación de un proyecto solidario por parte del Laboratorio que suministra la vacuna en función de las dosis que se administren.</p>,\n <p>   A su vez, se reconocerá a los centros de salud con mejores coberturas vacunales, iniciativas que se darán a conocer próximamente.</p>,\n <p>   La Dirección General de Salud Pública de la Comunidad de Madrid elabora un informe semanal que contempla la incidencia y características clínicas y microbiológicas de la gripe estacional en la región, es decir, la vigilancia y detección epidémica del virus.</p>,\n <p>   Se entiende que existe epidemia cuando se observa mayor incidencia o circulación del virus gripal al sobrepasarse el umbral epidémico, que esta temporada se ha establecido en 38 casos por cada 100.000 habitantes.</p>,\n <p>   La información se obtiene con la Red de Médicos Centinela, creada en 1991, y que coordina el Servicio de Epidemiología. La Red está formada, de manera voluntaria, por 135 médicos de los Centros de Salud de la Comunidad de Madrid --médicos de familia y pediatras-- que atiende a una población representativa de la región (197.940 habitantes, el 3% de la población).</p>,\n <p class=\"enlacenoticia_titular\">\n                 Metro comienza sus trabajos en la estación de Gran Vía, que se espera pueda reabrir en 2021\n             </p>,\n <p class=\"enlacenoticia_titular\">\n                 Vecinos de Centro piden a Almeida un \"proyecto digno\" para peatonalizar Sol porque temen que sea un \"parque temático\"\n             </p>,\n <p class=\"enlacenoticia_titular\">\n                 PSOE pide la comparecencia de Ossorio en la Asamblea para \"salvaguardar el inicio del curso escolar\"\n             </p>,\n <p class=\"masleidastexto extrawidth\">Concentración en Madrid contra el uso de mascarilla obligatorio con asistentes que tildan de \"farsa\" la pandemia</p>,\n <p class=\"masleidastexto extrawidth\">Unidas Podemos denuncia el \"acoso\" a Pablo Iglesias e Irene Montero en sus vacaciones en Asturias</p>,\n <p class=\"masleidastexto extrawidth\">Miguel Bosé, con mascarilla después de criticar su uso y animar a sus fans a no llevarla</p>,\n <p class=\"masleidastexto extrawidth\">Matrix 4: Laurence Fishburne (Morfeo) explica por qué no estará en la secuela</p>,\n <p class=\"masleidastexto extrawidth\">Investigada en Toledo por tener abandonados a 41 perros, 29 de los cuales recibieron suero para sobrevivir</p>,\n <p class=\"hgpfm-image-hed\">Concentración en Madrid contra el uso de mascarilla obligatorio con asistentes que tildan de \"farsa\" la pandemia</p>,\n <p class=\"hgpfm-image-hed\">Unidas Podemos denuncia el \"acoso\" a Pablo Iglesias e Irene Montero en sus vacaciones en Asturias</p>,\n <p class=\"hgpfm-image-hed\">Miguel Bosé, con mascarilla después de criticar su uso y animar a sus fans a no llevarla</p>,\n <p>Portal de actualidad y noticias de la Agencia Europa Press.</p>,\n <p class=\"pieCopyright copyright-europapress\">\n     © 2020 Europa Press. Está expresamente prohibida la redistribución y la redifusión de todo\n     o parte de los contenidos de esta web sin su previo y expreso consentimiento.\n </p>]"
     },
     "metadata": {},
     "execution_count": 1299
    }
   ],
   "source": [
    "dir_1=soup_6.find_all(\"p\")\n",
    "dir_1"
   ]
  },
  {
   "cell_type": "code",
   "execution_count": 1300,
   "metadata": {},
   "outputs": [
    {
     "output_type": "execute_result",
     "data": {
      "text/plain": "<strong>1.107.000 personas vacunadas </strong>"
     },
     "metadata": {},
     "execution_count": 1300
    }
   ],
   "source": [
    "datos_1=dir_1[4]\n",
    "datos1"
   ]
  },
  {
   "cell_type": "code",
   "execution_count": 1301,
   "metadata": {},
   "outputs": [],
   "source": [
    "soup7=datos_1"
   ]
  },
  {
   "cell_type": "code",
   "execution_count": 1302,
   "metadata": {
    "tags": []
   },
   "outputs": [
    {
     "output_type": "stream",
     "name": "stdout",
     "text": "<class 'bs4.element.Tag'>\n"
    }
   ],
   "source": [
    "print(type(soup7))"
   ]
  },
  {
   "cell_type": "code",
   "execution_count": 1303,
   "metadata": {},
   "outputs": [],
   "source": [
    "from bs4 import BeautifulSoup, NavigableString, Tag\n",
    "for p in soup7:\n",
    "    if isinstance(p, NavigableString):\n",
    "        continue\n",
    "    if isinstance(p, Tag):\n",
    "        print(p)"
   ]
  },
  {
   "cell_type": "code",
   "execution_count": 1304,
   "metadata": {},
   "outputs": [
    {
     "output_type": "execute_result",
     "data": {
      "text/plain": "'   Durante una visita al centro de salud de Almendrales, Escudero ha señalado que de esta cifra el 60 por ciento corresponde a mayores de 65 años, un 9,5 por ciento entre la franja de 60 a 64 años y el restante 30,5 por ciento se reparte en el segmento de población entre seis meses y 59 años.'"
     },
     "metadata": {},
     "execution_count": 1304
    }
   ],
   "source": [
    "soup7=p\n",
    "soup7"
   ]
  },
  {
   "cell_type": "code",
   "execution_count": 1305,
   "metadata": {},
   "outputs": [],
   "source": [
    "mayor_65=str(soup7)"
   ]
  },
  {
   "cell_type": "code",
   "execution_count": 1306,
   "metadata": {},
   "outputs": [
    {
     "output_type": "execute_result",
     "data": {
      "text/plain": "'60'"
     },
     "metadata": {},
     "execution_count": 1306
    }
   ],
   "source": [
    "mayor_65=mayor_65[99:101]\n",
    "mayor_65"
   ]
  },
  {
   "cell_type": "code",
   "execution_count": 1307,
   "metadata": {},
   "outputs": [
    {
     "output_type": "execute_result",
     "data": {
      "text/plain": "60"
     },
     "metadata": {},
     "execution_count": 1307
    }
   ],
   "source": [
    "valor_mayor_65=int(mayor_65)\n",
    "valor_mayor_65"
   ]
  },
  {
   "cell_type": "code",
   "execution_count": 1308,
   "metadata": {},
   "outputs": [],
   "source": [
    "de_60_64=str(soup7)"
   ]
  },
  {
   "cell_type": "code",
   "execution_count": 1309,
   "metadata": {},
   "outputs": [
    {
     "output_type": "execute_result",
     "data": {
      "text/plain": "'9,5 '"
     },
     "metadata": {},
     "execution_count": 1309
    }
   ],
   "source": [
    "de_60_64=de_60_64[150:154]\n",
    "de_60_64"
   ]
  },
  {
   "cell_type": "code",
   "execution_count": 1310,
   "metadata": {},
   "outputs": [],
   "source": [
    "de_60_64= re.sub('[,]', '', de_60_64) "
   ]
  },
  {
   "cell_type": "code",
   "execution_count": 1311,
   "metadata": {},
   "outputs": [
    {
     "output_type": "execute_result",
     "data": {
      "text/plain": "9.5"
     },
     "metadata": {},
     "execution_count": 1311
    }
   ],
   "source": [
    "de_60_64=int(float(de_60_64))/10\n",
    "de_60_64"
   ]
  },
  {
   "cell_type": "code",
   "execution_count": 1312,
   "metadata": {},
   "outputs": [],
   "source": [
    "de_6m_59=str(soup7)"
   ]
  },
  {
   "cell_type": "code",
   "execution_count": 1313,
   "metadata": {},
   "outputs": [
    {
     "output_type": "execute_result",
     "data": {
      "text/plain": "'30,5'"
     },
     "metadata": {},
     "execution_count": 1313
    }
   ],
   "source": [
    "de_6m_59=de_6m_59[211:215]\n",
    "de_6m_59"
   ]
  },
  {
   "cell_type": "code",
   "execution_count": 1314,
   "metadata": {},
   "outputs": [],
   "source": [
    "de_6m_59=re.sub('[,]','',de_6m_59) "
   ]
  },
  {
   "cell_type": "code",
   "execution_count": 1315,
   "metadata": {},
   "outputs": [
    {
     "output_type": "execute_result",
     "data": {
      "text/plain": "30.5"
     },
     "metadata": {},
     "execution_count": 1315
    }
   ],
   "source": [
    "de_6m_59=int(float(de_6m_59))/10\n",
    "de_6m_59"
   ]
  },
  {
   "cell_type": "code",
   "execution_count": 1316,
   "metadata": {},
   "outputs": [
    {
     "output_type": "execute_result",
     "data": {
      "text/plain": "[30.5, 9.5, 60]"
     },
     "metadata": {},
     "execution_count": 1316
    }
   ],
   "source": [
    "porcentajes=[de_6m_59,de_60_64,valor_mayor_65,]\n",
    "porcentajes"
   ]
  },
  {
   "cell_type": "code",
   "execution_count": 1317,
   "metadata": {},
   "outputs": [],
   "source": [
    "porcentaje_edades=[\"% Desde 6 meses a 59 años\",\"% De 60 a 64 años\",\"% Mayores 65\"]"
   ]
  },
  {
   "cell_type": "code",
   "execution_count": 1456,
   "metadata": {},
   "outputs": [
    {
     "output_type": "execute_result",
     "data": {
      "text/plain": "{'% Desde 6 meses a 59 años': [30.5],\n '% De 60 a 64 años': [9.5],\n '% Mayores 65': [60]}"
     },
     "metadata": {},
     "execution_count": 1456
    }
   ],
   "source": [
    "data3={porcentaje_edades[0]:[de_6m_59],porcentaje_edades[1]:[de_60_64],porcentaje_edades[2]:[valor_mayor_65]}\n",
    "data3"
   ]
  },
  {
   "cell_type": "code",
   "execution_count": 1457,
   "metadata": {},
   "outputs": [],
   "source": [
    "vacunacion_edades=pd.DataFrame(data3)"
   ]
  },
  {
   "cell_type": "code",
   "execution_count": 1458,
   "metadata": {},
   "outputs": [
    {
     "output_type": "execute_result",
     "data": {
      "text/plain": "                                              % Desde 6 meses a 59 años  \\\nResidentes CAM grupos vacunación % vacunados                       30.5   \n\n                                              % De 60 a 64 años  % Mayores 65  \nResidentes CAM grupos vacunación % vacunados                9.5            60  ",
      "text/html": "<div>\n<style scoped>\n    .dataframe tbody tr th:only-of-type {\n        vertical-align: middle;\n    }\n\n    .dataframe tbody tr th {\n        vertical-align: top;\n    }\n\n    .dataframe thead th {\n        text-align: right;\n    }\n</style>\n<table border=\"1\" class=\"dataframe\">\n  <thead>\n    <tr style=\"text-align: right;\">\n      <th></th>\n      <th>% Desde 6 meses a 59 años</th>\n      <th>% De 60 a 64 años</th>\n      <th>% Mayores 65</th>\n    </tr>\n  </thead>\n  <tbody>\n    <tr>\n      <th>Residentes CAM grupos vacunación % vacunados</th>\n      <td>30.5</td>\n      <td>9.5</td>\n      <td>60</td>\n    </tr>\n  </tbody>\n</table>\n</div>"
     },
     "metadata": {},
     "execution_count": 1458
    }
   ],
   "source": [
    "vacunacion_edades.rename(index={0:'Residentes CAM grupos vacunación % vacunados'})"
   ]
  },
  {
   "cell_type": "code",
   "execution_count": 1321,
   "metadata": {},
   "outputs": [],
   "source": [
    "name=\"residentes_edad.csv\""
   ]
  },
  {
   "cell_type": "code",
   "execution_count": 1322,
   "metadata": {},
   "outputs": [],
   "source": [
    "resident_age=pd.read_csv(name,sep=\";\")\n"
   ]
  },
  {
   "cell_type": "code",
   "execution_count": 1323,
   "metadata": {},
   "outputs": [],
   "source": [
    "resident_age1=resident_age.loc[:,[\"rango_edad\",\"municipio_nombre\",\"poblacion_empadronada\"]]"
   ]
  },
  {
   "cell_type": "code",
   "execution_count": 1324,
   "metadata": {},
   "outputs": [
    {
     "output_type": "execute_result",
     "data": {
      "text/plain": "             rango_edad municipio_nombre  poblacion_empadronada\n0         De 0 a 4 años     Acebeda (La)                      0\n1       De 05 a 09 años     Acebeda (La)                      1\n2       De 10 a 14 años     Acebeda (La)                      0\n3       De 15 a 19 años     Acebeda (La)                      1\n4       De 20 a 24 años     Acebeda (La)                      0\n...                 ...              ...                    ...\n7513    De 80 a 84 años        Zarzalejo                     24\n7514    De 85 a 89 años        Zarzalejo                     24\n7515    De 90 a 94 años        Zarzalejo                     15\n7516    De 95 a 99 años        Zarzalejo                      0\n7517  De 100 y más años        Zarzalejo                      4\n\n[7518 rows x 3 columns]",
      "text/html": "<div>\n<style scoped>\n    .dataframe tbody tr th:only-of-type {\n        vertical-align: middle;\n    }\n\n    .dataframe tbody tr th {\n        vertical-align: top;\n    }\n\n    .dataframe thead th {\n        text-align: right;\n    }\n</style>\n<table border=\"1\" class=\"dataframe\">\n  <thead>\n    <tr style=\"text-align: right;\">\n      <th></th>\n      <th>rango_edad</th>\n      <th>municipio_nombre</th>\n      <th>poblacion_empadronada</th>\n    </tr>\n  </thead>\n  <tbody>\n    <tr>\n      <th>0</th>\n      <td>De 0 a 4 años</td>\n      <td>Acebeda (La)</td>\n      <td>0</td>\n    </tr>\n    <tr>\n      <th>1</th>\n      <td>De 05 a 09 años</td>\n      <td>Acebeda (La)</td>\n      <td>1</td>\n    </tr>\n    <tr>\n      <th>2</th>\n      <td>De 10 a 14 años</td>\n      <td>Acebeda (La)</td>\n      <td>0</td>\n    </tr>\n    <tr>\n      <th>3</th>\n      <td>De 15 a 19 años</td>\n      <td>Acebeda (La)</td>\n      <td>1</td>\n    </tr>\n    <tr>\n      <th>4</th>\n      <td>De 20 a 24 años</td>\n      <td>Acebeda (La)</td>\n      <td>0</td>\n    </tr>\n    <tr>\n      <th>...</th>\n      <td>...</td>\n      <td>...</td>\n      <td>...</td>\n    </tr>\n    <tr>\n      <th>7513</th>\n      <td>De 80 a 84 años</td>\n      <td>Zarzalejo</td>\n      <td>24</td>\n    </tr>\n    <tr>\n      <th>7514</th>\n      <td>De 85 a 89 años</td>\n      <td>Zarzalejo</td>\n      <td>24</td>\n    </tr>\n    <tr>\n      <th>7515</th>\n      <td>De 90 a 94 años</td>\n      <td>Zarzalejo</td>\n      <td>15</td>\n    </tr>\n    <tr>\n      <th>7516</th>\n      <td>De 95 a 99 años</td>\n      <td>Zarzalejo</td>\n      <td>0</td>\n    </tr>\n    <tr>\n      <th>7517</th>\n      <td>De 100 y más años</td>\n      <td>Zarzalejo</td>\n      <td>4</td>\n    </tr>\n  </tbody>\n</table>\n<p>7518 rows × 3 columns</p>\n</div>"
     },
     "metadata": {},
     "execution_count": 1324
    }
   ],
   "source": [
    "resident_age1['rango_edad']=resident_age1['rango_edad'].replace([\"De 5 a 9 años\"],\"De 05 a 09 años\")\n",
    "resident_age1\n",
    "#Hago un cambio de nombre en el valor de 5 a 9 años porque salía desordenado al tener un nombre con otro formato al resto."
   ]
  },
  {
   "cell_type": "code",
   "execution_count": 1325,
   "metadata": {},
   "outputs": [
    {
     "output_type": "execute_result",
     "data": {
      "text/plain": "             rango_edad municipio_nombre  poblacion_empadronada\n0         De 0 a 4 años     Acebeda (La)                      0\n1       De 05 a 09 años     Acebeda (La)                      1\n2       De 10 a 14 años     Acebeda (La)                      0\n3       De 15 a 19 años     Acebeda (La)                      1\n4       De 20 a 24 años     Acebeda (La)                      0\n...                 ...              ...                    ...\n7513    De 80 a 84 años        Zarzalejo                     24\n7514    De 85 a 89 años        Zarzalejo                     24\n7515    De 90 a 94 años        Zarzalejo                     15\n7516    De 95 a 99 años        Zarzalejo                      0\n7517  De 100 y más años        Zarzalejo                      4\n\n[7518 rows x 3 columns]",
      "text/html": "<div>\n<style scoped>\n    .dataframe tbody tr th:only-of-type {\n        vertical-align: middle;\n    }\n\n    .dataframe tbody tr th {\n        vertical-align: top;\n    }\n\n    .dataframe thead th {\n        text-align: right;\n    }\n</style>\n<table border=\"1\" class=\"dataframe\">\n  <thead>\n    <tr style=\"text-align: right;\">\n      <th></th>\n      <th>rango_edad</th>\n      <th>municipio_nombre</th>\n      <th>poblacion_empadronada</th>\n    </tr>\n  </thead>\n  <tbody>\n    <tr>\n      <th>0</th>\n      <td>De 0 a 4 años</td>\n      <td>Acebeda (La)</td>\n      <td>0</td>\n    </tr>\n    <tr>\n      <th>1</th>\n      <td>De 05 a 09 años</td>\n      <td>Acebeda (La)</td>\n      <td>1</td>\n    </tr>\n    <tr>\n      <th>2</th>\n      <td>De 10 a 14 años</td>\n      <td>Acebeda (La)</td>\n      <td>0</td>\n    </tr>\n    <tr>\n      <th>3</th>\n      <td>De 15 a 19 años</td>\n      <td>Acebeda (La)</td>\n      <td>1</td>\n    </tr>\n    <tr>\n      <th>4</th>\n      <td>De 20 a 24 años</td>\n      <td>Acebeda (La)</td>\n      <td>0</td>\n    </tr>\n    <tr>\n      <th>...</th>\n      <td>...</td>\n      <td>...</td>\n      <td>...</td>\n    </tr>\n    <tr>\n      <th>7513</th>\n      <td>De 80 a 84 años</td>\n      <td>Zarzalejo</td>\n      <td>24</td>\n    </tr>\n    <tr>\n      <th>7514</th>\n      <td>De 85 a 89 años</td>\n      <td>Zarzalejo</td>\n      <td>24</td>\n    </tr>\n    <tr>\n      <th>7515</th>\n      <td>De 90 a 94 años</td>\n      <td>Zarzalejo</td>\n      <td>15</td>\n    </tr>\n    <tr>\n      <th>7516</th>\n      <td>De 95 a 99 años</td>\n      <td>Zarzalejo</td>\n      <td>0</td>\n    </tr>\n    <tr>\n      <th>7517</th>\n      <td>De 100 y más años</td>\n      <td>Zarzalejo</td>\n      <td>4</td>\n    </tr>\n  </tbody>\n</table>\n<p>7518 rows × 3 columns</p>\n</div>"
     },
     "metadata": {},
     "execution_count": 1325
    }
   ],
   "source": [
    "resident_age1"
   ]
  },
  {
   "cell_type": "code",
   "execution_count": 1326,
   "metadata": {},
   "outputs": [
    {
     "output_type": "execute_result",
     "data": {
      "text/plain": "             rango_edad  poblacion_empadronada\n0         De 0 a 4 años                      0\n1         De 5 a 9 años                      1\n2       De 10 a 14 años                      0\n3       De 15 a 19 años                      1\n4       De 20 a 24 años                      0\n...                 ...                    ...\n7513    De 80 a 84 años                     24\n7514    De 85 a 89 años                     24\n7515    De 90 a 94 años                     15\n7516    De 95 a 99 años                      0\n7517  De 100 y más años                      4\n\n[7518 rows x 2 columns]",
      "text/html": "<div>\n<style scoped>\n    .dataframe tbody tr th:only-of-type {\n        vertical-align: middle;\n    }\n\n    .dataframe tbody tr th {\n        vertical-align: top;\n    }\n\n    .dataframe thead th {\n        text-align: right;\n    }\n</style>\n<table border=\"1\" class=\"dataframe\">\n  <thead>\n    <tr style=\"text-align: right;\">\n      <th></th>\n      <th>rango_edad</th>\n      <th>poblacion_empadronada</th>\n    </tr>\n  </thead>\n  <tbody>\n    <tr>\n      <th>0</th>\n      <td>De 0 a 4 años</td>\n      <td>0</td>\n    </tr>\n    <tr>\n      <th>1</th>\n      <td>De 5 a 9 años</td>\n      <td>1</td>\n    </tr>\n    <tr>\n      <th>2</th>\n      <td>De 10 a 14 años</td>\n      <td>0</td>\n    </tr>\n    <tr>\n      <th>3</th>\n      <td>De 15 a 19 años</td>\n      <td>1</td>\n    </tr>\n    <tr>\n      <th>4</th>\n      <td>De 20 a 24 años</td>\n      <td>0</td>\n    </tr>\n    <tr>\n      <th>...</th>\n      <td>...</td>\n      <td>...</td>\n    </tr>\n    <tr>\n      <th>7513</th>\n      <td>De 80 a 84 años</td>\n      <td>24</td>\n    </tr>\n    <tr>\n      <th>7514</th>\n      <td>De 85 a 89 años</td>\n      <td>24</td>\n    </tr>\n    <tr>\n      <th>7515</th>\n      <td>De 90 a 94 años</td>\n      <td>15</td>\n    </tr>\n    <tr>\n      <th>7516</th>\n      <td>De 95 a 99 años</td>\n      <td>0</td>\n    </tr>\n    <tr>\n      <th>7517</th>\n      <td>De 100 y más años</td>\n      <td>4</td>\n    </tr>\n  </tbody>\n</table>\n<p>7518 rows × 2 columns</p>\n</div>"
     },
     "metadata": {},
     "execution_count": 1326
    }
   ],
   "source": [
    "resident_age1=resident_age.loc[:,[\"rango_edad\",\"poblacion_empadronada\"]]\n",
    "resident_age1"
   ]
  },
  {
   "cell_type": "code",
   "execution_count": 1327,
   "metadata": {},
   "outputs": [],
   "source": [
    "resident_age1['rango_edad']=resident_age1['rango_edad'].replace([\"De 100 y más años\"],\"Mas de 100 años\")"
   ]
  },
  {
   "cell_type": "code",
   "execution_count": 1404,
   "metadata": {},
   "outputs": [
    {
     "output_type": "execute_result",
     "data": {
      "text/plain": "                 poblacion_empadronada\nrango_edad                            \nDe 0 a 4 años                   325451\nDe 10 a 14 años                 336154\nDe 15 a 19 años                 304387\nDe 20 a 24 años                 316900\nDe 25 a 29 años                 370969\nDe 30 a 34 años                 450790\nDe 35 a 39 años                 551876\nDe 40 a 44 años                 588300\nDe 45 a 49 años                 533317\nDe 5 a 9 años                   356381\nDe 50 a 54 años                 483307\nDe 55 a 59 años                 416997\nDe 60 a 64 años                 345868\nDe 65 a 69 años                 313424\nDe 70 a 74 años                 266412\nDe 75 a 79 años                 193793\nDe 80 a 84 años                 175087\nDe 85 a 89 años                 113456\nDe 90 a 94 años                  49880\nDe 95 a 99 años                  12352\nMas de 100 años                   2083",
      "text/html": "<div>\n<style scoped>\n    .dataframe tbody tr th:only-of-type {\n        vertical-align: middle;\n    }\n\n    .dataframe tbody tr th {\n        vertical-align: top;\n    }\n\n    .dataframe thead th {\n        text-align: right;\n    }\n</style>\n<table border=\"1\" class=\"dataframe\">\n  <thead>\n    <tr style=\"text-align: right;\">\n      <th></th>\n      <th>poblacion_empadronada</th>\n    </tr>\n    <tr>\n      <th>rango_edad</th>\n      <th></th>\n    </tr>\n  </thead>\n  <tbody>\n    <tr>\n      <th>De 0 a 4 años</th>\n      <td>325451</td>\n    </tr>\n    <tr>\n      <th>De 10 a 14 años</th>\n      <td>336154</td>\n    </tr>\n    <tr>\n      <th>De 15 a 19 años</th>\n      <td>304387</td>\n    </tr>\n    <tr>\n      <th>De 20 a 24 años</th>\n      <td>316900</td>\n    </tr>\n    <tr>\n      <th>De 25 a 29 años</th>\n      <td>370969</td>\n    </tr>\n    <tr>\n      <th>De 30 a 34 años</th>\n      <td>450790</td>\n    </tr>\n    <tr>\n      <th>De 35 a 39 años</th>\n      <td>551876</td>\n    </tr>\n    <tr>\n      <th>De 40 a 44 años</th>\n      <td>588300</td>\n    </tr>\n    <tr>\n      <th>De 45 a 49 años</th>\n      <td>533317</td>\n    </tr>\n    <tr>\n      <th>De 5 a 9 años</th>\n      <td>356381</td>\n    </tr>\n    <tr>\n      <th>De 50 a 54 años</th>\n      <td>483307</td>\n    </tr>\n    <tr>\n      <th>De 55 a 59 años</th>\n      <td>416997</td>\n    </tr>\n    <tr>\n      <th>De 60 a 64 años</th>\n      <td>345868</td>\n    </tr>\n    <tr>\n      <th>De 65 a 69 años</th>\n      <td>313424</td>\n    </tr>\n    <tr>\n      <th>De 70 a 74 años</th>\n      <td>266412</td>\n    </tr>\n    <tr>\n      <th>De 75 a 79 años</th>\n      <td>193793</td>\n    </tr>\n    <tr>\n      <th>De 80 a 84 años</th>\n      <td>175087</td>\n    </tr>\n    <tr>\n      <th>De 85 a 89 años</th>\n      <td>113456</td>\n    </tr>\n    <tr>\n      <th>De 90 a 94 años</th>\n      <td>49880</td>\n    </tr>\n    <tr>\n      <th>De 95 a 99 años</th>\n      <td>12352</td>\n    </tr>\n    <tr>\n      <th>Mas de 100 años</th>\n      <td>2083</td>\n    </tr>\n  </tbody>\n</table>\n</div>"
     },
     "metadata": {},
     "execution_count": 1404
    }
   ],
   "source": [
    "resident_age1=resident_age1.pivot_table('poblacion_empadronada', index='rango_edad',aggfunc=np.sum)\n",
    "resident_age1"
   ]
  },
  {
   "cell_type": "code",
   "execution_count": 1414,
   "metadata": {},
   "outputs": [
    {
     "output_type": "execute_result",
     "data": {
      "text/plain": "                 poblacion_empadronada\nrango_edad                            \nDe 0 a 4 años                   325451\nDe 10 a 14 años                 336154\nDe 15 a 19 años                 304387\nDe 20 a 24 años                 316900\nDe 25 a 29 años                 370969\nDe 30 a 34 años                 450790\nDe 35 a 39 años                 551876\nDe 40 a 44 años                 588300\nDe 45 a 49 años                 533317\nDe 5 a 9 años                   356381\nDe 50 a 54 años                 483307\nDe 55 a 59 años                 416997",
      "text/html": "<div>\n<style scoped>\n    .dataframe tbody tr th:only-of-type {\n        vertical-align: middle;\n    }\n\n    .dataframe tbody tr th {\n        vertical-align: top;\n    }\n\n    .dataframe thead th {\n        text-align: right;\n    }\n</style>\n<table border=\"1\" class=\"dataframe\">\n  <thead>\n    <tr style=\"text-align: right;\">\n      <th></th>\n      <th>poblacion_empadronada</th>\n    </tr>\n    <tr>\n      <th>rango_edad</th>\n      <th></th>\n    </tr>\n  </thead>\n  <tbody>\n    <tr>\n      <th>De 0 a 4 años</th>\n      <td>325451</td>\n    </tr>\n    <tr>\n      <th>De 10 a 14 años</th>\n      <td>336154</td>\n    </tr>\n    <tr>\n      <th>De 15 a 19 años</th>\n      <td>304387</td>\n    </tr>\n    <tr>\n      <th>De 20 a 24 años</th>\n      <td>316900</td>\n    </tr>\n    <tr>\n      <th>De 25 a 29 años</th>\n      <td>370969</td>\n    </tr>\n    <tr>\n      <th>De 30 a 34 años</th>\n      <td>450790</td>\n    </tr>\n    <tr>\n      <th>De 35 a 39 años</th>\n      <td>551876</td>\n    </tr>\n    <tr>\n      <th>De 40 a 44 años</th>\n      <td>588300</td>\n    </tr>\n    <tr>\n      <th>De 45 a 49 años</th>\n      <td>533317</td>\n    </tr>\n    <tr>\n      <th>De 5 a 9 años</th>\n      <td>356381</td>\n    </tr>\n    <tr>\n      <th>De 50 a 54 años</th>\n      <td>483307</td>\n    </tr>\n    <tr>\n      <th>De 55 a 59 años</th>\n      <td>416997</td>\n    </tr>\n  </tbody>\n</table>\n</div>"
     },
     "metadata": {},
     "execution_count": 1414
    }
   ],
   "source": [
    "resident_0_59=resident_age1.iloc[0:12]\n",
    "resident_0_59"
   ]
  },
  {
   "cell_type": "code",
   "execution_count": 1406,
   "metadata": {},
   "outputs": [
    {
     "output_type": "execute_result",
     "data": {
      "text/plain": "poblacion_empadronada    345868\nName: De 60 a 64 años, dtype: int64"
     },
     "metadata": {},
     "execution_count": 1406
    }
   ],
   "source": [
    "resident_60_64=resident_age1.iloc[12]\n",
    "resident_60_64"
   ]
  },
  {
   "cell_type": "code",
   "execution_count": 1407,
   "metadata": {},
   "outputs": [
    {
     "output_type": "execute_result",
     "data": {
      "text/plain": "                 poblacion_empadronada\nrango_edad                            \nDe 65 a 69 años                 313424\nDe 70 a 74 años                 266412\nDe 75 a 79 años                 193793\nDe 80 a 84 años                 175087\nDe 85 a 89 años                 113456\nDe 90 a 94 años                  49880\nDe 95 a 99 años                  12352\nMas de 100 años                   2083",
      "text/html": "<div>\n<style scoped>\n    .dataframe tbody tr th:only-of-type {\n        vertical-align: middle;\n    }\n\n    .dataframe tbody tr th {\n        vertical-align: top;\n    }\n\n    .dataframe thead th {\n        text-align: right;\n    }\n</style>\n<table border=\"1\" class=\"dataframe\">\n  <thead>\n    <tr style=\"text-align: right;\">\n      <th></th>\n      <th>poblacion_empadronada</th>\n    </tr>\n    <tr>\n      <th>rango_edad</th>\n      <th></th>\n    </tr>\n  </thead>\n  <tbody>\n    <tr>\n      <th>De 65 a 69 años</th>\n      <td>313424</td>\n    </tr>\n    <tr>\n      <th>De 70 a 74 años</th>\n      <td>266412</td>\n    </tr>\n    <tr>\n      <th>De 75 a 79 años</th>\n      <td>193793</td>\n    </tr>\n    <tr>\n      <th>De 80 a 84 años</th>\n      <td>175087</td>\n    </tr>\n    <tr>\n      <th>De 85 a 89 años</th>\n      <td>113456</td>\n    </tr>\n    <tr>\n      <th>De 90 a 94 años</th>\n      <td>49880</td>\n    </tr>\n    <tr>\n      <th>De 95 a 99 años</th>\n      <td>12352</td>\n    </tr>\n    <tr>\n      <th>Mas de 100 años</th>\n      <td>2083</td>\n    </tr>\n  </tbody>\n</table>\n</div>"
     },
     "metadata": {},
     "execution_count": 1407
    }
   ],
   "source": [
    "resident_mayor_65=resident_age1.iloc[13::]\n",
    "resident_mayor_65"
   ]
  },
  {
   "cell_type": "code",
   "execution_count": 1434,
   "metadata": {},
   "outputs": [
    {
     "output_type": "execute_result",
     "data": {
      "text/plain": "poblacion_empadronada    5034829\ndtype: int64"
     },
     "metadata": {},
     "execution_count": 1434
    }
   ],
   "source": [
    "d_1=resident_6_59.sum()\n",
    "pd.to_numeric(d_1)\n",
    "d_1"
   ]
  },
  {
   "cell_type": "code",
   "execution_count": 1446,
   "metadata": {},
   "outputs": [
    {
     "output_type": "execute_result",
     "data": {
      "text/plain": "5034829"
     },
     "metadata": {},
     "execution_count": 1446
    }
   ],
   "source": [
    "d_1=d_1[0]\n",
    "d_1"
   ]
  },
  {
   "cell_type": "code",
   "execution_count": 1435,
   "metadata": {},
   "outputs": [
    {
     "output_type": "execute_result",
     "data": {
      "text/plain": "345868"
     },
     "metadata": {},
     "execution_count": 1435
    }
   ],
   "source": [
    "d_2=resident_60_64.sum()\n",
    "pd.to_numeric(d_2)\n",
    "d_2"
   ]
  },
  {
   "cell_type": "code",
   "execution_count": 1436,
   "metadata": {},
   "outputs": [
    {
     "output_type": "execute_result",
     "data": {
      "text/plain": "poblacion_empadronada    1126487\ndtype: int64"
     },
     "metadata": {},
     "execution_count": 1436
    }
   ],
   "source": [
    "d_3=resident_mayor_65.sum()\n",
    "pd.to_numeric(d_3)\n",
    "d_3"
   ]
  },
  {
   "cell_type": "code",
   "execution_count": 1447,
   "metadata": {},
   "outputs": [
    {
     "output_type": "execute_result",
     "data": {
      "text/plain": "1126487"
     },
     "metadata": {},
     "execution_count": 1447
    }
   ],
   "source": [
    "d_3=d_3[0]\n",
    "d_3"
   ]
  },
  {
   "cell_type": "code",
   "execution_count": 1448,
   "metadata": {},
   "outputs": [],
   "source": [
    "padron_vacuna=[d_1,d_2,d_3]"
   ]
  },
  {
   "cell_type": "code",
   "execution_count": 1449,
   "metadata": {},
   "outputs": [],
   "source": [
    "edades_vacunacion=[\"De 0 a 59 años\",\"De 60 a 64 años\",\"Mayores de 65\"]"
   ]
  },
  {
   "cell_type": "code",
   "execution_count": 1450,
   "metadata": {},
   "outputs": [
    {
     "output_type": "execute_result",
     "data": {
      "text/plain": "{'De 0 a 59 años': [5034829],\n 'De 60 a 64 años': [345868],\n 'Mayores de 65': [1126487]}"
     },
     "metadata": {},
     "execution_count": 1450
    }
   ],
   "source": [
    "se_vacunan={edades_vacunacion[0]:[d_1],edades_vacunacion[1]:[d_2],edades_vacunacion[2]:[d_3]}\n",
    "se_vacunan"
   ]
  },
  {
   "cell_type": "code",
   "execution_count": 1453,
   "metadata": {},
   "outputs": [
    {
     "output_type": "execute_result",
     "data": {
      "text/plain": "   De 0 a 59 años  De 60 a 64 años  Mayores de 65\n0         5034829           345868        1126487",
      "text/html": "<div>\n<style scoped>\n    .dataframe tbody tr th:only-of-type {\n        vertical-align: middle;\n    }\n\n    .dataframe tbody tr th {\n        vertical-align: top;\n    }\n\n    .dataframe thead th {\n        text-align: right;\n    }\n</style>\n<table border=\"1\" class=\"dataframe\">\n  <thead>\n    <tr style=\"text-align: right;\">\n      <th></th>\n      <th>De 0 a 59 años</th>\n      <th>De 60 a 64 años</th>\n      <th>Mayores de 65</th>\n    </tr>\n  </thead>\n  <tbody>\n    <tr>\n      <th>0</th>\n      <td>5034829</td>\n      <td>345868</td>\n      <td>1126487</td>\n    </tr>\n  </tbody>\n</table>\n</div>"
     },
     "metadata": {},
     "execution_count": 1453
    }
   ],
   "source": [
    "vacunacion_gripe_edades=pd.DataFrame(se_vacunan)\n",
    "vacunacion_gripe_edades"
   ]
  },
  {
   "cell_type": "code",
   "execution_count": 1454,
   "metadata": {},
   "outputs": [
    {
     "output_type": "execute_result",
     "data": {
      "text/plain": "                                  De 0 a 59 años  De 60 a 64 años  \\\nResidentes CAM grupos vacunación         5034829           345868   \n\n                                  Mayores de 65  \nResidentes CAM grupos vacunación        1126487  ",
      "text/html": "<div>\n<style scoped>\n    .dataframe tbody tr th:only-of-type {\n        vertical-align: middle;\n    }\n\n    .dataframe tbody tr th {\n        vertical-align: top;\n    }\n\n    .dataframe thead th {\n        text-align: right;\n    }\n</style>\n<table border=\"1\" class=\"dataframe\">\n  <thead>\n    <tr style=\"text-align: right;\">\n      <th></th>\n      <th>De 0 a 59 años</th>\n      <th>De 60 a 64 años</th>\n      <th>Mayores de 65</th>\n    </tr>\n  </thead>\n  <tbody>\n    <tr>\n      <th>Residentes CAM grupos vacunación</th>\n      <td>5034829</td>\n      <td>345868</td>\n      <td>1126487</td>\n    </tr>\n  </tbody>\n</table>\n</div>"
     },
     "metadata": {},
     "execution_count": 1454
    }
   ],
   "source": [
    "vacunacion_gripe_edades.rename(index={0:'Residentes CAM grupos vacunación'})"
   ]
  },
  {
   "cell_type": "code",
   "execution_count": 1466,
   "metadata": {},
   "outputs": [
    {
     "output_type": "execute_result",
     "data": {
      "text/plain": "   De 0 a 59 años  De 60 a 64 años  Mayores de 65  % Desde 6 meses a 59 años  \\\n0       5034829.0         345868.0      1126487.0                        0.0   \n0             0.0              0.0            0.0                       30.5   \n\n   % De 60 a 64 años  % Mayores 65  \n0                0.0           0.0  \n0                9.5          60.0  ",
      "text/html": "<div>\n<style scoped>\n    .dataframe tbody tr th:only-of-type {\n        vertical-align: middle;\n    }\n\n    .dataframe tbody tr th {\n        vertical-align: top;\n    }\n\n    .dataframe thead th {\n        text-align: right;\n    }\n</style>\n<table border=\"1\" class=\"dataframe\">\n  <thead>\n    <tr style=\"text-align: right;\">\n      <th></th>\n      <th>De 0 a 59 años</th>\n      <th>De 60 a 64 años</th>\n      <th>Mayores de 65</th>\n      <th>% Desde 6 meses a 59 años</th>\n      <th>% De 60 a 64 años</th>\n      <th>% Mayores 65</th>\n    </tr>\n  </thead>\n  <tbody>\n    <tr>\n      <th>0</th>\n      <td>5034829.0</td>\n      <td>345868.0</td>\n      <td>1126487.0</td>\n      <td>0.0</td>\n      <td>0.0</td>\n      <td>0.0</td>\n    </tr>\n    <tr>\n      <th>0</th>\n      <td>0.0</td>\n      <td>0.0</td>\n      <td>0.0</td>\n      <td>30.5</td>\n      <td>9.5</td>\n      <td>60.0</td>\n    </tr>\n  </tbody>\n</table>\n</div>"
     },
     "metadata": {},
     "execution_count": 1466
    }
   ],
   "source": [
    "concated=pd.concat([vacunacion_gripe_edades,vacunacion_edades],axis=0)\n",
    "concated=concated.fillna(0)\n",
    "concated"
   ]
  },
  {
   "cell_type": "code",
   "execution_count": null,
   "metadata": {},
   "outputs": [],
   "source": []
  }
 ]
}