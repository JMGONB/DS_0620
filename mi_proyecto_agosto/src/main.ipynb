{
 "metadata": {
  "language_info": {
   "codemirror_mode": {
    "name": "ipython",
    "version": 3
   },
   "file_extension": ".py",
   "mimetype": "text/x-python",
   "name": "python",
   "nbconvert_exporter": "python",
   "pygments_lexer": "ipython3",
   "version": "3.8.3-final"
  },
  "orig_nbformat": 2,
  "kernelspec": {
   "name": "python_defaultSpec_1598787084511",
   "display_name": "Python 3.8.3 32-bit"
  }
 },
 "nbformat": 4,
 "nbformat_minor": 2,
 "cells": [
  {
   "cell_type": "code",
   "execution_count": 1,
   "metadata": {},
   "outputs": [],
   "source": [
    "import sys\n",
    "sys.path.append(\"../src/utils\")"
   ]
  },
  {
   "cell_type": "code",
   "execution_count": 2,
   "metadata": {},
   "outputs": [],
   "source": [
    "import os,sys\n",
    "sys.path.append(\"../src/utils\")\n",
    "import numpy as np\n",
    "import pandas as pd\n",
    "from flask import Flask, render_template, redirect, request, jsonify \n",
    "import json\n",
    "from matplotlib import pyplot as plt\n",
    "import seaborn as sns\n",
    "from api import server\n",
    "from utils import apis_tb, folders_tb, mining_data_tb, visualization_tb\n",
    "import mining_data_tb\n",
    "import re\n",
    "import requests\n",
    "import folders_tb as ft\n",
    "import folders_tb as folders\n",
    "from bs4 import BeautifulSoup\n",
    "from bs4 import NavigableString, Tag\n",
    "import urllib\n",
    "import visualization_tb as vsn"
   ]
  },
  {
   "cell_type": "code",
   "execution_count": 3,
   "metadata": {},
   "outputs": [],
   "source": [
    "   # Llamada funcion abrir csv\n",
    "   csv_df=ft.read_open(name=\"residentes_edad.csv\")\n",
    "    "
   ]
  },
  {
   "cell_type": "code",
   "execution_count": 4,
   "metadata": {},
   "outputs": [],
   "source": [
    "#llamadas a las funciones para abrir urls"
   ]
  },
  {
   "cell_type": "code",
   "execution_count": 5,
   "metadata": {},
   "outputs": [],
   "source": [
    "soup=ft.read_url(url=\"https://www.consalud.es/autonomias/c-madrid/comunidad-madrid-logra-dato-campana-gripe-1107000-vacunados_74077_102.html\")"
   ]
  },
  {
   "cell_type": "code",
   "execution_count": 6,
   "metadata": {},
   "outputs": [],
   "source": [
    "soup_6=ft.url_read(url_2=\"https://www.europapress.es/madrid/noticia-comunidad-logra-mejor-campana-vacunacion-frente-gripe-mas-11-millones-madrilenos-mas-20200210135909.html\")"
   ]
  },
  {
   "cell_type": "code",
   "execution_count": 7,
   "metadata": {},
   "outputs": [],
   "source": [
    "soup_8=ft.open_url(url_3=\"https://www.goal.com/es/noticias/cuanto-cuesta-vacuna-covid-19/1d0ngem2skf521hey98yr7shru\")"
   ]
  },
  {
   "cell_type": "code",
   "execution_count": 8,
   "metadata": {},
   "outputs": [],
   "source": [
    "#Quitar puntos de una cadena"
   ]
  },
  {
   "cell_type": "code",
   "execution_count": 9,
   "metadata": {},
   "outputs": [],
   "source": [
    "\n",
    "datos=soup.find_all(\"strong\")\n",
    "datos1=datos[2]\n",
    "soup=datos1\n",
    "text1=str(soup)\n",
    "text1_text=text1[8:17]\n"
   ]
  },
  {
   "cell_type": "code",
   "execution_count": 10,
   "metadata": {},
   "outputs": [],
   "source": [
    "text=mining_data_tb.quitar_puntos(text1_text)"
   ]
  },
  {
   "cell_type": "code",
   "execution_count": 11,
   "metadata": {},
   "outputs": [],
   "source": [
    "datos2=datos[6]\n",
    "soup1=datos2\n",
    "text2=str(soup1)\n",
    "text2_text=text2[22:31]\n"
   ]
  },
  {
   "cell_type": "code",
   "execution_count": 12,
   "metadata": {},
   "outputs": [],
   "source": [
    "text=mining_data_tb.quitar_puntos(text2_text)"
   ]
  },
  {
   "cell_type": "code",
   "execution_count": 13,
   "metadata": {},
   "outputs": [],
   "source": [
    "text4_text=text2[59:68]\n",
    "text=mining_data_tb.quitar_puntos(text4_text)"
   ]
  },
  {
   "cell_type": "code",
   "execution_count": 14,
   "metadata": {},
   "outputs": [],
   "source": [
    "dir_1=soup_6.find_all(\"p\")\n",
    "datos_1=dir_1[4]\n",
    "soup7=datos_1\n",
    "de_60_64=str(soup7)\n",
    "de_60_64=de_60_64[150:154]\n"
   ]
  },
  {
   "cell_type": "code",
   "execution_count": 15,
   "metadata": {},
   "outputs": [],
   "source": [
    "text=mining_data_tb.quitar_puntos(de_60_64)"
   ]
  },
  {
   "cell_type": "code",
   "execution_count": 16,
   "metadata": {},
   "outputs": [],
   "source": [
    "de_6m_59=str(soup7)\n",
    "de_6m_59=de_6m_59[211:215]\n",
    "text=mining_data_tb.quitar_puntos(de_6m_59)"
   ]
  },
  {
   "cell_type": "code",
   "execution_count": 17,
   "metadata": {},
   "outputs": [],
   "source": [
    "#seleccionar texto de una cadena"
   ]
  },
  {
   "cell_type": "code",
   "execution_count": 18,
   "metadata": {},
   "outputs": [
    {
     "output_type": "error",
     "ename": "TypeError",
     "evalue": "'builtin_function_or_method' object is not subscriptable",
     "traceback": [
      "\u001b[1;31m---------------------------------------------------------------------------\u001b[0m",
      "\u001b[1;31mTypeError\u001b[0m                                 Traceback (most recent call last)",
      "\u001b[1;32m<ipython-input-18-dee238c6a651>\u001b[0m in \u001b[0;36m<module>\u001b[1;34m\u001b[0m\n\u001b[1;32m----> 1\u001b[1;33m \u001b[0mmedicos1\u001b[0m\u001b[1;33m=\u001b[0m\u001b[0mdir\u001b[0m\u001b[1;33m[\u001b[0m\u001b[1;36m8\u001b[0m\u001b[1;33m]\u001b[0m\u001b[1;33m\u001b[0m\u001b[1;33m\u001b[0m\u001b[0m\n\u001b[0m\u001b[0;32m      2\u001b[0m \u001b[0msoup4\u001b[0m\u001b[1;33m=\u001b[0m\u001b[0mmedicos1\u001b[0m\u001b[1;33m\u001b[0m\u001b[1;33m\u001b[0m\u001b[0m\n\u001b[0;32m      3\u001b[0m \u001b[0mptos_vac\u001b[0m\u001b[1;33m=\u001b[0m\u001b[0mstr\u001b[0m\u001b[1;33m(\u001b[0m\u001b[0msoup4\u001b[0m\u001b[1;33m)\u001b[0m\u001b[1;33m\u001b[0m\u001b[1;33m\u001b[0m\u001b[0m\n\u001b[0;32m      4\u001b[0m \u001b[0mptos_vac1\u001b[0m\u001b[1;33m=\u001b[0m\u001b[0mptos_vac\u001b[0m\u001b[1;33m[\u001b[0m\u001b[1;36m272\u001b[0m\u001b[1;33m:\u001b[0m\u001b[1;36m275\u001b[0m\u001b[1;33m]\u001b[0m\u001b[1;33m\u001b[0m\u001b[1;33m\u001b[0m\u001b[0m\n",
      "\u001b[1;31mTypeError\u001b[0m: 'builtin_function_or_method' object is not subscriptable"
     ]
    }
   ],
   "source": [
    "medicos1=dir[8]\n",
    "soup4=medicos1\n",
    "ptos_vac=str(soup4)\n",
    "ptos_vac1=ptos_vac[272:275]"
   ]
  },
  {
   "cell_type": "code",
   "execution_count": 19,
   "metadata": {},
   "outputs": [
    {
     "output_type": "error",
     "ename": "NameError",
     "evalue": "name 'ptos_vac1' is not defined",
     "traceback": [
      "\u001b[1;31m---------------------------------------------------------------------------\u001b[0m",
      "\u001b[1;31mNameError\u001b[0m                                 Traceback (most recent call last)",
      "\u001b[1;32m<ipython-input-19-0afe1270d9a1>\u001b[0m in \u001b[0;36m<module>\u001b[1;34m\u001b[0m\n\u001b[1;32m----> 1\u001b[1;33m \u001b[0mresultado\u001b[0m\u001b[1;33m=\u001b[0m\u001b[0mmining_data_tb\u001b[0m\u001b[1;33m.\u001b[0m\u001b[0mseleccion_str\u001b[0m\u001b[1;33m(\u001b[0m\u001b[0mtext\u001b[0m\u001b[1;33m=\u001b[0m\u001b[0mptos_vac1\u001b[0m\u001b[1;33m,\u001b[0m\u001b[0mcol1\u001b[0m\u001b[1;33m=\u001b[0m\u001b[1;36m272\u001b[0m\u001b[1;33m,\u001b[0m\u001b[0mcol2\u001b[0m\u001b[1;33m=\u001b[0m\u001b[1;36m275\u001b[0m\u001b[1;33m)\u001b[0m\u001b[1;33m\u001b[0m\u001b[1;33m\u001b[0m\u001b[0m\n\u001b[0m",
      "\u001b[1;31mNameError\u001b[0m: name 'ptos_vac1' is not defined"
     ]
    }
   ],
   "source": [
    "resultado=mining_data_tb.seleccion_str(text=ptos_vac1,col1=272,col2=275)"
   ]
  },
  {
   "cell_type": "code",
   "execution_count": 20,
   "metadata": {},
   "outputs": [
    {
     "output_type": "error",
     "ename": "TypeError",
     "evalue": "'builtin_function_or_method' object is not subscriptable",
     "traceback": [
      "\u001b[1;31m---------------------------------------------------------------------------\u001b[0m",
      "\u001b[1;31mTypeError\u001b[0m                                 Traceback (most recent call last)",
      "\u001b[1;32m<ipython-input-20-41ddf79e958d>\u001b[0m in \u001b[0;36m<module>\u001b[1;34m\u001b[0m\n\u001b[1;32m----> 1\u001b[1;33m \u001b[0mmedicos2\u001b[0m\u001b[1;33m=\u001b[0m\u001b[0mdir\u001b[0m\u001b[1;33m[\u001b[0m\u001b[1;36m9\u001b[0m\u001b[1;33m]\u001b[0m\u001b[1;33m\u001b[0m\u001b[1;33m\u001b[0m\u001b[0m\n\u001b[0m\u001b[0;32m      2\u001b[0m \u001b[0msoup5\u001b[0m\u001b[1;33m=\u001b[0m\u001b[0mmedicos2\u001b[0m\u001b[1;33m\u001b[0m\u001b[1;33m\u001b[0m\u001b[0m\n\u001b[0;32m      3\u001b[0m \u001b[0mprofesionales\u001b[0m\u001b[1;33m=\u001b[0m\u001b[0mstr\u001b[0m\u001b[1;33m(\u001b[0m\u001b[0msoup5\u001b[0m\u001b[1;33m)\u001b[0m\u001b[1;33m\u001b[0m\u001b[1;33m\u001b[0m\u001b[0m\n\u001b[0;32m      4\u001b[0m \u001b[0mprofesionales1\u001b[0m\u001b[1;33m=\u001b[0m\u001b[0mprofesionales\u001b[0m\u001b[1;33m[\u001b[0m\u001b[1;36m91\u001b[0m\u001b[1;33m:\u001b[0m\u001b[1;36m96\u001b[0m\u001b[1;33m]\u001b[0m\u001b[1;33m\u001b[0m\u001b[1;33m\u001b[0m\u001b[0m\n",
      "\u001b[1;31mTypeError\u001b[0m: 'builtin_function_or_method' object is not subscriptable"
     ]
    }
   ],
   "source": [
    "medicos2=dir[9]\n",
    "soup5=medicos2\n",
    "profesionales=str(soup5)\n",
    "profesionales1=profesionales[91:96]"
   ]
  },
  {
   "cell_type": "code",
   "execution_count": 21,
   "metadata": {},
   "outputs": [
    {
     "output_type": "error",
     "ename": "NameError",
     "evalue": "name 'profesionales1' is not defined",
     "traceback": [
      "\u001b[1;31m---------------------------------------------------------------------------\u001b[0m",
      "\u001b[1;31mNameError\u001b[0m                                 Traceback (most recent call last)",
      "\u001b[1;32m<ipython-input-21-3de8eeb323d6>\u001b[0m in \u001b[0;36m<module>\u001b[1;34m\u001b[0m\n\u001b[1;32m----> 1\u001b[1;33m \u001b[0mresultado\u001b[0m\u001b[1;33m=\u001b[0m\u001b[0mmining_data_tb\u001b[0m\u001b[1;33m.\u001b[0m\u001b[0mseleccion_str\u001b[0m\u001b[1;33m(\u001b[0m\u001b[0mtext\u001b[0m\u001b[1;33m=\u001b[0m\u001b[0mprofesionales1\u001b[0m\u001b[1;33m,\u001b[0m\u001b[0mcol1\u001b[0m\u001b[1;33m=\u001b[0m\u001b[1;36m91\u001b[0m\u001b[1;33m,\u001b[0m\u001b[0mcol2\u001b[0m\u001b[1;33m=\u001b[0m\u001b[1;36m96\u001b[0m\u001b[1;33m)\u001b[0m\u001b[1;33m\u001b[0m\u001b[1;33m\u001b[0m\u001b[0m\n\u001b[0m",
      "\u001b[1;31mNameError\u001b[0m: name 'profesionales1' is not defined"
     ]
    }
   ],
   "source": [
    "resultado=mining_data_tb.seleccion_str(text=profesionales1,col1=91,col2=96)\n"
   ]
  },
  {
   "cell_type": "code",
   "execution_count": 22,
   "metadata": {},
   "outputs": [
    {
     "output_type": "error",
     "ename": "TypeError",
     "evalue": "'builtin_function_or_method' object is not subscriptable",
     "traceback": [
      "\u001b[1;31m---------------------------------------------------------------------------\u001b[0m",
      "\u001b[1;31mTypeError\u001b[0m                                 Traceback (most recent call last)",
      "\u001b[1;32m<ipython-input-22-41ddf79e958d>\u001b[0m in \u001b[0;36m<module>\u001b[1;34m\u001b[0m\n\u001b[1;32m----> 1\u001b[1;33m \u001b[0mmedicos2\u001b[0m\u001b[1;33m=\u001b[0m\u001b[0mdir\u001b[0m\u001b[1;33m[\u001b[0m\u001b[1;36m9\u001b[0m\u001b[1;33m]\u001b[0m\u001b[1;33m\u001b[0m\u001b[1;33m\u001b[0m\u001b[0m\n\u001b[0m\u001b[0;32m      2\u001b[0m \u001b[0msoup5\u001b[0m\u001b[1;33m=\u001b[0m\u001b[0mmedicos2\u001b[0m\u001b[1;33m\u001b[0m\u001b[1;33m\u001b[0m\u001b[0m\n\u001b[0;32m      3\u001b[0m \u001b[0mprofesionales\u001b[0m\u001b[1;33m=\u001b[0m\u001b[0mstr\u001b[0m\u001b[1;33m(\u001b[0m\u001b[0msoup5\u001b[0m\u001b[1;33m)\u001b[0m\u001b[1;33m\u001b[0m\u001b[1;33m\u001b[0m\u001b[0m\n\u001b[0;32m      4\u001b[0m \u001b[0mprofesionales1\u001b[0m\u001b[1;33m=\u001b[0m\u001b[0mprofesionales\u001b[0m\u001b[1;33m[\u001b[0m\u001b[1;36m91\u001b[0m\u001b[1;33m:\u001b[0m\u001b[1;36m96\u001b[0m\u001b[1;33m]\u001b[0m\u001b[1;33m\u001b[0m\u001b[1;33m\u001b[0m\u001b[0m\n",
      "\u001b[1;31mTypeError\u001b[0m: 'builtin_function_or_method' object is not subscriptable"
     ]
    }
   ],
   "source": [
    "medicos2=dir[9]\n",
    "soup5=medicos2\n",
    "profesionales=str(soup5)\n",
    "profesionales1=profesionales[91:96]"
   ]
  },
  {
   "cell_type": "code",
   "execution_count": 23,
   "metadata": {},
   "outputs": [],
   "source": [
    "text2=str(soup1)\n",
    "text2_text=text2[22:31]\n",
    "resultado=mining_data_tb.seleccion_str(text=text2_text,col1=22,col2=31)"
   ]
  },
  {
   "cell_type": "code",
   "execution_count": 24,
   "metadata": {},
   "outputs": [
    {
     "output_type": "error",
     "ename": "NameError",
     "evalue": "name 'datos3' is not defined",
     "traceback": [
      "\u001b[1;31m---------------------------------------------------------------------------\u001b[0m",
      "\u001b[1;31mNameError\u001b[0m                                 Traceback (most recent call last)",
      "\u001b[1;32m<ipython-input-24-41815c72352c>\u001b[0m in \u001b[0;36m<module>\u001b[1;34m\u001b[0m\n\u001b[1;32m----> 1\u001b[1;33m \u001b[0msoup2\u001b[0m\u001b[1;33m=\u001b[0m\u001b[0mdatos3\u001b[0m\u001b[1;33m\u001b[0m\u001b[1;33m\u001b[0m\u001b[0m\n\u001b[0m\u001b[0;32m      2\u001b[0m \u001b[0mtext3\u001b[0m\u001b[1;33m=\u001b[0m\u001b[0mstr\u001b[0m\u001b[1;33m(\u001b[0m\u001b[0msoup2\u001b[0m\u001b[1;33m)\u001b[0m\u001b[1;33m\u001b[0m\u001b[1;33m\u001b[0m\u001b[0m\n\u001b[0;32m      3\u001b[0m \u001b[0mtext3_text\u001b[0m\u001b[1;33m=\u001b[0m\u001b[0mtext3\u001b[0m\u001b[1;33m[\u001b[0m\u001b[1;36m15\u001b[0m\u001b[1;33m:\u001b[0m\u001b[1;36m21\u001b[0m\u001b[1;33m]\u001b[0m\u001b[1;33m\u001b[0m\u001b[1;33m\u001b[0m\u001b[0m\n\u001b[0;32m      4\u001b[0m \u001b[0mresultado\u001b[0m\u001b[1;33m=\u001b[0m\u001b[0mmining_data_tb\u001b[0m\u001b[1;33m.\u001b[0m\u001b[0mseleccion_str\u001b[0m\u001b[1;33m(\u001b[0m\u001b[0mtext\u001b[0m\u001b[1;33m=\u001b[0m\u001b[0mtext3_text\u001b[0m\u001b[1;33m,\u001b[0m\u001b[0mcol1\u001b[0m\u001b[1;33m=\u001b[0m\u001b[1;36m15\u001b[0m\u001b[1;33m,\u001b[0m\u001b[0mcol2\u001b[0m\u001b[1;33m=\u001b[0m\u001b[1;36m21\u001b[0m\u001b[1;33m)\u001b[0m\u001b[1;33m\u001b[0m\u001b[1;33m\u001b[0m\u001b[0m\n",
      "\u001b[1;31mNameError\u001b[0m: name 'datos3' is not defined"
     ]
    }
   ],
   "source": [
    "soup2=datos3\n",
    "text3=str(soup2)\n",
    "text3_text=text3[15:21]\n",
    "resultado=mining_data_tb.seleccion_str(text=text3_text,col1=15,col2=21)\n"
   ]
  },
  {
   "cell_type": "code",
   "execution_count": 25,
   "metadata": {},
   "outputs": [],
   "source": [
    "text4_text=text2[59:68]\n",
    "resultado=mining_data_tb.seleccion_str(text=text4_text,col1=59,col2=68)"
   ]
  },
  {
   "cell_type": "code",
   "execution_count": 26,
   "metadata": {},
   "outputs": [],
   "source": [
    "dir_1=soup_6.find_all(\"p\")\n",
    "datos_1=dir_1[4]\n",
    "soup7=datos_1"
   ]
  },
  {
   "cell_type": "code",
   "execution_count": 27,
   "metadata": {},
   "outputs": [],
   "source": [
    "mayor_65=str(soup7)\n",
    "mayor_65=mayor_65[99:101]\n",
    "resultado=mining_data_tb.seleccion_str(text=mayor_65,col1=99,col2=101)\n"
   ]
  },
  {
   "cell_type": "code",
   "execution_count": 28,
   "metadata": {},
   "outputs": [],
   "source": [
    "de_60_64=str(soup7)\n",
    "de_60_64=de_60_64[150:154]\n",
    "resultado=mining_data_tb.seleccion_str(text=de_60_64,col1=150,col2=154)"
   ]
  },
  {
   "cell_type": "code",
   "execution_count": 29,
   "metadata": {},
   "outputs": [],
   "source": [
    "de_6m_59=str(soup7)\n",
    "de_6m_59=de_6m_59[211:215]\n",
    "resultado=mining_data_tb.seleccion_str(text=de_6m_59,col1=211,col2=215)"
   ]
  },
  {
   "cell_type": "code",
   "execution_count": 30,
   "metadata": {},
   "outputs": [],
   "source": [
    "direct_1=soup_8.find_all(\"h2\")\n",
    "direct_2=soup_8.find_all(\"strong\")\n"
   ]
  },
  {
   "cell_type": "code",
   "execution_count": 31,
   "metadata": {},
   "outputs": [],
   "source": [
    "moderna=direct_1[0]\n",
    "soup_8=moderna\n",
    "laboratori_1=str((soup_8.get_text()))\n",
    "laboratori_1=laboratori_1[6:13]\n",
    "resultado=mining_data_tb.seleccion_str(text=laboratori_1,col1=6,col2=13)"
   ]
  },
  {
   "cell_type": "code",
   "execution_count": 32,
   "metadata": {},
   "outputs": [],
   "source": [
    "oxford=direct_1[1]\n",
    "soup_9=oxford\n",
    "laboratori_2=str((soup_9.get_text()))\n",
    "laboratori_2=laboratori_2[6:12]\n",
    "resultado=mining_data_tb.seleccion_str(text=laboratori_2,col1=6,col2=12)"
   ]
  },
  {
   "cell_type": "code",
   "execution_count": 33,
   "metadata": {},
   "outputs": [],
   "source": [
    "pfizer=direct_1[2]\n",
    "soup_10=pfizer\n",
    "laboratori_3=str((soup_10.get_text()))\n",
    "laboratori_3=laboratori_3[6:23]\n",
    "resultado=mining_data_tb.seleccion_str(text=laboratori_3,col1=6,col2=23)"
   ]
  },
  {
   "cell_type": "code",
   "execution_count": null,
   "metadata": {},
   "outputs": [],
   "source": []
  }
 ]
}