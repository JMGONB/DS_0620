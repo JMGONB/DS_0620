{
 "metadata": {
  "language_info": {
   "codemirror_mode": {
    "name": "ipython",
    "version": 3
   },
   "file_extension": ".py",
   "mimetype": "text/x-python",
   "name": "python",
   "nbconvert_exporter": "python",
   "pygments_lexer": "ipython3",
   "version": "3.8.3-final"
  },
  "orig_nbformat": 2,
  "kernelspec": {
   "name": "python_defaultSpec_1598804760605",
   "display_name": "Python 3.8.3 32-bit"
  }
 },
 "nbformat": 4,
 "nbformat_minor": 2,
 "cells": [
  {
   "cell_type": "code",
   "execution_count": 370,
   "metadata": {},
   "outputs": [],
   "source": [
    "import sys\n",
    "sys.path.append(\"../src/utils\")"
   ]
  },
  {
   "cell_type": "code",
   "execution_count": 371,
   "metadata": {},
   "outputs": [],
   "source": [
    "import os,sys\n",
    "sys.path.append(\"../src/utils\")\n",
    "import numpy as np\n",
    "import pandas as pd\n",
    "from flask import Flask, render_template, redirect, request, jsonify \n",
    "import json\n",
    "from matplotlib import pyplot as plt\n",
    "import seaborn as sns\n",
    "from api import server\n",
    "from utils import apis_tb, folders_tb, mining_data_tb, visualization_tb\n",
    "import mining_data_tb\n",
    "import re\n",
    "import requests\n",
    "import folders_tb as ft\n",
    "import folders_tb as folders\n",
    "from bs4 import BeautifulSoup\n",
    "from bs4 import NavigableString, Tag\n",
    "import urllib\n",
    "import visualization_tb as vtb"
   ]
  },
  {
   "cell_type": "code",
   "execution_count": 372,
   "metadata": {},
   "outputs": [],
   "source": [
    "   # Llamada funcion abrir csv\n",
    "   csv_df=ft.read_open(name=\"residentes_edad.csv\")\n",
    "    "
   ]
  },
  {
   "cell_type": "code",
   "execution_count": 373,
   "metadata": {},
   "outputs": [],
   "source": [
    "#llamadas a las funciones para abrir urls"
   ]
  },
  {
   "cell_type": "code",
   "execution_count": 374,
   "metadata": {},
   "outputs": [],
   "source": [
    "soup=ft.read_url(url=\"https://www.consalud.es/autonomias/c-madrid/comunidad-madrid-logra-dato-campana-gripe-1107000-vacunados_74077_102.html\")"
   ]
  },
  {
   "cell_type": "code",
   "execution_count": 375,
   "metadata": {},
   "outputs": [],
   "source": [
    "soup_6=ft.url_read(url_2=\"https://www.europapress.es/madrid/noticia-comunidad-logra-mejor-campana-vacunacion-frente-gripe-mas-11-millones-madrilenos-mas-20200210135909.html\")"
   ]
  },
  {
   "cell_type": "code",
   "execution_count": 376,
   "metadata": {},
   "outputs": [],
   "source": [
    "soup_8=ft.open_url(url_3=\"https://www.goal.com/es/noticias/cuanto-cuesta-vacuna-covid-19/1d0ngem2skf521hey98yr7shru\")"
   ]
  },
  {
   "cell_type": "code",
   "execution_count": 377,
   "metadata": {},
   "outputs": [],
   "source": [
    "#Quitar puntos de una cadena"
   ]
  },
  {
   "cell_type": "code",
   "execution_count": 378,
   "metadata": {},
   "outputs": [],
   "source": [
    "\n",
    "datos=soup.find_all(\"strong\")\n",
    "datos1=datos[2]\n",
    "soup=datos1\n",
    "text1=str(soup)\n",
    "text1_text=text1[8:17]\n"
   ]
  },
  {
   "cell_type": "code",
   "execution_count": 379,
   "metadata": {},
   "outputs": [],
   "source": [
    "text=mining_data_tb.quitar_puntos(text1_text)"
   ]
  },
  {
   "cell_type": "code",
   "execution_count": 380,
   "metadata": {},
   "outputs": [],
   "source": [
    "datos2=datos[6]\n",
    "soup1=datos2\n",
    "text2=str(soup1)\n",
    "text2_text=text2[22:31]\n"
   ]
  },
  {
   "cell_type": "code",
   "execution_count": 381,
   "metadata": {},
   "outputs": [],
   "source": [
    "text=mining_data_tb.quitar_puntos(text2_text)"
   ]
  },
  {
   "cell_type": "code",
   "execution_count": 382,
   "metadata": {},
   "outputs": [],
   "source": [
    "text4_text=text2[59:68]\n",
    "text=mining_data_tb.quitar_puntos(text4_text)"
   ]
  },
  {
   "cell_type": "code",
   "execution_count": 383,
   "metadata": {},
   "outputs": [],
   "source": [
    "dir_1=soup_6.find_all(\"p\")\n",
    "datos_1=dir_1[4]\n",
    "soup7=datos_1\n",
    "de_60_64=str(soup7)\n",
    "de_60_64=de_60_64[150:154]\n"
   ]
  },
  {
   "cell_type": "code",
   "execution_count": 384,
   "metadata": {},
   "outputs": [],
   "source": [
    "text=mining_data_tb.quitar_puntos(de_60_64)"
   ]
  },
  {
   "cell_type": "code",
   "execution_count": 385,
   "metadata": {},
   "outputs": [],
   "source": [
    "de_6m_59=str(soup7)\n",
    "de_6m_59=de_6m_59[211:215]\n",
    "text=mining_data_tb.quitar_puntos(de_6m_59)"
   ]
  },
  {
   "cell_type": "code",
   "execution_count": 386,
   "metadata": {},
   "outputs": [],
   "source": [
    "#seleccionar texto de una cadena"
   ]
  },
  {
   "cell_type": "code",
   "execution_count": 387,
   "metadata": {},
   "outputs": [],
   "source": [
    "url=\"https://www.consalud.es/autonomias/c-madrid/comunidad-madrid-logra-dato-campana-gripe-1107000-vacunados_74077_102.html\"\n",
    "mi_url=urllib.request.urlopen(url)\n",
    "soup=BeautifulSoup(mi_url,\"html.parser\")\n",
    "dir=soup.find_all(\"p\")\n",
    "medicos1=dir[8]\n",
    "soup4=medicos1\n",
    "ptos_vac=str(soup4)\n",
    "ptos_vac1=ptos_vac[272:275]"
   ]
  },
  {
   "cell_type": "code",
   "execution_count": 388,
   "metadata": {},
   "outputs": [],
   "source": [
    "resultado=mining_data_tb.seleccion_str(text=ptos_vac1,col1=272,col2=275)"
   ]
  },
  {
   "cell_type": "code",
   "execution_count": 389,
   "metadata": {},
   "outputs": [],
   "source": [
    "medicos2=dir[9]\n",
    "soup5=medicos2\n",
    "profesionales=str(soup5)\n",
    "profesionales1=profesionales[91:96]"
   ]
  },
  {
   "cell_type": "code",
   "execution_count": 390,
   "metadata": {},
   "outputs": [],
   "source": [
    "resultado=mining_data_tb.seleccion_str(text=profesionales1,col1=91,col2=96)\n"
   ]
  },
  {
   "cell_type": "code",
   "execution_count": 391,
   "metadata": {},
   "outputs": [],
   "source": [
    "medicos2=dir[9]\n",
    "soup5=medicos2\n",
    "profesionales=str(soup5)\n",
    "profesionales1=profesionales[91:96]"
   ]
  },
  {
   "cell_type": "code",
   "execution_count": 392,
   "metadata": {},
   "outputs": [],
   "source": [
    "text2=str(soup1)\n",
    "text2_text=text2[22:31]\n",
    "resultado=mining_data_tb.seleccion_str(text=text2_text,col1=22,col2=31)"
   ]
  },
  {
   "cell_type": "code",
   "execution_count": 393,
   "metadata": {},
   "outputs": [],
   "source": [
    "datos3=datos[7]\n",
    "soup2=datos3\n",
    "text3=str(soup2)\n",
    "text3_text=text3[15:21]\n",
    "resultado=mining_data_tb.seleccion_str(text=text3_text,col1=15,col2=21)\n"
   ]
  },
  {
   "cell_type": "code",
   "execution_count": 394,
   "metadata": {},
   "outputs": [],
   "source": [
    "text4_text=text2[59:68]\n",
    "resultado=mining_data_tb.seleccion_str(text=text4_text,col1=59,col2=68)"
   ]
  },
  {
   "cell_type": "code",
   "execution_count": 395,
   "metadata": {},
   "outputs": [],
   "source": [
    "dir_1=soup_6.find_all(\"p\")\n",
    "datos_1=dir_1[4]\n",
    "soup7=datos_1"
   ]
  },
  {
   "cell_type": "code",
   "execution_count": 396,
   "metadata": {},
   "outputs": [],
   "source": [
    "mayor_65=str(soup7)\n",
    "mayor_65=mayor_65[99:101]\n",
    "resultado=mining_data_tb.seleccion_str(text=mayor_65,col1=99,col2=101)\n"
   ]
  },
  {
   "cell_type": "code",
   "execution_count": 397,
   "metadata": {},
   "outputs": [],
   "source": [
    "de_60_64=str(soup7)\n",
    "de_60_64=de_60_64[150:154]\n",
    "resultado=mining_data_tb.seleccion_str(text=de_60_64,col1=150,col2=154)"
   ]
  },
  {
   "cell_type": "code",
   "execution_count": 398,
   "metadata": {},
   "outputs": [],
   "source": [
    "de_6m_59=str(soup7)\n",
    "de_6m_59=de_6m_59[211:215]\n",
    "resultado=mining_data_tb.seleccion_str(text=de_6m_59,col1=211,col2=215)"
   ]
  },
  {
   "cell_type": "code",
   "execution_count": 399,
   "metadata": {},
   "outputs": [],
   "source": [
    "direct_1=soup_8.find_all(\"h2\")\n",
    "direct_2=soup_8.find_all(\"strong\")\n"
   ]
  },
  {
   "cell_type": "code",
   "execution_count": 400,
   "metadata": {},
   "outputs": [],
   "source": [
    "moderna=direct_1[0]\n",
    "soup_8=moderna\n",
    "laboratori_1=str((soup_8.get_text()))\n",
    "laboratori_1=laboratori_1[6:13]\n",
    "resultado=mining_data_tb.seleccion_str(text=laboratori_1,col1=6,col2=13)"
   ]
  },
  {
   "cell_type": "code",
   "execution_count": 401,
   "metadata": {},
   "outputs": [],
   "source": [
    "oxford=direct_1[1]\n",
    "soup_9=oxford\n",
    "laboratori_2=str((soup_9.get_text()))\n",
    "laboratori_2=laboratori_2[6:12]\n",
    "resultado=mining_data_tb.seleccion_str(text=laboratori_2,col1=6,col2=12)"
   ]
  },
  {
   "cell_type": "code",
   "execution_count": 402,
   "metadata": {},
   "outputs": [],
   "source": [
    "pfizer=direct_1[2]\n",
    "soup_10=pfizer\n",
    "laboratori_3=str((soup_10.get_text()))\n",
    "laboratori_3=laboratori_3[6:23]\n",
    "resultado=mining_data_tb.seleccion_str(text=laboratori_3,col1=6,col2=23)"
   ]
  },
  {
   "cell_type": "code",
   "execution_count": null,
   "metadata": {},
   "outputs": [],
   "source": []
  }
 ]
}