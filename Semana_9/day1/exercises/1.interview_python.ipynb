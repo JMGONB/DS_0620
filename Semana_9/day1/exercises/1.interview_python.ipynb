{
 "metadata": {
  "language_info": {
   "codemirror_mode": {
    "name": "ipython",
    "version": 3
   },
   "file_extension": ".py",
   "mimetype": "text/x-python",
   "name": "python",
   "nbconvert_exporter": "python",
   "pygments_lexer": "ipython3",
   "version": "3.8.3-final"
  },
  "orig_nbformat": 2,
  "kernelspec": {
   "name": "python_defaultSpec_1599676343378",
   "display_name": "Python 3.8.3 32-bit"
  }
 },
 "nbformat": 4,
 "nbformat_minor": 2,
 "cells": [
  {
   "cell_type": "markdown",
   "metadata": {},
   "source": [
    "Here's your coding interview problem for today.\n",
    "\n",
    "This problem was asked by Facebook.\n",
    "\n",
    "Given a string of round, curly, and square open and closing brackets, return whether the brackets are balanced (well-formed).\n",
    "\n",
    "For example, given the string \"([])[]({})\", you should return true.\n",
    "\n",
    "Given the string \"([)]\" or \"((()\", you should return false."
   ]
  },
  {
   "cell_type": "markdown",
   "metadata": {},
   "source": [
    "\n",
    "Dada una serie de corchetes abiertos y cerrados redondos, rizados y cuadrados, devuelva si los corchetes están equilibrados (bien formados).\n",
    "\n",
    "Por ejemplo, dada la cadena \"([])\", debe devolver verdadero.\n",
    "\n",
    "Dada la cadena \"()\" o \"((()\", debe devolver falso."
   ]
  },
  {
   "cell_type": "code",
   "execution_count": 16,
   "metadata": {
    "tags": []
   },
   "outputs": [
    {
     "output_type": "stream",
     "name": "stdout",
     "text": "True\n"
    }
   ],
   "source": [
    "def  pares_corchetes ( cadena ):\n",
    "    corchetes_abrir  =  \"({[\"\n",
    "    corchetes_cerrar  =  \")}]\"\n",
    "    corchetes_emparejados  = { \")\" : \"(\" , \"}\" : \"{\" , \"]\" : \"[\" }\n",
    "    corchete_lista =[]\n",
    "\n",
    "    for  corchete in (cadena) :\n",
    "        if  corchete  in  corchetes_abrir :\n",
    "            corchete_lista. append ( corchete )\n",
    "        elif  corchete  in corchetes_cerrar :\n",
    "            if  len (corchete_lista ) ==  0 :\n",
    "                return  False\n",
    "            if  corchete_lista  [ - 1 ] == corchetes_emparejados [ corchete ]:\n",
    "                corchete_lista. pop ()\n",
    "            else :\n",
    "                return False\n",
    "    return  len (corchete_lista) ==  0\n",
    "\n",
    "print ( pares_corchetes( \"(())\" \"([])\" \"({})\" \"[[]]\" \"{}\" ))"
   ]
  },
  {
   "cell_type": "code",
   "execution_count": null,
   "metadata": {},
   "outputs": [],
   "source": []
  }
 ]
}