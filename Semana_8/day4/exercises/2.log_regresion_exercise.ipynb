{
 "metadata": {
  "language_info": {
   "codemirror_mode": {
    "name": "ipython",
    "version": 3
   },
   "file_extension": ".py",
   "mimetype": "text/x-python",
   "name": "python",
   "nbconvert_exporter": "python",
   "pygments_lexer": "ipython3",
   "version": "3.8.3-final"
  },
  "orig_nbformat": 2,
  "kernelspec": {
   "name": "python_defaultSpec_1599657852693",
   "display_name": "Python 3.8.3 32-bit"
  }
 },
 "nbformat": 4,
 "nbformat_minor": 2,
 "cells": [
  {
   "cell_type": "markdown",
   "metadata": {},
   "source": [
    "1. \n",
    "\n",
    "(X_train=80%)\n",
    "(X_test=20%)\n",
    "\n",
    "A partir del archivo \"iris.csv\" que se corresponde con datos relacionados con tres tipos de plantas (el target es el tipo de planta):\n",
    "\n",
    "- Mediante regresión logística, predice qué planta se corresponde con los ejemplos: [[15.7,2.8,9.5,0.1]] y [[1.7,3.8,4.5,11.3]]\n",
    "- ¿Qué acierto tiene tu modelo? (score)\n",
    "- Utiliza un conjunto de test con el 40% de los datos: ¿cambian los resultados anteriores? ¿por qué?\n",
    "- Elimina la clase \"Virginica\" de tus datos. Repite el proceso anterior, ¿cambian los resultados?\n",
    "- ¿Consideras la regresión logística un buen algoritmo para estos datos? ¿por qué?"
   ]
  },
  {
   "cell_type": "code",
   "execution_count": 1,
   "metadata": {},
   "outputs": [],
   "source": [
    "import pandas as pd\n",
    "import numpy as np\n",
    "from sklearn import linear_model\n",
    "from sklearn import model_selection\n",
    "from sklearn.metrics import classification_report\n",
    "from sklearn.metrics import confusion_matrix\n",
    "from sklearn.metrics import accuracy_score\n",
    "import matplotlib.pyplot as plt\n",
    "import seaborn as sb\n",
    "%matplotlib inline"
   ]
  },
  {
   "cell_type": "code",
   "execution_count": 2,
   "metadata": {},
   "outputs": [
    {
     "output_type": "execute_result",
     "data": {
      "text/plain": "     sepal.length  sepal.width  petal.length  petal.width    variety\n0             5.1          3.5           1.4          0.2     Setosa\n1             4.9          3.0           1.4          0.2     Setosa\n2             4.7          3.2           1.3          0.2     Setosa\n3             4.6          3.1           1.5          0.2     Setosa\n4             5.0          3.6           1.4          0.2     Setosa\n..            ...          ...           ...          ...        ...\n145           6.7          3.0           5.2          2.3  Virginica\n146           6.3          2.5           5.0          1.9  Virginica\n147           6.5          3.0           5.2          2.0  Virginica\n148           6.2          3.4           5.4          2.3  Virginica\n149           5.9          3.0           5.1          1.8  Virginica\n\n[150 rows x 5 columns]",
      "text/html": "<div>\n<style scoped>\n    .dataframe tbody tr th:only-of-type {\n        vertical-align: middle;\n    }\n\n    .dataframe tbody tr th {\n        vertical-align: top;\n    }\n\n    .dataframe thead th {\n        text-align: right;\n    }\n</style>\n<table border=\"1\" class=\"dataframe\">\n  <thead>\n    <tr style=\"text-align: right;\">\n      <th></th>\n      <th>sepal.length</th>\n      <th>sepal.width</th>\n      <th>petal.length</th>\n      <th>petal.width</th>\n      <th>variety</th>\n    </tr>\n  </thead>\n  <tbody>\n    <tr>\n      <th>0</th>\n      <td>5.1</td>\n      <td>3.5</td>\n      <td>1.4</td>\n      <td>0.2</td>\n      <td>Setosa</td>\n    </tr>\n    <tr>\n      <th>1</th>\n      <td>4.9</td>\n      <td>3.0</td>\n      <td>1.4</td>\n      <td>0.2</td>\n      <td>Setosa</td>\n    </tr>\n    <tr>\n      <th>2</th>\n      <td>4.7</td>\n      <td>3.2</td>\n      <td>1.3</td>\n      <td>0.2</td>\n      <td>Setosa</td>\n    </tr>\n    <tr>\n      <th>3</th>\n      <td>4.6</td>\n      <td>3.1</td>\n      <td>1.5</td>\n      <td>0.2</td>\n      <td>Setosa</td>\n    </tr>\n    <tr>\n      <th>4</th>\n      <td>5.0</td>\n      <td>3.6</td>\n      <td>1.4</td>\n      <td>0.2</td>\n      <td>Setosa</td>\n    </tr>\n    <tr>\n      <th>...</th>\n      <td>...</td>\n      <td>...</td>\n      <td>...</td>\n      <td>...</td>\n      <td>...</td>\n    </tr>\n    <tr>\n      <th>145</th>\n      <td>6.7</td>\n      <td>3.0</td>\n      <td>5.2</td>\n      <td>2.3</td>\n      <td>Virginica</td>\n    </tr>\n    <tr>\n      <th>146</th>\n      <td>6.3</td>\n      <td>2.5</td>\n      <td>5.0</td>\n      <td>1.9</td>\n      <td>Virginica</td>\n    </tr>\n    <tr>\n      <th>147</th>\n      <td>6.5</td>\n      <td>3.0</td>\n      <td>5.2</td>\n      <td>2.0</td>\n      <td>Virginica</td>\n    </tr>\n    <tr>\n      <th>148</th>\n      <td>6.2</td>\n      <td>3.4</td>\n      <td>5.4</td>\n      <td>2.3</td>\n      <td>Virginica</td>\n    </tr>\n    <tr>\n      <th>149</th>\n      <td>5.9</td>\n      <td>3.0</td>\n      <td>5.1</td>\n      <td>1.8</td>\n      <td>Virginica</td>\n    </tr>\n  </tbody>\n</table>\n<p>150 rows × 5 columns</p>\n</div>"
     },
     "metadata": {},
     "execution_count": 2
    }
   ],
   "source": [
    "data=pd.read_csv('../data/iris.csv')\n",
    "data"
   ]
  },
  {
   "cell_type": "code",
   "execution_count": 3,
   "metadata": {},
   "outputs": [
    {
     "output_type": "execute_result",
     "data": {
      "text/plain": "0         Setosa\n1         Setosa\n2         Setosa\n3         Setosa\n4         Setosa\n         ...    \n145    Virginica\n146    Virginica\n147    Virginica\n148    Virginica\n149    Virginica\nName: variety, Length: 150, dtype: object"
     },
     "metadata": {},
     "execution_count": 3
    }
   ],
   "source": [
    "variety=data.iloc[:,-1]\n",
    "variety"
   ]
  },
  {
   "cell_type": "code",
   "execution_count": 4,
   "metadata": {},
   "outputs": [
    {
     "output_type": "execute_result",
     "data": {
      "text/plain": "0      5.1\n1      4.9\n2      4.7\n3      4.6\n4      5.0\n      ... \n145    6.7\n146    6.3\n147    6.5\n148    6.2\n149    5.9\nName: sepal.length, Length: 150, dtype: float64"
     },
     "metadata": {},
     "execution_count": 4
    }
   ],
   "source": [
    "sepal_length=data.iloc[:,0]\n",
    "sepal_length"
   ]
  },
  {
   "cell_type": "code",
   "execution_count": 5,
   "metadata": {},
   "outputs": [
    {
     "output_type": "execute_result",
     "data": {
      "text/plain": "0      3.5\n1      3.0\n2      3.2\n3      3.1\n4      3.6\n      ... \n145    3.0\n146    2.5\n147    3.0\n148    3.4\n149    3.0\nName: sepal.width, Length: 150, dtype: float64"
     },
     "metadata": {},
     "execution_count": 5
    }
   ],
   "source": [
    "sepal_width=data.iloc[:,1]\n",
    "sepal_width"
   ]
  },
  {
   "cell_type": "code",
   "execution_count": 6,
   "metadata": {},
   "outputs": [
    {
     "output_type": "execute_result",
     "data": {
      "text/plain": "0      1.4\n1      1.4\n2      1.3\n3      1.5\n4      1.4\n      ... \n145    5.2\n146    5.0\n147    5.2\n148    5.4\n149    5.1\nName: petal.length, Length: 150, dtype: float64"
     },
     "metadata": {},
     "execution_count": 6
    }
   ],
   "source": [
    "petal_length=data.iloc[:,2]\n",
    "petal_length"
   ]
  },
  {
   "cell_type": "code",
   "execution_count": 7,
   "metadata": {},
   "outputs": [
    {
     "output_type": "execute_result",
     "data": {
      "text/plain": "0      0.2\n1      0.2\n2      0.2\n3      0.2\n4      0.2\n      ... \n145    2.3\n146    1.9\n147    2.0\n148    2.3\n149    1.8\nName: petal.width, Length: 150, dtype: float64"
     },
     "metadata": {},
     "execution_count": 7
    }
   ],
   "source": [
    "petal_width=data.iloc[:,3]\n",
    "petal_width"
   ]
  },
  {
   "cell_type": "code",
   "execution_count": 8,
   "metadata": {},
   "outputs": [],
   "source": [
    "#CREO MI X UNIENDO TODAS LAS COLUMNAS DEL DATAFRAME EXCEPTO LA DE TARGET EN UN ARRAY\n",
    "X=np.array(list(zip(sepal_length,sepal_width,petal_length,petal_width)))\n"
   ]
  },
  {
   "cell_type": "code",
   "execution_count": 9,
   "metadata": {},
   "outputs": [],
   "source": [
    "y=variety\n",
    "dataframe=data\n",
    "y=np.array(dataframe['variety'])\n"
   ]
  },
  {
   "cell_type": "code",
   "execution_count": 10,
   "metadata": {},
   "outputs": [
    {
     "output_type": "execute_result",
     "data": {
      "text/plain": "LogisticRegression()"
     },
     "metadata": {},
     "execution_count": 10
    }
   ],
   "source": [
    "model = linear_model.LogisticRegression()\n",
    "model.fit(X,y)"
   ]
  },
  {
   "cell_type": "code",
   "execution_count": 11,
   "metadata": {},
   "outputs": [],
   "source": [
    "# PARTIMOS CON 20% DATOS DE TEST\n",
    "seed = 7\n",
    "X_train, X_test, y_train, y_test = model_selection.train_test_split(X, y, test_size=0.20, random_state=seed)"
   ]
  },
  {
   "cell_type": "code",
   "execution_count": 12,
   "metadata": {
    "tags": []
   },
   "outputs": [
    {
     "output_type": "stream",
     "name": "stdout",
     "text": "0.9\n"
    }
   ],
   "source": [
    "predictions = model.predict(X_test)\n",
    "print(accuracy_score(y_test, predictions))"
   ]
  },
  {
   "cell_type": "code",
   "execution_count": 13,
   "metadata": {
    "tags": []
   },
   "outputs": [
    {
     "output_type": "stream",
     "name": "stdout",
     "text": "Acierto: 90.0 %\nError: 10.0 %\n"
    }
   ],
   "source": [
    "acierto = accuracy_score(y_test, predictions)\n",
    "\n",
    "error = 1 - acierto\n",
    "print(\"Acierto:\", round(acierto*100, 2), \"%\")\n",
    "print(\"Error:\", round(error*100, 2), \"%\")"
   ]
  },
  {
   "cell_type": "code",
   "execution_count": 14,
   "metadata": {},
   "outputs": [
    {
     "output_type": "execute_result",
     "data": {
      "text/plain": "(30,)"
     },
     "metadata": {},
     "execution_count": 14
    }
   ],
   "source": [
    "y_test.shape"
   ]
  },
  {
   "cell_type": "code",
   "execution_count": 15,
   "metadata": {
    "tags": []
   },
   "outputs": [
    {
     "output_type": "stream",
     "name": "stdout",
     "text": "[[ 7  0  0]\n [ 0 10  2]\n [ 0  1 10]]\n"
    }
   ],
   "source": [
    "print(confusion_matrix(y_test, predictions))"
   ]
  },
  {
   "cell_type": "code",
   "execution_count": 16,
   "metadata": {
    "tags": []
   },
   "outputs": [
    {
     "output_type": "stream",
     "name": "stdout",
     "text": "['Virginica']\n"
    }
   ],
   "source": [
    "predicted = model.predict([[15.7,2.8,9.5,0.1]]) \n",
    "print(predicted)"
   ]
  },
  {
   "cell_type": "code",
   "execution_count": 17,
   "metadata": {
    "tags": []
   },
   "outputs": [
    {
     "output_type": "stream",
     "name": "stdout",
     "text": "['Virginica']\n"
    }
   ],
   "source": [
    "predicted = model.predict([[1.7,3.8,4.5,11.3]]) \n",
    "print(predicted)"
   ]
  },
  {
   "cell_type": "code",
   "execution_count": 18,
   "metadata": {},
   "outputs": [],
   "source": [
    "#AHORA 40% DATOS CONJUNTO TEST $$$$$$$$$$$$$$ SUBE ACIERTO"
   ]
  },
  {
   "cell_type": "code",
   "execution_count": 19,
   "metadata": {},
   "outputs": [],
   "source": [
    "seed = 7\n",
    "X_train, X_test, y_train, y_test = model_selection.train_test_split(X, y, test_size=0.4, random_state=seed)"
   ]
  },
  {
   "cell_type": "code",
   "execution_count": 20,
   "metadata": {
    "tags": []
   },
   "outputs": [
    {
     "output_type": "stream",
     "name": "stdout",
     "text": "0.95\n"
    }
   ],
   "source": [
    "predictions = model.predict(X_test)\n",
    "print(accuracy_score(y_test, predictions))"
   ]
  },
  {
   "cell_type": "code",
   "execution_count": 21,
   "metadata": {
    "tags": []
   },
   "outputs": [
    {
     "output_type": "stream",
     "name": "stdout",
     "text": "Acierto: 95.0 %\nError: 5.0 %\n"
    }
   ],
   "source": [
    "acierto = accuracy_score(y_test, predictions)\n",
    "\n",
    "error = 1 - acierto\n",
    "print(\"Acierto:\", round(acierto*100, 2), \"%\")\n",
    "print(\"Error:\", round(error*100, 2), \"%\")"
   ]
  },
  {
   "cell_type": "code",
   "execution_count": 22,
   "metadata": {},
   "outputs": [
    {
     "output_type": "execute_result",
     "data": {
      "text/plain": "(60,)"
     },
     "metadata": {},
     "execution_count": 22
    }
   ],
   "source": [
    "y_test.shape"
   ]
  },
  {
   "cell_type": "code",
   "execution_count": 23,
   "metadata": {
    "tags": []
   },
   "outputs": [
    {
     "output_type": "stream",
     "name": "stdout",
     "text": "[[19  0  0]\n [ 0 19  2]\n [ 0  1 19]]\n"
    }
   ],
   "source": [
    "print(confusion_matrix(y_test, predictions))"
   ]
  },
  {
   "cell_type": "code",
   "execution_count": 24,
   "metadata": {},
   "outputs": [],
   "source": [
    "#ELIMINO VIRGINICA"
   ]
  },
  {
   "cell_type": "code",
   "execution_count": 25,
   "metadata": {},
   "outputs": [
    {
     "output_type": "execute_result",
     "data": {
      "text/plain": "(100,)"
     },
     "metadata": {},
     "execution_count": 25
    }
   ],
   "source": [
    "Y=y[0:100]\n",
    "Y.shape"
   ]
  },
  {
   "cell_type": "code",
   "execution_count": 26,
   "metadata": {},
   "outputs": [
    {
     "output_type": "execute_result",
     "data": {
      "text/plain": "(100, 4)"
     },
     "metadata": {},
     "execution_count": 26
    }
   ],
   "source": [
    "x=X[0:100]\n",
    "x.shape\n"
   ]
  },
  {
   "cell_type": "code",
   "execution_count": 27,
   "metadata": {},
   "outputs": [
    {
     "output_type": "execute_result",
     "data": {
      "text/plain": "LogisticRegression()"
     },
     "metadata": {},
     "execution_count": 27
    }
   ],
   "source": [
    "model = linear_model.LogisticRegression()\n",
    "model.fit(x,Y)"
   ]
  },
  {
   "cell_type": "code",
   "execution_count": 28,
   "metadata": {},
   "outputs": [],
   "source": [
    "seed = 7\n",
    "x_train, x_test, Y_train, Y_test = model_selection.train_test_split(x, Y, test_size=0.4, random_state=seed)"
   ]
  },
  {
   "cell_type": "code",
   "execution_count": 29,
   "metadata": {
    "tags": []
   },
   "outputs": [
    {
     "output_type": "stream",
     "name": "stdout",
     "text": "1.0\n"
    }
   ],
   "source": [
    "predictions=model.predict(x_test)\n",
    "print(accuracy_score(Y_test, predictions))"
   ]
  },
  {
   "cell_type": "code",
   "execution_count": 30,
   "metadata": {
    "tags": []
   },
   "outputs": [
    {
     "output_type": "stream",
     "name": "stdout",
     "text": "Acierto: 100.0 %\nError: 0.0 %\n"
    }
   ],
   "source": [
    "acierto = accuracy_score(Y_test, predictions)\n",
    "\n",
    "error = 1 - acierto\n",
    "print(\"Acierto:\", round(acierto*100, 2), \"%\")\n",
    "print(\"Error:\", round(error*100, 2), \"%\")"
   ]
  },
  {
   "cell_type": "code",
   "execution_count": 31,
   "metadata": {},
   "outputs": [
    {
     "output_type": "execute_result",
     "data": {
      "text/plain": "(40,)"
     },
     "metadata": {},
     "execution_count": 31
    }
   ],
   "source": [
    "Y_test.shape"
   ]
  },
  {
   "cell_type": "code",
   "execution_count": 32,
   "metadata": {
    "tags": []
   },
   "outputs": [
    {
     "output_type": "stream",
     "name": "stdout",
     "text": "[[22  0]\n [ 0 18]]\n"
    }
   ],
   "source": [
    "print(confusion_matrix(Y_test, predictions))"
   ]
  },
  {
   "cell_type": "code",
   "execution_count": 33,
   "metadata": {},
   "outputs": [],
   "source": [
    "# CONSIGO UN 100% DE ACIERTO CON UN 40% DE DATOS PARA TEXT Y UNA CLASE MENOS."
   ]
  },
  {
   "cell_type": "code",
   "execution_count": 34,
   "metadata": {},
   "outputs": [],
   "source": [
    "# CON UNA CLASE MAS Y EL MISMO PORCENTAJE ME DA UN 95% DE ACIERTO."
   ]
  },
  {
   "cell_type": "code",
   "execution_count": 35,
   "metadata": {},
   "outputs": [],
   "source": [
    "#MODELO FIABLE"
   ]
  }
 ]
}