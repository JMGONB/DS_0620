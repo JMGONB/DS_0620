{
 "cells": [
  {
   "cell_type": "markdown",
   "metadata": {},
   "source": [
    "## Working on Jsons"
   ]
  },
  {
   "cell_type": "code",
   "execution_count": null,
   "metadata": {},
   "outputs": [],
   "source": []
  },
  {
   "cell_type": "code",
   "execution_count": 1,
   "metadata": {},
   "outputs": [],
   "source": [
    "import requests\n",
    "import json\n",
    "import pandas as pd"
   ]
  },
  {
   "cell_type": "code",
   "execution_count": 2,
   "metadata": {
    "tags": []
   },
   "outputs": [],
   "source": [
    "r = requests.get()\n",
    "json_readed = json.loads(r.text)\n",
    "#json_readed"
   ]
  },
  {
   "cell_type": "code",
   "execution_count": 3,
   "metadata": {
    "tags": []
   },
   "outputs": [],
   "source": [
    "#print(json_readed)"
   ]
  },
  {
   "cell_type": "markdown",
   "metadata": {},
   "source": [
    "Save json in a local file called \"data.json\""
   ]
  },
  {
   "cell_type": "code",
   "execution_count": 4,
   "metadata": {},
   "outputs": [],
   "source": [
    "with open('data.json', 'w+') as outfile:\n",
    "    json.dump(json_readed, outfile)"
   ]
  },
  {
   "cell_type": "code",
   "execution_count": 5,
   "metadata": {
    "tags": [
     "outputPrepend"
    ]
   },
   "outputs": [
    {
     "output_type": "stream",
     "name": "stdout",
     "text": "e, \"city\": \"Adelaide\", \"altCityName\": \"Adelaide\", \"fullName\": \"Adelaide 36ers\", \"tricode\": \"ADL\", \"teamId\": \"15019\", \"nickname\": \"36ers\", \"urlName\": \"36ers\", \"confName\": \"Intl\", \"divName\": \"\"}, {\"isNBAFranchise\": true, \"isAllStar\": false, \"city\": \"Atlanta\", \"altCityName\": \"Atlanta\", \"fullName\": \"Atlanta Hawks\", \"tricode\": \"ATL\", \"teamId\": \"1610612737\", \"nickname\": \"Hawks\", \"urlName\": \"hawks\", \"confName\": \"East\", \"divName\": \"Southeast\"}, {\"isNBAFranchise\": false, \"isAllStar\": false, \"city\": \"Beijing\", \"altCityName\": \"Beijing\", \"fullName\": \"Beijing Ducks\", \"tricode\": \"BJD\", \"teamId\": \"15021\", \"nickname\": \"Ducks\", \"urlName\": \"ducks\", \"confName\": \"Intl\", \"divName\": \"\"}, {\"isNBAFranchise\": true, \"isAllStar\": false, \"city\": \"Boston\", \"altCityName\": \"Boston\", \"fullName\": \"Boston Celtics\", \"tricode\": \"BOS\", \"teamId\": \"1610612738\", \"nickname\": \"Celtics\", \"urlName\": \"celtics\", \"confName\": \"East\", \"divName\": \"Atlantic\"}, {\"isNBAFranchise\": true, \"isAllStar\": false, \"city\": \"Brooklyn\", \"altCityName\": \"Brooklyn\", \"fullName\": \"Brooklyn Nets\", \"tricode\": \"BKN\", \"teamId\": \"1610612751\", \"nickname\": \"Nets\", \"urlName\": \"nets\", \"confName\": \"East\", \"divName\": \"Atlantic\"}, {\"isNBAFranchise\": true, \"isAllStar\": false, \"city\": \"Charlotte\", \"altCityName\": \"Charlotte\", \"fullName\": \"Charlotte Hornets\", \"tricode\": \"CHA\", \"teamId\": \"1610612766\", \"nickname\": \"Hornets\", \"urlName\": \"hornets\", \"confName\": \"East\", \"divName\": \"Southeast\"}, {\"isNBAFranchise\": true, \"isAllStar\": false, \"city\": \"Chicago\", \"altCityName\": \"Chicago\", \"fullName\": \"Chicago Bulls\", \"tricode\": \"CHI\", \"teamId\": \"1610612741\", \"nickname\": \"Bulls\", \"urlName\": \"bulls\", \"confName\": \"East\", \"divName\": \"Central\"}, {\"isNBAFranchise\": true, \"isAllStar\": false, \"city\": \"Cleveland\", \"altCityName\": \"Cleveland\", \"fullName\": \"Cleveland Cavaliers\", \"tricode\": \"CLE\", \"teamId\": \"1610612739\", \"nickname\": \"Cavaliers\", \"urlName\": \"cavaliers\", \"confName\": \"East\", \"divName\": \"Central\"}, {\"isNBAFranchise\": true, \"isAllStar\": false, \"city\": \"Dallas\", \"altCityName\": \"Dallas\", \"fullName\": \"Dallas Mavericks\", \"tricode\": \"DAL\", \"teamId\": \"1610612742\", \"nickname\": \"Mavericks\", \"urlName\": \"mavericks\", \"confName\": \"West\", \"divName\": \"Southwest\"}, {\"isNBAFranchise\": true, \"isAllStar\": false, \"city\": \"Denver\", \"altCityName\": \"Denver\", \"fullName\": \"Denver Nuggets\", \"tricode\": \"DEN\", \"teamId\": \"1610612743\", \"nickname\": \"Nuggets\", \"urlName\": \"nuggets\", \"confName\": \"West\", \"divName\": \"Northwest\"}, {\"isNBAFranchise\": true, \"isAllStar\": false, \"city\": \"Detroit\", \"altCityName\": \"Detroit\", \"fullName\": \"Detroit Pistons\", \"tricode\": \"DET\", \"teamId\": \"1610612765\", \"nickname\": \"Pistons\", \"urlName\": \"pistons\", \"confName\": \"East\", \"divName\": \"Central\"}, {\"isNBAFranchise\": true, \"isAllStar\": false, \"city\": \"Golden State\", \"altCityName\": \"Golden State\", \"fullName\": \"Golden State Warriors\", \"tricode\": \"GSW\", \"teamId\": \"1610612744\", \"nickname\": \"Warriors\", \"urlName\": \"warriors\", \"confName\": \"West\", \"divName\": \"Pacific\"}, {\"isNBAFranchise\": false, \"isAllStar\": false, \"city\": \"Guangzhou\", \"altCityName\": \"Guangzhou\", \"fullName\": \"Guangzhou Long-Lions\", \"tricode\": \"GUA\", \"teamId\": \"15018\", \"nickname\": \"Long-Lions\", \"urlName\": \"long-lions\", \"confName\": \"Intl\", \"divName\": \"\"}, {\"isNBAFranchise\": false, \"isAllStar\": false, \"city\": \"Haifa\", \"altCityName\": \"Haifa\", \"fullName\": \"Maccabi Haifa\", \"tricode\": \"MAC\", \"teamId\": \"93\", \"nickname\": \"Maccabi Haifa\", \"urlName\": \"maccabi_haifa\", \"confName\": \"Intl\", \"divName\": \"\"}, {\"isNBAFranchise\": true, \"isAllStar\": false, \"city\": \"Houston\", \"altCityName\": \"Houston\", \"fullName\": \"Houston Rockets\", \"tricode\": \"HOU\", \"teamId\": \"1610612745\", \"nickname\": \"Rockets\", \"urlName\": \"rockets\", \"confName\": \"West\", \"divName\": \"Southwest\"}, {\"isNBAFranchise\": true, \"isAllStar\": false, \"city\": \"Indiana\", \"altCityName\": \"Indiana\", \"fullName\": \"Indiana Pacers\", \"tricode\": \"IND\", \"teamId\": \"1610612754\", \"nickname\": \"Pacers\", \"urlName\": \"pacers\", \"confName\": \"East\", \"divName\": \"Central\"}, {\"isNBAFranchise\": true, \"isAllStar\": false, \"city\": \"LA\", \"altCityName\": \"LA Clippers\", \"fullName\": \"LA Clippers\", \"tricode\": \"LAC\", \"teamId\": \"1610612746\", \"nickname\": \"Clippers\", \"urlName\": \"clippers\", \"confName\": \"West\", \"divName\": \"Pacific\"}, {\"isNBAFranchise\": true, \"isAllStar\": false, \"city\": \"Los Angeles\", \"altCityName\": \"Los Angeles Lakers\", \"fullName\": \"Los Angeles Lakers\", \"tricode\": \"LAL\", \"teamId\": \"1610612747\", \"nickname\": \"Lakers\", \"urlName\": \"lakers\", \"confName\": \"West\", \"divName\": \"Pacific\"}, {\"isNBAFranchise\": false, \"isAllStar\": false, \"city\": \"Melbourne\", \"altCityName\": \"Melbourne\", \"fullName\": \"Melbourne United\", \"tricode\": \"MEL\", \"teamId\": \"15016\", \"nickname\": \"United\", \"urlName\": \"united\", \"confName\": \"Intl\", \"divName\": \"\"}, {\"isNBAFranchise\": true, \"isAllStar\": false, \"city\": \"Memphis\", \"altCityName\": \"Memphis\", \"fullName\": \"Memphis Grizzlies\", \"tricode\": \"MEM\", \"teamId\": \"1610612763\", \"nickname\": \"Grizzlies\", \"urlName\": \"grizzlies\", \"confName\": \"West\", \"divName\": \"Southwest\"}, {\"isNBAFranchise\": true, \"isAllStar\": false, \"city\": \"Miami\", \"altCityName\": \"Miami\", \"fullName\": \"Miami Heat\", \"tricode\": \"MIA\", \"teamId\": \"1610612748\", \"nickname\": \"Heat\", \"urlName\": \"heat\", \"confName\": \"East\", \"divName\": \"Southeast\"}, {\"isNBAFranchise\": true, \"isAllStar\": false, \"city\": \"Milwaukee\", \"altCityName\": \"Milwaukee\", \"fullName\": \"Milwaukee Bucks\", \"tricode\": \"MIL\", \"teamId\": \"1610612749\", \"nickname\": \"Bucks\", \"urlName\": \"bucks\", \"confName\": \"East\", \"divName\": \"Central\"}, {\"isNBAFranchise\": true, \"isAllStar\": false, \"city\": \"Minnesota\", \"altCityName\": \"Minnesota\", \"fullName\": \"Minnesota Timberwolves\", \"tricode\": \"MIN\", \"teamId\": \"1610612750\", \"nickname\": \"Timberwolves\", \"urlName\": \"timberwolves\", \"confName\": \"West\", \"divName\": \"Northwest\"}, {\"isNBAFranchise\": true, \"isAllStar\": false, \"city\": \"New Orleans\", \"altCityName\": \"New Orleans\", \"fullName\": \"New Orleans Pelicans\", \"tricode\": \"NOP\", \"teamId\": \"1610612740\", \"nickname\": \"Pelicans\", \"urlName\": \"pelicans\", \"confName\": \"West\", \"divName\": \"Southwest\"}, {\"isNBAFranchise\": true, \"isAllStar\": false, \"city\": \"New York\", \"altCityName\": \"New York\", \"fullName\": \"New York Knicks\", \"tricode\": \"NYK\", \"teamId\": \"1610612752\", \"nickname\": \"Knicks\", \"urlName\": \"knicks\", \"confName\": \"East\", \"divName\": \"Atlantic\"}, {\"isNBAFranchise\": false, \"isAllStar\": false, \"city\": \"New Zealand\", \"altCityName\": \"New Zealand\", \"fullName\": \"New Zealand Breakers\", \"tricode\": \"NZB\", \"teamId\": \"15020\", \"nickname\": \"Breakers\", \"urlName\": \"breakers\", \"confName\": \"Intl\", \"divName\": \"\"}, {\"isNBAFranchise\": true, \"isAllStar\": false, \"city\": \"Oklahoma City\", \"altCityName\": \"Oklahoma City\", \"fullName\": \"Oklahoma City Thunder\", \"tricode\": \"OKC\", \"teamId\": \"1610612760\", \"nickname\": \"Thunder\", \"urlName\": \"thunder\", \"confName\": \"West\", \"divName\": \"Northwest\"}, {\"isNBAFranchise\": true, \"isAllStar\": false, \"city\": \"Orlando\", \"altCityName\": \"Orlando\", \"fullName\": \"Orlando Magic\", \"tricode\": \"ORL\", \"teamId\": \"1610612753\", \"nickname\": \"Magic\", \"urlName\": \"magic\", \"confName\": \"East\", \"divName\": \"Southeast\"}, {\"isNBAFranchise\": false, \"isAllStar\": false, \"city\": \"Perth\", \"altCityName\": \"Perth\", \"fullName\": \"Perth Wildcats\", \"tricode\": \"PER\", \"teamId\": \"104\", \"nickname\": \"Wildcats\", \"urlName\": \"wildcats\", \"confName\": \"Intl\", \"divName\": \"\"}, {\"isNBAFranchise\": true, \"isAllStar\": false, \"city\": \"Philadelphia\", \"altCityName\": \"Philadelphia\", \"fullName\": \"Philadelphia 76ers\", \"tricode\": \"PHI\", \"teamId\": \"1610612755\", \"nickname\": \"76ers\", \"urlName\": \"sixers\", \"confName\": \"East\", \"divName\": \"Atlantic\"}, {\"isNBAFranchise\": true, \"isAllStar\": false, \"city\": \"Phoenix\", \"altCityName\": \"Phoenix\", \"fullName\": \"Phoenix Suns\", \"tricode\": \"PHX\", \"teamId\": \"1610612756\", \"nickname\": \"Suns\", \"urlName\": \"suns\", \"confName\": \"West\", \"divName\": \"Pacific\"}, {\"isNBAFranchise\": true, \"isAllStar\": false, \"city\": \"Portland\", \"altCityName\": \"Portland\", \"fullName\": \"Portland Trail Blazers\", \"tricode\": \"POR\", \"teamId\": \"1610612757\", \"nickname\": \"Trail Blazers\", \"urlName\": \"blazers\", \"confName\": \"West\", \"divName\": \"Northwest\"}, {\"isNBAFranchise\": false, \"isAllStar\": false, \"city\": \"Rio de Janeiro\", \"altCityName\": \"Rio de Janeiro\", \"fullName\": \"Rio de Janeiro Flamengo\", \"tricode\": \"FLA\", \"teamId\": \"12325\", \"nickname\": \"Flamengo\", \"urlName\": \"flamengo\", \"confName\": \"Intl\", \"divName\": \"\"}, {\"isNBAFranchise\": true, \"isAllStar\": false, \"city\": \"Sacramento\", \"altCityName\": \"Sacramento\", \"fullName\": \"Sacramento Kings\", \"tricode\": \"SAC\", \"teamId\": \"1610612758\", \"nickname\": \"Kings\", \"urlName\": \"kings\", \"confName\": \"West\", \"divName\": \"Pacific\"}, {\"isNBAFranchise\": true, \"isAllStar\": false, \"city\": \"San Antonio\", \"altCityName\": \"San Antonio\", \"fullName\": \"San Antonio Spurs\", \"tricode\": \"SAS\", \"teamId\": \"1610612759\", \"nickname\": \"Spurs\", \"urlName\": \"spurs\", \"confName\": \"West\", \"divName\": \"Southwest\"}, {\"isNBAFranchise\": false, \"isAllStar\": false, \"city\": \"Shanghai\", \"altCityName\": \"Shanghai\", \"fullName\": \"Shanghai Sharks\", \"tricode\": \"SDS\", \"teamId\": \"12329\", \"nickname\": \"Shanghai Sharks\", \"urlName\": \"shanghai_sharks\", \"confName\": \"Intl\", \"divName\": \"\"}, {\"isNBAFranchise\": false, \"isAllStar\": false, \"city\": \"Sydney\", \"altCityName\": \"Sydney\", \"fullName\": \"Sydney Kings\", \"tricode\": \"SYD\", \"teamId\": \"15015\", \"nickname\": \"Kings\", \"urlName\": \"kings\", \"confName\": \"Intl\", \"divName\": \"\"}, {\"isNBAFranchise\": true, \"isAllStar\": false, \"city\": \"Toronto\", \"altCityName\": \"Toronto\", \"fullName\": \"Toronto Raptors\", \"tricode\": \"TOR\", \"teamId\": \"1610612761\", \"nickname\": \"Raptors\", \"urlName\": \"raptors\", \"confName\": \"East\", \"divName\": \"Atlantic\"}, {\"isNBAFranchise\": true, \"isAllStar\": false, \"city\": \"Utah\", \"altCityName\": \"Utah\", \"fullName\": \"Utah Jazz\", \"tricode\": \"UTA\", \"teamId\": \"1610612762\", \"nickname\": \"Jazz\", \"urlName\": \"jazz\", \"confName\": \"West\", \"divName\": \"Northwest\"}, {\"isNBAFranchise\": true, \"isAllStar\": false, \"city\": \"Washington\", \"altCityName\": \"Washington\", \"fullName\": \"Washington Wizards\", \"tricode\": \"WAS\", \"teamId\": \"1610612764\", \"nickname\": \"Wizards\", \"urlName\": \"wizards\", \"confName\": \"East\", \"divName\": \"Southeast\"}], \"africa\": [{\"isNBAFranchise\": false, \"isAllStar\": false, \"city\": \"Team\", \"altCityName\": \"Team\", \"fullName\": \"Team Africa\", \"tricode\": \"AFR\", \"teamId\": \"12326\", \"nickname\": \"Africa\", \"urlName\": \"africa\", \"confName\": \"\", \"divName\": \"\"}, {\"isNBAFranchise\": false, \"isAllStar\": false, \"city\": \"Team\", \"altCityName\": \"Team\", \"fullName\": \"Team World\", \"tricode\": \"WLD\", \"teamId\": \"12327\", \"nickname\": \"World\", \"urlName\": \"world\", \"confName\": \"\", \"divName\": \"\"}], \"sacramento\": [{\"isNBAFranchise\": true, \"isAllStar\": false, \"city\": \"Golden State\", \"altCityName\": \"Golden State\", \"fullName\": \"Golden State Warriors\", \"tricode\": \"GSW\", \"teamId\": \"1610612744\", \"nickname\": \"Warriors\", \"urlName\": \"warriors\", \"confName\": \"Sacramento\", \"divName\": \"\"}, {\"isNBAFranchise\": true, \"isAllStar\": false, \"city\": \"Los Angeles\", \"altCityName\": \"Los Angeles Lakers\", \"fullName\": \"Los Angeles Lakers\", \"tricode\": \"LAL\", \"teamId\": \"1610612747\", \"nickname\": \"Lakers\", \"urlName\": \"lakers\", \"confName\": \"Sacramento\", \"divName\": \"\"}, {\"isNBAFranchise\": true, \"isAllStar\": false, \"city\": \"Miami\", \"altCityName\": \"Miami\", \"fullName\": \"Miami Heat\", \"tricode\": \"MIA\", \"teamId\": \"1610612748\", \"nickname\": \"Heat\", \"urlName\": \"heat\", \"confName\": \"Sacramento\", \"divName\": \"\"}, {\"isNBAFranchise\": true, \"isAllStar\": false, \"city\": \"Sacramento\", \"altCityName\": \"Sacramento\", \"fullName\": \"Sacramento Kings\", \"tricode\": \"SAC\", \"teamId\": \"1610612758\", \"nickname\": \"Kings\", \"urlName\": \"kings\", \"confName\": \"Sacramento\", \"divName\": \"\"}], \"vegas\": [{\"isNBAFranchise\": true, \"isAllStar\": false, \"city\": \"Atlanta\", \"altCityName\": \"Atlanta\", \"fullName\": \"Atlanta Hawks\", \"tricode\": \"ATL\", \"teamId\": \"1610612737\", \"nickname\": \"Hawks\", \"urlName\": \"hawks\", \"confName\": \"summer\", \"divName\": \"\"}, {\"isNBAFranchise\": true, \"isAllStar\": false, \"city\": \"Boston\", \"altCityName\": \"Boston\", \"fullName\": \"Boston Celtics\", \"tricode\": \"BOS\", \"teamId\": \"1610612738\", \"nickname\": \"Celtics\", \"urlName\": \"celtics\", \"confName\": \"summer\", \"divName\": \"\"}, {\"isNBAFranchise\": true, \"isAllStar\": false, \"city\": \"Brooklyn\", \"altCityName\": \"Brooklyn\", \"fullName\": \"Brooklyn Nets\", \"tricode\": \"BKN\", \"teamId\": \"1610612751\", \"nickname\": \"Nets\", \"urlName\": \"nets\", \"confName\": \"summer\", \"divName\": \"\"}, {\"isNBAFranchise\": true, \"isAllStar\": false, \"city\": \"Charlotte\", \"altCityName\": \"Charlotte\", \"fullName\": \"Charlotte Hornets\", \"tricode\": \"CHA\", \"teamId\": \"1610612766\", \"nickname\": \"Hornets\", \"urlName\": \"hornets\", \"confName\": \"summer\", \"divName\": \"\"}, {\"isNBAFranchise\": true, \"isAllStar\": false, \"city\": \"Chicago\", \"altCityName\": \"Chicago\", \"fullName\": \"Chicago Bulls\", \"tricode\": \"CHI\", \"teamId\": \"1610612741\", \"nickname\": \"Bulls\", \"urlName\": \"bulls\", \"confName\": \"summer\", \"divName\": \"\"}, {\"isNBAFranchise\": true, \"isAllStar\": false, \"city\": \"Cleveland\", \"altCityName\": \"Cleveland\", \"fullName\": \"Cleveland Cavaliers\", \"tricode\": \"CLE\", \"teamId\": \"1610612739\", \"nickname\": \"Cavaliers\", \"urlName\": \"cavaliers\", \"confName\": \"summer\", \"divName\": \"\"}, {\"isNBAFranchise\": true, \"isAllStar\": false, \"city\": \"Dallas\", \"altCityName\": \"Dallas\", \"fullName\": \"Dallas Mavericks\", \"tricode\": \"DAL\", \"teamId\": \"1610612742\", \"nickname\": \"Mavericks\", \"urlName\": \"mavericks\", \"confName\": \"summer\", \"divName\": \"\"}, {\"isNBAFranchise\": true, \"isAllStar\": false, \"city\": \"Denver\", \"altCityName\": \"Denver\", \"fullName\": \"Denver Nuggets\", \"tricode\": \"DEN\", \"teamId\": \"1610612743\", \"nickname\": \"Nuggets\", \"urlName\": \"nuggets\", \"confName\": \"summer\", \"divName\": \"\"}, {\"isNBAFranchise\": true, \"isAllStar\": false, \"city\": \"Detroit\", \"altCityName\": \"Detroit\", \"fullName\": \"Detroit Pistons\", \"tricode\": \"DET\", \"teamId\": \"1610612765\", \"nickname\": \"Pistons\", \"urlName\": \"pistons\", \"confName\": \"summer\", \"divName\": \"\"}, {\"isNBAFranchise\": true, \"isAllStar\": false, \"city\": \"Golden State\", \"altCityName\": \"Golden State\", \"fullName\": \"Golden State Warriors\", \"tricode\": \"GSW\", \"teamId\": \"1610612744\", \"nickname\": \"Warriors\", \"urlName\": \"warriors\", \"confName\": \"summer\", \"divName\": \"\"}, {\"isNBAFranchise\": true, \"isAllStar\": false, \"city\": \"Houston\", \"altCityName\": \"Houston\", \"fullName\": \"Houston Rockets\", \"tricode\": \"HOU\", \"teamId\": \"1610612745\", \"nickname\": \"Rockets\", \"urlName\": \"rockets\", \"confName\": \"summer\", \"divName\": \"\"}, {\"isNBAFranchise\": true, \"isAllStar\": false, \"city\": \"Indiana\", \"altCityName\": \"Indiana\", \"fullName\": \"Indiana Pacers\", \"tricode\": \"IND\", \"teamId\": \"1610612754\", \"nickname\": \"Pacers\", \"urlName\": \"pacers\", \"confName\": \"summer\", \"divName\": \"\"}, {\"isNBAFranchise\": true, \"isAllStar\": false, \"city\": \"LA\", \"altCityName\": \"LA Clippers\", \"fullName\": \"LA Clippers\", \"tricode\": \"LAC\", \"teamId\": \"1610612746\", \"nickname\": \"Clippers\", \"urlName\": \"clippers\", \"confName\": \"summer\", \"divName\": \"\"}, {\"isNBAFranchise\": true, \"isAllStar\": false, \"city\": \"Los Angeles\", \"altCityName\": \"Los Angeles Lakers\", \"fullName\": \"Los Angeles Lakers\", \"tricode\": \"LAL\", \"teamId\": \"1610612747\", \"nickname\": \"Lakers\", \"urlName\": \"lakers\", \"confName\": \"summer\", \"divName\": \"\"}, {\"isNBAFranchise\": true, \"isAllStar\": false, \"city\": \"Memphis\", \"altCityName\": \"Memphis\", \"fullName\": \"Memphis Grizzlies\", \"tricode\": \"MEM\", \"teamId\": \"1610612763\", \"nickname\": \"Grizzlies\", \"urlName\": \"grizzlies\", \"confName\": \"summer\", \"divName\": \"\"}, {\"isNBAFranchise\": true, \"isAllStar\": false, \"city\": \"Miami\", \"altCityName\": \"Miami\", \"fullName\": \"Miami Heat\", \"tricode\": \"MIA\", \"teamId\": \"1610612748\", \"nickname\": \"Heat\", \"urlName\": \"heat\", \"confName\": \"summer\", \"divName\": \"\"}, {\"isNBAFranchise\": true, \"isAllStar\": false, \"city\": \"Milwaukee\", \"altCityName\": \"Milwaukee\", \"fullName\": \"Milwaukee Bucks\", \"tricode\": \"MIL\", \"teamId\": \"1610612749\", \"nickname\": \"Bucks\", \"urlName\": \"bucks\", \"confName\": \"summer\", \"divName\": \"\"}, {\"isNBAFranchise\": true, \"isAllStar\": false, \"city\": \"Minnesota\", \"altCityName\": \"Minnesota\", \"fullName\": \"Minnesota Timberwolves\", \"tricode\": \"MIN\", \"teamId\": \"1610612750\", \"nickname\": \"Timberwolves\", \"urlName\": \"timberwolves\", \"confName\": \"summer\", \"divName\": \"\"}, {\"isNBAFranchise\": true, \"isAllStar\": false, \"city\": \"New Orleans\", \"altCityName\": \"New Orleans\", \"fullName\": \"New Orleans Pelicans\", \"tricode\": \"NOP\", \"teamId\": \"1610612740\", \"nickname\": \"Pelicans\", \"urlName\": \"pelicans\", \"confName\": \"summer\", \"divName\": \"\"}, {\"isNBAFranchise\": true, \"isAllStar\": false, \"city\": \"New York\", \"altCityName\": \"New York\", \"fullName\": \"New York Knicks\", \"tricode\": \"NYK\", \"teamId\": \"1610612752\", \"nickname\": \"Knicks\", \"urlName\": \"knicks\", \"confName\": \"summer\", \"divName\": \"\"}, {\"isNBAFranchise\": true, \"isAllStar\": false, \"city\": \"Oklahoma City\", \"altCityName\": \"Oklahoma City\", \"fullName\": \"Oklahoma City Thunder\", \"tricode\": \"OKC\", \"teamId\": \"1610612760\", \"nickname\": \"Thunder\", \"urlName\": \"thunder\", \"confName\": \"summer\", \"divName\": \"\"}, {\"isNBAFranchise\": true, \"isAllStar\": false, \"city\": \"Orlando\", \"altCityName\": \"Orlando\", \"fullName\": \"Orlando Magic\", \"tricode\": \"ORL\", \"teamId\": \"1610612753\", \"nickname\": \"Magic\", \"urlName\": \"magic\", \"confName\": \"summer\", \"divName\": \"\"}, {\"isNBAFranchise\": true, \"isAllStar\": false, \"city\": \"Philadelphia\", \"altCityName\": \"Philadelphia\", \"fullName\": \"Philadelphia 76ers\", \"tricode\": \"PHI\", \"teamId\": \"1610612755\", \"nickname\": \"76ers\", \"urlName\": \"sixers\", \"confName\": \"summer\", \"divName\": \"\"}, {\"isNBAFranchise\": true, \"isAllStar\": false, \"city\": \"Phoenix\", \"altCityName\": \"Phoenix\", \"fullName\": \"Phoenix Suns\", \"tricode\": \"PHX\", \"teamId\": \"1610612756\", \"nickname\": \"Suns\", \"urlName\": \"suns\", \"confName\": \"summer\", \"divName\": \"\"}, {\"isNBAFranchise\": true, \"isAllStar\": false, \"city\": \"Portland\", \"altCityName\": \"Portland\", \"fullName\": \"Portland Trail Blazers\", \"tricode\": \"POR\", \"teamId\": \"1610612757\", \"nickname\": \"Trail Blazers\", \"urlName\": \"blazers\", \"confName\": \"summer\", \"divName\": \"\"}, {\"isNBAFranchise\": true, \"isAllStar\": false, \"city\": \"Sacramento\", \"altCityName\": \"Sacramento\", \"fullName\": \"Sacramento Kings\", \"tricode\": \"SAC\", \"teamId\": \"1610612758\", \"nickname\": \"Kings\", \"urlName\": \"kings\", \"confName\": \"summer\", \"divName\": \"\"}, {\"isNBAFranchise\": true, \"isAllStar\": false, \"city\": \"San Antonio\", \"altCityName\": \"San Antonio\", \"fullName\": \"San Antonio Spurs\", \"tricode\": \"SAS\", \"teamId\": \"1610612759\", \"nickname\": \"Spurs\", \"urlName\": \"spurs\", \"confName\": \"summer\", \"divName\": \"\"}, {\"isNBAFranchise\": true, \"isAllStar\": false, \"city\": \"Toronto\", \"altCityName\": \"Toronto\", \"fullName\": \"Toronto Raptors\", \"tricode\": \"TOR\", \"teamId\": \"1610612761\", \"nickname\": \"Raptors\", \"urlName\": \"raptors\", \"confName\": \"summer\", \"divName\": \"\"}, {\"isNBAFranchise\": true, \"isAllStar\": false, \"city\": \"Utah\", \"altCityName\": \"Utah\", \"fullName\": \"Utah Jazz\", \"tricode\": \"UTA\", \"teamId\": \"1610612762\", \"nickname\": \"Jazz\", \"urlName\": \"jazz\", \"confName\": \"summer\", \"divName\": \"\"}, {\"isNBAFranchise\": true, \"isAllStar\": false, \"city\": \"Washington\", \"altCityName\": \"Washington\", \"fullName\": \"Washington Wizards\", \"tricode\": \"WAS\", \"teamId\": \"1610612764\", \"nickname\": \"Wizards\", \"urlName\": \"wizards\", \"confName\": \"summer\", \"divName\": \"\"}], \"utah\": [{\"isNBAFranchise\": true, \"isAllStar\": false, \"city\": \"Atlanta\", \"altCityName\": \"Atlanta\", \"fullName\": \"Atlanta Hawks\", \"tricode\": \"ATL\", \"teamId\": \"1610612737\", \"nickname\": \"Hawks\", \"urlName\": \"hawks\", \"confName\": \"Utah\", \"divName\": \"\"}, {\"isNBAFranchise\": true, \"isAllStar\": false, \"city\": \"Memphis\", \"altCityName\": \"Memphis\", \"fullName\": \"Memphis Grizzlies\", \"tricode\": \"MEM\", \"teamId\": \"1610612763\", \"nickname\": \"Grizzlies\", \"urlName\": \"grizzlies\", \"confName\": \"Utah\", \"divName\": \"\"}, {\"isNBAFranchise\": true, \"isAllStar\": false, \"city\": \"San Antonio\", \"altCityName\": \"San Antonio\", \"fullName\": \"San Antonio Spurs\", \"tricode\": \"SAS\", \"teamId\": \"1610612759\", \"nickname\": \"Spurs\", \"urlName\": \"spurs\", \"confName\": \"Utah\", \"divName\": \"\"}, {\"isNBAFranchise\": true, \"isAllStar\": false, \"city\": \"Utah\", \"altCityName\": \"Utah\", \"fullName\": \"Utah Jazz\", \"tricode\": \"UTA\", \"teamId\": \"1610612762\", \"nickname\": \"Jazz\", \"urlName\": \"jazz\", \"confName\": \"Utah\", \"divName\": \"\"}]}}\n\n"
    }
   ],
   "source": [
    "with open('data.json') as f:\n",
    "    line = f.readline()\n",
    "    if line:\n",
    "        print(line)\n",
    "        line = f.readline()\n",
    "print(line)"
   ]
  },
  {
   "cell_type": "markdown",
   "metadata": {},
   "source": [
    "Save with indent"
   ]
  },
  {
   "cell_type": "code",
   "execution_count": 6,
   "metadata": {},
   "outputs": [],
   "source": [
    "with open('data_indented.json', 'w+') as outfile:\n",
    "    json.dump(json_readed, outfile, indent=4)"
   ]
  },
  {
   "cell_type": "markdown",
   "metadata": {},
   "source": [
    "Read local json\n"
   ]
  },
  {
   "cell_type": "code",
   "execution_count": 7,
   "metadata": {},
   "outputs": [],
   "source": [
    "with open('data_indented.json', 'r+') as outfile:\n",
    "    json_readed = json.load(outfile)\n",
    "#json_readed"
   ]
  },
  {
   "cell_type": "code",
   "execution_count": 8,
   "metadata": {},
   "outputs": [
    {
     "output_type": "execute_result",
     "data": {
      "text/plain": "                                          _internal  \\\npubDateTime                 2018-08-30 20:00:04.422   \nxslt         xsl/league/roster/marty_teams_list.xsl   \neventName                             league_roster   \nstandard                                        NaN   \nafrica                                          NaN   \nsacramento                                      NaN   \nvegas                                           NaN   \nutah                                            NaN   \n\n                                                        league  \npubDateTime                                                NaN  \nxslt                                                       NaN  \neventName                                                  NaN  \nstandard     [{'isNBAFranchise': False, 'isAllStar': True, ...  \nafrica       [{'isNBAFranchise': False, 'isAllStar': False,...  \nsacramento   [{'isNBAFranchise': True, 'isAllStar': False, ...  \nvegas        [{'isNBAFranchise': True, 'isAllStar': False, ...  \nutah         [{'isNBAFranchise': True, 'isAllStar': False, ...  ",
      "text/html": "<div>\n<style scoped>\n    .dataframe tbody tr th:only-of-type {\n        vertical-align: middle;\n    }\n\n    .dataframe tbody tr th {\n        vertical-align: top;\n    }\n\n    .dataframe thead th {\n        text-align: right;\n    }\n</style>\n<table border=\"1\" class=\"dataframe\">\n  <thead>\n    <tr style=\"text-align: right;\">\n      <th></th>\n      <th>_internal</th>\n      <th>league</th>\n    </tr>\n  </thead>\n  <tbody>\n    <tr>\n      <th>pubDateTime</th>\n      <td>2018-08-30 20:00:04.422</td>\n      <td>NaN</td>\n    </tr>\n    <tr>\n      <th>xslt</th>\n      <td>xsl/league/roster/marty_teams_list.xsl</td>\n      <td>NaN</td>\n    </tr>\n    <tr>\n      <th>eventName</th>\n      <td>league_roster</td>\n      <td>NaN</td>\n    </tr>\n    <tr>\n      <th>standard</th>\n      <td>NaN</td>\n      <td>[{'isNBAFranchise': False, 'isAllStar': True, ...</td>\n    </tr>\n    <tr>\n      <th>africa</th>\n      <td>NaN</td>\n      <td>[{'isNBAFranchise': False, 'isAllStar': False,...</td>\n    </tr>\n    <tr>\n      <th>sacramento</th>\n      <td>NaN</td>\n      <td>[{'isNBAFranchise': True, 'isAllStar': False, ...</td>\n    </tr>\n    <tr>\n      <th>vegas</th>\n      <td>NaN</td>\n      <td>[{'isNBAFranchise': True, 'isAllStar': False, ...</td>\n    </tr>\n    <tr>\n      <th>utah</th>\n      <td>NaN</td>\n      <td>[{'isNBAFranchise': True, 'isAllStar': False, ...</td>\n    </tr>\n  </tbody>\n</table>\n</div>"
     },
     "metadata": {},
     "execution_count": 8
    }
   ],
   "source": [
    "df_json = pd.read_json(\"data_indented.json\")\n",
    "df_json"
   ]
  },
  {
   "cell_type": "markdown",
   "metadata": {},
   "source": [
    "### Data Mining & Data Wrangling\n",
    "As you can see, there are jsons inside the original json. For that, we have to mining the json (data mining) to be able to use it correctly (data wrangling). \n",
    "\n",
    "How do you solve this issue? Research about this and try a solution. "
   ]
  },
  {
   "cell_type": "markdown",
   "metadata": {},
   "source": [
    "OPCIONAL"
   ]
  },
  {
   "cell_type": "code",
   "execution_count": 9,
   "metadata": {},
   "outputs": [],
   "source": [
    "copy = df_json.copy()\n",
    "copy.reset_index(inplace=True)\n",
    "# Lo de arriba es sinónimo a:\n",
    "# copy = copy.reset_index()"
   ]
  },
  {
   "cell_type": "code",
   "execution_count": 10,
   "metadata": {},
   "outputs": [
    {
     "output_type": "execute_result",
     "data": {
      "text/plain": "                                          _internal  \\\npubDateTime                 2018-08-30 20:00:04.422   \nxslt         xsl/league/roster/marty_teams_list.xsl   \neventName                             league_roster   \nstandard                                        NaN   \nafrica                                          NaN   \nsacramento                                      NaN   \nvegas                                           NaN   \nutah                                            NaN   \n\n                                                        league  \npubDateTime                                                NaN  \nxslt                                                       NaN  \neventName                                                  NaN  \nstandard     [{'isNBAFranchise': False, 'isAllStar': True, ...  \nafrica       [{'isNBAFranchise': False, 'isAllStar': False,...  \nsacramento   [{'isNBAFranchise': True, 'isAllStar': False, ...  \nvegas        [{'isNBAFranchise': True, 'isAllStar': False, ...  \nutah         [{'isNBAFranchise': True, 'isAllStar': False, ...  ",
      "text/html": "<div>\n<style scoped>\n    .dataframe tbody tr th:only-of-type {\n        vertical-align: middle;\n    }\n\n    .dataframe tbody tr th {\n        vertical-align: top;\n    }\n\n    .dataframe thead th {\n        text-align: right;\n    }\n</style>\n<table border=\"1\" class=\"dataframe\">\n  <thead>\n    <tr style=\"text-align: right;\">\n      <th></th>\n      <th>_internal</th>\n      <th>league</th>\n    </tr>\n  </thead>\n  <tbody>\n    <tr>\n      <th>pubDateTime</th>\n      <td>2018-08-30 20:00:04.422</td>\n      <td>NaN</td>\n    </tr>\n    <tr>\n      <th>xslt</th>\n      <td>xsl/league/roster/marty_teams_list.xsl</td>\n      <td>NaN</td>\n    </tr>\n    <tr>\n      <th>eventName</th>\n      <td>league_roster</td>\n      <td>NaN</td>\n    </tr>\n    <tr>\n      <th>standard</th>\n      <td>NaN</td>\n      <td>[{'isNBAFranchise': False, 'isAllStar': True, ...</td>\n    </tr>\n    <tr>\n      <th>africa</th>\n      <td>NaN</td>\n      <td>[{'isNBAFranchise': False, 'isAllStar': False,...</td>\n    </tr>\n    <tr>\n      <th>sacramento</th>\n      <td>NaN</td>\n      <td>[{'isNBAFranchise': True, 'isAllStar': False, ...</td>\n    </tr>\n    <tr>\n      <th>vegas</th>\n      <td>NaN</td>\n      <td>[{'isNBAFranchise': True, 'isAllStar': False, ...</td>\n    </tr>\n    <tr>\n      <th>utah</th>\n      <td>NaN</td>\n      <td>[{'isNBAFranchise': True, 'isAllStar': False, ...</td>\n    </tr>\n  </tbody>\n</table>\n</div>"
     },
     "metadata": {},
     "execution_count": 10
    }
   ],
   "source": [
    "df_json"
   ]
  },
  {
   "cell_type": "code",
   "execution_count": 11,
   "metadata": {},
   "outputs": [
    {
     "output_type": "execute_result",
     "data": {
      "text/plain": "                                          _internal  \\\npubDateTime                 2018-08-30 20:00:04.422   \nxslt         xsl/league/roster/marty_teams_list.xsl   \neventName                             league_roster   \nstandard                                        NaN   \nafrica                                          NaN   \nsacramento                                      NaN   \nvegas                                           NaN   \nutah                                            NaN   \n\n                                                        league  \npubDateTime                                                NaN  \nxslt                                                       NaN  \neventName                                                  NaN  \nstandard     [{'isNBAFranchise': False, 'isAllStar': True, ...  \nafrica       [{'isNBAFranchise': False, 'isAllStar': False,...  \nsacramento   [{'isNBAFranchise': True, 'isAllStar': False, ...  \nvegas        [{'isNBAFranchise': True, 'isAllStar': False, ...  \nutah         [{'isNBAFranchise': True, 'isAllStar': False, ...  ",
      "text/html": "<div>\n<style scoped>\n    .dataframe tbody tr th:only-of-type {\n        vertical-align: middle;\n    }\n\n    .dataframe tbody tr th {\n        vertical-align: top;\n    }\n\n    .dataframe thead th {\n        text-align: right;\n    }\n</style>\n<table border=\"1\" class=\"dataframe\">\n  <thead>\n    <tr style=\"text-align: right;\">\n      <th></th>\n      <th>_internal</th>\n      <th>league</th>\n    </tr>\n  </thead>\n  <tbody>\n    <tr>\n      <th>pubDateTime</th>\n      <td>2018-08-30 20:00:04.422</td>\n      <td>NaN</td>\n    </tr>\n    <tr>\n      <th>xslt</th>\n      <td>xsl/league/roster/marty_teams_list.xsl</td>\n      <td>NaN</td>\n    </tr>\n    <tr>\n      <th>eventName</th>\n      <td>league_roster</td>\n      <td>NaN</td>\n    </tr>\n    <tr>\n      <th>standard</th>\n      <td>NaN</td>\n      <td>[{'isNBAFranchise': False, 'isAllStar': True, ...</td>\n    </tr>\n    <tr>\n      <th>africa</th>\n      <td>NaN</td>\n      <td>[{'isNBAFranchise': False, 'isAllStar': False,...</td>\n    </tr>\n    <tr>\n      <th>sacramento</th>\n      <td>NaN</td>\n      <td>[{'isNBAFranchise': True, 'isAllStar': False, ...</td>\n    </tr>\n    <tr>\n      <th>vegas</th>\n      <td>NaN</td>\n      <td>[{'isNBAFranchise': True, 'isAllStar': False, ...</td>\n    </tr>\n    <tr>\n      <th>utah</th>\n      <td>NaN</td>\n      <td>[{'isNBAFranchise': True, 'isAllStar': False, ...</td>\n    </tr>\n  </tbody>\n</table>\n</div>"
     },
     "metadata": {},
     "execution_count": 11
    }
   ],
   "source": [
    "df_json"
   ]
  },
  {
   "cell_type": "code",
   "execution_count": 78,
   "metadata": {},
   "outputs": [
    {
     "output_type": "execute_result",
     "data": {
      "text/plain": "           _internal                                             league\nstandard         NaN  [{'isNBAFranchise': False, 'isAllStar': True, ...\nafrica           NaN  [{'isNBAFranchise': False, 'isAllStar': False,...\nsacramento       NaN  [{'isNBAFranchise': True, 'isAllStar': False, ...\nvegas            NaN  [{'isNBAFranchise': True, 'isAllStar': False, ...\nutah             NaN  [{'isNBAFranchise': True, 'isAllStar': False, ...",
      "text/html": "<div>\n<style scoped>\n    .dataframe tbody tr th:only-of-type {\n        vertical-align: middle;\n    }\n\n    .dataframe tbody tr th {\n        vertical-align: top;\n    }\n\n    .dataframe thead th {\n        text-align: right;\n    }\n</style>\n<table border=\"1\" class=\"dataframe\">\n  <thead>\n    <tr style=\"text-align: right;\">\n      <th></th>\n      <th>_internal</th>\n      <th>league</th>\n    </tr>\n  </thead>\n  <tbody>\n    <tr>\n      <th>standard</th>\n      <td>NaN</td>\n      <td>[{'isNBAFranchise': False, 'isAllStar': True, ...</td>\n    </tr>\n    <tr>\n      <th>africa</th>\n      <td>NaN</td>\n      <td>[{'isNBAFranchise': False, 'isAllStar': False,...</td>\n    </tr>\n    <tr>\n      <th>sacramento</th>\n      <td>NaN</td>\n      <td>[{'isNBAFranchise': True, 'isAllStar': False, ...</td>\n    </tr>\n    <tr>\n      <th>vegas</th>\n      <td>NaN</td>\n      <td>[{'isNBAFranchise': True, 'isAllStar': False, ...</td>\n    </tr>\n    <tr>\n      <th>utah</th>\n      <td>NaN</td>\n      <td>[{'isNBAFranchise': True, 'isAllStar': False, ...</td>\n    </tr>\n  </tbody>\n</table>\n</div>"
     },
     "metadata": {},
     "execution_count": 78
    }
   ],
   "source": []
  },
  {
   "cell_type": "code",
   "execution_count": 12,
   "metadata": {},
   "outputs": [
    {
     "output_type": "execute_result",
     "data": {
      "text/plain": "                                                       league\nstandard    [{'isNBAFranchise': False, 'isAllStar': True, ...\nafrica      [{'isNBAFranchise': False, 'isAllStar': False,...\nsacramento  [{'isNBAFranchise': True, 'isAllStar': False, ...\nvegas       [{'isNBAFranchise': True, 'isAllStar': False, ...\nutah        [{'isNBAFranchise': True, 'isAllStar': False, ...",
      "text/html": "<div>\n<style scoped>\n    .dataframe tbody tr th:only-of-type {\n        vertical-align: middle;\n    }\n\n    .dataframe tbody tr th {\n        vertical-align: top;\n    }\n\n    .dataframe thead th {\n        text-align: right;\n    }\n</style>\n<table border=\"1\" class=\"dataframe\">\n  <thead>\n    <tr style=\"text-align: right;\">\n      <th></th>\n      <th>league</th>\n    </tr>\n  </thead>\n  <tbody>\n    <tr>\n      <th>standard</th>\n      <td>[{'isNBAFranchise': False, 'isAllStar': True, ...</td>\n    </tr>\n    <tr>\n      <th>africa</th>\n      <td>[{'isNBAFranchise': False, 'isAllStar': False,...</td>\n    </tr>\n    <tr>\n      <th>sacramento</th>\n      <td>[{'isNBAFranchise': True, 'isAllStar': False, ...</td>\n    </tr>\n    <tr>\n      <th>vegas</th>\n      <td>[{'isNBAFranchise': True, 'isAllStar': False, ...</td>\n    </tr>\n    <tr>\n      <th>utah</th>\n      <td>[{'isNBAFranchise': True, 'isAllStar': False, ...</td>\n    </tr>\n  </tbody>\n</table>\n</div>"
     },
     "metadata": {},
     "execution_count": 12
    }
   ],
   "source": [
    "df_json_league = df_json.loc[\"standard\":]\n",
    "df_json_league = df_json_league.drop([\"_internal\"], axis=1)\n",
    "df_json_league"
   ]
  },
  {
   "cell_type": "markdown",
   "metadata": {},
   "source": [
    "--------------------\n",
    "Clara versión 1:"
   ]
  },
  {
   "cell_type": "code",
   "execution_count": 13,
   "metadata": {},
   "outputs": [
    {
     "output_type": "execute_result",
     "data": {
      "text/plain": "    isNBAFranchise  isAllStar          city   altCityName            fullName  \\\n0            False       True           USA           USA                 USA   \n1            False       True         World         World               World   \n2            False       True          Team          Team           All-Stars   \n3            False       True          Team          Team           All-Stars   \n4            False       True  Team Giannis  Team Giannis        Team Giannis   \n..             ...        ...           ...           ...                 ...   \n83            True      False    Washington    Washington  Washington Wizards   \n84            True      False       Atlanta       Atlanta       Atlanta Hawks   \n85            True      False       Memphis       Memphis   Memphis Grizzlies   \n86            True      False   San Antonio   San Antonio   San Antonio Spurs   \n87            True      False          Utah          Utah           Utah Jazz   \n\n   tricode      teamId      nickname       urlName confName divName  \n0      USA  1610616843           USA           usa     East    East  \n1      WLD  1610616844         World         world     East    East  \n2      EST  1699999999     All-Stars     assn_away     East    East  \n3      WST  1699999998     All-Stars     assn_home     West    West  \n4      GNS  1610616833  Team Giannis  team_giannis     East    East  \n..     ...         ...           ...           ...      ...     ...  \n83     WAS  1610612764       Wizards       wizards   summer          \n84     ATL  1610612737         Hawks         hawks     Utah          \n85     MEM  1610612763     Grizzlies     grizzlies     Utah          \n86     SAS  1610612759         Spurs         spurs     Utah          \n87     UTA  1610612762          Jazz          jazz     Utah          \n\n[88 rows x 11 columns]",
      "text/html": "<div>\n<style scoped>\n    .dataframe tbody tr th:only-of-type {\n        vertical-align: middle;\n    }\n\n    .dataframe tbody tr th {\n        vertical-align: top;\n    }\n\n    .dataframe thead th {\n        text-align: right;\n    }\n</style>\n<table border=\"1\" class=\"dataframe\">\n  <thead>\n    <tr style=\"text-align: right;\">\n      <th></th>\n      <th>isNBAFranchise</th>\n      <th>isAllStar</th>\n      <th>city</th>\n      <th>altCityName</th>\n      <th>fullName</th>\n      <th>tricode</th>\n      <th>teamId</th>\n      <th>nickname</th>\n      <th>urlName</th>\n      <th>confName</th>\n      <th>divName</th>\n    </tr>\n  </thead>\n  <tbody>\n    <tr>\n      <th>0</th>\n      <td>False</td>\n      <td>True</td>\n      <td>USA</td>\n      <td>USA</td>\n      <td>USA</td>\n      <td>USA</td>\n      <td>1610616843</td>\n      <td>USA</td>\n      <td>usa</td>\n      <td>East</td>\n      <td>East</td>\n    </tr>\n    <tr>\n      <th>1</th>\n      <td>False</td>\n      <td>True</td>\n      <td>World</td>\n      <td>World</td>\n      <td>World</td>\n      <td>WLD</td>\n      <td>1610616844</td>\n      <td>World</td>\n      <td>world</td>\n      <td>East</td>\n      <td>East</td>\n    </tr>\n    <tr>\n      <th>2</th>\n      <td>False</td>\n      <td>True</td>\n      <td>Team</td>\n      <td>Team</td>\n      <td>All-Stars</td>\n      <td>EST</td>\n      <td>1699999999</td>\n      <td>All-Stars</td>\n      <td>assn_away</td>\n      <td>East</td>\n      <td>East</td>\n    </tr>\n    <tr>\n      <th>3</th>\n      <td>False</td>\n      <td>True</td>\n      <td>Team</td>\n      <td>Team</td>\n      <td>All-Stars</td>\n      <td>WST</td>\n      <td>1699999998</td>\n      <td>All-Stars</td>\n      <td>assn_home</td>\n      <td>West</td>\n      <td>West</td>\n    </tr>\n    <tr>\n      <th>4</th>\n      <td>False</td>\n      <td>True</td>\n      <td>Team Giannis</td>\n      <td>Team Giannis</td>\n      <td>Team Giannis</td>\n      <td>GNS</td>\n      <td>1610616833</td>\n      <td>Team Giannis</td>\n      <td>team_giannis</td>\n      <td>East</td>\n      <td>East</td>\n    </tr>\n    <tr>\n      <th>...</th>\n      <td>...</td>\n      <td>...</td>\n      <td>...</td>\n      <td>...</td>\n      <td>...</td>\n      <td>...</td>\n      <td>...</td>\n      <td>...</td>\n      <td>...</td>\n      <td>...</td>\n      <td>...</td>\n    </tr>\n    <tr>\n      <th>83</th>\n      <td>True</td>\n      <td>False</td>\n      <td>Washington</td>\n      <td>Washington</td>\n      <td>Washington Wizards</td>\n      <td>WAS</td>\n      <td>1610612764</td>\n      <td>Wizards</td>\n      <td>wizards</td>\n      <td>summer</td>\n      <td></td>\n    </tr>\n    <tr>\n      <th>84</th>\n      <td>True</td>\n      <td>False</td>\n      <td>Atlanta</td>\n      <td>Atlanta</td>\n      <td>Atlanta Hawks</td>\n      <td>ATL</td>\n      <td>1610612737</td>\n      <td>Hawks</td>\n      <td>hawks</td>\n      <td>Utah</td>\n      <td></td>\n    </tr>\n    <tr>\n      <th>85</th>\n      <td>True</td>\n      <td>False</td>\n      <td>Memphis</td>\n      <td>Memphis</td>\n      <td>Memphis Grizzlies</td>\n      <td>MEM</td>\n      <td>1610612763</td>\n      <td>Grizzlies</td>\n      <td>grizzlies</td>\n      <td>Utah</td>\n      <td></td>\n    </tr>\n    <tr>\n      <th>86</th>\n      <td>True</td>\n      <td>False</td>\n      <td>San Antonio</td>\n      <td>San Antonio</td>\n      <td>San Antonio Spurs</td>\n      <td>SAS</td>\n      <td>1610612759</td>\n      <td>Spurs</td>\n      <td>spurs</td>\n      <td>Utah</td>\n      <td></td>\n    </tr>\n    <tr>\n      <th>87</th>\n      <td>True</td>\n      <td>False</td>\n      <td>Utah</td>\n      <td>Utah</td>\n      <td>Utah Jazz</td>\n      <td>UTA</td>\n      <td>1610612762</td>\n      <td>Jazz</td>\n      <td>jazz</td>\n      <td>Utah</td>\n      <td></td>\n    </tr>\n  </tbody>\n</table>\n<p>88 rows × 11 columns</p>\n</div>"
     },
     "metadata": {},
     "execution_count": 13
    }
   ],
   "source": [
    "diccionario_json = {}\n",
    "lista_json = [json for lista_json in df_json_league.league for json in lista_json]\n",
    "\n",
    "for cada_json in lista_json:\n",
    "    for key, value in cada_json.items(): \n",
    "        if key not in diccionario_json.keys():\n",
    "            diccionario_json[key] = [value]\n",
    "        else: \n",
    "            diccionario_json[key].append(value)\n",
    "\n",
    "data = pd.DataFrame(diccionario_json)\n",
    "data"
   ]
  },
  {
   "cell_type": "markdown",
   "metadata": {},
   "source": [
    "--------------------"
   ]
  },
  {
   "cell_type": "markdown",
   "metadata": {},
   "source": [
    "Clara versión 2"
   ]
  },
  {
   "cell_type": "code",
   "execution_count": 14,
   "metadata": {},
   "outputs": [
    {
     "output_type": "execute_result",
     "data": {
      "text/plain": "                                                     league\nstandard  {'isNBAFranchise': False, 'isAllStar': True, '...\nstandard  {'isNBAFranchise': False, 'isAllStar': True, '...\nstandard  {'isNBAFranchise': False, 'isAllStar': True, '...\nstandard  {'isNBAFranchise': False, 'isAllStar': True, '...\nstandard  {'isNBAFranchise': False, 'isAllStar': True, '...\n...                                                     ...\nvegas     {'isNBAFranchise': True, 'isAllStar': False, '...\nutah      {'isNBAFranchise': True, 'isAllStar': False, '...\nutah      {'isNBAFranchise': True, 'isAllStar': False, '...\nutah      {'isNBAFranchise': True, 'isAllStar': False, '...\nutah      {'isNBAFranchise': True, 'isAllStar': False, '...\n\n[88 rows x 1 columns]",
      "text/html": "<div>\n<style scoped>\n    .dataframe tbody tr th:only-of-type {\n        vertical-align: middle;\n    }\n\n    .dataframe tbody tr th {\n        vertical-align: top;\n    }\n\n    .dataframe thead th {\n        text-align: right;\n    }\n</style>\n<table border=\"1\" class=\"dataframe\">\n  <thead>\n    <tr style=\"text-align: right;\">\n      <th></th>\n      <th>league</th>\n    </tr>\n  </thead>\n  <tbody>\n    <tr>\n      <th>standard</th>\n      <td>{'isNBAFranchise': False, 'isAllStar': True, '...</td>\n    </tr>\n    <tr>\n      <th>standard</th>\n      <td>{'isNBAFranchise': False, 'isAllStar': True, '...</td>\n    </tr>\n    <tr>\n      <th>standard</th>\n      <td>{'isNBAFranchise': False, 'isAllStar': True, '...</td>\n    </tr>\n    <tr>\n      <th>standard</th>\n      <td>{'isNBAFranchise': False, 'isAllStar': True, '...</td>\n    </tr>\n    <tr>\n      <th>standard</th>\n      <td>{'isNBAFranchise': False, 'isAllStar': True, '...</td>\n    </tr>\n    <tr>\n      <th>...</th>\n      <td>...</td>\n    </tr>\n    <tr>\n      <th>vegas</th>\n      <td>{'isNBAFranchise': True, 'isAllStar': False, '...</td>\n    </tr>\n    <tr>\n      <th>utah</th>\n      <td>{'isNBAFranchise': True, 'isAllStar': False, '...</td>\n    </tr>\n    <tr>\n      <th>utah</th>\n      <td>{'isNBAFranchise': True, 'isAllStar': False, '...</td>\n    </tr>\n    <tr>\n      <th>utah</th>\n      <td>{'isNBAFranchise': True, 'isAllStar': False, '...</td>\n    </tr>\n    <tr>\n      <th>utah</th>\n      <td>{'isNBAFranchise': True, 'isAllStar': False, '...</td>\n    </tr>\n  </tbody>\n</table>\n<p>88 rows × 1 columns</p>\n</div>"
     },
     "metadata": {},
     "execution_count": 14
    }
   ],
   "source": [
    "df = df_json_league.explode('league')\n",
    "df"
   ]
  },
  {
   "cell_type": "code",
   "execution_count": 15,
   "metadata": {},
   "outputs": [
    {
     "output_type": "execute_result",
     "data": {
      "text/plain": "          isNBAFranchise  isAllStar          city   altCityName  \\\nstandard           False       True           USA           USA   \nstandard           False       True         World         World   \nstandard           False       True          Team          Team   \nstandard           False       True          Team          Team   \nstandard           False       True  Team Giannis  Team Giannis   \n...                  ...        ...           ...           ...   \nvegas               True      False    Washington    Washington   \nutah                True      False       Atlanta       Atlanta   \nutah                True      False       Memphis       Memphis   \nutah                True      False   San Antonio   San Antonio   \nutah                True      False          Utah          Utah   \n\n                    fullName tricode      teamId      nickname       urlName  \\\nstandard                 USA     USA  1610616843           USA           usa   \nstandard               World     WLD  1610616844         World         world   \nstandard           All-Stars     EST  1699999999     All-Stars     assn_away   \nstandard           All-Stars     WST  1699999998     All-Stars     assn_home   \nstandard        Team Giannis     GNS  1610616833  Team Giannis  team_giannis   \n...                      ...     ...         ...           ...           ...   \nvegas     Washington Wizards     WAS  1610612764       Wizards       wizards   \nutah           Atlanta Hawks     ATL  1610612737         Hawks         hawks   \nutah       Memphis Grizzlies     MEM  1610612763     Grizzlies     grizzlies   \nutah       San Antonio Spurs     SAS  1610612759         Spurs         spurs   \nutah               Utah Jazz     UTA  1610612762          Jazz          jazz   \n\n         confName divName  \nstandard     East    East  \nstandard     East    East  \nstandard     East    East  \nstandard     West    West  \nstandard     East    East  \n...           ...     ...  \nvegas      summer          \nutah         Utah          \nutah         Utah          \nutah         Utah          \nutah         Utah          \n\n[88 rows x 11 columns]",
      "text/html": "<div>\n<style scoped>\n    .dataframe tbody tr th:only-of-type {\n        vertical-align: middle;\n    }\n\n    .dataframe tbody tr th {\n        vertical-align: top;\n    }\n\n    .dataframe thead th {\n        text-align: right;\n    }\n</style>\n<table border=\"1\" class=\"dataframe\">\n  <thead>\n    <tr style=\"text-align: right;\">\n      <th></th>\n      <th>isNBAFranchise</th>\n      <th>isAllStar</th>\n      <th>city</th>\n      <th>altCityName</th>\n      <th>fullName</th>\n      <th>tricode</th>\n      <th>teamId</th>\n      <th>nickname</th>\n      <th>urlName</th>\n      <th>confName</th>\n      <th>divName</th>\n    </tr>\n  </thead>\n  <tbody>\n    <tr>\n      <th>standard</th>\n      <td>False</td>\n      <td>True</td>\n      <td>USA</td>\n      <td>USA</td>\n      <td>USA</td>\n      <td>USA</td>\n      <td>1610616843</td>\n      <td>USA</td>\n      <td>usa</td>\n      <td>East</td>\n      <td>East</td>\n    </tr>\n    <tr>\n      <th>standard</th>\n      <td>False</td>\n      <td>True</td>\n      <td>World</td>\n      <td>World</td>\n      <td>World</td>\n      <td>WLD</td>\n      <td>1610616844</td>\n      <td>World</td>\n      <td>world</td>\n      <td>East</td>\n      <td>East</td>\n    </tr>\n    <tr>\n      <th>standard</th>\n      <td>False</td>\n      <td>True</td>\n      <td>Team</td>\n      <td>Team</td>\n      <td>All-Stars</td>\n      <td>EST</td>\n      <td>1699999999</td>\n      <td>All-Stars</td>\n      <td>assn_away</td>\n      <td>East</td>\n      <td>East</td>\n    </tr>\n    <tr>\n      <th>standard</th>\n      <td>False</td>\n      <td>True</td>\n      <td>Team</td>\n      <td>Team</td>\n      <td>All-Stars</td>\n      <td>WST</td>\n      <td>1699999998</td>\n      <td>All-Stars</td>\n      <td>assn_home</td>\n      <td>West</td>\n      <td>West</td>\n    </tr>\n    <tr>\n      <th>standard</th>\n      <td>False</td>\n      <td>True</td>\n      <td>Team Giannis</td>\n      <td>Team Giannis</td>\n      <td>Team Giannis</td>\n      <td>GNS</td>\n      <td>1610616833</td>\n      <td>Team Giannis</td>\n      <td>team_giannis</td>\n      <td>East</td>\n      <td>East</td>\n    </tr>\n    <tr>\n      <th>...</th>\n      <td>...</td>\n      <td>...</td>\n      <td>...</td>\n      <td>...</td>\n      <td>...</td>\n      <td>...</td>\n      <td>...</td>\n      <td>...</td>\n      <td>...</td>\n      <td>...</td>\n      <td>...</td>\n    </tr>\n    <tr>\n      <th>vegas</th>\n      <td>True</td>\n      <td>False</td>\n      <td>Washington</td>\n      <td>Washington</td>\n      <td>Washington Wizards</td>\n      <td>WAS</td>\n      <td>1610612764</td>\n      <td>Wizards</td>\n      <td>wizards</td>\n      <td>summer</td>\n      <td></td>\n    </tr>\n    <tr>\n      <th>utah</th>\n      <td>True</td>\n      <td>False</td>\n      <td>Atlanta</td>\n      <td>Atlanta</td>\n      <td>Atlanta Hawks</td>\n      <td>ATL</td>\n      <td>1610612737</td>\n      <td>Hawks</td>\n      <td>hawks</td>\n      <td>Utah</td>\n      <td></td>\n    </tr>\n    <tr>\n      <th>utah</th>\n      <td>True</td>\n      <td>False</td>\n      <td>Memphis</td>\n      <td>Memphis</td>\n      <td>Memphis Grizzlies</td>\n      <td>MEM</td>\n      <td>1610612763</td>\n      <td>Grizzlies</td>\n      <td>grizzlies</td>\n      <td>Utah</td>\n      <td></td>\n    </tr>\n    <tr>\n      <th>utah</th>\n      <td>True</td>\n      <td>False</td>\n      <td>San Antonio</td>\n      <td>San Antonio</td>\n      <td>San Antonio Spurs</td>\n      <td>SAS</td>\n      <td>1610612759</td>\n      <td>Spurs</td>\n      <td>spurs</td>\n      <td>Utah</td>\n      <td></td>\n    </tr>\n    <tr>\n      <th>utah</th>\n      <td>True</td>\n      <td>False</td>\n      <td>Utah</td>\n      <td>Utah</td>\n      <td>Utah Jazz</td>\n      <td>UTA</td>\n      <td>1610612762</td>\n      <td>Jazz</td>\n      <td>jazz</td>\n      <td>Utah</td>\n      <td></td>\n    </tr>\n  </tbody>\n</table>\n<p>88 rows × 11 columns</p>\n</div>"
     },
     "metadata": {},
     "execution_count": 15
    }
   ],
   "source": [
    "df = df_json_league.explode('league').apply(lambda e: e.league, axis = 1, result_type = 'expand')\n",
    "df"
   ]
  },
  {
   "cell_type": "markdown",
   "metadata": {},
   "source": [
    "--------------------"
   ]
  },
  {
   "cell_type": "code",
   "execution_count": 16,
   "metadata": {},
   "outputs": [],
   "source": [
    "df_json_league = json_readed['league']\n",
    "#df_json_league"
   ]
  },
  {
   "cell_type": "code",
   "execution_count": null,
   "metadata": {},
   "outputs": [],
   "source": []
  },
  {
   "cell_type": "code",
   "execution_count": 17,
   "metadata": {
    "tags": []
   },
   "outputs": [
    {
     "output_type": "stream",
     "name": "stdout",
     "text": "standard\nafrica\nsacramento\nvegas\nutah\n"
    }
   ],
   "source": [
    "for elem in df_json_league:\n",
    "    print(elem)"
   ]
  },
  {
   "cell_type": "code",
   "execution_count": 18,
   "metadata": {
    "tags": []
   },
   "outputs": [
    {
     "output_type": "stream",
     "name": "stdout",
     "text": "Done!\n"
    }
   ],
   "source": [
    "for elem in df_json_league:\n",
    "    with open (elem + '.json', 'w+') as outfile:\n",
    "        json.dump(df_json_league[elem], outfile, indent=4)\n",
    "print(\"Done!\")\n"
   ]
  },
  {
   "cell_type": "code",
   "execution_count": 19,
   "metadata": {},
   "outputs": [],
   "source": [
    "with open (\"standard.json\", 'w+') as outfile:\n",
    "        json.dump(df_json_league[\"standard\"], outfile, indent=4)"
   ]
  },
  {
   "cell_type": "code",
   "execution_count": 20,
   "metadata": {},
   "outputs": [],
   "source": [
    "with open (\"africa.json\", 'w+') as outfile:\n",
    "        json.dump(df_json_league[\"africa\"], outfile, indent=4)\n",
    "\n",
    "        "
   ]
  },
  {
   "cell_type": "code",
   "execution_count": 21,
   "metadata": {},
   "outputs": [
    {
     "output_type": "execute_result",
     "data": {
      "text/plain": "   isNBAFranchise  isAllStar  city altCityName     fullName tricode  teamId  \\\n0           False      False  Team        Team  Team Africa     AFR   12326   \n1           False      False  Team        Team   Team World     WLD   12327   \n\n  nickname urlName confName divName  \n0   Africa  africa                   \n1    World   world                   ",
      "text/html": "<div>\n<style scoped>\n    .dataframe tbody tr th:only-of-type {\n        vertical-align: middle;\n    }\n\n    .dataframe tbody tr th {\n        vertical-align: top;\n    }\n\n    .dataframe thead th {\n        text-align: right;\n    }\n</style>\n<table border=\"1\" class=\"dataframe\">\n  <thead>\n    <tr style=\"text-align: right;\">\n      <th></th>\n      <th>isNBAFranchise</th>\n      <th>isAllStar</th>\n      <th>city</th>\n      <th>altCityName</th>\n      <th>fullName</th>\n      <th>tricode</th>\n      <th>teamId</th>\n      <th>nickname</th>\n      <th>urlName</th>\n      <th>confName</th>\n      <th>divName</th>\n    </tr>\n  </thead>\n  <tbody>\n    <tr>\n      <th>0</th>\n      <td>False</td>\n      <td>False</td>\n      <td>Team</td>\n      <td>Team</td>\n      <td>Team Africa</td>\n      <td>AFR</td>\n      <td>12326</td>\n      <td>Africa</td>\n      <td>africa</td>\n      <td></td>\n      <td></td>\n    </tr>\n    <tr>\n      <th>1</th>\n      <td>False</td>\n      <td>False</td>\n      <td>Team</td>\n      <td>Team</td>\n      <td>Team World</td>\n      <td>WLD</td>\n      <td>12327</td>\n      <td>World</td>\n      <td>world</td>\n      <td></td>\n      <td></td>\n    </tr>\n  </tbody>\n</table>\n</div>"
     },
     "metadata": {},
     "execution_count": 21
    }
   ],
   "source": [
    "df = pd.read_json(\"africa.json\") \n",
    "df"
   ]
  },
  {
   "cell_type": "code",
   "execution_count": 22,
   "metadata": {},
   "outputs": [
    {
     "output_type": "error",
     "ename": "ValueError",
     "evalue": "The truth value of a DataFrame is ambiguous. Use a.empty, a.bool(), a.item(), a.any() or a.all().",
     "traceback": [
      "\u001b[1;31m---------------------------------------------------------------------------\u001b[0m",
      "\u001b[1;31mValueError\u001b[0m                                Traceback (most recent call last)",
      "\u001b[1;32m<ipython-input-22-acd09b4d7cf5>\u001b[0m in \u001b[0;36m<module>\u001b[1;34m\u001b[0m\n\u001b[0;32m      2\u001b[0m \u001b[1;32mfor\u001b[0m \u001b[0melem\u001b[0m \u001b[1;32min\u001b[0m \u001b[0mdf_json_league\u001b[0m\u001b[1;33m:\u001b[0m\u001b[1;33m\u001b[0m\u001b[1;33m\u001b[0m\u001b[0m\n\u001b[0;32m      3\u001b[0m     \u001b[0mdf\u001b[0m \u001b[1;33m=\u001b[0m \u001b[0mpd\u001b[0m\u001b[1;33m.\u001b[0m\u001b[0mread_json\u001b[0m\u001b[1;33m(\u001b[0m\u001b[0melem\u001b[0m \u001b[1;33m+\u001b[0m \u001b[1;34m'.json'\u001b[0m\u001b[1;33m)\u001b[0m\u001b[1;33m\u001b[0m\u001b[1;33m\u001b[0m\u001b[0m\n\u001b[1;32m----> 4\u001b[1;33m     \u001b[1;32mif\u001b[0m \u001b[0mfinal_df\u001b[0m \u001b[1;33m==\u001b[0m \u001b[1;32mNone\u001b[0m\u001b[1;33m:\u001b[0m  \u001b[1;31m# First time\u001b[0m\u001b[1;33m\u001b[0m\u001b[1;33m\u001b[0m\u001b[0m\n\u001b[0m\u001b[0;32m      5\u001b[0m         \u001b[0mfinal_df\u001b[0m \u001b[1;33m=\u001b[0m \u001b[0mdf\u001b[0m\u001b[1;33m\u001b[0m\u001b[1;33m\u001b[0m\u001b[0m\n\u001b[0;32m      6\u001b[0m     \u001b[1;32melse\u001b[0m\u001b[1;33m:\u001b[0m\u001b[1;33m\u001b[0m\u001b[1;33m\u001b[0m\u001b[0m\n",
      "\u001b[1;32mC:\\Python3.8.3\\lib\\site-packages\\pandas\\core\\generic.py\u001b[0m in \u001b[0;36m__nonzero__\u001b[1;34m(self)\u001b[0m\n\u001b[0;32m   1476\u001b[0m \u001b[1;33m\u001b[0m\u001b[0m\n\u001b[0;32m   1477\u001b[0m     \u001b[1;32mdef\u001b[0m \u001b[0m__nonzero__\u001b[0m\u001b[1;33m(\u001b[0m\u001b[0mself\u001b[0m\u001b[1;33m)\u001b[0m\u001b[1;33m:\u001b[0m\u001b[1;33m\u001b[0m\u001b[1;33m\u001b[0m\u001b[0m\n\u001b[1;32m-> 1478\u001b[1;33m         raise ValueError(\n\u001b[0m\u001b[0;32m   1479\u001b[0m             \u001b[1;34mf\"The truth value of a {type(self).__name__} is ambiguous. \"\u001b[0m\u001b[1;33m\u001b[0m\u001b[1;33m\u001b[0m\u001b[0m\n\u001b[0;32m   1480\u001b[0m             \u001b[1;34m\"Use a.empty, a.bool(), a.item(), a.any() or a.all().\"\u001b[0m\u001b[1;33m\u001b[0m\u001b[1;33m\u001b[0m\u001b[0m\n",
      "\u001b[1;31mValueError\u001b[0m: The truth value of a DataFrame is ambiguous. Use a.empty, a.bool(), a.item(), a.any() or a.all()."
     ]
    }
   ],
   "source": [
    "final_df = None\n",
    "for elem in df_json_league:\n",
    "    df = pd.read_json(elem + '.json') \n",
    "    if final_df == None:  # First time\n",
    "        final_df = df\n",
    "    else:\n",
    "        final_df.append(df)\n",
    "\n",
    "final_df"
   ]
  },
  {
   "cell_type": "code",
   "execution_count": 23,
   "metadata": {},
   "outputs": [
    {
     "output_type": "execute_result",
     "data": {
      "text/plain": "    isNBAFranchise  isAllStar          city   altCityName            fullName  \\\n0            False       True           USA           USA                 USA   \n1            False       True         World         World               World   \n2            False       True          Team          Team           All-Stars   \n3            False       True          Team          Team           All-Stars   \n4            False       True  Team Giannis  Team Giannis        Team Giannis   \n..             ...        ...           ...           ...                 ...   \n29            True      False    Washington    Washington  Washington Wizards   \n0             True      False       Atlanta       Atlanta       Atlanta Hawks   \n1             True      False       Memphis       Memphis   Memphis Grizzlies   \n2             True      False   San Antonio   San Antonio   San Antonio Spurs   \n3             True      False          Utah          Utah           Utah Jazz   \n\n   tricode      teamId      nickname       urlName confName divName  \n0      USA  1610616843           USA           usa     East    East  \n1      WLD  1610616844         World         world     East    East  \n2      EST  1699999999     All-Stars     assn_away     East    East  \n3      WST  1699999998     All-Stars     assn_home     West    West  \n4      GNS  1610616833  Team Giannis  team_giannis     East    East  \n..     ...         ...           ...           ...      ...     ...  \n29     WAS  1610612764       Wizards       wizards   summer          \n0      ATL  1610612737         Hawks         hawks     Utah          \n1      MEM  1610612763     Grizzlies     grizzlies     Utah          \n2      SAS  1610612759         Spurs         spurs     Utah          \n3      UTA  1610612762          Jazz          jazz     Utah          \n\n[88 rows x 11 columns]",
      "text/html": "<div>\n<style scoped>\n    .dataframe tbody tr th:only-of-type {\n        vertical-align: middle;\n    }\n\n    .dataframe tbody tr th {\n        vertical-align: top;\n    }\n\n    .dataframe thead th {\n        text-align: right;\n    }\n</style>\n<table border=\"1\" class=\"dataframe\">\n  <thead>\n    <tr style=\"text-align: right;\">\n      <th></th>\n      <th>isNBAFranchise</th>\n      <th>isAllStar</th>\n      <th>city</th>\n      <th>altCityName</th>\n      <th>fullName</th>\n      <th>tricode</th>\n      <th>teamId</th>\n      <th>nickname</th>\n      <th>urlName</th>\n      <th>confName</th>\n      <th>divName</th>\n    </tr>\n  </thead>\n  <tbody>\n    <tr>\n      <th>0</th>\n      <td>False</td>\n      <td>True</td>\n      <td>USA</td>\n      <td>USA</td>\n      <td>USA</td>\n      <td>USA</td>\n      <td>1610616843</td>\n      <td>USA</td>\n      <td>usa</td>\n      <td>East</td>\n      <td>East</td>\n    </tr>\n    <tr>\n      <th>1</th>\n      <td>False</td>\n      <td>True</td>\n      <td>World</td>\n      <td>World</td>\n      <td>World</td>\n      <td>WLD</td>\n      <td>1610616844</td>\n      <td>World</td>\n      <td>world</td>\n      <td>East</td>\n      <td>East</td>\n    </tr>\n    <tr>\n      <th>2</th>\n      <td>False</td>\n      <td>True</td>\n      <td>Team</td>\n      <td>Team</td>\n      <td>All-Stars</td>\n      <td>EST</td>\n      <td>1699999999</td>\n      <td>All-Stars</td>\n      <td>assn_away</td>\n      <td>East</td>\n      <td>East</td>\n    </tr>\n    <tr>\n      <th>3</th>\n      <td>False</td>\n      <td>True</td>\n      <td>Team</td>\n      <td>Team</td>\n      <td>All-Stars</td>\n      <td>WST</td>\n      <td>1699999998</td>\n      <td>All-Stars</td>\n      <td>assn_home</td>\n      <td>West</td>\n      <td>West</td>\n    </tr>\n    <tr>\n      <th>4</th>\n      <td>False</td>\n      <td>True</td>\n      <td>Team Giannis</td>\n      <td>Team Giannis</td>\n      <td>Team Giannis</td>\n      <td>GNS</td>\n      <td>1610616833</td>\n      <td>Team Giannis</td>\n      <td>team_giannis</td>\n      <td>East</td>\n      <td>East</td>\n    </tr>\n    <tr>\n      <th>...</th>\n      <td>...</td>\n      <td>...</td>\n      <td>...</td>\n      <td>...</td>\n      <td>...</td>\n      <td>...</td>\n      <td>...</td>\n      <td>...</td>\n      <td>...</td>\n      <td>...</td>\n      <td>...</td>\n    </tr>\n    <tr>\n      <th>29</th>\n      <td>True</td>\n      <td>False</td>\n      <td>Washington</td>\n      <td>Washington</td>\n      <td>Washington Wizards</td>\n      <td>WAS</td>\n      <td>1610612764</td>\n      <td>Wizards</td>\n      <td>wizards</td>\n      <td>summer</td>\n      <td></td>\n    </tr>\n    <tr>\n      <th>0</th>\n      <td>True</td>\n      <td>False</td>\n      <td>Atlanta</td>\n      <td>Atlanta</td>\n      <td>Atlanta Hawks</td>\n      <td>ATL</td>\n      <td>1610612737</td>\n      <td>Hawks</td>\n      <td>hawks</td>\n      <td>Utah</td>\n      <td></td>\n    </tr>\n    <tr>\n      <th>1</th>\n      <td>True</td>\n      <td>False</td>\n      <td>Memphis</td>\n      <td>Memphis</td>\n      <td>Memphis Grizzlies</td>\n      <td>MEM</td>\n      <td>1610612763</td>\n      <td>Grizzlies</td>\n      <td>grizzlies</td>\n      <td>Utah</td>\n      <td></td>\n    </tr>\n    <tr>\n      <th>2</th>\n      <td>True</td>\n      <td>False</td>\n      <td>San Antonio</td>\n      <td>San Antonio</td>\n      <td>San Antonio Spurs</td>\n      <td>SAS</td>\n      <td>1610612759</td>\n      <td>Spurs</td>\n      <td>spurs</td>\n      <td>Utah</td>\n      <td></td>\n    </tr>\n    <tr>\n      <th>3</th>\n      <td>True</td>\n      <td>False</td>\n      <td>Utah</td>\n      <td>Utah</td>\n      <td>Utah Jazz</td>\n      <td>UTA</td>\n      <td>1610612762</td>\n      <td>Jazz</td>\n      <td>jazz</td>\n      <td>Utah</td>\n      <td></td>\n    </tr>\n  </tbody>\n</table>\n<p>88 rows × 11 columns</p>\n</div>"
     },
     "metadata": {},
     "execution_count": 23
    }
   ],
   "source": [
    "final_dfs = []\n",
    "for elem in df_json_league:\n",
    "    df = pd.read_json(elem + '.json') \n",
    "    final_dfs.append(df)\n",
    "\n",
    "pd.concat(final_dfs, axis=0)"
   ]
  }
 ],
 "metadata": {
  "language_info": {
   "name": "python",
   "codemirror_mode": {
    "name": "ipython",
    "version": 3
   },
   "version": "3.6.4-final"
  },
  "orig_nbformat": 2,
  "file_extension": ".py",
  "mimetype": "text/x-python",
  "name": "python",
  "npconvert_exporter": "python",
  "pygments_lexer": "ipython3",
  "version": 3,
  "kernelspec": {
   "name": "python_defaultSpec_1596020750245",
   "display_name": "Python 3.8.3 32-bit"
  }
 },
 "nbformat": 4,
 "nbformat_minor": 2
}