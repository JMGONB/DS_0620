{
 "cells": [
  {
   "cell_type": "markdown",
   "metadata": {},
   "source": [
    "# Examen Pandas - Unidad 1"
   ]
  },
  {
   "cell_type": "markdown",
   "metadata": {},
   "source": [
    "### Data Science The Bridge - 2020"
   ]
  },
  {
   "cell_type": "markdown",
   "metadata": {},
   "source": [
    "Primero de todo, importa la que seguro es ya tu librería favorita y que vas a necesitar, seguro, para realizar este examen. "
   ]
  },
  {
   "cell_type": "code",
   "execution_count": 1028,
   "metadata": {},
   "outputs": [],
   "source": [
    "# no borres esto y ejecútalo junto con tu librería favorita\n",
    "import warnings\n",
    "warnings.simplefilter(action='ignore')\n",
    "\n",
    "# aquí tu librería favorita"
   ]
  },
  {
   "cell_type": "code",
   "execution_count": 1029,
   "metadata": {},
   "outputs": [],
   "source": [
    "import pandas as pd"
   ]
  },
  {
   "cell_type": "markdown",
   "metadata": {},
   "source": [
    "Para trabajar con **pandas** lo primero que necesitarás, son datos, en la vida real deberías entrar en este enlace de **kaggle** y descargar el dataset: https://www.kaggle.com/neuromusic/avocado-prices. Con el fin de poder leer el `.csv` sin problema, habría que copiarlo en la misma carpeta donde se encuentra este archivo `.ipynb`. \n",
    "\n",
    "Pero como esto es un examen, ya lo tienes en esta carpeta, por lo que solo tienes que leerlo. Asígnalo a la variable `avocado` y muestra las primeras 5 filas. \n",
    "\n",
    "**AVISO**: Al llamar a la función que lee el `.csv` no uses ningún argumento, solo el nombre del archivo `\"avocado_kaggle.csv\"`. "
   ]
  },
  {
   "cell_type": "code",
   "execution_count": 1030,
   "metadata": {},
   "outputs": [],
   "source": [
    "address=\"https://www.kaggle.com/neuromusic/avocado-prices\""
   ]
  },
  {
   "cell_type": "code",
   "execution_count": 1031,
   "metadata": {},
   "outputs": [
    {
     "output_type": "execute_result",
     "data": {
      "text/plain": "       Unnamed: 0        Date  AveragePrice  Total Volume     4046       4225  \\\n0               0  2015-12-27          1.33      64236.62  1036.74   54454.85   \n1               1  2015-12-20          1.35      54876.98   674.28   44638.81   \n2               2  2015-12-13          0.93     118220.22   794.70  109149.67   \n3               3  2015-12-06          1.08      78992.15  1132.00   71976.41   \n4               4  2015-11-29          1.28      51039.60   941.48   43838.39   \n...           ...         ...           ...           ...      ...        ...   \n18244           7  2018-02-04          1.63      17074.83  2046.96    1529.20   \n18245           8  2018-01-28          1.71      13888.04  1191.70    3431.50   \n18246           9  2018-01-21          1.87      13766.76  1191.92    2452.79   \n18247          10  2018-01-14          1.93      16205.22  1527.63    2981.04   \n18248          11  2018-01-07          1.62      17489.58  2894.77    2356.13   \n\n         4770  Total Bags  Small Bags  Large Bags  XLarge Bags          type  \\\n0       48.16     8696.87     8603.62       93.25          0.0  conventional   \n1       58.33     9505.56     9408.07       97.49          0.0  conventional   \n2      130.50     8145.35     8042.21      103.14          0.0  conventional   \n3       72.58     5811.16     5677.40      133.76          0.0  conventional   \n4       75.78     6183.95     5986.26      197.69          0.0  conventional   \n...       ...         ...         ...         ...          ...           ...   \n18244    0.00    13498.67    13066.82      431.85          0.0       organic   \n18245    0.00     9264.84     8940.04      324.80          0.0       organic   \n18246  727.94     9394.11     9351.80       42.31          0.0       organic   \n18247  727.01    10969.54    10919.54       50.00          0.0       organic   \n18248  224.53    12014.15    11988.14       26.01          0.0       organic   \n\n       year            region  \n0      2015            Albany  \n1      2015            Albany  \n2      2015            Albany  \n3      2015            Albany  \n4      2015            Albany  \n...     ...               ...  \n18244  2018  WestTexNewMexico  \n18245  2018  WestTexNewMexico  \n18246  2018  WestTexNewMexico  \n18247  2018  WestTexNewMexico  \n18248  2018  WestTexNewMexico  \n\n[18249 rows x 14 columns]",
      "text/html": "<div>\n<style scoped>\n    .dataframe tbody tr th:only-of-type {\n        vertical-align: middle;\n    }\n\n    .dataframe tbody tr th {\n        vertical-align: top;\n    }\n\n    .dataframe thead th {\n        text-align: right;\n    }\n</style>\n<table border=\"1\" class=\"dataframe\">\n  <thead>\n    <tr style=\"text-align: right;\">\n      <th></th>\n      <th>Unnamed: 0</th>\n      <th>Date</th>\n      <th>AveragePrice</th>\n      <th>Total Volume</th>\n      <th>4046</th>\n      <th>4225</th>\n      <th>4770</th>\n      <th>Total Bags</th>\n      <th>Small Bags</th>\n      <th>Large Bags</th>\n      <th>XLarge Bags</th>\n      <th>type</th>\n      <th>year</th>\n      <th>region</th>\n    </tr>\n  </thead>\n  <tbody>\n    <tr>\n      <th>0</th>\n      <td>0</td>\n      <td>2015-12-27</td>\n      <td>1.33</td>\n      <td>64236.62</td>\n      <td>1036.74</td>\n      <td>54454.85</td>\n      <td>48.16</td>\n      <td>8696.87</td>\n      <td>8603.62</td>\n      <td>93.25</td>\n      <td>0.0</td>\n      <td>conventional</td>\n      <td>2015</td>\n      <td>Albany</td>\n    </tr>\n    <tr>\n      <th>1</th>\n      <td>1</td>\n      <td>2015-12-20</td>\n      <td>1.35</td>\n      <td>54876.98</td>\n      <td>674.28</td>\n      <td>44638.81</td>\n      <td>58.33</td>\n      <td>9505.56</td>\n      <td>9408.07</td>\n      <td>97.49</td>\n      <td>0.0</td>\n      <td>conventional</td>\n      <td>2015</td>\n      <td>Albany</td>\n    </tr>\n    <tr>\n      <th>2</th>\n      <td>2</td>\n      <td>2015-12-13</td>\n      <td>0.93</td>\n      <td>118220.22</td>\n      <td>794.70</td>\n      <td>109149.67</td>\n      <td>130.50</td>\n      <td>8145.35</td>\n      <td>8042.21</td>\n      <td>103.14</td>\n      <td>0.0</td>\n      <td>conventional</td>\n      <td>2015</td>\n      <td>Albany</td>\n    </tr>\n    <tr>\n      <th>3</th>\n      <td>3</td>\n      <td>2015-12-06</td>\n      <td>1.08</td>\n      <td>78992.15</td>\n      <td>1132.00</td>\n      <td>71976.41</td>\n      <td>72.58</td>\n      <td>5811.16</td>\n      <td>5677.40</td>\n      <td>133.76</td>\n      <td>0.0</td>\n      <td>conventional</td>\n      <td>2015</td>\n      <td>Albany</td>\n    </tr>\n    <tr>\n      <th>4</th>\n      <td>4</td>\n      <td>2015-11-29</td>\n      <td>1.28</td>\n      <td>51039.60</td>\n      <td>941.48</td>\n      <td>43838.39</td>\n      <td>75.78</td>\n      <td>6183.95</td>\n      <td>5986.26</td>\n      <td>197.69</td>\n      <td>0.0</td>\n      <td>conventional</td>\n      <td>2015</td>\n      <td>Albany</td>\n    </tr>\n    <tr>\n      <th>...</th>\n      <td>...</td>\n      <td>...</td>\n      <td>...</td>\n      <td>...</td>\n      <td>...</td>\n      <td>...</td>\n      <td>...</td>\n      <td>...</td>\n      <td>...</td>\n      <td>...</td>\n      <td>...</td>\n      <td>...</td>\n      <td>...</td>\n      <td>...</td>\n    </tr>\n    <tr>\n      <th>18244</th>\n      <td>7</td>\n      <td>2018-02-04</td>\n      <td>1.63</td>\n      <td>17074.83</td>\n      <td>2046.96</td>\n      <td>1529.20</td>\n      <td>0.00</td>\n      <td>13498.67</td>\n      <td>13066.82</td>\n      <td>431.85</td>\n      <td>0.0</td>\n      <td>organic</td>\n      <td>2018</td>\n      <td>WestTexNewMexico</td>\n    </tr>\n    <tr>\n      <th>18245</th>\n      <td>8</td>\n      <td>2018-01-28</td>\n      <td>1.71</td>\n      <td>13888.04</td>\n      <td>1191.70</td>\n      <td>3431.50</td>\n      <td>0.00</td>\n      <td>9264.84</td>\n      <td>8940.04</td>\n      <td>324.80</td>\n      <td>0.0</td>\n      <td>organic</td>\n      <td>2018</td>\n      <td>WestTexNewMexico</td>\n    </tr>\n    <tr>\n      <th>18246</th>\n      <td>9</td>\n      <td>2018-01-21</td>\n      <td>1.87</td>\n      <td>13766.76</td>\n      <td>1191.92</td>\n      <td>2452.79</td>\n      <td>727.94</td>\n      <td>9394.11</td>\n      <td>9351.80</td>\n      <td>42.31</td>\n      <td>0.0</td>\n      <td>organic</td>\n      <td>2018</td>\n      <td>WestTexNewMexico</td>\n    </tr>\n    <tr>\n      <th>18247</th>\n      <td>10</td>\n      <td>2018-01-14</td>\n      <td>1.93</td>\n      <td>16205.22</td>\n      <td>1527.63</td>\n      <td>2981.04</td>\n      <td>727.01</td>\n      <td>10969.54</td>\n      <td>10919.54</td>\n      <td>50.00</td>\n      <td>0.0</td>\n      <td>organic</td>\n      <td>2018</td>\n      <td>WestTexNewMexico</td>\n    </tr>\n    <tr>\n      <th>18248</th>\n      <td>11</td>\n      <td>2018-01-07</td>\n      <td>1.62</td>\n      <td>17489.58</td>\n      <td>2894.77</td>\n      <td>2356.13</td>\n      <td>224.53</td>\n      <td>12014.15</td>\n      <td>11988.14</td>\n      <td>26.01</td>\n      <td>0.0</td>\n      <td>organic</td>\n      <td>2018</td>\n      <td>WestTexNewMexico</td>\n    </tr>\n  </tbody>\n</table>\n<p>18249 rows × 14 columns</p>\n</div>"
     },
     "metadata": {},
     "execution_count": 1031
    }
   ],
   "source": [
    "avocado = pd.read_csv(\"avocado_kaggle.csv\")\n",
    "avocado"
   ]
  },
  {
   "cell_type": "code",
   "execution_count": 1032,
   "metadata": {},
   "outputs": [
    {
     "output_type": "execute_result",
     "data": {
      "text/plain": "   Unnamed: 0        Date  AveragePrice  Total Volume     4046       4225  \\\n0           0  2015-12-27          1.33      64236.62  1036.74   54454.85   \n1           1  2015-12-20          1.35      54876.98   674.28   44638.81   \n2           2  2015-12-13          0.93     118220.22   794.70  109149.67   \n3           3  2015-12-06          1.08      78992.15  1132.00   71976.41   \n4           4  2015-11-29          1.28      51039.60   941.48   43838.39   \n\n     4770  Total Bags  Small Bags  Large Bags  XLarge Bags          type  \\\n0   48.16     8696.87     8603.62       93.25          0.0  conventional   \n1   58.33     9505.56     9408.07       97.49          0.0  conventional   \n2  130.50     8145.35     8042.21      103.14          0.0  conventional   \n3   72.58     5811.16     5677.40      133.76          0.0  conventional   \n4   75.78     6183.95     5986.26      197.69          0.0  conventional   \n\n   year  region  \n0  2015  Albany  \n1  2015  Albany  \n2  2015  Albany  \n3  2015  Albany  \n4  2015  Albany  ",
      "text/html": "<div>\n<style scoped>\n    .dataframe tbody tr th:only-of-type {\n        vertical-align: middle;\n    }\n\n    .dataframe tbody tr th {\n        vertical-align: top;\n    }\n\n    .dataframe thead th {\n        text-align: right;\n    }\n</style>\n<table border=\"1\" class=\"dataframe\">\n  <thead>\n    <tr style=\"text-align: right;\">\n      <th></th>\n      <th>Unnamed: 0</th>\n      <th>Date</th>\n      <th>AveragePrice</th>\n      <th>Total Volume</th>\n      <th>4046</th>\n      <th>4225</th>\n      <th>4770</th>\n      <th>Total Bags</th>\n      <th>Small Bags</th>\n      <th>Large Bags</th>\n      <th>XLarge Bags</th>\n      <th>type</th>\n      <th>year</th>\n      <th>region</th>\n    </tr>\n  </thead>\n  <tbody>\n    <tr>\n      <th>0</th>\n      <td>0</td>\n      <td>2015-12-27</td>\n      <td>1.33</td>\n      <td>64236.62</td>\n      <td>1036.74</td>\n      <td>54454.85</td>\n      <td>48.16</td>\n      <td>8696.87</td>\n      <td>8603.62</td>\n      <td>93.25</td>\n      <td>0.0</td>\n      <td>conventional</td>\n      <td>2015</td>\n      <td>Albany</td>\n    </tr>\n    <tr>\n      <th>1</th>\n      <td>1</td>\n      <td>2015-12-20</td>\n      <td>1.35</td>\n      <td>54876.98</td>\n      <td>674.28</td>\n      <td>44638.81</td>\n      <td>58.33</td>\n      <td>9505.56</td>\n      <td>9408.07</td>\n      <td>97.49</td>\n      <td>0.0</td>\n      <td>conventional</td>\n      <td>2015</td>\n      <td>Albany</td>\n    </tr>\n    <tr>\n      <th>2</th>\n      <td>2</td>\n      <td>2015-12-13</td>\n      <td>0.93</td>\n      <td>118220.22</td>\n      <td>794.70</td>\n      <td>109149.67</td>\n      <td>130.50</td>\n      <td>8145.35</td>\n      <td>8042.21</td>\n      <td>103.14</td>\n      <td>0.0</td>\n      <td>conventional</td>\n      <td>2015</td>\n      <td>Albany</td>\n    </tr>\n    <tr>\n      <th>3</th>\n      <td>3</td>\n      <td>2015-12-06</td>\n      <td>1.08</td>\n      <td>78992.15</td>\n      <td>1132.00</td>\n      <td>71976.41</td>\n      <td>72.58</td>\n      <td>5811.16</td>\n      <td>5677.40</td>\n      <td>133.76</td>\n      <td>0.0</td>\n      <td>conventional</td>\n      <td>2015</td>\n      <td>Albany</td>\n    </tr>\n    <tr>\n      <th>4</th>\n      <td>4</td>\n      <td>2015-11-29</td>\n      <td>1.28</td>\n      <td>51039.60</td>\n      <td>941.48</td>\n      <td>43838.39</td>\n      <td>75.78</td>\n      <td>6183.95</td>\n      <td>5986.26</td>\n      <td>197.69</td>\n      <td>0.0</td>\n      <td>conventional</td>\n      <td>2015</td>\n      <td>Albany</td>\n    </tr>\n  </tbody>\n</table>\n</div>"
     },
     "metadata": {},
     "execution_count": 1032
    }
   ],
   "source": [
    "avocado.head(5)"
   ]
  },
  {
   "cell_type": "markdown",
   "metadata": {},
   "source": [
    "Lo primero que debe hacer un Data Scientist es conocer los datos con los que está trabajando, por esto, explora el dataset:\n",
    "- sacando los nombres de las distintas columnas, \n",
    "- qué tipo de datos contienen estas columnas, \n",
    "- cuántas filas y columnas tiene el dataframe,\n",
    "- además de un marco de datos de estadísticas descriptivas de dicho dataframe.\n",
    "\n",
    "Utiliza la función/funciones que te parezcan mejor para hacer dicha exploración. "
   ]
  },
  {
   "cell_type": "code",
   "execution_count": 1033,
   "metadata": {},
   "outputs": [
    {
     "output_type": "execute_result",
     "data": {
      "text/plain": "Index(['Unnamed: 0', 'Date', 'AveragePrice', 'Total Volume', '4046', '4225',\n       '4770', 'Total Bags', 'Small Bags', 'Large Bags', 'XLarge Bags', 'type',\n       'year', 'region'],\n      dtype='object')"
     },
     "metadata": {},
     "execution_count": 1033
    }
   ],
   "source": [
    "avocado.columns  #Nombres de columnas"
   ]
  },
  {
   "cell_type": "code",
   "execution_count": 1034,
   "metadata": {},
   "outputs": [
    {
     "output_type": "execute_result",
     "data": {
      "text/plain": "Index(['Unnamed: 0', 'Date', 'AveragePrice', 'Total Volume', '4046', '4225',\n       '4770', 'Total Bags', 'Small Bags', 'Large Bags', 'XLarge Bags', 'type',\n       'year', 'region'],\n      dtype='object')"
     },
     "metadata": {},
     "execution_count": 1034
    }
   ],
   "source": [
    "avocado.columns"
   ]
  },
  {
   "cell_type": "code",
   "execution_count": 1035,
   "metadata": {},
   "outputs": [
    {
     "output_type": "execute_result",
     "data": {
      "text/plain": "(18249, 14)"
     },
     "metadata": {},
     "execution_count": 1035
    }
   ],
   "source": [
    "avocado.shape"
   ]
  },
  {
   "cell_type": "code",
   "execution_count": 1036,
   "metadata": {},
   "outputs": [
    {
     "output_type": "execute_result",
     "data": {
      "text/plain": "         Unnamed: 0  AveragePrice  Total Volume          4046          4225  \\\ncount  18249.000000  18249.000000  1.824900e+04  1.824900e+04  1.824900e+04   \nmean      24.232232      1.405978  8.506440e+05  2.930084e+05  2.951546e+05   \nstd       15.481045      0.402677  3.453545e+06  1.264989e+06  1.204120e+06   \nmin        0.000000      0.440000  8.456000e+01  0.000000e+00  0.000000e+00   \n25%       10.000000      1.100000  1.083858e+04  8.540700e+02  3.008780e+03   \n50%       24.000000      1.370000  1.073768e+05  8.645300e+03  2.906102e+04   \n75%       38.000000      1.660000  4.329623e+05  1.110202e+05  1.502069e+05   \nmax       52.000000      3.250000  6.250565e+07  2.274362e+07  2.047057e+07   \n\n               4770    Total Bags    Small Bags    Large Bags    XLarge Bags  \\\ncount  1.824900e+04  1.824900e+04  1.824900e+04  1.824900e+04   18249.000000   \nmean   2.283974e+04  2.396392e+05  1.821947e+05  5.433809e+04    3106.426507   \nstd    1.074641e+05  9.862424e+05  7.461785e+05  2.439660e+05   17692.894652   \nmin    0.000000e+00  0.000000e+00  0.000000e+00  0.000000e+00       0.000000   \n25%    0.000000e+00  5.088640e+03  2.849420e+03  1.274700e+02       0.000000   \n50%    1.849900e+02  3.974383e+04  2.636282e+04  2.647710e+03       0.000000   \n75%    6.243420e+03  1.107834e+05  8.333767e+04  2.202925e+04     132.500000   \nmax    2.546439e+06  1.937313e+07  1.338459e+07  5.719097e+06  551693.650000   \n\n               year  \ncount  18249.000000  \nmean    2016.147899  \nstd        0.939938  \nmin     2015.000000  \n25%     2015.000000  \n50%     2016.000000  \n75%     2017.000000  \nmax     2018.000000  ",
      "text/html": "<div>\n<style scoped>\n    .dataframe tbody tr th:only-of-type {\n        vertical-align: middle;\n    }\n\n    .dataframe tbody tr th {\n        vertical-align: top;\n    }\n\n    .dataframe thead th {\n        text-align: right;\n    }\n</style>\n<table border=\"1\" class=\"dataframe\">\n  <thead>\n    <tr style=\"text-align: right;\">\n      <th></th>\n      <th>Unnamed: 0</th>\n      <th>AveragePrice</th>\n      <th>Total Volume</th>\n      <th>4046</th>\n      <th>4225</th>\n      <th>4770</th>\n      <th>Total Bags</th>\n      <th>Small Bags</th>\n      <th>Large Bags</th>\n      <th>XLarge Bags</th>\n      <th>year</th>\n    </tr>\n  </thead>\n  <tbody>\n    <tr>\n      <th>count</th>\n      <td>18249.000000</td>\n      <td>18249.000000</td>\n      <td>1.824900e+04</td>\n      <td>1.824900e+04</td>\n      <td>1.824900e+04</td>\n      <td>1.824900e+04</td>\n      <td>1.824900e+04</td>\n      <td>1.824900e+04</td>\n      <td>1.824900e+04</td>\n      <td>18249.000000</td>\n      <td>18249.000000</td>\n    </tr>\n    <tr>\n      <th>mean</th>\n      <td>24.232232</td>\n      <td>1.405978</td>\n      <td>8.506440e+05</td>\n      <td>2.930084e+05</td>\n      <td>2.951546e+05</td>\n      <td>2.283974e+04</td>\n      <td>2.396392e+05</td>\n      <td>1.821947e+05</td>\n      <td>5.433809e+04</td>\n      <td>3106.426507</td>\n      <td>2016.147899</td>\n    </tr>\n    <tr>\n      <th>std</th>\n      <td>15.481045</td>\n      <td>0.402677</td>\n      <td>3.453545e+06</td>\n      <td>1.264989e+06</td>\n      <td>1.204120e+06</td>\n      <td>1.074641e+05</td>\n      <td>9.862424e+05</td>\n      <td>7.461785e+05</td>\n      <td>2.439660e+05</td>\n      <td>17692.894652</td>\n      <td>0.939938</td>\n    </tr>\n    <tr>\n      <th>min</th>\n      <td>0.000000</td>\n      <td>0.440000</td>\n      <td>8.456000e+01</td>\n      <td>0.000000e+00</td>\n      <td>0.000000e+00</td>\n      <td>0.000000e+00</td>\n      <td>0.000000e+00</td>\n      <td>0.000000e+00</td>\n      <td>0.000000e+00</td>\n      <td>0.000000</td>\n      <td>2015.000000</td>\n    </tr>\n    <tr>\n      <th>25%</th>\n      <td>10.000000</td>\n      <td>1.100000</td>\n      <td>1.083858e+04</td>\n      <td>8.540700e+02</td>\n      <td>3.008780e+03</td>\n      <td>0.000000e+00</td>\n      <td>5.088640e+03</td>\n      <td>2.849420e+03</td>\n      <td>1.274700e+02</td>\n      <td>0.000000</td>\n      <td>2015.000000</td>\n    </tr>\n    <tr>\n      <th>50%</th>\n      <td>24.000000</td>\n      <td>1.370000</td>\n      <td>1.073768e+05</td>\n      <td>8.645300e+03</td>\n      <td>2.906102e+04</td>\n      <td>1.849900e+02</td>\n      <td>3.974383e+04</td>\n      <td>2.636282e+04</td>\n      <td>2.647710e+03</td>\n      <td>0.000000</td>\n      <td>2016.000000</td>\n    </tr>\n    <tr>\n      <th>75%</th>\n      <td>38.000000</td>\n      <td>1.660000</td>\n      <td>4.329623e+05</td>\n      <td>1.110202e+05</td>\n      <td>1.502069e+05</td>\n      <td>6.243420e+03</td>\n      <td>1.107834e+05</td>\n      <td>8.333767e+04</td>\n      <td>2.202925e+04</td>\n      <td>132.500000</td>\n      <td>2017.000000</td>\n    </tr>\n    <tr>\n      <th>max</th>\n      <td>52.000000</td>\n      <td>3.250000</td>\n      <td>6.250565e+07</td>\n      <td>2.274362e+07</td>\n      <td>2.047057e+07</td>\n      <td>2.546439e+06</td>\n      <td>1.937313e+07</td>\n      <td>1.338459e+07</td>\n      <td>5.719097e+06</td>\n      <td>551693.650000</td>\n      <td>2018.000000</td>\n    </tr>\n  </tbody>\n</table>\n</div>"
     },
     "metadata": {},
     "execution_count": 1036
    }
   ],
   "source": [
    "df2=avocado.describe()\n",
    "df2"
   ]
  },
  {
   "cell_type": "markdown",
   "metadata": {},
   "source": [
    "Muestra el index número **2904** de la columna `Date`. "
   ]
  },
  {
   "cell_type": "code",
   "execution_count": 1037,
   "metadata": {},
   "outputs": [
    {
     "output_type": "execute_result",
     "data": {
      "text/plain": "Date    2016-02-21\nName: 2904, dtype: object"
     },
     "metadata": {},
     "execution_count": 1037
    }
   ],
   "source": [
    " avocado.iloc[2904,:].loc[[\"Date\"]]"
   ]
  },
  {
   "cell_type": "markdown",
   "metadata": {},
   "source": [
    "¿De qué tipo es este valor? "
   ]
  },
  {
   "cell_type": "markdown",
   "metadata": {},
   "source": [
    "Esta columna contiene fechas, por lo que para poder trabajarla como tal, pásala a tipo `datetime64[ns]`.\n",
    "\n",
    "Existe una forma de importar el archivo `.csv` estableciendo la columna `Date` como el index, si has hecho esto al importar el archivo, a pesar del AVISO, vuelve a importarlo sin incluir argumentos. "
   ]
  },
  {
   "cell_type": "code",
   "execution_count": 1038,
   "metadata": {},
   "outputs": [],
   "source": [
    "avocado.set_index('Date', inplace=True)\n"
   ]
  },
  {
   "cell_type": "code",
   "execution_count": 1039,
   "metadata": {},
   "outputs": [
    {
     "output_type": "execute_result",
     "data": {
      "text/plain": "            Unnamed: 0  AveragePrice  Total Volume     4046       4225  \\\nDate                                                                     \n2015-12-27           0          1.33      64236.62  1036.74   54454.85   \n2015-12-20           1          1.35      54876.98   674.28   44638.81   \n2015-12-13           2          0.93     118220.22   794.70  109149.67   \n2015-12-06           3          1.08      78992.15  1132.00   71976.41   \n2015-11-29           4          1.28      51039.60   941.48   43838.39   \n...                ...           ...           ...      ...        ...   \n2018-02-04           7          1.63      17074.83  2046.96    1529.20   \n2018-01-28           8          1.71      13888.04  1191.70    3431.50   \n2018-01-21           9          1.87      13766.76  1191.92    2452.79   \n2018-01-14          10          1.93      16205.22  1527.63    2981.04   \n2018-01-07          11          1.62      17489.58  2894.77    2356.13   \n\n              4770  Total Bags  Small Bags  Large Bags  XLarge Bags  \\\nDate                                                                  \n2015-12-27   48.16     8696.87     8603.62       93.25          0.0   \n2015-12-20   58.33     9505.56     9408.07       97.49          0.0   \n2015-12-13  130.50     8145.35     8042.21      103.14          0.0   \n2015-12-06   72.58     5811.16     5677.40      133.76          0.0   \n2015-11-29   75.78     6183.95     5986.26      197.69          0.0   \n...            ...         ...         ...         ...          ...   \n2018-02-04    0.00    13498.67    13066.82      431.85          0.0   \n2018-01-28    0.00     9264.84     8940.04      324.80          0.0   \n2018-01-21  727.94     9394.11     9351.80       42.31          0.0   \n2018-01-14  727.01    10969.54    10919.54       50.00          0.0   \n2018-01-07  224.53    12014.15    11988.14       26.01          0.0   \n\n                    type  year            region  \nDate                                              \n2015-12-27  conventional  2015            Albany  \n2015-12-20  conventional  2015            Albany  \n2015-12-13  conventional  2015            Albany  \n2015-12-06  conventional  2015            Albany  \n2015-11-29  conventional  2015            Albany  \n...                  ...   ...               ...  \n2018-02-04       organic  2018  WestTexNewMexico  \n2018-01-28       organic  2018  WestTexNewMexico  \n2018-01-21       organic  2018  WestTexNewMexico  \n2018-01-14       organic  2018  WestTexNewMexico  \n2018-01-07       organic  2018  WestTexNewMexico  \n\n[18249 rows x 13 columns]",
      "text/html": "<div>\n<style scoped>\n    .dataframe tbody tr th:only-of-type {\n        vertical-align: middle;\n    }\n\n    .dataframe tbody tr th {\n        vertical-align: top;\n    }\n\n    .dataframe thead th {\n        text-align: right;\n    }\n</style>\n<table border=\"1\" class=\"dataframe\">\n  <thead>\n    <tr style=\"text-align: right;\">\n      <th></th>\n      <th>Unnamed: 0</th>\n      <th>AveragePrice</th>\n      <th>Total Volume</th>\n      <th>4046</th>\n      <th>4225</th>\n      <th>4770</th>\n      <th>Total Bags</th>\n      <th>Small Bags</th>\n      <th>Large Bags</th>\n      <th>XLarge Bags</th>\n      <th>type</th>\n      <th>year</th>\n      <th>region</th>\n    </tr>\n    <tr>\n      <th>Date</th>\n      <th></th>\n      <th></th>\n      <th></th>\n      <th></th>\n      <th></th>\n      <th></th>\n      <th></th>\n      <th></th>\n      <th></th>\n      <th></th>\n      <th></th>\n      <th></th>\n      <th></th>\n    </tr>\n  </thead>\n  <tbody>\n    <tr>\n      <th>2015-12-27</th>\n      <td>0</td>\n      <td>1.33</td>\n      <td>64236.62</td>\n      <td>1036.74</td>\n      <td>54454.85</td>\n      <td>48.16</td>\n      <td>8696.87</td>\n      <td>8603.62</td>\n      <td>93.25</td>\n      <td>0.0</td>\n      <td>conventional</td>\n      <td>2015</td>\n      <td>Albany</td>\n    </tr>\n    <tr>\n      <th>2015-12-20</th>\n      <td>1</td>\n      <td>1.35</td>\n      <td>54876.98</td>\n      <td>674.28</td>\n      <td>44638.81</td>\n      <td>58.33</td>\n      <td>9505.56</td>\n      <td>9408.07</td>\n      <td>97.49</td>\n      <td>0.0</td>\n      <td>conventional</td>\n      <td>2015</td>\n      <td>Albany</td>\n    </tr>\n    <tr>\n      <th>2015-12-13</th>\n      <td>2</td>\n      <td>0.93</td>\n      <td>118220.22</td>\n      <td>794.70</td>\n      <td>109149.67</td>\n      <td>130.50</td>\n      <td>8145.35</td>\n      <td>8042.21</td>\n      <td>103.14</td>\n      <td>0.0</td>\n      <td>conventional</td>\n      <td>2015</td>\n      <td>Albany</td>\n    </tr>\n    <tr>\n      <th>2015-12-06</th>\n      <td>3</td>\n      <td>1.08</td>\n      <td>78992.15</td>\n      <td>1132.00</td>\n      <td>71976.41</td>\n      <td>72.58</td>\n      <td>5811.16</td>\n      <td>5677.40</td>\n      <td>133.76</td>\n      <td>0.0</td>\n      <td>conventional</td>\n      <td>2015</td>\n      <td>Albany</td>\n    </tr>\n    <tr>\n      <th>2015-11-29</th>\n      <td>4</td>\n      <td>1.28</td>\n      <td>51039.60</td>\n      <td>941.48</td>\n      <td>43838.39</td>\n      <td>75.78</td>\n      <td>6183.95</td>\n      <td>5986.26</td>\n      <td>197.69</td>\n      <td>0.0</td>\n      <td>conventional</td>\n      <td>2015</td>\n      <td>Albany</td>\n    </tr>\n    <tr>\n      <th>...</th>\n      <td>...</td>\n      <td>...</td>\n      <td>...</td>\n      <td>...</td>\n      <td>...</td>\n      <td>...</td>\n      <td>...</td>\n      <td>...</td>\n      <td>...</td>\n      <td>...</td>\n      <td>...</td>\n      <td>...</td>\n      <td>...</td>\n    </tr>\n    <tr>\n      <th>2018-02-04</th>\n      <td>7</td>\n      <td>1.63</td>\n      <td>17074.83</td>\n      <td>2046.96</td>\n      <td>1529.20</td>\n      <td>0.00</td>\n      <td>13498.67</td>\n      <td>13066.82</td>\n      <td>431.85</td>\n      <td>0.0</td>\n      <td>organic</td>\n      <td>2018</td>\n      <td>WestTexNewMexico</td>\n    </tr>\n    <tr>\n      <th>2018-01-28</th>\n      <td>8</td>\n      <td>1.71</td>\n      <td>13888.04</td>\n      <td>1191.70</td>\n      <td>3431.50</td>\n      <td>0.00</td>\n      <td>9264.84</td>\n      <td>8940.04</td>\n      <td>324.80</td>\n      <td>0.0</td>\n      <td>organic</td>\n      <td>2018</td>\n      <td>WestTexNewMexico</td>\n    </tr>\n    <tr>\n      <th>2018-01-21</th>\n      <td>9</td>\n      <td>1.87</td>\n      <td>13766.76</td>\n      <td>1191.92</td>\n      <td>2452.79</td>\n      <td>727.94</td>\n      <td>9394.11</td>\n      <td>9351.80</td>\n      <td>42.31</td>\n      <td>0.0</td>\n      <td>organic</td>\n      <td>2018</td>\n      <td>WestTexNewMexico</td>\n    </tr>\n    <tr>\n      <th>2018-01-14</th>\n      <td>10</td>\n      <td>1.93</td>\n      <td>16205.22</td>\n      <td>1527.63</td>\n      <td>2981.04</td>\n      <td>727.01</td>\n      <td>10969.54</td>\n      <td>10919.54</td>\n      <td>50.00</td>\n      <td>0.0</td>\n      <td>organic</td>\n      <td>2018</td>\n      <td>WestTexNewMexico</td>\n    </tr>\n    <tr>\n      <th>2018-01-07</th>\n      <td>11</td>\n      <td>1.62</td>\n      <td>17489.58</td>\n      <td>2894.77</td>\n      <td>2356.13</td>\n      <td>224.53</td>\n      <td>12014.15</td>\n      <td>11988.14</td>\n      <td>26.01</td>\n      <td>0.0</td>\n      <td>organic</td>\n      <td>2018</td>\n      <td>WestTexNewMexico</td>\n    </tr>\n  </tbody>\n</table>\n<p>18249 rows × 13 columns</p>\n</div>"
     },
     "metadata": {},
     "execution_count": 1039
    }
   ],
   "source": [
    "avocado"
   ]
  },
  {
   "cell_type": "code",
   "execution_count": 1040,
   "metadata": {},
   "outputs": [],
   "source": [
    "avocado.index=pd.to_datetime(avocado.index)"
   ]
  },
  {
   "cell_type": "code",
   "execution_count": 1041,
   "metadata": {},
   "outputs": [
    {
     "output_type": "execute_result",
     "data": {
      "text/plain": "pandas.core.indexes.datetimes.DatetimeIndex"
     },
     "metadata": {},
     "execution_count": 1041
    }
   ],
   "source": [
    "type(avocado.index)"
   ]
  },
  {
   "cell_type": "markdown",
   "metadata": {},
   "source": [
    "Establece esta columna como el index de `avocado`. "
   ]
  },
  {
   "cell_type": "code",
   "execution_count": 1042,
   "metadata": {},
   "outputs": [],
   "source": [
    "# your code here"
   ]
  },
  {
   "cell_type": "markdown",
   "metadata": {},
   "source": [
    "Muestra los 7 últimos valores del dataframe y observa que efectivamente se ha actualizado el index. "
   ]
  },
  {
   "cell_type": "code",
   "execution_count": 1043,
   "metadata": {},
   "outputs": [
    {
     "output_type": "execute_result",
     "data": {
      "text/plain": "            Unnamed: 0  AveragePrice  Total Volume     4046     4225    4770  \\\nDate                                                                           \n2018-02-18           5          1.56      17597.12  1892.05  1928.36    0.00   \n2018-02-11           6          1.57      15986.17  1924.28  1368.32    0.00   \n2018-02-04           7          1.63      17074.83  2046.96  1529.20    0.00   \n2018-01-28           8          1.71      13888.04  1191.70  3431.50    0.00   \n2018-01-21           9          1.87      13766.76  1191.92  2452.79  727.94   \n2018-01-14          10          1.93      16205.22  1527.63  2981.04  727.01   \n2018-01-07          11          1.62      17489.58  2894.77  2356.13  224.53   \n\n            Total Bags  Small Bags  Large Bags  XLarge Bags     type  year  \\\nDate                                                                         \n2018-02-18    13776.71    13553.53      223.18          0.0  organic  2018   \n2018-02-11    12693.57    12437.35      256.22          0.0  organic  2018   \n2018-02-04    13498.67    13066.82      431.85          0.0  organic  2018   \n2018-01-28     9264.84     8940.04      324.80          0.0  organic  2018   \n2018-01-21     9394.11     9351.80       42.31          0.0  organic  2018   \n2018-01-14    10969.54    10919.54       50.00          0.0  organic  2018   \n2018-01-07    12014.15    11988.14       26.01          0.0  organic  2018   \n\n                      region  \nDate                          \n2018-02-18  WestTexNewMexico  \n2018-02-11  WestTexNewMexico  \n2018-02-04  WestTexNewMexico  \n2018-01-28  WestTexNewMexico  \n2018-01-21  WestTexNewMexico  \n2018-01-14  WestTexNewMexico  \n2018-01-07  WestTexNewMexico  ",
      "text/html": "<div>\n<style scoped>\n    .dataframe tbody tr th:only-of-type {\n        vertical-align: middle;\n    }\n\n    .dataframe tbody tr th {\n        vertical-align: top;\n    }\n\n    .dataframe thead th {\n        text-align: right;\n    }\n</style>\n<table border=\"1\" class=\"dataframe\">\n  <thead>\n    <tr style=\"text-align: right;\">\n      <th></th>\n      <th>Unnamed: 0</th>\n      <th>AveragePrice</th>\n      <th>Total Volume</th>\n      <th>4046</th>\n      <th>4225</th>\n      <th>4770</th>\n      <th>Total Bags</th>\n      <th>Small Bags</th>\n      <th>Large Bags</th>\n      <th>XLarge Bags</th>\n      <th>type</th>\n      <th>year</th>\n      <th>region</th>\n    </tr>\n    <tr>\n      <th>Date</th>\n      <th></th>\n      <th></th>\n      <th></th>\n      <th></th>\n      <th></th>\n      <th></th>\n      <th></th>\n      <th></th>\n      <th></th>\n      <th></th>\n      <th></th>\n      <th></th>\n      <th></th>\n    </tr>\n  </thead>\n  <tbody>\n    <tr>\n      <th>2018-02-18</th>\n      <td>5</td>\n      <td>1.56</td>\n      <td>17597.12</td>\n      <td>1892.05</td>\n      <td>1928.36</td>\n      <td>0.00</td>\n      <td>13776.71</td>\n      <td>13553.53</td>\n      <td>223.18</td>\n      <td>0.0</td>\n      <td>organic</td>\n      <td>2018</td>\n      <td>WestTexNewMexico</td>\n    </tr>\n    <tr>\n      <th>2018-02-11</th>\n      <td>6</td>\n      <td>1.57</td>\n      <td>15986.17</td>\n      <td>1924.28</td>\n      <td>1368.32</td>\n      <td>0.00</td>\n      <td>12693.57</td>\n      <td>12437.35</td>\n      <td>256.22</td>\n      <td>0.0</td>\n      <td>organic</td>\n      <td>2018</td>\n      <td>WestTexNewMexico</td>\n    </tr>\n    <tr>\n      <th>2018-02-04</th>\n      <td>7</td>\n      <td>1.63</td>\n      <td>17074.83</td>\n      <td>2046.96</td>\n      <td>1529.20</td>\n      <td>0.00</td>\n      <td>13498.67</td>\n      <td>13066.82</td>\n      <td>431.85</td>\n      <td>0.0</td>\n      <td>organic</td>\n      <td>2018</td>\n      <td>WestTexNewMexico</td>\n    </tr>\n    <tr>\n      <th>2018-01-28</th>\n      <td>8</td>\n      <td>1.71</td>\n      <td>13888.04</td>\n      <td>1191.70</td>\n      <td>3431.50</td>\n      <td>0.00</td>\n      <td>9264.84</td>\n      <td>8940.04</td>\n      <td>324.80</td>\n      <td>0.0</td>\n      <td>organic</td>\n      <td>2018</td>\n      <td>WestTexNewMexico</td>\n    </tr>\n    <tr>\n      <th>2018-01-21</th>\n      <td>9</td>\n      <td>1.87</td>\n      <td>13766.76</td>\n      <td>1191.92</td>\n      <td>2452.79</td>\n      <td>727.94</td>\n      <td>9394.11</td>\n      <td>9351.80</td>\n      <td>42.31</td>\n      <td>0.0</td>\n      <td>organic</td>\n      <td>2018</td>\n      <td>WestTexNewMexico</td>\n    </tr>\n    <tr>\n      <th>2018-01-14</th>\n      <td>10</td>\n      <td>1.93</td>\n      <td>16205.22</td>\n      <td>1527.63</td>\n      <td>2981.04</td>\n      <td>727.01</td>\n      <td>10969.54</td>\n      <td>10919.54</td>\n      <td>50.00</td>\n      <td>0.0</td>\n      <td>organic</td>\n      <td>2018</td>\n      <td>WestTexNewMexico</td>\n    </tr>\n    <tr>\n      <th>2018-01-07</th>\n      <td>11</td>\n      <td>1.62</td>\n      <td>17489.58</td>\n      <td>2894.77</td>\n      <td>2356.13</td>\n      <td>224.53</td>\n      <td>12014.15</td>\n      <td>11988.14</td>\n      <td>26.01</td>\n      <td>0.0</td>\n      <td>organic</td>\n      <td>2018</td>\n      <td>WestTexNewMexico</td>\n    </tr>\n  </tbody>\n</table>\n</div>"
     },
     "metadata": {},
     "execution_count": 1043
    }
   ],
   "source": [
    "avocado.tail (7)"
   ]
  },
  {
   "cell_type": "markdown",
   "metadata": {},
   "source": [
    "Además si al leer el archivo `.csv` no eliminaste esta columna, el dataframe seguirá teniendo una columna llamada `Unnamed: 0` que contendría el valor de los index. Si es así, elimínala."
   ]
  },
  {
   "cell_type": "code",
   "execution_count": 1044,
   "metadata": {},
   "outputs": [],
   "source": [
    "del(avocado[\"Unnamed: 0\"])"
   ]
  },
  {
   "cell_type": "code",
   "execution_count": 1045,
   "metadata": {},
   "outputs": [
    {
     "output_type": "execute_result",
     "data": {
      "text/plain": "            AveragePrice  Total Volume     4046       4225    4770  \\\nDate                                                                 \n2015-12-27          1.33      64236.62  1036.74   54454.85   48.16   \n2015-12-20          1.35      54876.98   674.28   44638.81   58.33   \n2015-12-13          0.93     118220.22   794.70  109149.67  130.50   \n2015-12-06          1.08      78992.15  1132.00   71976.41   72.58   \n2015-11-29          1.28      51039.60   941.48   43838.39   75.78   \n...                  ...           ...      ...        ...     ...   \n2018-02-04          1.63      17074.83  2046.96    1529.20    0.00   \n2018-01-28          1.71      13888.04  1191.70    3431.50    0.00   \n2018-01-21          1.87      13766.76  1191.92    2452.79  727.94   \n2018-01-14          1.93      16205.22  1527.63    2981.04  727.01   \n2018-01-07          1.62      17489.58  2894.77    2356.13  224.53   \n\n            Total Bags  Small Bags  Large Bags  XLarge Bags          type  \\\nDate                                                                        \n2015-12-27     8696.87     8603.62       93.25          0.0  conventional   \n2015-12-20     9505.56     9408.07       97.49          0.0  conventional   \n2015-12-13     8145.35     8042.21      103.14          0.0  conventional   \n2015-12-06     5811.16     5677.40      133.76          0.0  conventional   \n2015-11-29     6183.95     5986.26      197.69          0.0  conventional   \n...                ...         ...         ...          ...           ...   \n2018-02-04    13498.67    13066.82      431.85          0.0       organic   \n2018-01-28     9264.84     8940.04      324.80          0.0       organic   \n2018-01-21     9394.11     9351.80       42.31          0.0       organic   \n2018-01-14    10969.54    10919.54       50.00          0.0       organic   \n2018-01-07    12014.15    11988.14       26.01          0.0       organic   \n\n            year            region  \nDate                                \n2015-12-27  2015            Albany  \n2015-12-20  2015            Albany  \n2015-12-13  2015            Albany  \n2015-12-06  2015            Albany  \n2015-11-29  2015            Albany  \n...          ...               ...  \n2018-02-04  2018  WestTexNewMexico  \n2018-01-28  2018  WestTexNewMexico  \n2018-01-21  2018  WestTexNewMexico  \n2018-01-14  2018  WestTexNewMexico  \n2018-01-07  2018  WestTexNewMexico  \n\n[18249 rows x 12 columns]",
      "text/html": "<div>\n<style scoped>\n    .dataframe tbody tr th:only-of-type {\n        vertical-align: middle;\n    }\n\n    .dataframe tbody tr th {\n        vertical-align: top;\n    }\n\n    .dataframe thead th {\n        text-align: right;\n    }\n</style>\n<table border=\"1\" class=\"dataframe\">\n  <thead>\n    <tr style=\"text-align: right;\">\n      <th></th>\n      <th>AveragePrice</th>\n      <th>Total Volume</th>\n      <th>4046</th>\n      <th>4225</th>\n      <th>4770</th>\n      <th>Total Bags</th>\n      <th>Small Bags</th>\n      <th>Large Bags</th>\n      <th>XLarge Bags</th>\n      <th>type</th>\n      <th>year</th>\n      <th>region</th>\n    </tr>\n    <tr>\n      <th>Date</th>\n      <th></th>\n      <th></th>\n      <th></th>\n      <th></th>\n      <th></th>\n      <th></th>\n      <th></th>\n      <th></th>\n      <th></th>\n      <th></th>\n      <th></th>\n      <th></th>\n    </tr>\n  </thead>\n  <tbody>\n    <tr>\n      <th>2015-12-27</th>\n      <td>1.33</td>\n      <td>64236.62</td>\n      <td>1036.74</td>\n      <td>54454.85</td>\n      <td>48.16</td>\n      <td>8696.87</td>\n      <td>8603.62</td>\n      <td>93.25</td>\n      <td>0.0</td>\n      <td>conventional</td>\n      <td>2015</td>\n      <td>Albany</td>\n    </tr>\n    <tr>\n      <th>2015-12-20</th>\n      <td>1.35</td>\n      <td>54876.98</td>\n      <td>674.28</td>\n      <td>44638.81</td>\n      <td>58.33</td>\n      <td>9505.56</td>\n      <td>9408.07</td>\n      <td>97.49</td>\n      <td>0.0</td>\n      <td>conventional</td>\n      <td>2015</td>\n      <td>Albany</td>\n    </tr>\n    <tr>\n      <th>2015-12-13</th>\n      <td>0.93</td>\n      <td>118220.22</td>\n      <td>794.70</td>\n      <td>109149.67</td>\n      <td>130.50</td>\n      <td>8145.35</td>\n      <td>8042.21</td>\n      <td>103.14</td>\n      <td>0.0</td>\n      <td>conventional</td>\n      <td>2015</td>\n      <td>Albany</td>\n    </tr>\n    <tr>\n      <th>2015-12-06</th>\n      <td>1.08</td>\n      <td>78992.15</td>\n      <td>1132.00</td>\n      <td>71976.41</td>\n      <td>72.58</td>\n      <td>5811.16</td>\n      <td>5677.40</td>\n      <td>133.76</td>\n      <td>0.0</td>\n      <td>conventional</td>\n      <td>2015</td>\n      <td>Albany</td>\n    </tr>\n    <tr>\n      <th>2015-11-29</th>\n      <td>1.28</td>\n      <td>51039.60</td>\n      <td>941.48</td>\n      <td>43838.39</td>\n      <td>75.78</td>\n      <td>6183.95</td>\n      <td>5986.26</td>\n      <td>197.69</td>\n      <td>0.0</td>\n      <td>conventional</td>\n      <td>2015</td>\n      <td>Albany</td>\n    </tr>\n    <tr>\n      <th>...</th>\n      <td>...</td>\n      <td>...</td>\n      <td>...</td>\n      <td>...</td>\n      <td>...</td>\n      <td>...</td>\n      <td>...</td>\n      <td>...</td>\n      <td>...</td>\n      <td>...</td>\n      <td>...</td>\n      <td>...</td>\n    </tr>\n    <tr>\n      <th>2018-02-04</th>\n      <td>1.63</td>\n      <td>17074.83</td>\n      <td>2046.96</td>\n      <td>1529.20</td>\n      <td>0.00</td>\n      <td>13498.67</td>\n      <td>13066.82</td>\n      <td>431.85</td>\n      <td>0.0</td>\n      <td>organic</td>\n      <td>2018</td>\n      <td>WestTexNewMexico</td>\n    </tr>\n    <tr>\n      <th>2018-01-28</th>\n      <td>1.71</td>\n      <td>13888.04</td>\n      <td>1191.70</td>\n      <td>3431.50</td>\n      <td>0.00</td>\n      <td>9264.84</td>\n      <td>8940.04</td>\n      <td>324.80</td>\n      <td>0.0</td>\n      <td>organic</td>\n      <td>2018</td>\n      <td>WestTexNewMexico</td>\n    </tr>\n    <tr>\n      <th>2018-01-21</th>\n      <td>1.87</td>\n      <td>13766.76</td>\n      <td>1191.92</td>\n      <td>2452.79</td>\n      <td>727.94</td>\n      <td>9394.11</td>\n      <td>9351.80</td>\n      <td>42.31</td>\n      <td>0.0</td>\n      <td>organic</td>\n      <td>2018</td>\n      <td>WestTexNewMexico</td>\n    </tr>\n    <tr>\n      <th>2018-01-14</th>\n      <td>1.93</td>\n      <td>16205.22</td>\n      <td>1527.63</td>\n      <td>2981.04</td>\n      <td>727.01</td>\n      <td>10969.54</td>\n      <td>10919.54</td>\n      <td>50.00</td>\n      <td>0.0</td>\n      <td>organic</td>\n      <td>2018</td>\n      <td>WestTexNewMexico</td>\n    </tr>\n    <tr>\n      <th>2018-01-07</th>\n      <td>1.62</td>\n      <td>17489.58</td>\n      <td>2894.77</td>\n      <td>2356.13</td>\n      <td>224.53</td>\n      <td>12014.15</td>\n      <td>11988.14</td>\n      <td>26.01</td>\n      <td>0.0</td>\n      <td>organic</td>\n      <td>2018</td>\n      <td>WestTexNewMexico</td>\n    </tr>\n  </tbody>\n</table>\n<p>18249 rows × 12 columns</p>\n</div>"
     },
     "metadata": {},
     "execution_count": 1045
    }
   ],
   "source": [
    "avocado"
   ]
  },
  {
   "cell_type": "markdown",
   "metadata": {},
   "source": [
    "¿Qué columnas continúan siendo de tipo **object**? Usa al menos una función de **pandas** para ello. "
   ]
  },
  {
   "cell_type": "code",
   "execution_count": 1046,
   "metadata": {},
   "outputs": [
    {
     "output_type": "execute_result",
     "data": {
      "text/plain": "Index(['AveragePrice', 'Total Volume', '4046', '4225', '4770', 'Total Bags',\n       'Small Bags', 'Large Bags', 'XLarge Bags', 'type', 'year', 'region'],\n      dtype='object')"
     },
     "metadata": {},
     "execution_count": 1046
    }
   ],
   "source": [
    "avocado.columns"
   ]
  },
  {
   "cell_type": "code",
   "execution_count": 1047,
   "metadata": {},
   "outputs": [
    {
     "output_type": "execute_result",
     "data": {
      "text/plain": "dtype('float64')"
     },
     "metadata": {},
     "execution_count": 1047
    }
   ],
   "source": [
    "avocado[\"AveragePrice\"].dtype"
   ]
  },
  {
   "cell_type": "code",
   "execution_count": 1048,
   "metadata": {},
   "outputs": [
    {
     "output_type": "execute_result",
     "data": {
      "text/plain": "dtype('float64')"
     },
     "metadata": {},
     "execution_count": 1048
    }
   ],
   "source": [
    "avocado[\"Total Volume\"].dtype"
   ]
  },
  {
   "cell_type": "code",
   "execution_count": 1049,
   "metadata": {},
   "outputs": [
    {
     "output_type": "execute_result",
     "data": {
      "text/plain": "dtype('float64')"
     },
     "metadata": {},
     "execution_count": 1049
    }
   ],
   "source": [
    "avocado[\"4046\"].dtype"
   ]
  },
  {
   "cell_type": "code",
   "execution_count": 1050,
   "metadata": {},
   "outputs": [
    {
     "output_type": "execute_result",
     "data": {
      "text/plain": "dtype('float64')"
     },
     "metadata": {},
     "execution_count": 1050
    }
   ],
   "source": [
    "avocado[\"4225\"].dtype"
   ]
  },
  {
   "cell_type": "code",
   "execution_count": 1051,
   "metadata": {},
   "outputs": [
    {
     "output_type": "execute_result",
     "data": {
      "text/plain": "dtype('float64')"
     },
     "metadata": {},
     "execution_count": 1051
    }
   ],
   "source": [
    "avocado[\"4770\"].dtype"
   ]
  },
  {
   "cell_type": "code",
   "execution_count": 1052,
   "metadata": {},
   "outputs": [
    {
     "output_type": "execute_result",
     "data": {
      "text/plain": "dtype('float64')"
     },
     "metadata": {},
     "execution_count": 1052
    }
   ],
   "source": [
    "avocado[\"Total Bags\"].dtype"
   ]
  },
  {
   "cell_type": "code",
   "execution_count": 1053,
   "metadata": {},
   "outputs": [
    {
     "output_type": "execute_result",
     "data": {
      "text/plain": "dtype('float64')"
     },
     "metadata": {},
     "execution_count": 1053
    }
   ],
   "source": [
    "avocado[\"Small Bags\"].dtype"
   ]
  },
  {
   "cell_type": "code",
   "execution_count": 1054,
   "metadata": {},
   "outputs": [
    {
     "output_type": "execute_result",
     "data": {
      "text/plain": "dtype('float64')"
     },
     "metadata": {},
     "execution_count": 1054
    }
   ],
   "source": [
    "avocado[\"Large Bags\"].dtype"
   ]
  },
  {
   "cell_type": "code",
   "execution_count": 1055,
   "metadata": {},
   "outputs": [
    {
     "output_type": "execute_result",
     "data": {
      "text/plain": "dtype('float64')"
     },
     "metadata": {},
     "execution_count": 1055
    }
   ],
   "source": [
    "avocado[\"Large Bags\"].dtype"
   ]
  },
  {
   "cell_type": "code",
   "execution_count": 1056,
   "metadata": {},
   "outputs": [
    {
     "output_type": "execute_result",
     "data": {
      "text/plain": "dtype('float64')"
     },
     "metadata": {},
     "execution_count": 1056
    }
   ],
   "source": [
    "avocado[\"XLarge Bags\"].dtype"
   ]
  },
  {
   "cell_type": "code",
   "execution_count": 1057,
   "metadata": {},
   "outputs": [
    {
     "output_type": "execute_result",
     "data": {
      "text/plain": "dtype('O')"
     },
     "metadata": {},
     "execution_count": 1057
    }
   ],
   "source": [
    "avocado[\"type\"].dtype"
   ]
  },
  {
   "cell_type": "code",
   "execution_count": 1058,
   "metadata": {},
   "outputs": [
    {
     "output_type": "execute_result",
     "data": {
      "text/plain": "dtype('int64')"
     },
     "metadata": {},
     "execution_count": 1058
    }
   ],
   "source": [
    "avocado[\"year\"].dtype"
   ]
  },
  {
   "cell_type": "code",
   "execution_count": 1059,
   "metadata": {},
   "outputs": [
    {
     "output_type": "execute_result",
     "data": {
      "text/plain": "dtype('O')"
     },
     "metadata": {},
     "execution_count": 1059
    }
   ],
   "source": [
    "avocado[\"region\"].dtype"
   ]
  },
  {
   "cell_type": "code",
   "execution_count": 1060,
   "metadata": {},
   "outputs": [],
   "source": [
    "# your code here"
   ]
  },
  {
   "cell_type": "markdown",
   "metadata": {},
   "source": [
    "¿Cuántos valores únicos encontramos en estas columnas que continúan siendo de tipo **object**? "
   ]
  },
  {
   "cell_type": "code",
   "execution_count": null,
   "metadata": {},
   "outputs": [],
   "source": []
  },
  {
   "cell_type": "code",
   "execution_count": 1061,
   "metadata": {},
   "outputs": [
    {
     "output_type": "execute_result",
     "data": {
      "text/plain": "54"
     },
     "metadata": {},
     "execution_count": 1061
    }
   ],
   "source": [
    "avocado[\"region\"].unique().tolist()\n",
    "len(avocado[\"region\"].unique().tolist())"
   ]
  },
  {
   "cell_type": "code",
   "execution_count": 1062,
   "metadata": {},
   "outputs": [
    {
     "output_type": "execute_result",
     "data": {
      "text/plain": "2"
     },
     "metadata": {},
     "execution_count": 1062
    }
   ],
   "source": [
    "avocado[\"type\"].unique().tolist()\n",
    "len(avocado[\"type\"].unique().tolist())"
   ]
  },
  {
   "cell_type": "markdown",
   "metadata": {},
   "source": [
    "¿Qué número de ocurrencias tiene cada uno de estos valores únicos en la columna en que se encuentra? "
   ]
  },
  {
   "cell_type": "code",
   "execution_count": 1063,
   "metadata": {},
   "outputs": [
    {
     "output_type": "execute_result",
     "data": {
      "text/plain": "Plains                 338\nSacramento             338\nLouisville             338\nHarrisburgScranton     338\nBoise                  338\nGrandRapids            338\nCalifornia             338\nSeattle                338\nMidsouth               338\nRaleighGreensboro      338\nDallasFtWorth          338\nBaltimoreWashington    338\nNewOrleansMobile       338\nRoanoke                338\nPhiladelphia           338\nTampa                  338\nSouthCentral           338\nSouthCarolina          338\nOrlando                338\nTotalUS                338\nCharlotte              338\nPortland               338\nMiamiFtLauderdale      338\nNewYork                338\nLasVegas               338\nPittsburgh             338\nSanFrancisco           338\nPhoenixTucson          338\nJacksonville           338\nSyracuse               338\nHouston                338\nWest                   338\nAtlanta                338\nColumbus               338\nNorthernNewEngland     338\nBoston                 338\nBuffaloRochester       338\nCincinnatiDayton       338\nSpokane                338\nNortheast              338\nChicago                338\nRichmondNorfolk        338\nSanDiego               338\nDetroit                338\nHartfordSpringfield    338\nLosAngeles             338\nDenver                 338\nAlbany                 338\nNashville              338\nIndianapolis           338\nSoutheast              338\nGreatLakes             338\nStLouis                338\nWestTexNewMexico       335\nName: region, dtype: int64"
     },
     "metadata": {},
     "execution_count": 1063
    }
   ],
   "source": [
    "avocado[\"region\"].value_counts()"
   ]
  },
  {
   "cell_type": "code",
   "execution_count": 1064,
   "metadata": {},
   "outputs": [
    {
     "output_type": "execute_result",
     "data": {
      "text/plain": "conventional    9126\norganic         9123\nName: type, dtype: int64"
     },
     "metadata": {},
     "execution_count": 1064
    }
   ],
   "source": [
    "avocado[\"type\"].value_counts()"
   ]
  },
  {
   "cell_type": "markdown",
   "metadata": {},
   "source": [
    "Ahora que hemos explorado el dataframe, podemos empezar a trabajar con ello. En este caso, ordena el `index` de manera que la fecha **2015-01-04** quede arriba. "
   ]
  },
  {
   "cell_type": "code",
   "execution_count": 1065,
   "metadata": {},
   "outputs": [
    {
     "output_type": "execute_result",
     "data": {
      "text/plain": "            AveragePrice  Total Volume        4046       4225       4770  \\\nDate                                                                       \n2015-01-04          1.75      27365.89     9307.34    3844.81     615.28   \n2015-01-04          1.49      17723.17     1189.35   15628.27       0.00   \n2015-01-04          1.68       2896.72      161.68     206.96       0.00   \n2015-01-04          1.52      54956.80     3013.04   35456.88    1561.70   \n2015-01-04          1.64       1505.12        1.27    1129.50       0.00   \n...                  ...           ...         ...        ...        ...   \n2018-03-25          1.36     908202.13   142681.06  463136.28  174975.75   \n2018-03-25          0.70    9010588.32  3999735.71  966589.50   30130.82   \n2018-03-25          1.42     163496.70    29253.30    5080.04       0.00   \n2018-03-25          1.70     190257.38    29644.09   70982.10       0.00   \n2018-03-25          1.34    1774776.77    63905.98  908653.71     843.45   \n\n            Total Bags  Small Bags  Large Bags  XLarge Bags          type  \\\nDate                                                                        \n2015-01-04    13598.46    13061.10      537.36         0.00       organic   \n2015-01-04      905.55      905.55        0.00         0.00       organic   \n2015-01-04     2528.08     2528.08        0.00         0.00       organic   \n2015-01-04    14925.18    11264.80     3660.38         0.00  conventional   \n2015-01-04      374.35      186.67      187.68         0.00       organic   \n...                ...         ...         ...          ...           ...   \n2018-03-25   127409.04   103579.41    22467.04      1362.59  conventional   \n2018-03-25  4014132.29  3398569.92   546409.74     69152.63  conventional   \n2018-03-25   129163.36   109052.26    20111.10         0.00       organic   \n2018-03-25    89631.19    89424.11      207.08         0.00       organic   \n2018-03-25   801373.63   774634.09    23833.93      2905.61  conventional   \n\n            year              region  \nDate                                  \n2015-01-04  2015           Southeast  \n2015-01-04  2015             Chicago  \n2015-01-04  2015  HarrisburgScranton  \n2015-01-04  2015          Pittsburgh  \n2015-01-04  2015               Boise  \n...          ...                 ...  \n2018-03-25  2018             Chicago  \n2018-03-25  2018        SouthCentral  \n2018-03-25  2018        SouthCentral  \n2018-03-25  2018          California  \n2018-03-25  2018             NewYork  \n\n[18249 rows x 12 columns]",
      "text/html": "<div>\n<style scoped>\n    .dataframe tbody tr th:only-of-type {\n        vertical-align: middle;\n    }\n\n    .dataframe tbody tr th {\n        vertical-align: top;\n    }\n\n    .dataframe thead th {\n        text-align: right;\n    }\n</style>\n<table border=\"1\" class=\"dataframe\">\n  <thead>\n    <tr style=\"text-align: right;\">\n      <th></th>\n      <th>AveragePrice</th>\n      <th>Total Volume</th>\n      <th>4046</th>\n      <th>4225</th>\n      <th>4770</th>\n      <th>Total Bags</th>\n      <th>Small Bags</th>\n      <th>Large Bags</th>\n      <th>XLarge Bags</th>\n      <th>type</th>\n      <th>year</th>\n      <th>region</th>\n    </tr>\n    <tr>\n      <th>Date</th>\n      <th></th>\n      <th></th>\n      <th></th>\n      <th></th>\n      <th></th>\n      <th></th>\n      <th></th>\n      <th></th>\n      <th></th>\n      <th></th>\n      <th></th>\n      <th></th>\n    </tr>\n  </thead>\n  <tbody>\n    <tr>\n      <th>2015-01-04</th>\n      <td>1.75</td>\n      <td>27365.89</td>\n      <td>9307.34</td>\n      <td>3844.81</td>\n      <td>615.28</td>\n      <td>13598.46</td>\n      <td>13061.10</td>\n      <td>537.36</td>\n      <td>0.00</td>\n      <td>organic</td>\n      <td>2015</td>\n      <td>Southeast</td>\n    </tr>\n    <tr>\n      <th>2015-01-04</th>\n      <td>1.49</td>\n      <td>17723.17</td>\n      <td>1189.35</td>\n      <td>15628.27</td>\n      <td>0.00</td>\n      <td>905.55</td>\n      <td>905.55</td>\n      <td>0.00</td>\n      <td>0.00</td>\n      <td>organic</td>\n      <td>2015</td>\n      <td>Chicago</td>\n    </tr>\n    <tr>\n      <th>2015-01-04</th>\n      <td>1.68</td>\n      <td>2896.72</td>\n      <td>161.68</td>\n      <td>206.96</td>\n      <td>0.00</td>\n      <td>2528.08</td>\n      <td>2528.08</td>\n      <td>0.00</td>\n      <td>0.00</td>\n      <td>organic</td>\n      <td>2015</td>\n      <td>HarrisburgScranton</td>\n    </tr>\n    <tr>\n      <th>2015-01-04</th>\n      <td>1.52</td>\n      <td>54956.80</td>\n      <td>3013.04</td>\n      <td>35456.88</td>\n      <td>1561.70</td>\n      <td>14925.18</td>\n      <td>11264.80</td>\n      <td>3660.38</td>\n      <td>0.00</td>\n      <td>conventional</td>\n      <td>2015</td>\n      <td>Pittsburgh</td>\n    </tr>\n    <tr>\n      <th>2015-01-04</th>\n      <td>1.64</td>\n      <td>1505.12</td>\n      <td>1.27</td>\n      <td>1129.50</td>\n      <td>0.00</td>\n      <td>374.35</td>\n      <td>186.67</td>\n      <td>187.68</td>\n      <td>0.00</td>\n      <td>organic</td>\n      <td>2015</td>\n      <td>Boise</td>\n    </tr>\n    <tr>\n      <th>...</th>\n      <td>...</td>\n      <td>...</td>\n      <td>...</td>\n      <td>...</td>\n      <td>...</td>\n      <td>...</td>\n      <td>...</td>\n      <td>...</td>\n      <td>...</td>\n      <td>...</td>\n      <td>...</td>\n      <td>...</td>\n    </tr>\n    <tr>\n      <th>2018-03-25</th>\n      <td>1.36</td>\n      <td>908202.13</td>\n      <td>142681.06</td>\n      <td>463136.28</td>\n      <td>174975.75</td>\n      <td>127409.04</td>\n      <td>103579.41</td>\n      <td>22467.04</td>\n      <td>1362.59</td>\n      <td>conventional</td>\n      <td>2018</td>\n      <td>Chicago</td>\n    </tr>\n    <tr>\n      <th>2018-03-25</th>\n      <td>0.70</td>\n      <td>9010588.32</td>\n      <td>3999735.71</td>\n      <td>966589.50</td>\n      <td>30130.82</td>\n      <td>4014132.29</td>\n      <td>3398569.92</td>\n      <td>546409.74</td>\n      <td>69152.63</td>\n      <td>conventional</td>\n      <td>2018</td>\n      <td>SouthCentral</td>\n    </tr>\n    <tr>\n      <th>2018-03-25</th>\n      <td>1.42</td>\n      <td>163496.70</td>\n      <td>29253.30</td>\n      <td>5080.04</td>\n      <td>0.00</td>\n      <td>129163.36</td>\n      <td>109052.26</td>\n      <td>20111.10</td>\n      <td>0.00</td>\n      <td>organic</td>\n      <td>2018</td>\n      <td>SouthCentral</td>\n    </tr>\n    <tr>\n      <th>2018-03-25</th>\n      <td>1.70</td>\n      <td>190257.38</td>\n      <td>29644.09</td>\n      <td>70982.10</td>\n      <td>0.00</td>\n      <td>89631.19</td>\n      <td>89424.11</td>\n      <td>207.08</td>\n      <td>0.00</td>\n      <td>organic</td>\n      <td>2018</td>\n      <td>California</td>\n    </tr>\n    <tr>\n      <th>2018-03-25</th>\n      <td>1.34</td>\n      <td>1774776.77</td>\n      <td>63905.98</td>\n      <td>908653.71</td>\n      <td>843.45</td>\n      <td>801373.63</td>\n      <td>774634.09</td>\n      <td>23833.93</td>\n      <td>2905.61</td>\n      <td>conventional</td>\n      <td>2018</td>\n      <td>NewYork</td>\n    </tr>\n  </tbody>\n</table>\n<p>18249 rows × 12 columns</p>\n</div>"
     },
     "metadata": {},
     "execution_count": 1065
    }
   ],
   "source": [
    "avocado.sort_values([\"Date\"],ascending=True)"
   ]
  },
  {
   "cell_type": "code",
   "execution_count": 1066,
   "metadata": {},
   "outputs": [],
   "source": [
    "# your code here"
   ]
  },
  {
   "cell_type": "markdown",
   "metadata": {},
   "source": [
    "Agrupa el dataframe `avocado` por tipo y quédate con el mínimo del resto de las columnas. "
   ]
  },
  {
   "cell_type": "code",
   "execution_count": 1067,
   "metadata": {},
   "outputs": [],
   "source": [
    "avocado_2=avocado.groupby(\"type\").min()"
   ]
  },
  {
   "cell_type": "code",
   "execution_count": 1068,
   "metadata": {},
   "outputs": [
    {
     "output_type": "execute_result",
     "data": {
      "text/plain": "              AveragePrice  Total Volume   4046    4225  4770  Total Bags  \\\ntype                                                                        \nconventional          0.46      33699.68  72.06  1518.0   0.0     3047.17   \norganic               0.44         84.56   0.00     0.0   0.0        0.00   \n\n              Small Bags  Large Bags  XLarge Bags  year  region  \ntype                                                             \nconventional     1119.18         0.0          0.0  2015  Albany  \norganic             0.00         0.0          0.0  2015  Albany  ",
      "text/html": "<div>\n<style scoped>\n    .dataframe tbody tr th:only-of-type {\n        vertical-align: middle;\n    }\n\n    .dataframe tbody tr th {\n        vertical-align: top;\n    }\n\n    .dataframe thead th {\n        text-align: right;\n    }\n</style>\n<table border=\"1\" class=\"dataframe\">\n  <thead>\n    <tr style=\"text-align: right;\">\n      <th></th>\n      <th>AveragePrice</th>\n      <th>Total Volume</th>\n      <th>4046</th>\n      <th>4225</th>\n      <th>4770</th>\n      <th>Total Bags</th>\n      <th>Small Bags</th>\n      <th>Large Bags</th>\n      <th>XLarge Bags</th>\n      <th>year</th>\n      <th>region</th>\n    </tr>\n    <tr>\n      <th>type</th>\n      <th></th>\n      <th></th>\n      <th></th>\n      <th></th>\n      <th></th>\n      <th></th>\n      <th></th>\n      <th></th>\n      <th></th>\n      <th></th>\n      <th></th>\n    </tr>\n  </thead>\n  <tbody>\n    <tr>\n      <th>conventional</th>\n      <td>0.46</td>\n      <td>33699.68</td>\n      <td>72.06</td>\n      <td>1518.0</td>\n      <td>0.0</td>\n      <td>3047.17</td>\n      <td>1119.18</td>\n      <td>0.0</td>\n      <td>0.0</td>\n      <td>2015</td>\n      <td>Albany</td>\n    </tr>\n    <tr>\n      <th>organic</th>\n      <td>0.44</td>\n      <td>84.56</td>\n      <td>0.00</td>\n      <td>0.0</td>\n      <td>0.0</td>\n      <td>0.00</td>\n      <td>0.00</td>\n      <td>0.0</td>\n      <td>0.0</td>\n      <td>2015</td>\n      <td>Albany</td>\n    </tr>\n  </tbody>\n</table>\n</div>"
     },
     "metadata": {},
     "execution_count": 1068
    }
   ],
   "source": [
    "avocado_2"
   ]
  },
  {
   "cell_type": "markdown",
   "metadata": {},
   "source": [
    "Además, queremos conocer el máximo de bolsas pequeñas, bolsas grandes y bolsas extragrandes de aguacates que se vendieron por año, por cada región. Crea un dataframe que se llame `group_bags` que muestre dicha información. "
   ]
  },
  {
   "cell_type": "code",
   "execution_count": 1069,
   "metadata": {},
   "outputs": [
    {
     "output_type": "execute_result",
     "data": {
      "text/plain": "            AveragePrice  Total Volume     4046       4225    4770  \\\nDate                                                                 \n2015-12-27          1.33      64236.62  1036.74   54454.85   48.16   \n2015-12-20          1.35      54876.98   674.28   44638.81   58.33   \n2015-12-13          0.93     118220.22   794.70  109149.67  130.50   \n2015-12-06          1.08      78992.15  1132.00   71976.41   72.58   \n2015-11-29          1.28      51039.60   941.48   43838.39   75.78   \n...                  ...           ...      ...        ...     ...   \n2018-02-04          1.63      17074.83  2046.96    1529.20    0.00   \n2018-01-28          1.71      13888.04  1191.70    3431.50    0.00   \n2018-01-21          1.87      13766.76  1191.92    2452.79  727.94   \n2018-01-14          1.93      16205.22  1527.63    2981.04  727.01   \n2018-01-07          1.62      17489.58  2894.77    2356.13  224.53   \n\n            Total Bags  Small Bags  Large Bags  XLarge Bags          type  \\\nDate                                                                        \n2015-12-27     8696.87     8603.62       93.25          0.0  conventional   \n2015-12-20     9505.56     9408.07       97.49          0.0  conventional   \n2015-12-13     8145.35     8042.21      103.14          0.0  conventional   \n2015-12-06     5811.16     5677.40      133.76          0.0  conventional   \n2015-11-29     6183.95     5986.26      197.69          0.0  conventional   \n...                ...         ...         ...          ...           ...   \n2018-02-04    13498.67    13066.82      431.85          0.0       organic   \n2018-01-28     9264.84     8940.04      324.80          0.0       organic   \n2018-01-21     9394.11     9351.80       42.31          0.0       organic   \n2018-01-14    10969.54    10919.54       50.00          0.0       organic   \n2018-01-07    12014.15    11988.14       26.01          0.0       organic   \n\n            year            region  \nDate                                \n2015-12-27  2015            Albany  \n2015-12-20  2015            Albany  \n2015-12-13  2015            Albany  \n2015-12-06  2015            Albany  \n2015-11-29  2015            Albany  \n...          ...               ...  \n2018-02-04  2018  WestTexNewMexico  \n2018-01-28  2018  WestTexNewMexico  \n2018-01-21  2018  WestTexNewMexico  \n2018-01-14  2018  WestTexNewMexico  \n2018-01-07  2018  WestTexNewMexico  \n\n[18249 rows x 12 columns]",
      "text/html": "<div>\n<style scoped>\n    .dataframe tbody tr th:only-of-type {\n        vertical-align: middle;\n    }\n\n    .dataframe tbody tr th {\n        vertical-align: top;\n    }\n\n    .dataframe thead th {\n        text-align: right;\n    }\n</style>\n<table border=\"1\" class=\"dataframe\">\n  <thead>\n    <tr style=\"text-align: right;\">\n      <th></th>\n      <th>AveragePrice</th>\n      <th>Total Volume</th>\n      <th>4046</th>\n      <th>4225</th>\n      <th>4770</th>\n      <th>Total Bags</th>\n      <th>Small Bags</th>\n      <th>Large Bags</th>\n      <th>XLarge Bags</th>\n      <th>type</th>\n      <th>year</th>\n      <th>region</th>\n    </tr>\n    <tr>\n      <th>Date</th>\n      <th></th>\n      <th></th>\n      <th></th>\n      <th></th>\n      <th></th>\n      <th></th>\n      <th></th>\n      <th></th>\n      <th></th>\n      <th></th>\n      <th></th>\n      <th></th>\n    </tr>\n  </thead>\n  <tbody>\n    <tr>\n      <th>2015-12-27</th>\n      <td>1.33</td>\n      <td>64236.62</td>\n      <td>1036.74</td>\n      <td>54454.85</td>\n      <td>48.16</td>\n      <td>8696.87</td>\n      <td>8603.62</td>\n      <td>93.25</td>\n      <td>0.0</td>\n      <td>conventional</td>\n      <td>2015</td>\n      <td>Albany</td>\n    </tr>\n    <tr>\n      <th>2015-12-20</th>\n      <td>1.35</td>\n      <td>54876.98</td>\n      <td>674.28</td>\n      <td>44638.81</td>\n      <td>58.33</td>\n      <td>9505.56</td>\n      <td>9408.07</td>\n      <td>97.49</td>\n      <td>0.0</td>\n      <td>conventional</td>\n      <td>2015</td>\n      <td>Albany</td>\n    </tr>\n    <tr>\n      <th>2015-12-13</th>\n      <td>0.93</td>\n      <td>118220.22</td>\n      <td>794.70</td>\n      <td>109149.67</td>\n      <td>130.50</td>\n      <td>8145.35</td>\n      <td>8042.21</td>\n      <td>103.14</td>\n      <td>0.0</td>\n      <td>conventional</td>\n      <td>2015</td>\n      <td>Albany</td>\n    </tr>\n    <tr>\n      <th>2015-12-06</th>\n      <td>1.08</td>\n      <td>78992.15</td>\n      <td>1132.00</td>\n      <td>71976.41</td>\n      <td>72.58</td>\n      <td>5811.16</td>\n      <td>5677.40</td>\n      <td>133.76</td>\n      <td>0.0</td>\n      <td>conventional</td>\n      <td>2015</td>\n      <td>Albany</td>\n    </tr>\n    <tr>\n      <th>2015-11-29</th>\n      <td>1.28</td>\n      <td>51039.60</td>\n      <td>941.48</td>\n      <td>43838.39</td>\n      <td>75.78</td>\n      <td>6183.95</td>\n      <td>5986.26</td>\n      <td>197.69</td>\n      <td>0.0</td>\n      <td>conventional</td>\n      <td>2015</td>\n      <td>Albany</td>\n    </tr>\n    <tr>\n      <th>...</th>\n      <td>...</td>\n      <td>...</td>\n      <td>...</td>\n      <td>...</td>\n      <td>...</td>\n      <td>...</td>\n      <td>...</td>\n      <td>...</td>\n      <td>...</td>\n      <td>...</td>\n      <td>...</td>\n      <td>...</td>\n    </tr>\n    <tr>\n      <th>2018-02-04</th>\n      <td>1.63</td>\n      <td>17074.83</td>\n      <td>2046.96</td>\n      <td>1529.20</td>\n      <td>0.00</td>\n      <td>13498.67</td>\n      <td>13066.82</td>\n      <td>431.85</td>\n      <td>0.0</td>\n      <td>organic</td>\n      <td>2018</td>\n      <td>WestTexNewMexico</td>\n    </tr>\n    <tr>\n      <th>2018-01-28</th>\n      <td>1.71</td>\n      <td>13888.04</td>\n      <td>1191.70</td>\n      <td>3431.50</td>\n      <td>0.00</td>\n      <td>9264.84</td>\n      <td>8940.04</td>\n      <td>324.80</td>\n      <td>0.0</td>\n      <td>organic</td>\n      <td>2018</td>\n      <td>WestTexNewMexico</td>\n    </tr>\n    <tr>\n      <th>2018-01-21</th>\n      <td>1.87</td>\n      <td>13766.76</td>\n      <td>1191.92</td>\n      <td>2452.79</td>\n      <td>727.94</td>\n      <td>9394.11</td>\n      <td>9351.80</td>\n      <td>42.31</td>\n      <td>0.0</td>\n      <td>organic</td>\n      <td>2018</td>\n      <td>WestTexNewMexico</td>\n    </tr>\n    <tr>\n      <th>2018-01-14</th>\n      <td>1.93</td>\n      <td>16205.22</td>\n      <td>1527.63</td>\n      <td>2981.04</td>\n      <td>727.01</td>\n      <td>10969.54</td>\n      <td>10919.54</td>\n      <td>50.00</td>\n      <td>0.0</td>\n      <td>organic</td>\n      <td>2018</td>\n      <td>WestTexNewMexico</td>\n    </tr>\n    <tr>\n      <th>2018-01-07</th>\n      <td>1.62</td>\n      <td>17489.58</td>\n      <td>2894.77</td>\n      <td>2356.13</td>\n      <td>224.53</td>\n      <td>12014.15</td>\n      <td>11988.14</td>\n      <td>26.01</td>\n      <td>0.0</td>\n      <td>organic</td>\n      <td>2018</td>\n      <td>WestTexNewMexico</td>\n    </tr>\n  </tbody>\n</table>\n<p>18249 rows × 12 columns</p>\n</div>"
     },
     "metadata": {},
     "execution_count": 1069
    }
   ],
   "source": [
    "avocado"
   ]
  },
  {
   "cell_type": "code",
   "execution_count": 1070,
   "metadata": {},
   "outputs": [],
   "source": [
    "avocado_3 = avocado.groupby(['region', 'year']).max()"
   ]
  },
  {
   "cell_type": "code",
   "execution_count": 1071,
   "metadata": {},
   "outputs": [
    {
     "output_type": "execute_result",
     "data": {
      "text/plain": "                       AveragePrice  Total Volume        4046        4225  \\\nregion           year                                                       \nAlbany           2015          2.09     124055.31     2819.50   109149.67   \n                 2016          2.00     173781.78    34912.97   163570.47   \n                 2017          2.13     183549.08     5666.60   165530.03   \n                 2018          1.71     216738.47    16361.69   195725.06   \nAtlanta          2015          2.04     636771.37   553198.56    92780.33   \n...                             ...           ...         ...         ...   \nWest             2018          1.83   10565056.41  3121272.58  3294335.87   \nWestTexNewMexico 2015          2.19    1053997.99   774232.70   376232.89   \n                 2016          2.93    1198679.87   755962.49   197733.56   \n                 2017          2.50    1637554.42  1067388.68   224516.00   \n                 2018          1.93    1272039.80   544075.54   368948.26   \n\n                            4770  Total Bags  Small Bags  Large Bags  \\\nregion           year                                                  \nAlbany           2015    5883.16    29898.96    29663.19      778.26   \n                 2016     426.92    25264.97    23926.35     2157.76   \n                 2017    2546.08    36806.79    13277.29    27205.98   \n                 2018     143.53    34138.80    30126.31    10707.93   \nAtlanta          2015    4251.74    94436.19    55484.76    52442.25   \n...                          ...         ...         ...         ...   \nWest             2018  142553.21  4006894.75  1435608.59  2838239.39   \nWestTexNewMexico 2015   32802.60   175171.59   165202.22    48325.74   \n                 2016   74916.26   386798.87   243993.80   219187.07   \n                 2017   28477.27   424013.40   192156.83   287509.52   \n                 2018   13078.20   358544.26   164965.35   229786.03   \n\n                       XLarge Bags     type  \nregion           year                        \nAlbany           2015       104.17  organic  \n                 2016      2900.00  organic  \n                 2017      2585.00  organic  \n                 2018       500.00  organic  \nAtlanta          2015       134.72  organic  \n...                            ...      ...  \nWest             2018     26564.17  organic  \nWestTexNewMexico 2015     25716.67  organic  \n                 2016     38120.00  organic  \n                 2017      5516.66  organic  \n                 2018      9317.43  organic  \n\n[216 rows x 10 columns]",
      "text/html": "<div>\n<style scoped>\n    .dataframe tbody tr th:only-of-type {\n        vertical-align: middle;\n    }\n\n    .dataframe tbody tr th {\n        vertical-align: top;\n    }\n\n    .dataframe thead th {\n        text-align: right;\n    }\n</style>\n<table border=\"1\" class=\"dataframe\">\n  <thead>\n    <tr style=\"text-align: right;\">\n      <th></th>\n      <th></th>\n      <th>AveragePrice</th>\n      <th>Total Volume</th>\n      <th>4046</th>\n      <th>4225</th>\n      <th>4770</th>\n      <th>Total Bags</th>\n      <th>Small Bags</th>\n      <th>Large Bags</th>\n      <th>XLarge Bags</th>\n      <th>type</th>\n    </tr>\n    <tr>\n      <th>region</th>\n      <th>year</th>\n      <th></th>\n      <th></th>\n      <th></th>\n      <th></th>\n      <th></th>\n      <th></th>\n      <th></th>\n      <th></th>\n      <th></th>\n      <th></th>\n    </tr>\n  </thead>\n  <tbody>\n    <tr>\n      <th rowspan=\"4\" valign=\"top\">Albany</th>\n      <th>2015</th>\n      <td>2.09</td>\n      <td>124055.31</td>\n      <td>2819.50</td>\n      <td>109149.67</td>\n      <td>5883.16</td>\n      <td>29898.96</td>\n      <td>29663.19</td>\n      <td>778.26</td>\n      <td>104.17</td>\n      <td>organic</td>\n    </tr>\n    <tr>\n      <th>2016</th>\n      <td>2.00</td>\n      <td>173781.78</td>\n      <td>34912.97</td>\n      <td>163570.47</td>\n      <td>426.92</td>\n      <td>25264.97</td>\n      <td>23926.35</td>\n      <td>2157.76</td>\n      <td>2900.00</td>\n      <td>organic</td>\n    </tr>\n    <tr>\n      <th>2017</th>\n      <td>2.13</td>\n      <td>183549.08</td>\n      <td>5666.60</td>\n      <td>165530.03</td>\n      <td>2546.08</td>\n      <td>36806.79</td>\n      <td>13277.29</td>\n      <td>27205.98</td>\n      <td>2585.00</td>\n      <td>organic</td>\n    </tr>\n    <tr>\n      <th>2018</th>\n      <td>1.71</td>\n      <td>216738.47</td>\n      <td>16361.69</td>\n      <td>195725.06</td>\n      <td>143.53</td>\n      <td>34138.80</td>\n      <td>30126.31</td>\n      <td>10707.93</td>\n      <td>500.00</td>\n      <td>organic</td>\n    </tr>\n    <tr>\n      <th>Atlanta</th>\n      <th>2015</th>\n      <td>2.04</td>\n      <td>636771.37</td>\n      <td>553198.56</td>\n      <td>92780.33</td>\n      <td>4251.74</td>\n      <td>94436.19</td>\n      <td>55484.76</td>\n      <td>52442.25</td>\n      <td>134.72</td>\n      <td>organic</td>\n    </tr>\n    <tr>\n      <th>...</th>\n      <th>...</th>\n      <td>...</td>\n      <td>...</td>\n      <td>...</td>\n      <td>...</td>\n      <td>...</td>\n      <td>...</td>\n      <td>...</td>\n      <td>...</td>\n      <td>...</td>\n      <td>...</td>\n    </tr>\n    <tr>\n      <th>West</th>\n      <th>2018</th>\n      <td>1.83</td>\n      <td>10565056.41</td>\n      <td>3121272.58</td>\n      <td>3294335.87</td>\n      <td>142553.21</td>\n      <td>4006894.75</td>\n      <td>1435608.59</td>\n      <td>2838239.39</td>\n      <td>26564.17</td>\n      <td>organic</td>\n    </tr>\n    <tr>\n      <th rowspan=\"4\" valign=\"top\">WestTexNewMexico</th>\n      <th>2015</th>\n      <td>2.19</td>\n      <td>1053997.99</td>\n      <td>774232.70</td>\n      <td>376232.89</td>\n      <td>32802.60</td>\n      <td>175171.59</td>\n      <td>165202.22</td>\n      <td>48325.74</td>\n      <td>25716.67</td>\n      <td>organic</td>\n    </tr>\n    <tr>\n      <th>2016</th>\n      <td>2.93</td>\n      <td>1198679.87</td>\n      <td>755962.49</td>\n      <td>197733.56</td>\n      <td>74916.26</td>\n      <td>386798.87</td>\n      <td>243993.80</td>\n      <td>219187.07</td>\n      <td>38120.00</td>\n      <td>organic</td>\n    </tr>\n    <tr>\n      <th>2017</th>\n      <td>2.50</td>\n      <td>1637554.42</td>\n      <td>1067388.68</td>\n      <td>224516.00</td>\n      <td>28477.27</td>\n      <td>424013.40</td>\n      <td>192156.83</td>\n      <td>287509.52</td>\n      <td>5516.66</td>\n      <td>organic</td>\n    </tr>\n    <tr>\n      <th>2018</th>\n      <td>1.93</td>\n      <td>1272039.80</td>\n      <td>544075.54</td>\n      <td>368948.26</td>\n      <td>13078.20</td>\n      <td>358544.26</td>\n      <td>164965.35</td>\n      <td>229786.03</td>\n      <td>9317.43</td>\n      <td>organic</td>\n    </tr>\n  </tbody>\n</table>\n<p>216 rows × 10 columns</p>\n</div>"
     },
     "metadata": {},
     "execution_count": 1071
    }
   ],
   "source": [
    "avocado_3"
   ]
  },
  {
   "cell_type": "markdown",
   "metadata": {},
   "source": [
    "A partir del dataframe `group_bags` muestra en qué año y en qué región se vendió el máximo número de bolsas pequeñas de aguacates. "
   ]
  },
  {
   "cell_type": "code",
   "execution_count": 1072,
   "metadata": {},
   "outputs": [
    {
     "output_type": "execute_result",
     "data": {
      "text/plain": "13384586.8"
     },
     "metadata": {},
     "execution_count": 1072
    }
   ],
   "source": [
    "avocado_3[\"Small Bags\"].max()"
   ]
  },
  {
   "cell_type": "markdown",
   "metadata": {},
   "source": [
    "Asigna a la variable `avocado_months` el dataframe `avocado` agrupado por **meses** y por la media de los valores de cada columna. Hay dos maneras diferentes de resolver este ejercicio, sin embargo, con uno sería suficiente. \n",
    "\n",
    "Muestra solo los primeros 15 valores. "
   ]
  },
  {
   "cell_type": "code",
   "execution_count": 1073,
   "metadata": {},
   "outputs": [
    {
     "output_type": "execute_result",
     "data": {
      "text/plain": "            AveragePrice  Total Volume           4046           4225  \\\nDate                                                                   \n2015-01-30      1.365046  7.363084e+05  296829.313565  301506.093912   \n2015-02-27      1.326944  8.394389e+05  354552.080000  334110.463727   \n2015-03-31      1.361981  7.751538e+05  324630.507778  299831.998981   \n2015-04-30      1.383449  7.966305e+05  348567.729491  291150.142593   \n2015-05-29      1.335255  9.083077e+05  398011.679421  339381.167315   \n2015-06-30      1.395741  8.763368e+05  376246.486593  312834.259741   \n2015-07-31      1.409444  8.256988e+05  326456.573750  321060.962685   \n2015-08-31      1.444481  7.763793e+05  300310.837796  321335.405667   \n2015-09-30      1.449144  7.620806e+05  247781.252500  356497.374190   \n2015-10-30      1.391968  7.078151e+05  214976.447894  331744.578704   \n2015-11-30      1.330611  6.841482e+05  230572.546722  292348.258463   \n2015-12-31      1.305244  6.868351e+05  230718.662738  268747.887401   \n2016-01-29      1.236991  8.828596e+05  244254.725579  359589.496829   \n2016-02-29      1.240278  9.678819e+05  296415.195574  365255.309074   \n2016-03-31      1.224213  9.055843e+05  276501.768171  330062.790810   \n2016-04-29      1.205023  9.301684e+05  296899.473704  321948.473310   \n2016-05-31      1.199722  1.039316e+06  318331.990741  384593.533130   \n2016-06-30      1.283056  9.498337e+05  314644.787060  317176.099954   \n2016-07-29      1.389583  8.848478e+05  272678.221620  292879.427500   \n2016-08-31      1.418556  8.441075e+05  292461.813667  266343.208204   \n2016-09-30      1.427870  8.386650e+05  301102.070440  256058.938519   \n2016-10-31      1.557093  6.670404e+05  206836.425519  217634.090463   \n2016-11-30      1.550023  6.023364e+05  197766.242037  194254.194884   \n2016-12-30      1.315995  7.672402e+05  233972.995023  257804.124329   \n2017-01-31      1.277500  9.876538e+05  317062.237130  336661.843815   \n2017-02-28      1.214792  1.091359e+06  376396.705926  346751.412106   \n2017-03-31      1.398935  8.307949e+05  274356.680880  255179.014560   \n2017-04-28      1.490625  8.914325e+05  296010.009606  262426.196435   \n2017-05-31      1.536185  9.823079e+05  331669.986556  285476.389333   \n2017-06-30      1.545395  9.544434e+05  321590.905721  272106.575233   \n2017-07-31      1.564926  8.794513e+05  289383.571130  281372.887426   \n2017-08-31      1.698958  7.831782e+05  265528.838727  248924.000556   \n2017-09-29      1.840949  6.592119e+05  226802.182315  214579.848218   \n2017-10-31      1.752444  6.718110e+05  225684.313037  220760.585130   \n2017-11-30      1.517292  7.512021e+05  261345.969491  222808.244537   \n2017-12-29      1.383935  8.221759e+05  269767.378079  265490.265116   \n2018-01-31      1.366648  9.886295e+05  329438.485019  315945.186815   \n2018-02-28      1.318704  1.152264e+06  392027.877685  340770.855185   \n2018-03-30      1.336458  1.053827e+06  341248.005463  291612.858889   \n\n                    4770     Total Bags     Small Bags     Large Bags  \\\nDate                                                                    \n2015-01-30  20635.684028  117337.264028   96502.584213   20513.634144   \n2015-02-27  24220.692431  126555.650949  106004.821690   20017.510602   \n2015-03-31  23068.926037  127622.400111  109589.476796   17325.542056   \n2015-04-30  22056.120440  134856.551806  114351.516134   19976.716250   \n2015-05-29  24191.347523  146723.494931  123053.009051   23103.541968   \n2015-06-30  27163.731426  160092.312556  137144.884963   22194.135963   \n2015-07-31  27713.835718  150467.386250  126518.964097   23135.342292   \n2015-08-31  25399.461870  129333.573963  109437.493519   18895.924852   \n2015-09-30  27756.865671  130045.139699  100038.074236   28664.317685   \n2015-10-30  32360.636991  128733.408218   99441.142894   28159.288125   \n2015-11-30  24339.130463  136888.279889  106598.555463   29190.574759   \n2015-12-31  26654.108329  160714.450325  125089.361833   32706.897680   \n2016-01-29  35289.563681  243725.820046  177114.971366   63914.003403   \n2016-02-29  43320.277037  262891.102963  194108.748056   65679.865463   \n2016-03-31  42992.560046  256027.159398  193483.747222   60488.572407   \n2016-04-29  41840.764861  269479.695046  200286.460347   67071.042153   \n2016-05-31  41345.668741  295044.604741  212324.574259   79056.908852   \n2016-06-30  41136.829861  276875.973125  217061.773194   51898.984769   \n2016-07-29  30448.482222  288841.656157  232294.038935   45837.588056   \n2016-08-31  17418.706037  267883.803593  220590.961574   43271.624352   \n2016-09-30  12921.692963  268582.287616  207073.645741   59521.259745   \n2016-10-31  11974.115111  230595.747204  166865.319759   61820.873019   \n2016-11-30  11179.161412  199136.829213  148774.357037   49242.166204   \n2016-12-30  11709.720116  263753.326921  192878.259977   68967.437315   \n2017-01-31  17590.070759  316339.613870  240422.766833   73925.408593   \n2017-02-28  26609.973727  341601.167130  259093.394606   78929.197361   \n2017-03-31  17432.079884  283827.089838  218559.662963   61373.766181   \n2017-04-28  16053.176366  316943.067731  240757.237454   71900.136366   \n2017-05-31  17580.451704  347581.047759  254569.388222   87473.617796   \n2017-06-30  17421.513884  343324.379465  251207.162977   85014.397419   \n2017-07-31  18194.446722  290480.523056  211679.004259   70991.937019   \n2017-08-31  15147.614560  253573.479028  180905.033843   66123.047037   \n2017-09-29  11596.970532  206227.066991  155109.808241   47795.713264   \n2017-10-31  10241.867074  215118.239241  161607.904037   52014.657056   \n2017-11-30  10289.274931  256748.859653  182617.605046   71869.258588   \n2017-12-29  13165.280370  273744.211134  204230.388102   66713.768704   \n2018-01-31  17381.743611  325860.974315  235958.641370   86304.669833   \n2018-02-28  18579.356713  400877.131829  287812.299074  106879.125903   \n2018-03-30  16786.037894  404165.789213  306531.357685   90877.283727   \n\n             XLarge Bags    year  \nDate                              \n2015-01-30    321.045671  2015.0  \n2015-02-27    533.318657  2015.0  \n2015-03-31    707.381259  2015.0  \n2015-04-30    528.319421  2015.0  \n2015-05-29    566.943912  2015.0  \n2015-06-30    753.291630  2015.0  \n2015-07-31    813.075231  2015.0  \n2015-08-31   1000.153741  2015.0  \n2015-09-30   1342.747778  2015.0  \n2015-10-30   1132.977199  2015.0  \n2015-11-30   1099.149667  2015.0  \n2015-12-31   2918.190812  2015.0  \n2016-01-29   2696.845278  2016.0  \n2016-02-29   3102.489444  2016.0  \n2016-03-31   2054.839769  2016.0  \n2016-04-29   2122.192546  2016.0  \n2016-05-31   3663.121630  2016.0  \n2016-06-30   7915.215162  2016.0  \n2016-07-29  10710.029167  2016.0  \n2016-08-31   4021.217667  2016.0  \n2016-09-30   1987.382130  2016.0  \n2016-10-31   1909.554426  2016.0  \n2016-11-30   1120.305972  2016.0  \n2016-12-30   1907.629630  2016.0  \n2017-01-31   1991.438444  2017.0  \n2017-02-28   3578.575162  2017.0  \n2017-03-31   3893.660694  2017.0  \n2017-04-28   4285.693912  2017.0  \n2017-05-31   5538.041741  2017.0  \n2017-06-30   7102.819070  2017.0  \n2017-07-31   7809.581778  2017.0  \n2017-08-31   6545.398148  2017.0  \n2017-09-29   3321.545486  2017.0  \n2017-10-31   1495.678148  2017.0  \n2017-11-30   2261.975185  2017.0  \n2017-12-29   2800.052014  2017.0  \n2018-01-31   3597.663111  2017.8  \n2018-02-28   6185.706852  2018.0  \n2018-03-30   6757.147801  2018.0  ",
      "text/html": "<div>\n<style scoped>\n    .dataframe tbody tr th:only-of-type {\n        vertical-align: middle;\n    }\n\n    .dataframe tbody tr th {\n        vertical-align: top;\n    }\n\n    .dataframe thead th {\n        text-align: right;\n    }\n</style>\n<table border=\"1\" class=\"dataframe\">\n  <thead>\n    <tr style=\"text-align: right;\">\n      <th></th>\n      <th>AveragePrice</th>\n      <th>Total Volume</th>\n      <th>4046</th>\n      <th>4225</th>\n      <th>4770</th>\n      <th>Total Bags</th>\n      <th>Small Bags</th>\n      <th>Large Bags</th>\n      <th>XLarge Bags</th>\n      <th>year</th>\n    </tr>\n    <tr>\n      <th>Date</th>\n      <th></th>\n      <th></th>\n      <th></th>\n      <th></th>\n      <th></th>\n      <th></th>\n      <th></th>\n      <th></th>\n      <th></th>\n      <th></th>\n    </tr>\n  </thead>\n  <tbody>\n    <tr>\n      <th>2015-01-30</th>\n      <td>1.365046</td>\n      <td>7.363084e+05</td>\n      <td>296829.313565</td>\n      <td>301506.093912</td>\n      <td>20635.684028</td>\n      <td>117337.264028</td>\n      <td>96502.584213</td>\n      <td>20513.634144</td>\n      <td>321.045671</td>\n      <td>2015.0</td>\n    </tr>\n    <tr>\n      <th>2015-02-27</th>\n      <td>1.326944</td>\n      <td>8.394389e+05</td>\n      <td>354552.080000</td>\n      <td>334110.463727</td>\n      <td>24220.692431</td>\n      <td>126555.650949</td>\n      <td>106004.821690</td>\n      <td>20017.510602</td>\n      <td>533.318657</td>\n      <td>2015.0</td>\n    </tr>\n    <tr>\n      <th>2015-03-31</th>\n      <td>1.361981</td>\n      <td>7.751538e+05</td>\n      <td>324630.507778</td>\n      <td>299831.998981</td>\n      <td>23068.926037</td>\n      <td>127622.400111</td>\n      <td>109589.476796</td>\n      <td>17325.542056</td>\n      <td>707.381259</td>\n      <td>2015.0</td>\n    </tr>\n    <tr>\n      <th>2015-04-30</th>\n      <td>1.383449</td>\n      <td>7.966305e+05</td>\n      <td>348567.729491</td>\n      <td>291150.142593</td>\n      <td>22056.120440</td>\n      <td>134856.551806</td>\n      <td>114351.516134</td>\n      <td>19976.716250</td>\n      <td>528.319421</td>\n      <td>2015.0</td>\n    </tr>\n    <tr>\n      <th>2015-05-29</th>\n      <td>1.335255</td>\n      <td>9.083077e+05</td>\n      <td>398011.679421</td>\n      <td>339381.167315</td>\n      <td>24191.347523</td>\n      <td>146723.494931</td>\n      <td>123053.009051</td>\n      <td>23103.541968</td>\n      <td>566.943912</td>\n      <td>2015.0</td>\n    </tr>\n    <tr>\n      <th>2015-06-30</th>\n      <td>1.395741</td>\n      <td>8.763368e+05</td>\n      <td>376246.486593</td>\n      <td>312834.259741</td>\n      <td>27163.731426</td>\n      <td>160092.312556</td>\n      <td>137144.884963</td>\n      <td>22194.135963</td>\n      <td>753.291630</td>\n      <td>2015.0</td>\n    </tr>\n    <tr>\n      <th>2015-07-31</th>\n      <td>1.409444</td>\n      <td>8.256988e+05</td>\n      <td>326456.573750</td>\n      <td>321060.962685</td>\n      <td>27713.835718</td>\n      <td>150467.386250</td>\n      <td>126518.964097</td>\n      <td>23135.342292</td>\n      <td>813.075231</td>\n      <td>2015.0</td>\n    </tr>\n    <tr>\n      <th>2015-08-31</th>\n      <td>1.444481</td>\n      <td>7.763793e+05</td>\n      <td>300310.837796</td>\n      <td>321335.405667</td>\n      <td>25399.461870</td>\n      <td>129333.573963</td>\n      <td>109437.493519</td>\n      <td>18895.924852</td>\n      <td>1000.153741</td>\n      <td>2015.0</td>\n    </tr>\n    <tr>\n      <th>2015-09-30</th>\n      <td>1.449144</td>\n      <td>7.620806e+05</td>\n      <td>247781.252500</td>\n      <td>356497.374190</td>\n      <td>27756.865671</td>\n      <td>130045.139699</td>\n      <td>100038.074236</td>\n      <td>28664.317685</td>\n      <td>1342.747778</td>\n      <td>2015.0</td>\n    </tr>\n    <tr>\n      <th>2015-10-30</th>\n      <td>1.391968</td>\n      <td>7.078151e+05</td>\n      <td>214976.447894</td>\n      <td>331744.578704</td>\n      <td>32360.636991</td>\n      <td>128733.408218</td>\n      <td>99441.142894</td>\n      <td>28159.288125</td>\n      <td>1132.977199</td>\n      <td>2015.0</td>\n    </tr>\n    <tr>\n      <th>2015-11-30</th>\n      <td>1.330611</td>\n      <td>6.841482e+05</td>\n      <td>230572.546722</td>\n      <td>292348.258463</td>\n      <td>24339.130463</td>\n      <td>136888.279889</td>\n      <td>106598.555463</td>\n      <td>29190.574759</td>\n      <td>1099.149667</td>\n      <td>2015.0</td>\n    </tr>\n    <tr>\n      <th>2015-12-31</th>\n      <td>1.305244</td>\n      <td>6.868351e+05</td>\n      <td>230718.662738</td>\n      <td>268747.887401</td>\n      <td>26654.108329</td>\n      <td>160714.450325</td>\n      <td>125089.361833</td>\n      <td>32706.897680</td>\n      <td>2918.190812</td>\n      <td>2015.0</td>\n    </tr>\n    <tr>\n      <th>2016-01-29</th>\n      <td>1.236991</td>\n      <td>8.828596e+05</td>\n      <td>244254.725579</td>\n      <td>359589.496829</td>\n      <td>35289.563681</td>\n      <td>243725.820046</td>\n      <td>177114.971366</td>\n      <td>63914.003403</td>\n      <td>2696.845278</td>\n      <td>2016.0</td>\n    </tr>\n    <tr>\n      <th>2016-02-29</th>\n      <td>1.240278</td>\n      <td>9.678819e+05</td>\n      <td>296415.195574</td>\n      <td>365255.309074</td>\n      <td>43320.277037</td>\n      <td>262891.102963</td>\n      <td>194108.748056</td>\n      <td>65679.865463</td>\n      <td>3102.489444</td>\n      <td>2016.0</td>\n    </tr>\n    <tr>\n      <th>2016-03-31</th>\n      <td>1.224213</td>\n      <td>9.055843e+05</td>\n      <td>276501.768171</td>\n      <td>330062.790810</td>\n      <td>42992.560046</td>\n      <td>256027.159398</td>\n      <td>193483.747222</td>\n      <td>60488.572407</td>\n      <td>2054.839769</td>\n      <td>2016.0</td>\n    </tr>\n    <tr>\n      <th>2016-04-29</th>\n      <td>1.205023</td>\n      <td>9.301684e+05</td>\n      <td>296899.473704</td>\n      <td>321948.473310</td>\n      <td>41840.764861</td>\n      <td>269479.695046</td>\n      <td>200286.460347</td>\n      <td>67071.042153</td>\n      <td>2122.192546</td>\n      <td>2016.0</td>\n    </tr>\n    <tr>\n      <th>2016-05-31</th>\n      <td>1.199722</td>\n      <td>1.039316e+06</td>\n      <td>318331.990741</td>\n      <td>384593.533130</td>\n      <td>41345.668741</td>\n      <td>295044.604741</td>\n      <td>212324.574259</td>\n      <td>79056.908852</td>\n      <td>3663.121630</td>\n      <td>2016.0</td>\n    </tr>\n    <tr>\n      <th>2016-06-30</th>\n      <td>1.283056</td>\n      <td>9.498337e+05</td>\n      <td>314644.787060</td>\n      <td>317176.099954</td>\n      <td>41136.829861</td>\n      <td>276875.973125</td>\n      <td>217061.773194</td>\n      <td>51898.984769</td>\n      <td>7915.215162</td>\n      <td>2016.0</td>\n    </tr>\n    <tr>\n      <th>2016-07-29</th>\n      <td>1.389583</td>\n      <td>8.848478e+05</td>\n      <td>272678.221620</td>\n      <td>292879.427500</td>\n      <td>30448.482222</td>\n      <td>288841.656157</td>\n      <td>232294.038935</td>\n      <td>45837.588056</td>\n      <td>10710.029167</td>\n      <td>2016.0</td>\n    </tr>\n    <tr>\n      <th>2016-08-31</th>\n      <td>1.418556</td>\n      <td>8.441075e+05</td>\n      <td>292461.813667</td>\n      <td>266343.208204</td>\n      <td>17418.706037</td>\n      <td>267883.803593</td>\n      <td>220590.961574</td>\n      <td>43271.624352</td>\n      <td>4021.217667</td>\n      <td>2016.0</td>\n    </tr>\n    <tr>\n      <th>2016-09-30</th>\n      <td>1.427870</td>\n      <td>8.386650e+05</td>\n      <td>301102.070440</td>\n      <td>256058.938519</td>\n      <td>12921.692963</td>\n      <td>268582.287616</td>\n      <td>207073.645741</td>\n      <td>59521.259745</td>\n      <td>1987.382130</td>\n      <td>2016.0</td>\n    </tr>\n    <tr>\n      <th>2016-10-31</th>\n      <td>1.557093</td>\n      <td>6.670404e+05</td>\n      <td>206836.425519</td>\n      <td>217634.090463</td>\n      <td>11974.115111</td>\n      <td>230595.747204</td>\n      <td>166865.319759</td>\n      <td>61820.873019</td>\n      <td>1909.554426</td>\n      <td>2016.0</td>\n    </tr>\n    <tr>\n      <th>2016-11-30</th>\n      <td>1.550023</td>\n      <td>6.023364e+05</td>\n      <td>197766.242037</td>\n      <td>194254.194884</td>\n      <td>11179.161412</td>\n      <td>199136.829213</td>\n      <td>148774.357037</td>\n      <td>49242.166204</td>\n      <td>1120.305972</td>\n      <td>2016.0</td>\n    </tr>\n    <tr>\n      <th>2016-12-30</th>\n      <td>1.315995</td>\n      <td>7.672402e+05</td>\n      <td>233972.995023</td>\n      <td>257804.124329</td>\n      <td>11709.720116</td>\n      <td>263753.326921</td>\n      <td>192878.259977</td>\n      <td>68967.437315</td>\n      <td>1907.629630</td>\n      <td>2016.0</td>\n    </tr>\n    <tr>\n      <th>2017-01-31</th>\n      <td>1.277500</td>\n      <td>9.876538e+05</td>\n      <td>317062.237130</td>\n      <td>336661.843815</td>\n      <td>17590.070759</td>\n      <td>316339.613870</td>\n      <td>240422.766833</td>\n      <td>73925.408593</td>\n      <td>1991.438444</td>\n      <td>2017.0</td>\n    </tr>\n    <tr>\n      <th>2017-02-28</th>\n      <td>1.214792</td>\n      <td>1.091359e+06</td>\n      <td>376396.705926</td>\n      <td>346751.412106</td>\n      <td>26609.973727</td>\n      <td>341601.167130</td>\n      <td>259093.394606</td>\n      <td>78929.197361</td>\n      <td>3578.575162</td>\n      <td>2017.0</td>\n    </tr>\n    <tr>\n      <th>2017-03-31</th>\n      <td>1.398935</td>\n      <td>8.307949e+05</td>\n      <td>274356.680880</td>\n      <td>255179.014560</td>\n      <td>17432.079884</td>\n      <td>283827.089838</td>\n      <td>218559.662963</td>\n      <td>61373.766181</td>\n      <td>3893.660694</td>\n      <td>2017.0</td>\n    </tr>\n    <tr>\n      <th>2017-04-28</th>\n      <td>1.490625</td>\n      <td>8.914325e+05</td>\n      <td>296010.009606</td>\n      <td>262426.196435</td>\n      <td>16053.176366</td>\n      <td>316943.067731</td>\n      <td>240757.237454</td>\n      <td>71900.136366</td>\n      <td>4285.693912</td>\n      <td>2017.0</td>\n    </tr>\n    <tr>\n      <th>2017-05-31</th>\n      <td>1.536185</td>\n      <td>9.823079e+05</td>\n      <td>331669.986556</td>\n      <td>285476.389333</td>\n      <td>17580.451704</td>\n      <td>347581.047759</td>\n      <td>254569.388222</td>\n      <td>87473.617796</td>\n      <td>5538.041741</td>\n      <td>2017.0</td>\n    </tr>\n    <tr>\n      <th>2017-06-30</th>\n      <td>1.545395</td>\n      <td>9.544434e+05</td>\n      <td>321590.905721</td>\n      <td>272106.575233</td>\n      <td>17421.513884</td>\n      <td>343324.379465</td>\n      <td>251207.162977</td>\n      <td>85014.397419</td>\n      <td>7102.819070</td>\n      <td>2017.0</td>\n    </tr>\n    <tr>\n      <th>2017-07-31</th>\n      <td>1.564926</td>\n      <td>8.794513e+05</td>\n      <td>289383.571130</td>\n      <td>281372.887426</td>\n      <td>18194.446722</td>\n      <td>290480.523056</td>\n      <td>211679.004259</td>\n      <td>70991.937019</td>\n      <td>7809.581778</td>\n      <td>2017.0</td>\n    </tr>\n    <tr>\n      <th>2017-08-31</th>\n      <td>1.698958</td>\n      <td>7.831782e+05</td>\n      <td>265528.838727</td>\n      <td>248924.000556</td>\n      <td>15147.614560</td>\n      <td>253573.479028</td>\n      <td>180905.033843</td>\n      <td>66123.047037</td>\n      <td>6545.398148</td>\n      <td>2017.0</td>\n    </tr>\n    <tr>\n      <th>2017-09-29</th>\n      <td>1.840949</td>\n      <td>6.592119e+05</td>\n      <td>226802.182315</td>\n      <td>214579.848218</td>\n      <td>11596.970532</td>\n      <td>206227.066991</td>\n      <td>155109.808241</td>\n      <td>47795.713264</td>\n      <td>3321.545486</td>\n      <td>2017.0</td>\n    </tr>\n    <tr>\n      <th>2017-10-31</th>\n      <td>1.752444</td>\n      <td>6.718110e+05</td>\n      <td>225684.313037</td>\n      <td>220760.585130</td>\n      <td>10241.867074</td>\n      <td>215118.239241</td>\n      <td>161607.904037</td>\n      <td>52014.657056</td>\n      <td>1495.678148</td>\n      <td>2017.0</td>\n    </tr>\n    <tr>\n      <th>2017-11-30</th>\n      <td>1.517292</td>\n      <td>7.512021e+05</td>\n      <td>261345.969491</td>\n      <td>222808.244537</td>\n      <td>10289.274931</td>\n      <td>256748.859653</td>\n      <td>182617.605046</td>\n      <td>71869.258588</td>\n      <td>2261.975185</td>\n      <td>2017.0</td>\n    </tr>\n    <tr>\n      <th>2017-12-29</th>\n      <td>1.383935</td>\n      <td>8.221759e+05</td>\n      <td>269767.378079</td>\n      <td>265490.265116</td>\n      <td>13165.280370</td>\n      <td>273744.211134</td>\n      <td>204230.388102</td>\n      <td>66713.768704</td>\n      <td>2800.052014</td>\n      <td>2017.0</td>\n    </tr>\n    <tr>\n      <th>2018-01-31</th>\n      <td>1.366648</td>\n      <td>9.886295e+05</td>\n      <td>329438.485019</td>\n      <td>315945.186815</td>\n      <td>17381.743611</td>\n      <td>325860.974315</td>\n      <td>235958.641370</td>\n      <td>86304.669833</td>\n      <td>3597.663111</td>\n      <td>2017.8</td>\n    </tr>\n    <tr>\n      <th>2018-02-28</th>\n      <td>1.318704</td>\n      <td>1.152264e+06</td>\n      <td>392027.877685</td>\n      <td>340770.855185</td>\n      <td>18579.356713</td>\n      <td>400877.131829</td>\n      <td>287812.299074</td>\n      <td>106879.125903</td>\n      <td>6185.706852</td>\n      <td>2018.0</td>\n    </tr>\n    <tr>\n      <th>2018-03-30</th>\n      <td>1.336458</td>\n      <td>1.053827e+06</td>\n      <td>341248.005463</td>\n      <td>291612.858889</td>\n      <td>16786.037894</td>\n      <td>404165.789213</td>\n      <td>306531.357685</td>\n      <td>90877.283727</td>\n      <td>6757.147801</td>\n      <td>2018.0</td>\n    </tr>\n  </tbody>\n</table>\n</div>"
     },
     "metadata": {},
     "execution_count": 1073
    }
   ],
   "source": [
    "avocado_months=avocado.resample(\"BM\").mean() \n",
    "avocado_months"
   ]
  },
  {
   "cell_type": "code",
   "execution_count": 1074,
   "metadata": {},
   "outputs": [
    {
     "output_type": "execute_result",
     "data": {
      "text/plain": "            AveragePrice   Total Volume           4046           4225  \\\nDate                                                                    \n2015-01-30      1.365046  736308.355532  296829.313565  301506.093912   \n2015-02-27      1.326944  839438.887106  354552.080000  334110.463727   \n2015-03-31      1.361981  775153.832907  324630.507778  299831.998981   \n2015-04-30      1.383449  796630.544329  348567.729491  291150.142593   \n2015-05-29      1.335255  908307.689190  398011.679421  339381.167315   \n2015-06-30      1.395741  876336.790315  376246.486593  312834.259741   \n2015-07-31      1.409444  825698.779236  326456.573750  321060.962685   \n2015-08-31      1.444481  776379.286704  300310.837796  321335.405667   \n2015-09-30      1.449144  762080.632060  247781.252500  356497.374190   \n2015-10-30      1.391968  707815.071806  214976.447894  331744.578704   \n2015-11-30      1.330611  684148.215537  230572.546722  292348.258463   \n2015-12-31      1.305244  686835.108794  230718.662738  268747.887401   \n2016-01-29      1.236991  882859.606134  244254.725579  359589.496829   \n2016-02-29      1.240278  967881.884648  296415.195574  365255.309074   \n2016-03-31      1.224213  905584.278426  276501.768171  330062.790810   \n\n                    4770     Total Bags     Small Bags    Large Bags  \\\nDate                                                                   \n2015-01-30  20635.684028  117337.264028   96502.584213  20513.634144   \n2015-02-27  24220.692431  126555.650949  106004.821690  20017.510602   \n2015-03-31  23068.926037  127622.400111  109589.476796  17325.542056   \n2015-04-30  22056.120440  134856.551806  114351.516134  19976.716250   \n2015-05-29  24191.347523  146723.494931  123053.009051  23103.541968   \n2015-06-30  27163.731426  160092.312556  137144.884963  22194.135963   \n2015-07-31  27713.835718  150467.386250  126518.964097  23135.342292   \n2015-08-31  25399.461870  129333.573963  109437.493519  18895.924852   \n2015-09-30  27756.865671  130045.139699  100038.074236  28664.317685   \n2015-10-30  32360.636991  128733.408218   99441.142894  28159.288125   \n2015-11-30  24339.130463  136888.279889  106598.555463  29190.574759   \n2015-12-31  26654.108329  160714.450325  125089.361833  32706.897680   \n2016-01-29  35289.563681  243725.820046  177114.971366  63914.003403   \n2016-02-29  43320.277037  262891.102963  194108.748056  65679.865463   \n2016-03-31  42992.560046  256027.159398  193483.747222  60488.572407   \n\n            XLarge Bags    year  \nDate                             \n2015-01-30   321.045671  2015.0  \n2015-02-27   533.318657  2015.0  \n2015-03-31   707.381259  2015.0  \n2015-04-30   528.319421  2015.0  \n2015-05-29   566.943912  2015.0  \n2015-06-30   753.291630  2015.0  \n2015-07-31   813.075231  2015.0  \n2015-08-31  1000.153741  2015.0  \n2015-09-30  1342.747778  2015.0  \n2015-10-30  1132.977199  2015.0  \n2015-11-30  1099.149667  2015.0  \n2015-12-31  2918.190812  2015.0  \n2016-01-29  2696.845278  2016.0  \n2016-02-29  3102.489444  2016.0  \n2016-03-31  2054.839769  2016.0  ",
      "text/html": "<div>\n<style scoped>\n    .dataframe tbody tr th:only-of-type {\n        vertical-align: middle;\n    }\n\n    .dataframe tbody tr th {\n        vertical-align: top;\n    }\n\n    .dataframe thead th {\n        text-align: right;\n    }\n</style>\n<table border=\"1\" class=\"dataframe\">\n  <thead>\n    <tr style=\"text-align: right;\">\n      <th></th>\n      <th>AveragePrice</th>\n      <th>Total Volume</th>\n      <th>4046</th>\n      <th>4225</th>\n      <th>4770</th>\n      <th>Total Bags</th>\n      <th>Small Bags</th>\n      <th>Large Bags</th>\n      <th>XLarge Bags</th>\n      <th>year</th>\n    </tr>\n    <tr>\n      <th>Date</th>\n      <th></th>\n      <th></th>\n      <th></th>\n      <th></th>\n      <th></th>\n      <th></th>\n      <th></th>\n      <th></th>\n      <th></th>\n      <th></th>\n    </tr>\n  </thead>\n  <tbody>\n    <tr>\n      <th>2015-01-30</th>\n      <td>1.365046</td>\n      <td>736308.355532</td>\n      <td>296829.313565</td>\n      <td>301506.093912</td>\n      <td>20635.684028</td>\n      <td>117337.264028</td>\n      <td>96502.584213</td>\n      <td>20513.634144</td>\n      <td>321.045671</td>\n      <td>2015.0</td>\n    </tr>\n    <tr>\n      <th>2015-02-27</th>\n      <td>1.326944</td>\n      <td>839438.887106</td>\n      <td>354552.080000</td>\n      <td>334110.463727</td>\n      <td>24220.692431</td>\n      <td>126555.650949</td>\n      <td>106004.821690</td>\n      <td>20017.510602</td>\n      <td>533.318657</td>\n      <td>2015.0</td>\n    </tr>\n    <tr>\n      <th>2015-03-31</th>\n      <td>1.361981</td>\n      <td>775153.832907</td>\n      <td>324630.507778</td>\n      <td>299831.998981</td>\n      <td>23068.926037</td>\n      <td>127622.400111</td>\n      <td>109589.476796</td>\n      <td>17325.542056</td>\n      <td>707.381259</td>\n      <td>2015.0</td>\n    </tr>\n    <tr>\n      <th>2015-04-30</th>\n      <td>1.383449</td>\n      <td>796630.544329</td>\n      <td>348567.729491</td>\n      <td>291150.142593</td>\n      <td>22056.120440</td>\n      <td>134856.551806</td>\n      <td>114351.516134</td>\n      <td>19976.716250</td>\n      <td>528.319421</td>\n      <td>2015.0</td>\n    </tr>\n    <tr>\n      <th>2015-05-29</th>\n      <td>1.335255</td>\n      <td>908307.689190</td>\n      <td>398011.679421</td>\n      <td>339381.167315</td>\n      <td>24191.347523</td>\n      <td>146723.494931</td>\n      <td>123053.009051</td>\n      <td>23103.541968</td>\n      <td>566.943912</td>\n      <td>2015.0</td>\n    </tr>\n    <tr>\n      <th>2015-06-30</th>\n      <td>1.395741</td>\n      <td>876336.790315</td>\n      <td>376246.486593</td>\n      <td>312834.259741</td>\n      <td>27163.731426</td>\n      <td>160092.312556</td>\n      <td>137144.884963</td>\n      <td>22194.135963</td>\n      <td>753.291630</td>\n      <td>2015.0</td>\n    </tr>\n    <tr>\n      <th>2015-07-31</th>\n      <td>1.409444</td>\n      <td>825698.779236</td>\n      <td>326456.573750</td>\n      <td>321060.962685</td>\n      <td>27713.835718</td>\n      <td>150467.386250</td>\n      <td>126518.964097</td>\n      <td>23135.342292</td>\n      <td>813.075231</td>\n      <td>2015.0</td>\n    </tr>\n    <tr>\n      <th>2015-08-31</th>\n      <td>1.444481</td>\n      <td>776379.286704</td>\n      <td>300310.837796</td>\n      <td>321335.405667</td>\n      <td>25399.461870</td>\n      <td>129333.573963</td>\n      <td>109437.493519</td>\n      <td>18895.924852</td>\n      <td>1000.153741</td>\n      <td>2015.0</td>\n    </tr>\n    <tr>\n      <th>2015-09-30</th>\n      <td>1.449144</td>\n      <td>762080.632060</td>\n      <td>247781.252500</td>\n      <td>356497.374190</td>\n      <td>27756.865671</td>\n      <td>130045.139699</td>\n      <td>100038.074236</td>\n      <td>28664.317685</td>\n      <td>1342.747778</td>\n      <td>2015.0</td>\n    </tr>\n    <tr>\n      <th>2015-10-30</th>\n      <td>1.391968</td>\n      <td>707815.071806</td>\n      <td>214976.447894</td>\n      <td>331744.578704</td>\n      <td>32360.636991</td>\n      <td>128733.408218</td>\n      <td>99441.142894</td>\n      <td>28159.288125</td>\n      <td>1132.977199</td>\n      <td>2015.0</td>\n    </tr>\n    <tr>\n      <th>2015-11-30</th>\n      <td>1.330611</td>\n      <td>684148.215537</td>\n      <td>230572.546722</td>\n      <td>292348.258463</td>\n      <td>24339.130463</td>\n      <td>136888.279889</td>\n      <td>106598.555463</td>\n      <td>29190.574759</td>\n      <td>1099.149667</td>\n      <td>2015.0</td>\n    </tr>\n    <tr>\n      <th>2015-12-31</th>\n      <td>1.305244</td>\n      <td>686835.108794</td>\n      <td>230718.662738</td>\n      <td>268747.887401</td>\n      <td>26654.108329</td>\n      <td>160714.450325</td>\n      <td>125089.361833</td>\n      <td>32706.897680</td>\n      <td>2918.190812</td>\n      <td>2015.0</td>\n    </tr>\n    <tr>\n      <th>2016-01-29</th>\n      <td>1.236991</td>\n      <td>882859.606134</td>\n      <td>244254.725579</td>\n      <td>359589.496829</td>\n      <td>35289.563681</td>\n      <td>243725.820046</td>\n      <td>177114.971366</td>\n      <td>63914.003403</td>\n      <td>2696.845278</td>\n      <td>2016.0</td>\n    </tr>\n    <tr>\n      <th>2016-02-29</th>\n      <td>1.240278</td>\n      <td>967881.884648</td>\n      <td>296415.195574</td>\n      <td>365255.309074</td>\n      <td>43320.277037</td>\n      <td>262891.102963</td>\n      <td>194108.748056</td>\n      <td>65679.865463</td>\n      <td>3102.489444</td>\n      <td>2016.0</td>\n    </tr>\n    <tr>\n      <th>2016-03-31</th>\n      <td>1.224213</td>\n      <td>905584.278426</td>\n      <td>276501.768171</td>\n      <td>330062.790810</td>\n      <td>42992.560046</td>\n      <td>256027.159398</td>\n      <td>193483.747222</td>\n      <td>60488.572407</td>\n      <td>2054.839769</td>\n      <td>2016.0</td>\n    </tr>\n  </tbody>\n</table>\n</div>"
     },
     "metadata": {},
     "execution_count": 1074
    }
   ],
   "source": [
    "avocado_months.head(15)"
   ]
  },
  {
   "cell_type": "markdown",
   "metadata": {},
   "source": [
    "A partir de `avocado_months` calcula el precio máximo de los aguacates de los meses de enero. "
   ]
  },
  {
   "cell_type": "markdown",
   "metadata": {},
   "source": [
    "Asigna a la variable `avocado_tri` el dataframe `avocado` agrupado por **trimestre** y el sumatorio de los valores de cada columna. "
   ]
  },
  {
   "cell_type": "markdown",
   "metadata": {},
   "source": [
    "Crea un subset de `avocado` en el que solo se incluyan las siguientes columnas: `\"AveragePrice\"`,`\"Total Volume\"`,`\"type\"`,`\"year\"` y `\"region\"`, llámalo `avo_subset`."
   ]
  },
  {
   "cell_type": "code",
   "execution_count": 1076,
   "metadata": {},
   "outputs": [],
   "source": [
    "# your code here"
   ]
  },
  {
   "cell_type": "markdown",
   "metadata": {},
   "source": [
    "Filtra el dataframe `avo_subset` de modo que muestre solo aquellos datos de los aguacates tipo organic en la region de California durante el año 2017. Llama a la variable `org_Cal`. "
   ]
  },
  {
   "cell_type": "code",
   "execution_count": 1077,
   "metadata": {},
   "outputs": [],
   "source": [
    "# your code here"
   ]
  },
  {
   "cell_type": "markdown",
   "metadata": {},
   "source": [
    "Usando `org_Cal` saca la mediana del volumen total. "
   ]
  },
  {
   "cell_type": "code",
   "execution_count": 1078,
   "metadata": {},
   "outputs": [],
   "source": [
    "# your code here"
   ]
  },
  {
   "cell_type": "markdown",
   "metadata": {},
   "source": [
    "¿Qué precio medio había el día que el volumen total fue igual a la mediana de la mencionada columna, `\"Total Volume\"`? "
   ]
  },
  {
   "cell_type": "code",
   "execution_count": 1079,
   "metadata": {},
   "outputs": [],
   "source": [
    "# your code here"
   ]
  },
  {
   "cell_type": "markdown",
   "metadata": {},
   "source": [
    "Muestra la evolución del precio medio, `\"AveragePrice\"`, de los aguacates de tipo orgánicos de California durante el año 2017 con un gráfico de una línea, usando `org_Cal`. "
   ]
  },
  {
   "cell_type": "code",
   "execution_count": 1080,
   "metadata": {},
   "outputs": [],
   "source": [
    "# your code here"
   ]
  },
  {
   "cell_type": "markdown",
   "metadata": {},
   "source": [
    "A partir del subset `avo_subset` trata de sacar un gráfico en el que se pueda observar la cantidad de aguacates de tipo **conventional**, a lo largo de todos los periodos. \n",
    "\n",
    "Haz un gráfico simple usando la librería **pandas**. "
   ]
  },
  {
   "cell_type": "code",
   "execution_count": 1081,
   "metadata": {},
   "outputs": [],
   "source": [
    "# your code here"
   ]
  },
  {
   "cell_type": "markdown",
   "metadata": {},
   "source": [
    "Crea una función **lambda** que quite los dos primeros dígitos de cada año de la columna `\"year\"` y lo convierta a string. \n",
    "Después aplica esta función a toda la columna del dataframe `avo_subset`. \n",
    "\n",
    "Ejemplo: `2015` --> `\"15\"` "
   ]
  },
  {
   "cell_type": "code",
   "execution_count": 1082,
   "metadata": {},
   "outputs": [],
   "source": [
    "# your code here"
   ]
  },
  {
   "cell_type": "markdown",
   "metadata": {},
   "source": [
    "# ¡Ya tienes un 10!"
   ]
  },
  {
   "cell_type": "markdown",
   "metadata": {},
   "source": [
    "**No te conformes y si te sobra tiempo, ve a por el 11 o si no, recupera algún puntito si algún ejercicio se te ha quedado atascado. ¡Otra oportunidad!**"
   ]
  },
  {
   "cell_type": "markdown",
   "metadata": {},
   "source": [
    "En esta misma carpeta encontrarás un archivo llamado `supermarket_region.csv`, asígnalo a la variable `supermarket` y muestra los primeros 5 filas. \n",
    "\n"
   ]
  },
  {
   "cell_type": "code",
   "execution_count": 1083,
   "metadata": {},
   "outputs": [],
   "source": [
    "# your code here"
   ]
  },
  {
   "cell_type": "markdown",
   "metadata": {},
   "source": [
    "El dataframe `supermarket` y `avo_subset` tienen una columna en común que es `region`, sabiendo esto, utiliza el método adecuado para unir ambos dataframes en uno llamado `avo_merged`. \n",
    "\n",
    "Si lo has hecho bien, no debería salir ningún **null**. "
   ]
  },
  {
   "cell_type": "code",
   "execution_count": 1084,
   "metadata": {},
   "outputs": [],
   "source": [
    "# your code here"
   ]
  },
  {
   "cell_type": "markdown",
   "metadata": {},
   "source": [
    "Guarda `avo_merged` como un `.json` usando la función de **pandas** correspondiente, el nombre del archivo deberá ser `\"avo_merged.json\"`. "
   ]
  },
  {
   "cell_type": "code",
   "execution_count": 1085,
   "metadata": {},
   "outputs": [],
   "source": [
    "# your code here"
   ]
  }
 ],
 "metadata": {
  "kernelspec": {
   "display_name": "Python 3.8.3 32-bit",
   "language": "python",
   "name": "python_defaultSpec_1596093286298"
  },
  "language_info": {
   "codemirror_mode": {
    "name": "ipython",
    "version": 3
   },
   "file_extension": ".py",
   "mimetype": "text/x-python",
   "name": "python",
   "nbconvert_exporter": "python",
   "pygments_lexer": "ipython3",
   "version": "3.8.3"
  }
 },
 "nbformat": 4,
 "nbformat_minor": 4
}