{
 "cells": [
  {
   "cell_type": "markdown",
   "metadata": {},
   "source": [
    "To check that your coronavirus exercise was right, try to use the last '.csv' file from the next url. \n",
    "\n",
    "https://covid.ourworldindata.org/data/ecdc/full_data.csv\n",
    "\n",
    "When you execute all your code, it must run without problems updating the graphs and outputs with the last available information. "
   ]
  },
  {
   "cell_type": "markdown",
   "metadata": {},
   "source": [
    "### Tasks: \n",
    "\n",
    "- Create a new dataframe with all the locations except the median. Call it \"no_median_df\". All must be different locations. \n",
    "\n",
    "#### Try to create a new function that return the answer of the next tasks and questions. One function per task: \n",
    "\n",
    "- Which countries have less cases than the percentile country 75%?\n",
    "- Imagine that the median location is the 175th row. Create a dataframe with all the locations from the 165 to 185. Call it \"median_df\". \n",
    "- With \"median_df\", create with bars, with lines, with points and with pie charts the top 10 in reverse. Both in seaborn and matplotlib. \n",
    "- Create a new dataframe with the concatenation of the \"median_df\" and \"no_median_df\". After that, create a function that receives a dataframe as param and return the number of non NaN values per each column and per each file. \n",
    "- Show, in a graph, which location appears more times in the dataset. \n",
    "- Which is the country with less frequency?\n",
    "- There is any unusual value? Why?\n",
    "- Delete all NaN value and repeat the same tasks using the functions created.\n",
    "- Do you find differences? Why?\n",
    "- What conclusion can we draw?"
   ]
  },
  {
   "cell_type": "code",
   "execution_count": 326,
   "metadata": {},
   "outputs": [],
   "source": [
    "import pandas as pd"
   ]
  },
  {
   "cell_type": "code",
   "execution_count": 327,
   "metadata": {},
   "outputs": [],
   "source": [
    "address=\"https://covid.ourworldindata.org/data/ecdc/full_data.csv\""
   ]
  },
  {
   "cell_type": "code",
   "execution_count": 328,
   "metadata": {},
   "outputs": [
    {
     "output_type": "execute_result",
     "data": {
      "text/plain": "             date     location  new_cases  new_deaths  total_cases  \\\n0      2019-12-31  Afghanistan        0.0         0.0          0.0   \n1      2020-01-01  Afghanistan        0.0         0.0          0.0   \n2      2020-01-02  Afghanistan        0.0         0.0          0.0   \n3      2020-01-03  Afghanistan        0.0         0.0          0.0   \n4      2020-01-04  Afghanistan        0.0         0.0          0.0   \n...           ...          ...        ...         ...          ...   \n33383  2020-07-25     Zimbabwe      172.0         4.0       2296.0   \n33384  2020-07-26     Zimbabwe      138.0         2.0       2434.0   \n33385  2020-07-27     Zimbabwe       78.0         0.0       2512.0   \n33386  2020-07-28     Zimbabwe      192.0         2.0       2704.0   \n33387  2020-07-29     Zimbabwe      113.0         4.0       2817.0   \n\n       total_deaths  weekly_cases  weekly_deaths  biweekly_cases  \\\n0               0.0           NaN            NaN             NaN   \n1               0.0           NaN            NaN             NaN   \n2               0.0           NaN            NaN             NaN   \n3               0.0           NaN            NaN             NaN   \n4               0.0           NaN            NaN             NaN   \n...             ...           ...            ...             ...   \n33383          32.0         876.0            8.0          1354.0   \n33384          34.0         956.0            9.0          1452.0   \n33385          34.0         901.0            9.0          1527.0   \n33386          36.0         991.0           10.0          1670.0   \n33387          40.0         997.0           14.0          1783.0   \n\n       biweekly_deaths  \n0                  NaN  \n1                  NaN  \n2                  NaN  \n3                  NaN  \n4                  NaN  \n...                ...  \n33383             19.0  \n33384             16.0  \n33385             16.0  \n33386             17.0  \n33387             21.0  \n\n[33388 rows x 10 columns]",
      "text/html": "<div>\n<style scoped>\n    .dataframe tbody tr th:only-of-type {\n        vertical-align: middle;\n    }\n\n    .dataframe tbody tr th {\n        vertical-align: top;\n    }\n\n    .dataframe thead th {\n        text-align: right;\n    }\n</style>\n<table border=\"1\" class=\"dataframe\">\n  <thead>\n    <tr style=\"text-align: right;\">\n      <th></th>\n      <th>date</th>\n      <th>location</th>\n      <th>new_cases</th>\n      <th>new_deaths</th>\n      <th>total_cases</th>\n      <th>total_deaths</th>\n      <th>weekly_cases</th>\n      <th>weekly_deaths</th>\n      <th>biweekly_cases</th>\n      <th>biweekly_deaths</th>\n    </tr>\n  </thead>\n  <tbody>\n    <tr>\n      <th>0</th>\n      <td>2019-12-31</td>\n      <td>Afghanistan</td>\n      <td>0.0</td>\n      <td>0.0</td>\n      <td>0.0</td>\n      <td>0.0</td>\n      <td>NaN</td>\n      <td>NaN</td>\n      <td>NaN</td>\n      <td>NaN</td>\n    </tr>\n    <tr>\n      <th>1</th>\n      <td>2020-01-01</td>\n      <td>Afghanistan</td>\n      <td>0.0</td>\n      <td>0.0</td>\n      <td>0.0</td>\n      <td>0.0</td>\n      <td>NaN</td>\n      <td>NaN</td>\n      <td>NaN</td>\n      <td>NaN</td>\n    </tr>\n    <tr>\n      <th>2</th>\n      <td>2020-01-02</td>\n      <td>Afghanistan</td>\n      <td>0.0</td>\n      <td>0.0</td>\n      <td>0.0</td>\n      <td>0.0</td>\n      <td>NaN</td>\n      <td>NaN</td>\n      <td>NaN</td>\n      <td>NaN</td>\n    </tr>\n    <tr>\n      <th>3</th>\n      <td>2020-01-03</td>\n      <td>Afghanistan</td>\n      <td>0.0</td>\n      <td>0.0</td>\n      <td>0.0</td>\n      <td>0.0</td>\n      <td>NaN</td>\n      <td>NaN</td>\n      <td>NaN</td>\n      <td>NaN</td>\n    </tr>\n    <tr>\n      <th>4</th>\n      <td>2020-01-04</td>\n      <td>Afghanistan</td>\n      <td>0.0</td>\n      <td>0.0</td>\n      <td>0.0</td>\n      <td>0.0</td>\n      <td>NaN</td>\n      <td>NaN</td>\n      <td>NaN</td>\n      <td>NaN</td>\n    </tr>\n    <tr>\n      <th>...</th>\n      <td>...</td>\n      <td>...</td>\n      <td>...</td>\n      <td>...</td>\n      <td>...</td>\n      <td>...</td>\n      <td>...</td>\n      <td>...</td>\n      <td>...</td>\n      <td>...</td>\n    </tr>\n    <tr>\n      <th>33383</th>\n      <td>2020-07-25</td>\n      <td>Zimbabwe</td>\n      <td>172.0</td>\n      <td>4.0</td>\n      <td>2296.0</td>\n      <td>32.0</td>\n      <td>876.0</td>\n      <td>8.0</td>\n      <td>1354.0</td>\n      <td>19.0</td>\n    </tr>\n    <tr>\n      <th>33384</th>\n      <td>2020-07-26</td>\n      <td>Zimbabwe</td>\n      <td>138.0</td>\n      <td>2.0</td>\n      <td>2434.0</td>\n      <td>34.0</td>\n      <td>956.0</td>\n      <td>9.0</td>\n      <td>1452.0</td>\n      <td>16.0</td>\n    </tr>\n    <tr>\n      <th>33385</th>\n      <td>2020-07-27</td>\n      <td>Zimbabwe</td>\n      <td>78.0</td>\n      <td>0.0</td>\n      <td>2512.0</td>\n      <td>34.0</td>\n      <td>901.0</td>\n      <td>9.0</td>\n      <td>1527.0</td>\n      <td>16.0</td>\n    </tr>\n    <tr>\n      <th>33386</th>\n      <td>2020-07-28</td>\n      <td>Zimbabwe</td>\n      <td>192.0</td>\n      <td>2.0</td>\n      <td>2704.0</td>\n      <td>36.0</td>\n      <td>991.0</td>\n      <td>10.0</td>\n      <td>1670.0</td>\n      <td>17.0</td>\n    </tr>\n    <tr>\n      <th>33387</th>\n      <td>2020-07-29</td>\n      <td>Zimbabwe</td>\n      <td>113.0</td>\n      <td>4.0</td>\n      <td>2817.0</td>\n      <td>40.0</td>\n      <td>997.0</td>\n      <td>14.0</td>\n      <td>1783.0</td>\n      <td>21.0</td>\n    </tr>\n  </tbody>\n</table>\n<p>33388 rows × 10 columns</p>\n</div>"
     },
     "metadata": {},
     "execution_count": 328
    }
   ],
   "source": [
    "df=pd.read_csv(address)\n",
    "df"
   ]
  },
  {
   "cell_type": "code",
   "execution_count": 329,
   "metadata": {},
   "outputs": [
    {
     "output_type": "execute_result",
     "data": {
      "text/plain": "                 new_cases  new_deaths  total_cases  total_deaths  \\\nlocation                                                            \nAfghanistan        36471.0      1271.0    1973939.0       50514.0   \nAlbania             4997.0       148.0     201671.0        5860.0   \nAlgeria            27973.0      1163.0    1207139.0       79093.0   \nAndorra              907.0        52.0      95352.0        5473.0   \nAngola               932.0        40.0      23217.0        1096.0   \n...                    ...         ...          ...           ...   \nWestern Sahara       766.0         1.0      20254.0          61.0   \nWorld           16708920.0    660123.0  841943443.0    43909387.0   \nYemen               1695.0       484.0      68828.0       18183.0   \nZambia              5002.0       142.0     135602.0        2847.0   \nZimbabwe            2817.0        40.0      53639.0         921.0   \n\n                weekly_cases  weekly_deaths  biweekly_cases  biweekly_deaths  \nlocation                                                                      \nAfghanistan         253138.0         8737.0        500609.0          16814.0  \nAlbania              32586.0          932.0         60269.0           1687.0  \nAlgeria             186582.0         7998.0        344257.0          15480.0  \nAndorra               6269.0          364.0         12407.0            728.0  \nAngola                6051.0          246.0         10717.0            436.0  \n...                      ...            ...             ...              ...  \nWestern Sahara        5326.0            7.0         10646.0             14.0  \nWorld            111908016.0      4504398.0     211625051.0        8709699.0  \nYemen                11683.0         3300.0         22765.0           6402.0  \nZambia               29371.0          937.0         49222.0           1668.0  \nZimbabwe             16909.0          227.0         27357.0            389.0  \n\n[211 rows x 8 columns]",
      "text/html": "<div>\n<style scoped>\n    .dataframe tbody tr th:only-of-type {\n        vertical-align: middle;\n    }\n\n    .dataframe tbody tr th {\n        vertical-align: top;\n    }\n\n    .dataframe thead th {\n        text-align: right;\n    }\n</style>\n<table border=\"1\" class=\"dataframe\">\n  <thead>\n    <tr style=\"text-align: right;\">\n      <th></th>\n      <th>new_cases</th>\n      <th>new_deaths</th>\n      <th>total_cases</th>\n      <th>total_deaths</th>\n      <th>weekly_cases</th>\n      <th>weekly_deaths</th>\n      <th>biweekly_cases</th>\n      <th>biweekly_deaths</th>\n    </tr>\n    <tr>\n      <th>location</th>\n      <th></th>\n      <th></th>\n      <th></th>\n      <th></th>\n      <th></th>\n      <th></th>\n      <th></th>\n      <th></th>\n    </tr>\n  </thead>\n  <tbody>\n    <tr>\n      <th>Afghanistan</th>\n      <td>36471.0</td>\n      <td>1271.0</td>\n      <td>1973939.0</td>\n      <td>50514.0</td>\n      <td>253138.0</td>\n      <td>8737.0</td>\n      <td>500609.0</td>\n      <td>16814.0</td>\n    </tr>\n    <tr>\n      <th>Albania</th>\n      <td>4997.0</td>\n      <td>148.0</td>\n      <td>201671.0</td>\n      <td>5860.0</td>\n      <td>32586.0</td>\n      <td>932.0</td>\n      <td>60269.0</td>\n      <td>1687.0</td>\n    </tr>\n    <tr>\n      <th>Algeria</th>\n      <td>27973.0</td>\n      <td>1163.0</td>\n      <td>1207139.0</td>\n      <td>79093.0</td>\n      <td>186582.0</td>\n      <td>7998.0</td>\n      <td>344257.0</td>\n      <td>15480.0</td>\n    </tr>\n    <tr>\n      <th>Andorra</th>\n      <td>907.0</td>\n      <td>52.0</td>\n      <td>95352.0</td>\n      <td>5473.0</td>\n      <td>6269.0</td>\n      <td>364.0</td>\n      <td>12407.0</td>\n      <td>728.0</td>\n    </tr>\n    <tr>\n      <th>Angola</th>\n      <td>932.0</td>\n      <td>40.0</td>\n      <td>23217.0</td>\n      <td>1096.0</td>\n      <td>6051.0</td>\n      <td>246.0</td>\n      <td>10717.0</td>\n      <td>436.0</td>\n    </tr>\n    <tr>\n      <th>...</th>\n      <td>...</td>\n      <td>...</td>\n      <td>...</td>\n      <td>...</td>\n      <td>...</td>\n      <td>...</td>\n      <td>...</td>\n      <td>...</td>\n    </tr>\n    <tr>\n      <th>Western Sahara</th>\n      <td>766.0</td>\n      <td>1.0</td>\n      <td>20254.0</td>\n      <td>61.0</td>\n      <td>5326.0</td>\n      <td>7.0</td>\n      <td>10646.0</td>\n      <td>14.0</td>\n    </tr>\n    <tr>\n      <th>World</th>\n      <td>16708920.0</td>\n      <td>660123.0</td>\n      <td>841943443.0</td>\n      <td>43909387.0</td>\n      <td>111908016.0</td>\n      <td>4504398.0</td>\n      <td>211625051.0</td>\n      <td>8709699.0</td>\n    </tr>\n    <tr>\n      <th>Yemen</th>\n      <td>1695.0</td>\n      <td>484.0</td>\n      <td>68828.0</td>\n      <td>18183.0</td>\n      <td>11683.0</td>\n      <td>3300.0</td>\n      <td>22765.0</td>\n      <td>6402.0</td>\n    </tr>\n    <tr>\n      <th>Zambia</th>\n      <td>5002.0</td>\n      <td>142.0</td>\n      <td>135602.0</td>\n      <td>2847.0</td>\n      <td>29371.0</td>\n      <td>937.0</td>\n      <td>49222.0</td>\n      <td>1668.0</td>\n    </tr>\n    <tr>\n      <th>Zimbabwe</th>\n      <td>2817.0</td>\n      <td>40.0</td>\n      <td>53639.0</td>\n      <td>921.0</td>\n      <td>16909.0</td>\n      <td>227.0</td>\n      <td>27357.0</td>\n      <td>389.0</td>\n    </tr>\n  </tbody>\n</table>\n<p>211 rows × 8 columns</p>\n</div>"
     },
     "metadata": {},
     "execution_count": 329
    }
   ],
   "source": [
    "df=df.groupby(\"location\").sum()\n",
    "df"
   ]
  },
  {
   "cell_type": "code",
   "execution_count": 330,
   "metadata": {},
   "outputs": [
    {
     "output_type": "execute_result",
     "data": {
      "text/plain": "location\nAfghanistan         1973939.0\nAlbania              201671.0\nAlgeria             1207139.0\nAndorra               95352.0\nAngola                23217.0\n                     ...     \nWestern Sahara        20254.0\nWorld             841943443.0\nYemen                 68828.0\nZambia               135602.0\nZimbabwe              53639.0\nName: total_cases, Length: 211, dtype: float64"
     },
     "metadata": {},
     "execution_count": 330
    }
   ],
   "source": [
    "df2=df[\"total_cases\"]\n",
    "df2"
   ]
  },
  {
   "cell_type": "code",
   "execution_count": 339,
   "metadata": {},
   "outputs": [
    {
     "output_type": "execute_result",
     "data": {
      "text/plain": "count    2.110000e+02\nmean     7.978658e+06\nstd      6.039554e+07\nmin      3.680000e+02\n50%      2.016710e+05\n75%      1.672414e+06\nmax      8.419434e+08\nName: total_cases, dtype: float64"
     },
     "metadata": {},
     "execution_count": 339
    }
   ],
   "source": [
    "df3=df2.describe(percentiles=[0.75 ])\n",
    "df3"
   ]
  },
  {
   "cell_type": "code",
   "execution_count": 333,
   "metadata": {},
   "outputs": [
    {
     "output_type": "execute_result",
     "data": {
      "text/plain": "location\nAnguilla                     368.0\nAntigua and Barbuda         4585.0\nArgentina                4517210.0\nArmenia                  1632161.0\nAruba                      12107.0\n                          ...     \nWestern Sahara             20254.0\nWorld                  841943443.0\nYemen                      68828.0\nZambia                    135602.0\nZimbabwe                   53639.0\nName: total_cases, Length: 206, dtype: float64"
     },
     "metadata": {},
     "execution_count": 333
    }
   ],
   "source": [
    "df3=df2.iloc[5::]\n",
    "df3"
   ]
  },
  {
   "cell_type": "code",
   "execution_count": null,
   "metadata": {},
   "outputs": [],
   "source": []
  }
 ],
 "metadata": {
  "language_info": {
   "name": "python",
   "codemirror_mode": {
    "name": "ipython",
    "version": 3
   },
   "version": "3.6.4-final"
  },
  "orig_nbformat": 2,
  "file_extension": ".py",
  "mimetype": "text/x-python",
  "name": "python",
  "npconvert_exporter": "python",
  "pygments_lexer": "ipython3",
  "version": 3,
  "kernelspec": {
   "name": "python_defaultSpec_1596047511712",
   "display_name": "Python 3.8.3 32-bit"
  }
 },
 "nbformat": 4,
 "nbformat_minor": 2
}