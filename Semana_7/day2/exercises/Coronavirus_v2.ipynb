{
 "cells": [
  {
   "cell_type": "markdown",
   "metadata": {},
   "source": [
    "To check that your coronavirus exercise was right, try to use the last '.csv' file from the next url. \n",
    "\n",
    "https://covid.ourworldindata.org/data/ecdc/full_data.csv\n",
    "\n",
    "When you execute all your code, it must run without problems updating the graphs and outputs with the last available information. "
   ]
  },
  {
   "cell_type": "markdown",
   "metadata": {},
   "source": [
    "### Tasks: \n",
    "\n",
    "- Create a new dataframe with all the locations except the median. Call it \"no_median_df\". All must be different locations. \n",
    "\n",
    "#### Try to create a new function that return the answer of the next tasks and questions. One function per task: \n",
    "\n",
    "- Which countries have less cases than the percentile country 75%?\n",
    "- Imagine that the median location is the 175th row. Create a dataframe with all the locations from the 165 to 185. Call it \"median_df\". \n",
    "- With \"median_df\", create with bars, with lines, with points and with pie charts the top 10 in reverse. Both in seaborn and matplotlib. \n",
    "- Create a new dataframe with the concatenation of the \"median_df\" and \"no_median_df\". After that, create a function that receives a dataframe as param and return the number of non NaN values per each column and per each file. \n",
    "- Show, in a graph, which location appears more times in the dataset. \n",
    "- Which is the country with less frequency?\n",
    "- There is any unusual value? Why?\n",
    "- Delete all NaN value and repeat the same tasks using the functions created.\n",
    "- Do you find differences? Why?\n",
    "- What conclusion can we draw?"
   ]
  },
  {
   "cell_type": "code",
   "execution_count": 1,
   "metadata": {},
   "outputs": [],
   "source": [
    "import pandas as pd"
   ]
  },
  {
   "cell_type": "code",
   "execution_count": 2,
   "metadata": {},
   "outputs": [],
   "source": [
    "address=\"https://covid.ourworldindata.org/data/ecdc/full_data.csv\""
   ]
  },
  {
   "cell_type": "code",
   "execution_count": 3,
   "metadata": {},
   "outputs": [
    {
     "output_type": "execute_result",
     "data": {
      "text/plain": "             date     location  new_cases  new_deaths  total_cases  \\\n0      2019-12-31  Afghanistan        0.0         0.0          0.0   \n1      2020-01-01  Afghanistan        0.0         0.0          0.0   \n2      2020-01-02  Afghanistan        0.0         0.0          0.0   \n3      2020-01-03  Afghanistan        0.0         0.0          0.0   \n4      2020-01-04  Afghanistan        0.0         0.0          0.0   \n...           ...          ...        ...         ...          ...   \n35483  2020-08-04     Zimbabwe      154.0        10.0       4075.0   \n35484  2020-08-05     Zimbabwe      146.0         1.0       4221.0   \n35485  2020-08-06     Zimbabwe      118.0         3.0       4339.0   \n35486  2020-08-07     Zimbabwe       56.0        13.0       4395.0   \n35487  2020-08-08     Zimbabwe       56.0         5.0       4451.0   \n\n       total_deaths  weekly_cases  weekly_deaths  biweekly_cases  \\\n0               0.0           NaN            NaN             NaN   \n1               0.0           NaN            NaN             NaN   \n2               0.0           NaN            NaN             NaN   \n3               0.0           NaN            NaN             NaN   \n4               0.0           NaN            NaN             NaN   \n...             ...           ...            ...             ...   \n35483          80.0        1371.0           44.0          2362.0   \n35484          81.0        1404.0           41.0          2401.0   \n35485          84.0        1460.0           43.0          2305.0   \n35486          97.0        1303.0           44.0          2271.0   \n35487         102.0        1282.0           35.0          2155.0   \n\n       biweekly_deaths  \n0                  NaN  \n1                  NaN  \n2                  NaN  \n3                  NaN  \n4                  NaN  \n...                ...  \n35483             54.0  \n35484             55.0  \n35485             58.0  \n35486             69.0  \n35487             70.0  \n\n[35488 rows x 10 columns]",
      "text/html": "<div>\n<style scoped>\n    .dataframe tbody tr th:only-of-type {\n        vertical-align: middle;\n    }\n\n    .dataframe tbody tr th {\n        vertical-align: top;\n    }\n\n    .dataframe thead th {\n        text-align: right;\n    }\n</style>\n<table border=\"1\" class=\"dataframe\">\n  <thead>\n    <tr style=\"text-align: right;\">\n      <th></th>\n      <th>date</th>\n      <th>location</th>\n      <th>new_cases</th>\n      <th>new_deaths</th>\n      <th>total_cases</th>\n      <th>total_deaths</th>\n      <th>weekly_cases</th>\n      <th>weekly_deaths</th>\n      <th>biweekly_cases</th>\n      <th>biweekly_deaths</th>\n    </tr>\n  </thead>\n  <tbody>\n    <tr>\n      <th>0</th>\n      <td>2019-12-31</td>\n      <td>Afghanistan</td>\n      <td>0.0</td>\n      <td>0.0</td>\n      <td>0.0</td>\n      <td>0.0</td>\n      <td>NaN</td>\n      <td>NaN</td>\n      <td>NaN</td>\n      <td>NaN</td>\n    </tr>\n    <tr>\n      <th>1</th>\n      <td>2020-01-01</td>\n      <td>Afghanistan</td>\n      <td>0.0</td>\n      <td>0.0</td>\n      <td>0.0</td>\n      <td>0.0</td>\n      <td>NaN</td>\n      <td>NaN</td>\n      <td>NaN</td>\n      <td>NaN</td>\n    </tr>\n    <tr>\n      <th>2</th>\n      <td>2020-01-02</td>\n      <td>Afghanistan</td>\n      <td>0.0</td>\n      <td>0.0</td>\n      <td>0.0</td>\n      <td>0.0</td>\n      <td>NaN</td>\n      <td>NaN</td>\n      <td>NaN</td>\n      <td>NaN</td>\n    </tr>\n    <tr>\n      <th>3</th>\n      <td>2020-01-03</td>\n      <td>Afghanistan</td>\n      <td>0.0</td>\n      <td>0.0</td>\n      <td>0.0</td>\n      <td>0.0</td>\n      <td>NaN</td>\n      <td>NaN</td>\n      <td>NaN</td>\n      <td>NaN</td>\n    </tr>\n    <tr>\n      <th>4</th>\n      <td>2020-01-04</td>\n      <td>Afghanistan</td>\n      <td>0.0</td>\n      <td>0.0</td>\n      <td>0.0</td>\n      <td>0.0</td>\n      <td>NaN</td>\n      <td>NaN</td>\n      <td>NaN</td>\n      <td>NaN</td>\n    </tr>\n    <tr>\n      <th>...</th>\n      <td>...</td>\n      <td>...</td>\n      <td>...</td>\n      <td>...</td>\n      <td>...</td>\n      <td>...</td>\n      <td>...</td>\n      <td>...</td>\n      <td>...</td>\n      <td>...</td>\n    </tr>\n    <tr>\n      <th>35483</th>\n      <td>2020-08-04</td>\n      <td>Zimbabwe</td>\n      <td>154.0</td>\n      <td>10.0</td>\n      <td>4075.0</td>\n      <td>80.0</td>\n      <td>1371.0</td>\n      <td>44.0</td>\n      <td>2362.0</td>\n      <td>54.0</td>\n    </tr>\n    <tr>\n      <th>35484</th>\n      <td>2020-08-05</td>\n      <td>Zimbabwe</td>\n      <td>146.0</td>\n      <td>1.0</td>\n      <td>4221.0</td>\n      <td>81.0</td>\n      <td>1404.0</td>\n      <td>41.0</td>\n      <td>2401.0</td>\n      <td>55.0</td>\n    </tr>\n    <tr>\n      <th>35485</th>\n      <td>2020-08-06</td>\n      <td>Zimbabwe</td>\n      <td>118.0</td>\n      <td>3.0</td>\n      <td>4339.0</td>\n      <td>84.0</td>\n      <td>1460.0</td>\n      <td>43.0</td>\n      <td>2305.0</td>\n      <td>58.0</td>\n    </tr>\n    <tr>\n      <th>35486</th>\n      <td>2020-08-07</td>\n      <td>Zimbabwe</td>\n      <td>56.0</td>\n      <td>13.0</td>\n      <td>4395.0</td>\n      <td>97.0</td>\n      <td>1303.0</td>\n      <td>44.0</td>\n      <td>2271.0</td>\n      <td>69.0</td>\n    </tr>\n    <tr>\n      <th>35487</th>\n      <td>2020-08-08</td>\n      <td>Zimbabwe</td>\n      <td>56.0</td>\n      <td>5.0</td>\n      <td>4451.0</td>\n      <td>102.0</td>\n      <td>1282.0</td>\n      <td>35.0</td>\n      <td>2155.0</td>\n      <td>70.0</td>\n    </tr>\n  </tbody>\n</table>\n<p>35488 rows × 10 columns</p>\n</div>"
     },
     "metadata": {},
     "execution_count": 3
    }
   ],
   "source": [
    "df=pd.read_csv(address)\n",
    "df"
   ]
  },
  {
   "cell_type": "code",
   "execution_count": 4,
   "metadata": {},
   "outputs": [
    {
     "output_type": "execute_result",
     "data": {
      "text/plain": "                 new_cases  new_deaths   total_cases  total_deaths  \\\nlocation                                                             \nAfghanistan        37015.0      1307.0  2.341506e+06       63391.0   \nAlbania             6151.0       189.0  2.575900e+05        7555.0   \nAlgeria            34155.0      1282.0  1.525396e+06       91465.0   \nAndorra              955.0        52.0  1.046810e+05        5993.0   \nAngola              1483.0        64.0  3.528600e+04        1645.0   \n...                    ...         ...           ...           ...   \nWestern Sahara       766.0         1.0  2.791400e+04          71.0   \nWorld           19357085.0    721174.0  1.022961e+09    50848503.0   \nYemen               1796.0       512.0  8.628200e+04       23173.0   \nZambia              7486.0       200.0  1.997760e+05        4545.0   \nZimbabwe            4451.0       102.0  9.184000e+04        1665.0   \n\n                weekly_cases  weekly_deaths  biweekly_cases  biweekly_deaths  \nlocation                                                                      \nAfghanistan         257844.0         9052.0        512826.0          17946.0  \nAlbania              40256.0         1231.0         74726.0           2246.0  \nAlgeria             227727.0         8757.0        427890.0          16991.0  \nAndorra               6558.0          364.0         12922.0            728.0  \nAngola                8799.0          397.0         15633.0            689.0  \n...                      ...            ...             ...              ...  \nWestern Sahara        5326.0            7.0         10646.0             14.0  \nWorld            129941248.0      4912292.0     247299415.0        9540378.0  \nYemen                12283.0         3525.0         24182.0           6910.0  \nZambia               47393.0         1252.0         82386.0           2249.0  \nZimbabwe             29049.0          580.0         48611.0            878.0  \n\n[211 rows x 8 columns]",
      "text/html": "<div>\n<style scoped>\n    .dataframe tbody tr th:only-of-type {\n        vertical-align: middle;\n    }\n\n    .dataframe tbody tr th {\n        vertical-align: top;\n    }\n\n    .dataframe thead th {\n        text-align: right;\n    }\n</style>\n<table border=\"1\" class=\"dataframe\">\n  <thead>\n    <tr style=\"text-align: right;\">\n      <th></th>\n      <th>new_cases</th>\n      <th>new_deaths</th>\n      <th>total_cases</th>\n      <th>total_deaths</th>\n      <th>weekly_cases</th>\n      <th>weekly_deaths</th>\n      <th>biweekly_cases</th>\n      <th>biweekly_deaths</th>\n    </tr>\n    <tr>\n      <th>location</th>\n      <th></th>\n      <th></th>\n      <th></th>\n      <th></th>\n      <th></th>\n      <th></th>\n      <th></th>\n      <th></th>\n    </tr>\n  </thead>\n  <tbody>\n    <tr>\n      <th>Afghanistan</th>\n      <td>37015.0</td>\n      <td>1307.0</td>\n      <td>2.341506e+06</td>\n      <td>63391.0</td>\n      <td>257844.0</td>\n      <td>9052.0</td>\n      <td>512826.0</td>\n      <td>17946.0</td>\n    </tr>\n    <tr>\n      <th>Albania</th>\n      <td>6151.0</td>\n      <td>189.0</td>\n      <td>2.575900e+05</td>\n      <td>7555.0</td>\n      <td>40256.0</td>\n      <td>1231.0</td>\n      <td>74726.0</td>\n      <td>2246.0</td>\n    </tr>\n    <tr>\n      <th>Algeria</th>\n      <td>34155.0</td>\n      <td>1282.0</td>\n      <td>1.525396e+06</td>\n      <td>91465.0</td>\n      <td>227727.0</td>\n      <td>8757.0</td>\n      <td>427890.0</td>\n      <td>16991.0</td>\n    </tr>\n    <tr>\n      <th>Andorra</th>\n      <td>955.0</td>\n      <td>52.0</td>\n      <td>1.046810e+05</td>\n      <td>5993.0</td>\n      <td>6558.0</td>\n      <td>364.0</td>\n      <td>12922.0</td>\n      <td>728.0</td>\n    </tr>\n    <tr>\n      <th>Angola</th>\n      <td>1483.0</td>\n      <td>64.0</td>\n      <td>3.528600e+04</td>\n      <td>1645.0</td>\n      <td>8799.0</td>\n      <td>397.0</td>\n      <td>15633.0</td>\n      <td>689.0</td>\n    </tr>\n    <tr>\n      <th>...</th>\n      <td>...</td>\n      <td>...</td>\n      <td>...</td>\n      <td>...</td>\n      <td>...</td>\n      <td>...</td>\n      <td>...</td>\n      <td>...</td>\n    </tr>\n    <tr>\n      <th>Western Sahara</th>\n      <td>766.0</td>\n      <td>1.0</td>\n      <td>2.791400e+04</td>\n      <td>71.0</td>\n      <td>5326.0</td>\n      <td>7.0</td>\n      <td>10646.0</td>\n      <td>14.0</td>\n    </tr>\n    <tr>\n      <th>World</th>\n      <td>19357085.0</td>\n      <td>721174.0</td>\n      <td>1.022961e+09</td>\n      <td>50848503.0</td>\n      <td>129941248.0</td>\n      <td>4912292.0</td>\n      <td>247299415.0</td>\n      <td>9540378.0</td>\n    </tr>\n    <tr>\n      <th>Yemen</th>\n      <td>1796.0</td>\n      <td>512.0</td>\n      <td>8.628200e+04</td>\n      <td>23173.0</td>\n      <td>12283.0</td>\n      <td>3525.0</td>\n      <td>24182.0</td>\n      <td>6910.0</td>\n    </tr>\n    <tr>\n      <th>Zambia</th>\n      <td>7486.0</td>\n      <td>200.0</td>\n      <td>1.997760e+05</td>\n      <td>4545.0</td>\n      <td>47393.0</td>\n      <td>1252.0</td>\n      <td>82386.0</td>\n      <td>2249.0</td>\n    </tr>\n    <tr>\n      <th>Zimbabwe</th>\n      <td>4451.0</td>\n      <td>102.0</td>\n      <td>9.184000e+04</td>\n      <td>1665.0</td>\n      <td>29049.0</td>\n      <td>580.0</td>\n      <td>48611.0</td>\n      <td>878.0</td>\n    </tr>\n  </tbody>\n</table>\n<p>211 rows × 8 columns</p>\n</div>"
     },
     "metadata": {},
     "execution_count": 4
    }
   ],
   "source": [
    "df=df.groupby(\"location\").sum()\n",
    "df"
   ]
  },
  {
   "cell_type": "code",
   "execution_count": 5,
   "metadata": {},
   "outputs": [
    {
     "output_type": "execute_result",
     "data": {
      "text/plain": "location\nAfghanistan       2.341506e+06\nAlbania           2.575900e+05\nAlgeria           1.525396e+06\nAndorra           1.046810e+05\nAngola            3.528600e+04\n                      ...     \nWestern Sahara    2.791400e+04\nWorld             1.022961e+09\nYemen             8.628200e+04\nZambia            1.997760e+05\nZimbabwe          9.184000e+04\nName: total_cases, Length: 211, dtype: float64"
     },
     "metadata": {},
     "execution_count": 5
    }
   ],
   "source": [
    "df2=df[\"total_cases\"]\n",
    "df2"
   ]
  },
  {
   "cell_type": "code",
   "execution_count": 6,
   "metadata": {},
   "outputs": [
    {
     "output_type": "execute_result",
     "data": {
      "text/plain": "count    2.110000e+02\nmean     9.694272e+06\nstd      7.339911e+07\nmin      3.980000e+02\n50%      2.393530e+05\n75%      2.084840e+06\nmax      1.022961e+09\nName: total_cases, dtype: float64"
     },
     "metadata": {},
     "execution_count": 6
    }
   ],
   "source": [
    "df3=df2.describe(percentiles=[0.75 ])\n",
    "df3"
   ]
  },
  {
   "cell_type": "code",
   "execution_count": 7,
   "metadata": {},
   "outputs": [
    {
     "output_type": "execute_result",
     "data": {
      "text/plain": "location\nAnguilla               3.980000e+02\nAntigua and Barbuda    5.500000e+03\nArgentina              6.513723e+06\nArmenia                2.053984e+06\nAruba                  1.379600e+04\n                           ...     \nWestern Sahara         2.791400e+04\nWorld                  1.022961e+09\nYemen                  8.628200e+04\nZambia                 1.997760e+05\nZimbabwe               9.184000e+04\nName: total_cases, Length: 206, dtype: float64"
     },
     "metadata": {},
     "execution_count": 7
    }
   ],
   "source": [
    "df3=df2.iloc[5::]\n",
    "df3"
   ]
  },
  {
   "cell_type": "code",
   "execution_count": null,
   "metadata": {},
   "outputs": [],
   "source": []
  }
 ],
 "metadata": {
  "language_info": {
   "name": "python",
   "codemirror_mode": {
    "name": "ipython",
    "version": 3
   },
   "version": "3.6.4-final"
  },
  "orig_nbformat": 2,
  "file_extension": ".py",
  "mimetype": "text/x-python",
  "name": "python",
  "npconvert_exporter": "python",
  "pygments_lexer": "ipython3",
  "version": 3,
  "kernelspec": {
   "name": "python_defaultSpec_1596886436001",
   "display_name": "Python 3.8.3 32-bit"
  }
 },
 "nbformat": 4,
 "nbformat_minor": 2
}