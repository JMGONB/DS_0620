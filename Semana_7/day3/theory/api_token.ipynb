{
 "cells": [
  {
   "cell_type": "markdown",
   "metadata": {},
   "source": [
    "_El maravilloso mundo de las_ **APIs**\n",
    "### o EL RETORNO DE JSON\n"
   ]
  },
  {
   "cell_type": "markdown",
   "metadata": {},
   "source": [
    "Listado de **APIs** for free: \n",
    "https://github.com/public-apis/public-apis"
   ]
  },
  {
   "cell_type": "code",
   "execution_count": 1,
   "metadata": {},
   "outputs": [],
   "source": [
    "import json\n",
    "import requests\n",
    "\n",
    "\n",
    "import pandas as pd\n",
    "from pandas.io.json import json_normalize"
   ]
  },
  {
   "cell_type": "code",
   "execution_count": 2,
   "metadata": {},
   "outputs": [],
   "source": [
    "url_s = \"https://favqs.com/\"\n",
    "endpoint = \"api/qotd\"\n",
    "url_w = url_s + endpoint"
   ]
  },
  {
   "cell_type": "code",
   "execution_count": 3,
   "metadata": {},
   "outputs": [
    {
     "output_type": "execute_result",
     "data": {
      "text/plain": "{'qotd_date': '2020-08-06T00:00:00.000+00:00',\n 'quote': {'id': 24386,\n  'dialogue': False,\n  'private': False,\n  'tags': ['friendship', 'love'],\n  'url': 'https://favqs.com/quotes/bruce-lee/24386-love-is-like--',\n  'favorites_count': 0,\n  'upvotes_count': 1,\n  'downvotes_count': 0,\n  'author': 'Bruce Lee',\n  'author_permalink': 'bruce-lee',\n  'body': 'Love is like a friendship caught on fire. In the beginning a flame, very pretty, often hot and fierce, but still only light and flickering. As love grows older, our hearts mature and our love becomes as coals, deep-burning and unquenchable.'}}"
     },
     "metadata": {},
     "execution_count": 3
    }
   ],
   "source": [
    "requests.get(\"https://favqs.com/api/qotd\").json()"
   ]
  },
  {
   "cell_type": "code",
   "execution_count": 4,
   "metadata": {},
   "outputs": [
    {
     "output_type": "execute_result",
     "data": {
      "text/plain": "{'qotd_date': '2020-08-06T00:00:00.000+00:00',\n 'quote': {'id': 57242,\n  'dialogue': False,\n  'private': False,\n  'tags': ['time'],\n  'url': 'https://favqs.com/quotes/lewis-carroll/57242-the-time-has--',\n  'favorites_count': 1,\n  'upvotes_count': 0,\n  'downvotes_count': 0,\n  'author': 'Lewis Carroll',\n  'author_permalink': 'lewis-carroll',\n  'body': \"'The time has come,' the walrus said, 'to talk of many things: of shoes and ships - and sealing wax - of cabbages and kings.'\"}}"
     },
     "metadata": {},
     "execution_count": 4
    }
   ],
   "source": [
    "qotd = requests.get(url_w).json()\n",
    "qotd"
   ]
  },
  {
   "cell_type": "code",
   "execution_count": 5,
   "metadata": {
    "tags": []
   },
   "outputs": [
    {
     "output_type": "stream",
     "name": "stdout",
     "text": "La frase del día 2020-08-06 es de Lewis Carroll y es la siguiente --> 'The time has come,' the walrus said, 'to talk of many things: of shoes and ships - and sealing wax - of cabbages and kings.'\n"
    }
   ],
   "source": [
    "print(\"La frase del día\", qotd[\"qotd_date\"][:10], \"es de\", qotd[\"quote\"][\"author\"], \"y es la siguiente -->\", qotd[\"quote\"][\"body\"])"
   ]
  },
  {
   "cell_type": "markdown",
   "metadata": {},
   "source": [
    "## API sin token"
   ]
  },
  {
   "cell_type": "markdown",
   "metadata": {},
   "source": [
    "**¿Qué es súper importante cuando tratamos con APIs?**\n",
    "Leer la documentación, porque si no, no sabemos como usarla. \n",
    "\n",
    "https://pokeapi.co/docs/v2#pokemon"
   ]
  },
  {
   "cell_type": "code",
   "execution_count": 6,
   "metadata": {},
   "outputs": [
    {
     "output_type": "execute_result",
     "data": {
      "text/plain": "{'count': 964,\n 'next': 'https://pokeapi.co/api/v2/pokemon?offset=20&limit=20',\n 'previous': None,\n 'results': [{'name': 'bulbasaur',\n   'url': 'https://pokeapi.co/api/v2/pokemon/1/'},\n  {'name': 'ivysaur', 'url': 'https://pokeapi.co/api/v2/pokemon/2/'},\n  {'name': 'venusaur', 'url': 'https://pokeapi.co/api/v2/pokemon/3/'},\n  {'name': 'charmander', 'url': 'https://pokeapi.co/api/v2/pokemon/4/'},\n  {'name': 'charmeleon', 'url': 'https://pokeapi.co/api/v2/pokemon/5/'},\n  {'name': 'charizard', 'url': 'https://pokeapi.co/api/v2/pokemon/6/'},\n  {'name': 'squirtle', 'url': 'https://pokeapi.co/api/v2/pokemon/7/'},\n  {'name': 'wartortle', 'url': 'https://pokeapi.co/api/v2/pokemon/8/'},\n  {'name': 'blastoise', 'url': 'https://pokeapi.co/api/v2/pokemon/9/'},\n  {'name': 'caterpie', 'url': 'https://pokeapi.co/api/v2/pokemon/10/'},\n  {'name': 'metapod', 'url': 'https://pokeapi.co/api/v2/pokemon/11/'},\n  {'name': 'butterfree', 'url': 'https://pokeapi.co/api/v2/pokemon/12/'},\n  {'name': 'weedle', 'url': 'https://pokeapi.co/api/v2/pokemon/13/'},\n  {'name': 'kakuna', 'url': 'https://pokeapi.co/api/v2/pokemon/14/'},\n  {'name': 'beedrill', 'url': 'https://pokeapi.co/api/v2/pokemon/15/'},\n  {'name': 'pidgey', 'url': 'https://pokeapi.co/api/v2/pokemon/16/'},\n  {'name': 'pidgeotto', 'url': 'https://pokeapi.co/api/v2/pokemon/17/'},\n  {'name': 'pidgeot', 'url': 'https://pokeapi.co/api/v2/pokemon/18/'},\n  {'name': 'rattata', 'url': 'https://pokeapi.co/api/v2/pokemon/19/'},\n  {'name': 'raticate', 'url': 'https://pokeapi.co/api/v2/pokemon/20/'}]}"
     },
     "metadata": {},
     "execution_count": 6
    }
   ],
   "source": [
    "url = \"https://pokeapi.co/api/v2/pokemon\"\n",
    "poke_json = requests.get(url).json()\n",
    "poke_json"
   ]
  },
  {
   "cell_type": "code",
   "execution_count": 7,
   "metadata": {},
   "outputs": [
    {
     "output_type": "execute_result",
     "data": {
      "text/plain": "'https://pokeapi.co/api/v2/pokemon?offset=20&limit=20'"
     },
     "metadata": {},
     "execution_count": 7
    }
   ],
   "source": [
    "poke_json[\"next\"]"
   ]
  },
  {
   "cell_type": "code",
   "execution_count": 8,
   "metadata": {},
   "outputs": [
    {
     "output_type": "execute_result",
     "data": {
      "text/plain": "{'count': 964,\n 'next': 'https://pokeapi.co/api/v2/pokemon?offset=72&limit=32',\n 'previous': 'https://pokeapi.co/api/v2/pokemon?offset=8&limit=32',\n 'results': [{'name': 'zubat', 'url': 'https://pokeapi.co/api/v2/pokemon/41/'},\n  {'name': 'golbat', 'url': 'https://pokeapi.co/api/v2/pokemon/42/'},\n  {'name': 'oddish', 'url': 'https://pokeapi.co/api/v2/pokemon/43/'},\n  {'name': 'gloom', 'url': 'https://pokeapi.co/api/v2/pokemon/44/'},\n  {'name': 'vileplume', 'url': 'https://pokeapi.co/api/v2/pokemon/45/'},\n  {'name': 'paras', 'url': 'https://pokeapi.co/api/v2/pokemon/46/'},\n  {'name': 'parasect', 'url': 'https://pokeapi.co/api/v2/pokemon/47/'},\n  {'name': 'venonat', 'url': 'https://pokeapi.co/api/v2/pokemon/48/'},\n  {'name': 'venomoth', 'url': 'https://pokeapi.co/api/v2/pokemon/49/'},\n  {'name': 'diglett', 'url': 'https://pokeapi.co/api/v2/pokemon/50/'},\n  {'name': 'dugtrio', 'url': 'https://pokeapi.co/api/v2/pokemon/51/'},\n  {'name': 'meowth', 'url': 'https://pokeapi.co/api/v2/pokemon/52/'},\n  {'name': 'persian', 'url': 'https://pokeapi.co/api/v2/pokemon/53/'},\n  {'name': 'psyduck', 'url': 'https://pokeapi.co/api/v2/pokemon/54/'},\n  {'name': 'golduck', 'url': 'https://pokeapi.co/api/v2/pokemon/55/'},\n  {'name': 'mankey', 'url': 'https://pokeapi.co/api/v2/pokemon/56/'},\n  {'name': 'primeape', 'url': 'https://pokeapi.co/api/v2/pokemon/57/'},\n  {'name': 'growlithe', 'url': 'https://pokeapi.co/api/v2/pokemon/58/'},\n  {'name': 'arcanine', 'url': 'https://pokeapi.co/api/v2/pokemon/59/'},\n  {'name': 'poliwag', 'url': 'https://pokeapi.co/api/v2/pokemon/60/'},\n  {'name': 'poliwhirl', 'url': 'https://pokeapi.co/api/v2/pokemon/61/'},\n  {'name': 'poliwrath', 'url': 'https://pokeapi.co/api/v2/pokemon/62/'},\n  {'name': 'abra', 'url': 'https://pokeapi.co/api/v2/pokemon/63/'},\n  {'name': 'kadabra', 'url': 'https://pokeapi.co/api/v2/pokemon/64/'},\n  {'name': 'alakazam', 'url': 'https://pokeapi.co/api/v2/pokemon/65/'},\n  {'name': 'machop', 'url': 'https://pokeapi.co/api/v2/pokemon/66/'},\n  {'name': 'machoke', 'url': 'https://pokeapi.co/api/v2/pokemon/67/'},\n  {'name': 'machamp', 'url': 'https://pokeapi.co/api/v2/pokemon/68/'},\n  {'name': 'bellsprout', 'url': 'https://pokeapi.co/api/v2/pokemon/69/'},\n  {'name': 'weepinbell', 'url': 'https://pokeapi.co/api/v2/pokemon/70/'},\n  {'name': 'victreebel', 'url': 'https://pokeapi.co/api/v2/pokemon/71/'},\n  {'name': 'tentacool', 'url': 'https://pokeapi.co/api/v2/pokemon/72/'}]}"
     },
     "metadata": {},
     "execution_count": 8
    }
   ],
   "source": [
    "requests.get(\"https://pokeapi.co/api/v2/pokemon?offset=40&limit=32\").json()"
   ]
  },
  {
   "cell_type": "code",
   "execution_count": 9,
   "metadata": {
    "tags": []
   },
   "outputs": [],
   "source": [
    "pokemon = [] # para contener todos los resultados de la api\n",
    "poke_dict = {\"name\":[],\"url\":[]}\n",
    "\n",
    "pokemon.extend(poke_json[\"results\"])\n",
    "\n",
    "while len(pokemon) < 40:\n",
    "#while poke_json[\"next\"] != None:\n",
    "    poke_json = requests.get(poke_json[\"next\"]).json()\n",
    "    pokemon.extend(poke_json[\"results\"])\n"
   ]
  },
  {
   "cell_type": "code",
   "execution_count": 10,
   "metadata": {},
   "outputs": [
    {
     "output_type": "execute_result",
     "data": {
      "text/plain": "[{'name': 'bulbasaur', 'url': 'https://pokeapi.co/api/v2/pokemon/1/'},\n {'name': 'ivysaur', 'url': 'https://pokeapi.co/api/v2/pokemon/2/'},\n {'name': 'venusaur', 'url': 'https://pokeapi.co/api/v2/pokemon/3/'},\n {'name': 'charmander', 'url': 'https://pokeapi.co/api/v2/pokemon/4/'},\n {'name': 'charmeleon', 'url': 'https://pokeapi.co/api/v2/pokemon/5/'},\n {'name': 'charizard', 'url': 'https://pokeapi.co/api/v2/pokemon/6/'},\n {'name': 'squirtle', 'url': 'https://pokeapi.co/api/v2/pokemon/7/'},\n {'name': 'wartortle', 'url': 'https://pokeapi.co/api/v2/pokemon/8/'},\n {'name': 'blastoise', 'url': 'https://pokeapi.co/api/v2/pokemon/9/'},\n {'name': 'caterpie', 'url': 'https://pokeapi.co/api/v2/pokemon/10/'},\n {'name': 'metapod', 'url': 'https://pokeapi.co/api/v2/pokemon/11/'},\n {'name': 'butterfree', 'url': 'https://pokeapi.co/api/v2/pokemon/12/'},\n {'name': 'weedle', 'url': 'https://pokeapi.co/api/v2/pokemon/13/'},\n {'name': 'kakuna', 'url': 'https://pokeapi.co/api/v2/pokemon/14/'},\n {'name': 'beedrill', 'url': 'https://pokeapi.co/api/v2/pokemon/15/'},\n {'name': 'pidgey', 'url': 'https://pokeapi.co/api/v2/pokemon/16/'},\n {'name': 'pidgeotto', 'url': 'https://pokeapi.co/api/v2/pokemon/17/'},\n {'name': 'pidgeot', 'url': 'https://pokeapi.co/api/v2/pokemon/18/'},\n {'name': 'rattata', 'url': 'https://pokeapi.co/api/v2/pokemon/19/'},\n {'name': 'raticate', 'url': 'https://pokeapi.co/api/v2/pokemon/20/'},\n {'name': 'spearow', 'url': 'https://pokeapi.co/api/v2/pokemon/21/'},\n {'name': 'fearow', 'url': 'https://pokeapi.co/api/v2/pokemon/22/'},\n {'name': 'ekans', 'url': 'https://pokeapi.co/api/v2/pokemon/23/'},\n {'name': 'arbok', 'url': 'https://pokeapi.co/api/v2/pokemon/24/'},\n {'name': 'pikachu', 'url': 'https://pokeapi.co/api/v2/pokemon/25/'},\n {'name': 'raichu', 'url': 'https://pokeapi.co/api/v2/pokemon/26/'},\n {'name': 'sandshrew', 'url': 'https://pokeapi.co/api/v2/pokemon/27/'},\n {'name': 'sandslash', 'url': 'https://pokeapi.co/api/v2/pokemon/28/'},\n {'name': 'nidoran-f', 'url': 'https://pokeapi.co/api/v2/pokemon/29/'},\n {'name': 'nidorina', 'url': 'https://pokeapi.co/api/v2/pokemon/30/'},\n {'name': 'nidoqueen', 'url': 'https://pokeapi.co/api/v2/pokemon/31/'},\n {'name': 'nidoran-m', 'url': 'https://pokeapi.co/api/v2/pokemon/32/'},\n {'name': 'nidorino', 'url': 'https://pokeapi.co/api/v2/pokemon/33/'},\n {'name': 'nidoking', 'url': 'https://pokeapi.co/api/v2/pokemon/34/'},\n {'name': 'clefairy', 'url': 'https://pokeapi.co/api/v2/pokemon/35/'},\n {'name': 'clefable', 'url': 'https://pokeapi.co/api/v2/pokemon/36/'},\n {'name': 'vulpix', 'url': 'https://pokeapi.co/api/v2/pokemon/37/'},\n {'name': 'ninetales', 'url': 'https://pokeapi.co/api/v2/pokemon/38/'},\n {'name': 'jigglypuff', 'url': 'https://pokeapi.co/api/v2/pokemon/39/'},\n {'name': 'wigglytuff', 'url': 'https://pokeapi.co/api/v2/pokemon/40/'}]"
     },
     "metadata": {},
     "execution_count": 10
    }
   ],
   "source": [
    "pokemon"
   ]
  },
  {
   "cell_type": "code",
   "execution_count": 11,
   "metadata": {},
   "outputs": [],
   "source": [
    "for i, e in enumerate(pokemon):\n",
    "    poke_dict[\"name\"].append(pokemon[i][\"name\"])\n",
    "    poke_dict[\"url\"].append(pokemon[i][\"url\"])"
   ]
  },
  {
   "cell_type": "code",
   "execution_count": 12,
   "metadata": {},
   "outputs": [
    {
     "output_type": "execute_result",
     "data": {
      "text/plain": "'https://pokeapi.co/api/v2/pokemon/1/'"
     },
     "metadata": {},
     "execution_count": 12
    }
   ],
   "source": [
    "poke_dict[\"url\"][0]"
   ]
  },
  {
   "cell_type": "code",
   "execution_count": 13,
   "metadata": {},
   "outputs": [
    {
     "output_type": "execute_result",
     "data": {
      "text/plain": "<Response [200]>"
     },
     "metadata": {},
     "execution_count": 13
    }
   ],
   "source": [
    "con_uno = requests.get(poke_dict[\"url\"][0])\n",
    "con_uno"
   ]
  },
  {
   "cell_type": "code",
   "execution_count": 14,
   "metadata": {},
   "outputs": [
    {
     "output_type": "execute_result",
     "data": {
      "text/plain": "[{'slot': 1,\n  'type': {'name': 'grass', 'url': 'https://pokeapi.co/api/v2/type/12/'}},\n {'slot': 2,\n  'type': {'name': 'poison', 'url': 'https://pokeapi.co/api/v2/type/4/'}}]"
     },
     "metadata": {},
     "execution_count": 14
    }
   ],
   "source": [
    "con_uno.json()[\"types\"]"
   ]
  },
  {
   "cell_type": "code",
   "execution_count": 15,
   "metadata": {},
   "outputs": [],
   "source": [
    "#requests.get('https://pokeapi.co/api/v2/type/12/').json()"
   ]
  },
  {
   "cell_type": "code",
   "execution_count": 16,
   "metadata": {},
   "outputs": [],
   "source": [
    "#elegimos solo aquellos datos que queremos agregar al diccionario\n",
    "#keys_list = [\"height\",\"id\",\"order\",\"weight\",\"types\"]"
   ]
  },
  {
   "cell_type": "code",
   "execution_count": 17,
   "metadata": {},
   "outputs": [],
   "source": [
    "def get_info(url, p_dict):\n",
    "    jotason = requests.get(url).json()\n",
    "    keys_list = [\"height\",\"id\",\"order\",\"weight\",\"types\"]\n",
    "    for k in keys_list:\n",
    "        if k not in p_dict.keys():\n",
    "            p_dict[k]=[jotason[k]]\n",
    "            print(\"done\")\n",
    "        else: \n",
    "            p_dict[k].append(jotason[k])\n",
    "    return p_dict\n",
    "    "
   ]
  },
  {
   "cell_type": "code",
   "execution_count": 18,
   "metadata": {},
   "outputs": [
    {
     "output_type": "execute_result",
     "data": {
      "text/plain": "dict_keys(['abilities', 'base_experience', 'forms', 'game_indices', 'height', 'held_items', 'id', 'is_default', 'location_area_encounters', 'moves', 'name', 'order', 'species', 'sprites', 'stats', 'types', 'weight'])"
     },
     "metadata": {},
     "execution_count": 18
    }
   ],
   "source": [
    "jota = requests.get(poke_dict[\"url\"][4]).json()\n",
    "jota.keys()"
   ]
  },
  {
   "cell_type": "code",
   "execution_count": 19,
   "metadata": {
    "tags": []
   },
   "outputs": [
    {
     "output_type": "stream",
     "name": "stdout",
     "text": "done\ndone\ndone\ndone\ndone\n"
    }
   ],
   "source": [
    "# map a mano\n",
    "for url in poke_dict[\"url\"]:\n",
    "    poke_dict = get_info(url, poke_dict)"
   ]
  },
  {
   "cell_type": "code",
   "execution_count": 20,
   "metadata": {
    "tags": []
   },
   "outputs": [],
   "source": [
    "#map(get_info, poke_dict[\"url\"])"
   ]
  },
  {
   "cell_type": "code",
   "execution_count": 21,
   "metadata": {},
   "outputs": [
    {
     "output_type": "execute_result",
     "data": {
      "text/plain": "         name                                   url  height  id  order  \\\n0   bulbasaur  https://pokeapi.co/api/v2/pokemon/1/       7   1      1   \n1     ivysaur  https://pokeapi.co/api/v2/pokemon/2/      10   2      2   \n2    venusaur  https://pokeapi.co/api/v2/pokemon/3/      20   3      3   \n3  charmander  https://pokeapi.co/api/v2/pokemon/4/       6   4      5   \n4  charmeleon  https://pokeapi.co/api/v2/pokemon/5/      11   5      6   \n\n   weight                                              types  \n0      69  [{'slot': 1, 'type': {'name': 'grass', 'url': ...  \n1     130  [{'slot': 1, 'type': {'name': 'grass', 'url': ...  \n2    1000  [{'slot': 1, 'type': {'name': 'grass', 'url': ...  \n3      85  [{'slot': 1, 'type': {'name': 'fire', 'url': '...  \n4     190  [{'slot': 1, 'type': {'name': 'fire', 'url': '...  ",
      "text/html": "<div>\n<style scoped>\n    .dataframe tbody tr th:only-of-type {\n        vertical-align: middle;\n    }\n\n    .dataframe tbody tr th {\n        vertical-align: top;\n    }\n\n    .dataframe thead th {\n        text-align: right;\n    }\n</style>\n<table border=\"1\" class=\"dataframe\">\n  <thead>\n    <tr style=\"text-align: right;\">\n      <th></th>\n      <th>name</th>\n      <th>url</th>\n      <th>height</th>\n      <th>id</th>\n      <th>order</th>\n      <th>weight</th>\n      <th>types</th>\n    </tr>\n  </thead>\n  <tbody>\n    <tr>\n      <th>0</th>\n      <td>bulbasaur</td>\n      <td>https://pokeapi.co/api/v2/pokemon/1/</td>\n      <td>7</td>\n      <td>1</td>\n      <td>1</td>\n      <td>69</td>\n      <td>[{'slot': 1, 'type': {'name': 'grass', 'url': ...</td>\n    </tr>\n    <tr>\n      <th>1</th>\n      <td>ivysaur</td>\n      <td>https://pokeapi.co/api/v2/pokemon/2/</td>\n      <td>10</td>\n      <td>2</td>\n      <td>2</td>\n      <td>130</td>\n      <td>[{'slot': 1, 'type': {'name': 'grass', 'url': ...</td>\n    </tr>\n    <tr>\n      <th>2</th>\n      <td>venusaur</td>\n      <td>https://pokeapi.co/api/v2/pokemon/3/</td>\n      <td>20</td>\n      <td>3</td>\n      <td>3</td>\n      <td>1000</td>\n      <td>[{'slot': 1, 'type': {'name': 'grass', 'url': ...</td>\n    </tr>\n    <tr>\n      <th>3</th>\n      <td>charmander</td>\n      <td>https://pokeapi.co/api/v2/pokemon/4/</td>\n      <td>6</td>\n      <td>4</td>\n      <td>5</td>\n      <td>85</td>\n      <td>[{'slot': 1, 'type': {'name': 'fire', 'url': '...</td>\n    </tr>\n    <tr>\n      <th>4</th>\n      <td>charmeleon</td>\n      <td>https://pokeapi.co/api/v2/pokemon/5/</td>\n      <td>11</td>\n      <td>5</td>\n      <td>6</td>\n      <td>190</td>\n      <td>[{'slot': 1, 'type': {'name': 'fire', 'url': '...</td>\n    </tr>\n  </tbody>\n</table>\n</div>"
     },
     "metadata": {},
     "execution_count": 21
    }
   ],
   "source": [
    "poke_df = pd.DataFrame(poke_dict)\n",
    "poke_df.head()"
   ]
  },
  {
   "cell_type": "code",
   "execution_count": null,
   "metadata": {},
   "outputs": [],
   "source": []
  },
  {
   "cell_type": "markdown",
   "metadata": {},
   "source": [
    "¡Qué sorpresa! Un **json** salvaje apareció en mi **dataframe**.\n",
    "Por suerte, no es la primera vez que me pasa esto..."
   ]
  },
  {
   "cell_type": "code",
   "execution_count": 22,
   "metadata": {},
   "outputs": [
    {
     "output_type": "execute_result",
     "data": {
      "text/plain": "[{'slot': 1,\n  'type': {'name': 'grass', 'url': 'https://pokeapi.co/api/v2/type/12/'}},\n {'slot': 2,\n  'type': {'name': 'poison', 'url': 'https://pokeapi.co/api/v2/type/4/'}}]"
     },
     "metadata": {},
     "execution_count": 22
    }
   ],
   "source": [
    "poke_df[\"types\"][1]"
   ]
  },
  {
   "cell_type": "code",
   "execution_count": 23,
   "metadata": {},
   "outputs": [
    {
     "output_type": "execute_result",
     "data": {
      "text/plain": "        name                                   url  height  id  order  weight  \\\n0  bulbasaur  https://pokeapi.co/api/v2/pokemon/1/       7   1      1      69   \n0  bulbasaur  https://pokeapi.co/api/v2/pokemon/1/       7   1      1      69   \n1    ivysaur  https://pokeapi.co/api/v2/pokemon/2/      10   2      2     130   \n1    ivysaur  https://pokeapi.co/api/v2/pokemon/2/      10   2      2     130   \n2   venusaur  https://pokeapi.co/api/v2/pokemon/3/      20   3      3    1000   \n\n                                               types  \n0  {'slot': 1, 'type': {'name': 'grass', 'url': '...  \n0  {'slot': 2, 'type': {'name': 'poison', 'url': ...  \n1  {'slot': 1, 'type': {'name': 'grass', 'url': '...  \n1  {'slot': 2, 'type': {'name': 'poison', 'url': ...  \n2  {'slot': 1, 'type': {'name': 'grass', 'url': '...  ",
      "text/html": "<div>\n<style scoped>\n    .dataframe tbody tr th:only-of-type {\n        vertical-align: middle;\n    }\n\n    .dataframe tbody tr th {\n        vertical-align: top;\n    }\n\n    .dataframe thead th {\n        text-align: right;\n    }\n</style>\n<table border=\"1\" class=\"dataframe\">\n  <thead>\n    <tr style=\"text-align: right;\">\n      <th></th>\n      <th>name</th>\n      <th>url</th>\n      <th>height</th>\n      <th>id</th>\n      <th>order</th>\n      <th>weight</th>\n      <th>types</th>\n    </tr>\n  </thead>\n  <tbody>\n    <tr>\n      <th>0</th>\n      <td>bulbasaur</td>\n      <td>https://pokeapi.co/api/v2/pokemon/1/</td>\n      <td>7</td>\n      <td>1</td>\n      <td>1</td>\n      <td>69</td>\n      <td>{'slot': 1, 'type': {'name': 'grass', 'url': '...</td>\n    </tr>\n    <tr>\n      <th>0</th>\n      <td>bulbasaur</td>\n      <td>https://pokeapi.co/api/v2/pokemon/1/</td>\n      <td>7</td>\n      <td>1</td>\n      <td>1</td>\n      <td>69</td>\n      <td>{'slot': 2, 'type': {'name': 'poison', 'url': ...</td>\n    </tr>\n    <tr>\n      <th>1</th>\n      <td>ivysaur</td>\n      <td>https://pokeapi.co/api/v2/pokemon/2/</td>\n      <td>10</td>\n      <td>2</td>\n      <td>2</td>\n      <td>130</td>\n      <td>{'slot': 1, 'type': {'name': 'grass', 'url': '...</td>\n    </tr>\n    <tr>\n      <th>1</th>\n      <td>ivysaur</td>\n      <td>https://pokeapi.co/api/v2/pokemon/2/</td>\n      <td>10</td>\n      <td>2</td>\n      <td>2</td>\n      <td>130</td>\n      <td>{'slot': 2, 'type': {'name': 'poison', 'url': ...</td>\n    </tr>\n    <tr>\n      <th>2</th>\n      <td>venusaur</td>\n      <td>https://pokeapi.co/api/v2/pokemon/3/</td>\n      <td>20</td>\n      <td>3</td>\n      <td>3</td>\n      <td>1000</td>\n      <td>{'slot': 1, 'type': {'name': 'grass', 'url': '...</td>\n    </tr>\n  </tbody>\n</table>\n</div>"
     },
     "metadata": {},
     "execution_count": 23
    }
   ],
   "source": [
    "first = poke_df.explode(\"types\")\n",
    "first.head()"
   ]
  },
  {
   "cell_type": "code",
   "execution_count": 24,
   "metadata": {},
   "outputs": [
    {
     "output_type": "execute_result",
     "data": {
      "text/plain": "0    {'slot': 1, 'type': {'name': 'grass', 'url': '...\n0    {'slot': 2, 'type': {'name': 'poison', 'url': ...\nName: types, dtype: object"
     },
     "metadata": {},
     "execution_count": 24
    }
   ],
   "source": [
    "first[\"types\"][0]"
   ]
  },
  {
   "cell_type": "code",
   "execution_count": 25,
   "metadata": {},
   "outputs": [
    {
     "output_type": "execute_result",
     "data": {
      "text/plain": "        name                                   url  height  id  order  weight  \\\n0  bulbasaur  https://pokeapi.co/api/v2/pokemon/1/       7   1      1      69   \n1  bulbasaur  https://pokeapi.co/api/v2/pokemon/1/       7   1      1      69   \n2    ivysaur  https://pokeapi.co/api/v2/pokemon/2/      10   2      2     130   \n3    ivysaur  https://pokeapi.co/api/v2/pokemon/2/      10   2      2     130   \n4   venusaur  https://pokeapi.co/api/v2/pokemon/3/      20   3      3    1000   \n\n   types.slot types.type.name                      types.type.url  \n0           1           grass  https://pokeapi.co/api/v2/type/12/  \n1           2          poison   https://pokeapi.co/api/v2/type/4/  \n2           1           grass  https://pokeapi.co/api/v2/type/12/  \n3           2          poison   https://pokeapi.co/api/v2/type/4/  \n4           1           grass  https://pokeapi.co/api/v2/type/12/  ",
      "text/html": "<div>\n<style scoped>\n    .dataframe tbody tr th:only-of-type {\n        vertical-align: middle;\n    }\n\n    .dataframe tbody tr th {\n        vertical-align: top;\n    }\n\n    .dataframe thead th {\n        text-align: right;\n    }\n</style>\n<table border=\"1\" class=\"dataframe\">\n  <thead>\n    <tr style=\"text-align: right;\">\n      <th></th>\n      <th>name</th>\n      <th>url</th>\n      <th>height</th>\n      <th>id</th>\n      <th>order</th>\n      <th>weight</th>\n      <th>types.slot</th>\n      <th>types.type.name</th>\n      <th>types.type.url</th>\n    </tr>\n  </thead>\n  <tbody>\n    <tr>\n      <th>0</th>\n      <td>bulbasaur</td>\n      <td>https://pokeapi.co/api/v2/pokemon/1/</td>\n      <td>7</td>\n      <td>1</td>\n      <td>1</td>\n      <td>69</td>\n      <td>1</td>\n      <td>grass</td>\n      <td>https://pokeapi.co/api/v2/type/12/</td>\n    </tr>\n    <tr>\n      <th>1</th>\n      <td>bulbasaur</td>\n      <td>https://pokeapi.co/api/v2/pokemon/1/</td>\n      <td>7</td>\n      <td>1</td>\n      <td>1</td>\n      <td>69</td>\n      <td>2</td>\n      <td>poison</td>\n      <td>https://pokeapi.co/api/v2/type/4/</td>\n    </tr>\n    <tr>\n      <th>2</th>\n      <td>ivysaur</td>\n      <td>https://pokeapi.co/api/v2/pokemon/2/</td>\n      <td>10</td>\n      <td>2</td>\n      <td>2</td>\n      <td>130</td>\n      <td>1</td>\n      <td>grass</td>\n      <td>https://pokeapi.co/api/v2/type/12/</td>\n    </tr>\n    <tr>\n      <th>3</th>\n      <td>ivysaur</td>\n      <td>https://pokeapi.co/api/v2/pokemon/2/</td>\n      <td>10</td>\n      <td>2</td>\n      <td>2</td>\n      <td>130</td>\n      <td>2</td>\n      <td>poison</td>\n      <td>https://pokeapi.co/api/v2/type/4/</td>\n    </tr>\n    <tr>\n      <th>4</th>\n      <td>venusaur</td>\n      <td>https://pokeapi.co/api/v2/pokemon/3/</td>\n      <td>20</td>\n      <td>3</td>\n      <td>3</td>\n      <td>1000</td>\n      <td>1</td>\n      <td>grass</td>\n      <td>https://pokeapi.co/api/v2/type/12/</td>\n    </tr>\n  </tbody>\n</table>\n</div>"
     },
     "metadata": {},
     "execution_count": 25
    }
   ],
   "source": [
    "second = json_normalize(json.loads(first.to_json(orient=\"records\")))\n",
    "second.head()"
   ]
  },
  {
   "cell_type": "markdown",
   "metadata": {},
   "source": [
    "## API con token"
   ]
  },
  {
   "cell_type": "markdown",
   "metadata": {},
   "source": [
    "\n",
    "**PASOS:** \n",
    "\n",
    "1. Añadir a gitignore el nombre del archivo .json donde vamos a guardar los token\n",
    "\n",
    "2. Crear el archivo .json en este caso con nombre settings.json\n",
    "\n",
    "3. Dentro de este define unas keys con el nombre que prefiráis con value el token\n",
    "\n",
    "4. Para conseguir el token, _en el caso de la api de foursquare_, tendrás que hacerte una cuenta para adquirir este token\n",
    "\n",
    "5. Carga el token y el client id, usando el siguiente extracto de código"
   ]
  },
  {
   "cell_type": "markdown",
   "metadata": {},
   "source": [
    "5a. Define una variable, en este caso json_fullpath, con el path donde encontramos el json donde están las variables que en este caso son token y client_id"
   ]
  },
  {
   "cell_type": "code",
   "execution_count": 26,
   "metadata": {},
   "outputs": [],
   "source": [
    "json_fullpath = \"settings.json\"\n",
    "# settings.json estará en el .gitignore  "
   ]
  },
  {
   "cell_type": "markdown",
   "metadata": {},
   "source": [
    "5b. utiliza with open para abrir el path donde está el json y usa json.load para cargar el json y asignarlo a la variable json_readed, ahora json_readed es un diccionario"
   ]
  },
  {
   "cell_type": "code",
   "execution_count": 27,
   "metadata": {},
   "outputs": [
    {
     "output_type": "error",
     "ename": "FileNotFoundError",
     "evalue": "[Errno 2] No such file or directory: 'settings.json'",
     "traceback": [
      "\u001b[1;31m---------------------------------------------------------------------------\u001b[0m",
      "\u001b[1;31mFileNotFoundError\u001b[0m                         Traceback (most recent call last)",
      "\u001b[1;32m<ipython-input-27-393a57b84e04>\u001b[0m in \u001b[0;36m<module>\u001b[1;34m\u001b[0m\n\u001b[1;32m----> 1\u001b[1;33m \u001b[1;32mwith\u001b[0m \u001b[0mopen\u001b[0m\u001b[1;33m(\u001b[0m\u001b[1;34m\"settings.json\"\u001b[0m\u001b[1;33m,\u001b[0m \u001b[1;34m\"r+\"\u001b[0m\u001b[1;33m)\u001b[0m \u001b[1;32mas\u001b[0m \u001b[0moutfile\u001b[0m\u001b[1;33m:\u001b[0m\u001b[1;33m\u001b[0m\u001b[1;33m\u001b[0m\u001b[0m\n\u001b[0m\u001b[0;32m      2\u001b[0m     \u001b[0mjson_readed\u001b[0m \u001b[1;33m=\u001b[0m \u001b[0mjson\u001b[0m\u001b[1;33m.\u001b[0m\u001b[0mload\u001b[0m\u001b[1;33m(\u001b[0m\u001b[0moutfile\u001b[0m\u001b[1;33m)\u001b[0m\u001b[1;33m\u001b[0m\u001b[1;33m\u001b[0m\u001b[0m\n",
      "\u001b[1;31mFileNotFoundError\u001b[0m: [Errno 2] No such file or directory: 'settings.json'"
     ]
    }
   ],
   "source": [
    "with open(\"settings.json\", \"r+\") as outfile:\n",
    "    json_readed = json.load(outfile)"
   ]
  },
  {
   "cell_type": "markdown",
   "metadata": {},
   "source": [
    "**DOCUMENTACIÓN DE LA API**\n",
    "\n",
    "\n",
    "--> https://developer.foursquare.com/docs/places-api/ <--"
   ]
  },
  {
   "cell_type": "markdown",
   "metadata": {},
   "source": [
    "6. defino la variable url con la url de la request que quiero hacer en este caso he elegido la request de venue recommendation por eso cojo la url del método get que encontramos en la página de la documentación de la api de foursquare\n",
    "\n",
    "https://developer.foursquare.com/docs/api-reference/venues/explore/"
   ]
  },
  {
   "cell_type": "markdown",
   "metadata": {},
   "source": [
    "6a. Defino también las variables de latitud y longitud ya que al leer la documentación de la api veo que para esta request es obligatorio que se introduzcan a parte de la client id y token, al menos el parametro latitud y longitud o el parámetro near. En este caso `ll`que es latitud y longitud"
   ]
  },
  {
   "cell_type": "code",
   "execution_count": 28,
   "metadata": {
    "tags": []
   },
   "outputs": [
    {
     "output_type": "stream",
     "name": "stdout",
     "text": "40.4226767,-3.6922754\n40.4226767,-3.6922754\n"
    }
   ],
   "source": [
    "url = 'https://api.foursquare.com/v2/venues/explore'\n",
    "\n",
    "# más códigos de categorías\n",
    "# https://developer.foursquare.com/docs/build-with-foursquare/categories/\n",
    "\n",
    "irish_rest = \"52e81612bcbc57f1066b7a06\"\n",
    "\n",
    "# para sacar las coordenadas podrías usar una API pero también...\n",
    "# https://www.123coordenadas.com/coordinates/\n",
    "\n",
    "lat = 40.4226767\n",
    "lon = -3.6922754\n",
    "\n",
    "\n",
    "# Ejemplo de format:\n",
    "\n",
    "for1 = \"40.4226767,-3.6922754\"\n",
    "for2 = f\"{lat},{lon}\"\n",
    "#\"v\":\"20180323\",\n",
    "print(for1)\n",
    "print(for2)"
   ]
  },
  {
   "cell_type": "markdown",
   "metadata": {},
   "source": [
    "7. Hago la petición usando el método get porque quiero obtener información de la api, y para ello le paso los argumentos, url, y los parámetros mínimos y en este caso dos de los opcionales que son: (section y limit). Para section he elegido food porque quiero buscar sitios de comida y he eligido 100 para limit, porque quiero solamente 100 resultados."
   ]
  },
  {
   "cell_type": "markdown",
   "metadata": {},
   "source": [
    "7b. Estos parámetros deberán ir definidos dentro de un diccionario llamado params y las keys tendrán que respetar el nombre que se especifique en la documentación de la api porque son kwargs"
   ]
  },
  {
   "cell_type": "code",
   "execution_count": 29,
   "metadata": {},
   "outputs": [
    {
     "output_type": "execute_result",
     "data": {
      "text/plain": "{'meta': {'code': 400,\n  'errorType': 'invalid_auth',\n  'errorDetail': 'Missing access credentials. See https://developer.foursquare.com/docs/api/configuration/authentication for details.',\n  'requestId': '5f2ad0db58005e361f91d8e6'},\n 'response': {}}"
     },
     "metadata": {},
     "execution_count": 29
    }
   ],
   "source": [
    "requests.get(url).json()\n",
    "# me da este error porque no tiene token o id_client"
   ]
  },
  {
   "cell_type": "code",
   "execution_count": 30,
   "metadata": {},
   "outputs": [
    {
     "output_type": "error",
     "ename": "NameError",
     "evalue": "name 'json_readed' is not defined",
     "traceback": [
      "\u001b[1;31m---------------------------------------------------------------------------\u001b[0m",
      "\u001b[1;31mNameError\u001b[0m                                 Traceback (most recent call last)",
      "\u001b[1;32m<ipython-input-30-9f1a83cff537>\u001b[0m in \u001b[0;36m<module>\u001b[1;34m\u001b[0m\n\u001b[1;32m----> 1\u001b[1;33m params = {\"client_id\": json_readed[\"CLIENT\"],\n\u001b[0m\u001b[0;32m      2\u001b[0m   \u001b[1;34m\"client_secret\"\u001b[0m\u001b[1;33m:\u001b[0m \u001b[0mjson_readed\u001b[0m\u001b[1;33m[\u001b[0m\u001b[1;34m\"API_KEY\"\u001b[0m\u001b[1;33m]\u001b[0m\u001b[1;33m,\u001b[0m\u001b[1;33m\u001b[0m\u001b[1;33m\u001b[0m\u001b[0m\n\u001b[0;32m      3\u001b[0m   \u001b[1;34m\"v\"\u001b[0m\u001b[1;33m:\u001b[0m\u001b[1;34m\"20180323\"\u001b[0m\u001b[1;33m,\u001b[0m\u001b[1;33m\u001b[0m\u001b[1;33m\u001b[0m\u001b[0m\n\u001b[0;32m      4\u001b[0m   \u001b[1;34m\"ll\"\u001b[0m\u001b[1;33m:\u001b[0m\u001b[1;34mf'{lat},{lon}'\u001b[0m\u001b[1;33m,\u001b[0m\u001b[1;33m\u001b[0m\u001b[1;33m\u001b[0m\u001b[0m\n\u001b[0;32m      5\u001b[0m   \u001b[1;34m\"section\"\u001b[0m\u001b[1;33m:\u001b[0m \u001b[1;34m\"food\"\u001b[0m\u001b[1;33m,\u001b[0m\u001b[1;33m\u001b[0m\u001b[1;33m\u001b[0m\u001b[0m\n",
      "\u001b[1;31mNameError\u001b[0m: name 'json_readed' is not defined"
     ]
    }
   ],
   "source": [
    "params = {\"client_id\": json_readed[\"CLIENT\"],\n",
    "  \"client_secret\": json_readed[\"API_KEY\"],\n",
    "  \"v\":\"20180323\",\n",
    "  \"ll\":f'{lat},{lon}',\n",
    "  \"section\": \"food\",\n",
    "  # options --> food, drinks, coffee, shops, arts, outdoors, sights, trending\n",
    "  \"limit\":100\n",
    "}  "
   ]
  },
  {
   "cell_type": "code",
   "execution_count": 31,
   "metadata": {},
   "outputs": [
    {
     "output_type": "error",
     "ename": "NameError",
     "evalue": "name 'params' is not defined",
     "traceback": [
      "\u001b[1;31m---------------------------------------------------------------------------\u001b[0m",
      "\u001b[1;31mNameError\u001b[0m                                 Traceback (most recent call last)",
      "\u001b[1;32m<ipython-input-31-fa1617788d32>\u001b[0m in \u001b[0;36m<module>\u001b[1;34m\u001b[0m\n\u001b[1;32m----> 1\u001b[1;33m \u001b[0mresp\u001b[0m \u001b[1;33m=\u001b[0m \u001b[0mrequests\u001b[0m\u001b[1;33m.\u001b[0m\u001b[0mget\u001b[0m\u001b[1;33m(\u001b[0m\u001b[0murl\u001b[0m\u001b[1;33m=\u001b[0m\u001b[0murl\u001b[0m\u001b[1;33m,\u001b[0m \u001b[0mparams\u001b[0m\u001b[1;33m=\u001b[0m\u001b[0mparams\u001b[0m\u001b[1;33m)\u001b[0m\u001b[1;33m\u001b[0m\u001b[1;33m\u001b[0m\u001b[0m\n\u001b[0m\u001b[0;32m      2\u001b[0m \u001b[0mdata\u001b[0m \u001b[1;33m=\u001b[0m \u001b[0mjson\u001b[0m\u001b[1;33m.\u001b[0m\u001b[0mloads\u001b[0m\u001b[1;33m(\u001b[0m\u001b[0mresp\u001b[0m\u001b[1;33m.\u001b[0m\u001b[0mtext\u001b[0m\u001b[1;33m)\u001b[0m\u001b[1;33m\u001b[0m\u001b[1;33m\u001b[0m\u001b[0m\n",
      "\u001b[1;31mNameError\u001b[0m: name 'params' is not defined"
     ]
    }
   ],
   "source": [
    "resp = requests.get(url=url, params=params)\n",
    "data = json.loads(resp.text)"
   ]
  },
  {
   "cell_type": "markdown",
   "metadata": {},
   "source": [
    "7b. Si solo hacemos la request con el metodo get pero no lo convertimos a json nos dará response 200 o 400, al fin y al cabo una response de https. Si queremos verlo con json, tendremos que hacer un json.loads. Si es que es un json lo que nos devuelve esta petición, eso lo sabremos dependiendo de la api con la que estemos trabajando"
   ]
  },
  {
   "cell_type": "code",
   "execution_count": 32,
   "metadata": {},
   "outputs": [
    {
     "output_type": "error",
     "ename": "NameError",
     "evalue": "name 'data' is not defined",
     "traceback": [
      "\u001b[1;31m---------------------------------------------------------------------------\u001b[0m",
      "\u001b[1;31mNameError\u001b[0m                                 Traceback (most recent call last)",
      "\u001b[1;32m<ipython-input-32-e99909f5ae50>\u001b[0m in \u001b[0;36m<module>\u001b[1;34m\u001b[0m\n\u001b[1;32m----> 1\u001b[1;33m \u001b[0mdata\u001b[0m\u001b[1;33m[\u001b[0m\u001b[1;34m\"meta\"\u001b[0m\u001b[1;33m]\u001b[0m\u001b[1;33m\u001b[0m\u001b[1;33m\u001b[0m\u001b[0m\n\u001b[0m",
      "\u001b[1;31mNameError\u001b[0m: name 'data' is not defined"
     ]
    }
   ],
   "source": [
    "data[\"meta\"]"
   ]
  },
  {
   "cell_type": "markdown",
   "metadata": {},
   "source": [
    "8. Una vez que tengo el json habrá que ir navengando por sus keys y listas interiores hasta llegar al dato que quieres que en este caso es el nombre del bar recomendado"
   ]
  },
  {
   "cell_type": "code",
   "execution_count": 33,
   "metadata": {},
   "outputs": [
    {
     "output_type": "error",
     "ename": "NameError",
     "evalue": "name 'data' is not defined",
     "traceback": [
      "\u001b[1;31m---------------------------------------------------------------------------\u001b[0m",
      "\u001b[1;31mNameError\u001b[0m                                 Traceback (most recent call last)",
      "\u001b[1;32m<ipython-input-33-cca3415e4d64>\u001b[0m in \u001b[0;36m<module>\u001b[1;34m\u001b[0m\n\u001b[1;32m----> 1\u001b[1;33m \u001b[0mdata\u001b[0m\u001b[1;33m[\u001b[0m\u001b[1;34m\"response\"\u001b[0m\u001b[1;33m]\u001b[0m\u001b[1;33m.\u001b[0m\u001b[0mkeys\u001b[0m\u001b[1;33m(\u001b[0m\u001b[1;33m)\u001b[0m\u001b[1;33m\u001b[0m\u001b[1;33m\u001b[0m\u001b[0m\n\u001b[0m",
      "\u001b[1;31mNameError\u001b[0m: name 'data' is not defined"
     ]
    }
   ],
   "source": [
    "data[\"response\"].keys()"
   ]
  },
  {
   "cell_type": "code",
   "execution_count": 34,
   "metadata": {},
   "outputs": [
    {
     "output_type": "error",
     "ename": "NameError",
     "evalue": "name 'data' is not defined",
     "traceback": [
      "\u001b[1;31m---------------------------------------------------------------------------\u001b[0m",
      "\u001b[1;31mNameError\u001b[0m                                 Traceback (most recent call last)",
      "\u001b[1;32m<ipython-input-34-f881dbc8e20c>\u001b[0m in \u001b[0;36m<module>\u001b[1;34m\u001b[0m\n\u001b[1;32m----> 1\u001b[1;33m \u001b[0mdata\u001b[0m\u001b[1;33m[\u001b[0m\u001b[1;34m\"response\"\u001b[0m\u001b[1;33m]\u001b[0m\u001b[1;33m[\u001b[0m\u001b[1;34m\"groups\"\u001b[0m\u001b[1;33m]\u001b[0m\u001b[1;33m.\u001b[0m\u001b[0mkeys\u001b[0m\u001b[1;33m(\u001b[0m\u001b[1;33m)\u001b[0m\u001b[1;33m\u001b[0m\u001b[1;33m\u001b[0m\u001b[0m\n\u001b[0m",
      "\u001b[1;31mNameError\u001b[0m: name 'data' is not defined"
     ]
    }
   ],
   "source": [
    "data[\"response\"][\"groups\"].keys()"
   ]
  },
  {
   "cell_type": "code",
   "execution_count": 35,
   "metadata": {},
   "outputs": [],
   "source": [
    "#como sale error por intentar acceder a las keys de una lista, entiendo que ahora es una lista y por tanto accedes por posición "
   ]
  },
  {
   "cell_type": "code",
   "execution_count": 36,
   "metadata": {},
   "outputs": [
    {
     "output_type": "error",
     "ename": "NameError",
     "evalue": "name 'data' is not defined",
     "traceback": [
      "\u001b[1;31m---------------------------------------------------------------------------\u001b[0m",
      "\u001b[1;31mNameError\u001b[0m                                 Traceback (most recent call last)",
      "\u001b[1;32m<ipython-input-36-c0b191256869>\u001b[0m in \u001b[0;36m<module>\u001b[1;34m\u001b[0m\n\u001b[1;32m----> 1\u001b[1;33m \u001b[0mdata\u001b[0m\u001b[1;33m[\u001b[0m\u001b[1;34m\"response\"\u001b[0m\u001b[1;33m]\u001b[0m\u001b[1;33m[\u001b[0m\u001b[1;34m\"groups\"\u001b[0m\u001b[1;33m]\u001b[0m\u001b[1;33m\u001b[0m\u001b[1;33m\u001b[0m\u001b[0m\n\u001b[0m",
      "\u001b[1;31mNameError\u001b[0m: name 'data' is not defined"
     ]
    }
   ],
   "source": [
    "data[\"response\"][\"groups\"]"
   ]
  },
  {
   "cell_type": "code",
   "execution_count": 37,
   "metadata": {},
   "outputs": [
    {
     "output_type": "error",
     "ename": "NameError",
     "evalue": "name 'data' is not defined",
     "traceback": [
      "\u001b[1;31m---------------------------------------------------------------------------\u001b[0m",
      "\u001b[1;31mNameError\u001b[0m                                 Traceback (most recent call last)",
      "\u001b[1;32m<ipython-input-37-5b48bf69d730>\u001b[0m in \u001b[0;36m<module>\u001b[1;34m\u001b[0m\n\u001b[1;32m----> 1\u001b[1;33m \u001b[0mdata\u001b[0m\u001b[1;33m[\u001b[0m\u001b[1;34m\"response\"\u001b[0m\u001b[1;33m]\u001b[0m\u001b[1;33m[\u001b[0m\u001b[1;34m'groups'\u001b[0m\u001b[1;33m]\u001b[0m\u001b[1;33m[\u001b[0m\u001b[1;36m0\u001b[0m\u001b[1;33m]\u001b[0m\u001b[1;33m[\u001b[0m\u001b[1;34m\"items\"\u001b[0m\u001b[1;33m]\u001b[0m\u001b[1;33m[\u001b[0m\u001b[1;36m0\u001b[0m\u001b[1;33m]\u001b[0m\u001b[1;33m.\u001b[0m\u001b[0mkeys\u001b[0m\u001b[1;33m(\u001b[0m\u001b[1;33m)\u001b[0m\u001b[1;33m\u001b[0m\u001b[1;33m\u001b[0m\u001b[0m\n\u001b[0m",
      "\u001b[1;31mNameError\u001b[0m: name 'data' is not defined"
     ]
    }
   ],
   "source": [
    "data[\"response\"]['groups'][0][\"items\"][0].keys()"
   ]
  },
  {
   "cell_type": "code",
   "execution_count": 38,
   "metadata": {},
   "outputs": [
    {
     "output_type": "error",
     "ename": "NameError",
     "evalue": "name 'data' is not defined",
     "traceback": [
      "\u001b[1;31m---------------------------------------------------------------------------\u001b[0m",
      "\u001b[1;31mNameError\u001b[0m                                 Traceback (most recent call last)",
      "\u001b[1;32m<ipython-input-38-b6ecc23425b4>\u001b[0m in \u001b[0;36m<module>\u001b[1;34m\u001b[0m\n\u001b[1;32m----> 1\u001b[1;33m \u001b[0mdata\u001b[0m\u001b[1;33m[\u001b[0m\u001b[1;34m\"response\"\u001b[0m\u001b[1;33m]\u001b[0m\u001b[1;33m[\u001b[0m\u001b[1;34m'groups'\u001b[0m\u001b[1;33m]\u001b[0m\u001b[1;33m[\u001b[0m\u001b[1;36m0\u001b[0m\u001b[1;33m]\u001b[0m\u001b[1;33m[\u001b[0m\u001b[1;34m\"items\"\u001b[0m\u001b[1;33m]\u001b[0m\u001b[1;33m[\u001b[0m\u001b[1;36m0\u001b[0m\u001b[1;33m]\u001b[0m\u001b[1;33m[\u001b[0m\u001b[1;34m\"venue\"\u001b[0m\u001b[1;33m]\u001b[0m\u001b[1;33m\u001b[0m\u001b[1;33m\u001b[0m\u001b[0m\n\u001b[0m",
      "\u001b[1;31mNameError\u001b[0m: name 'data' is not defined"
     ]
    }
   ],
   "source": [
    "data[\"response\"]['groups'][0][\"items\"][0][\"venue\"]"
   ]
  },
  {
   "cell_type": "code",
   "execution_count": 39,
   "metadata": {},
   "outputs": [
    {
     "output_type": "error",
     "ename": "NameError",
     "evalue": "name 'data' is not defined",
     "traceback": [
      "\u001b[1;31m---------------------------------------------------------------------------\u001b[0m",
      "\u001b[1;31mNameError\u001b[0m                                 Traceback (most recent call last)",
      "\u001b[1;32m<ipython-input-39-11c893e986d2>\u001b[0m in \u001b[0;36m<module>\u001b[1;34m\u001b[0m\n\u001b[1;32m----> 1\u001b[1;33m \u001b[0mdata\u001b[0m\u001b[1;33m[\u001b[0m\u001b[1;34m\"response\"\u001b[0m\u001b[1;33m]\u001b[0m\u001b[1;33m[\u001b[0m\u001b[1;34m'groups'\u001b[0m\u001b[1;33m]\u001b[0m\u001b[1;33m[\u001b[0m\u001b[1;36m0\u001b[0m\u001b[1;33m]\u001b[0m\u001b[1;33m[\u001b[0m\u001b[1;34m\"items\"\u001b[0m\u001b[1;33m]\u001b[0m\u001b[1;33m[\u001b[0m\u001b[1;36m0\u001b[0m\u001b[1;33m]\u001b[0m\u001b[1;33m[\u001b[0m\u001b[1;34m\"venue\"\u001b[0m\u001b[1;33m]\u001b[0m\u001b[1;33m[\u001b[0m\u001b[1;34m'name'\u001b[0m\u001b[1;33m]\u001b[0m\u001b[1;33m\u001b[0m\u001b[1;33m\u001b[0m\u001b[0m\n\u001b[0m",
      "\u001b[1;31mNameError\u001b[0m: name 'data' is not defined"
     ]
    }
   ],
   "source": [
    "data[\"response\"]['groups'][0][\"items\"][0][\"venue\"]['name']"
   ]
  },
  {
   "cell_type": "code",
   "execution_count": 40,
   "metadata": {
    "tags": []
   },
   "outputs": [
    {
     "output_type": "error",
     "ename": "NameError",
     "evalue": "name 'data' is not defined",
     "traceback": [
      "\u001b[1;31m---------------------------------------------------------------------------\u001b[0m",
      "\u001b[1;31mNameError\u001b[0m                                 Traceback (most recent call last)",
      "\u001b[1;32m<ipython-input-40-e0a06f586ce9>\u001b[0m in \u001b[0;36m<module>\u001b[1;34m\u001b[0m\n\u001b[0;32m      1\u001b[0m \u001b[0mlista_vacia\u001b[0m \u001b[1;33m=\u001b[0m \u001b[1;33m[\u001b[0m\u001b[1;33m]\u001b[0m\u001b[1;33m\u001b[0m\u001b[1;33m\u001b[0m\u001b[0m\n\u001b[1;32m----> 2\u001b[1;33m \u001b[1;32mfor\u001b[0m \u001b[0mrest\u001b[0m \u001b[1;32min\u001b[0m \u001b[0mdata\u001b[0m\u001b[1;33m[\u001b[0m\u001b[1;34m\"response\"\u001b[0m\u001b[1;33m]\u001b[0m\u001b[1;33m[\u001b[0m\u001b[1;34m'groups'\u001b[0m\u001b[1;33m]\u001b[0m\u001b[1;33m[\u001b[0m\u001b[1;36m0\u001b[0m\u001b[1;33m]\u001b[0m\u001b[1;33m[\u001b[0m\u001b[1;34m\"items\"\u001b[0m\u001b[1;33m]\u001b[0m\u001b[1;33m:\u001b[0m\u001b[1;33m\u001b[0m\u001b[1;33m\u001b[0m\u001b[0m\n\u001b[0m\u001b[0;32m      3\u001b[0m     \u001b[0mlista_vacia\u001b[0m\u001b[1;33m.\u001b[0m\u001b[0mappend\u001b[0m\u001b[1;33m(\u001b[0m\u001b[0mrest\u001b[0m\u001b[1;33m[\u001b[0m\u001b[1;34m\"venue\"\u001b[0m\u001b[1;33m]\u001b[0m\u001b[1;33m[\u001b[0m\u001b[1;34m\"name\"\u001b[0m\u001b[1;33m]\u001b[0m\u001b[1;33m)\u001b[0m\u001b[1;33m\u001b[0m\u001b[1;33m\u001b[0m\u001b[0m\n",
      "\u001b[1;31mNameError\u001b[0m: name 'data' is not defined"
     ]
    }
   ],
   "source": [
    "lista_vacia = []\n",
    "for rest in data[\"response\"]['groups'][0][\"items\"]:\n",
    "    lista_vacia.append(rest[\"venue\"][\"name\"])"
   ]
  },
  {
   "cell_type": "code",
   "execution_count": 41,
   "metadata": {},
   "outputs": [
    {
     "output_type": "execute_result",
     "data": {
      "text/plain": "[]"
     },
     "metadata": {},
     "execution_count": 41
    }
   ],
   "source": [
    "lista_vacia"
   ]
  },
  {
   "cell_type": "code",
   "execution_count": 42,
   "metadata": {},
   "outputs": [
    {
     "output_type": "error",
     "ename": "NameError",
     "evalue": "name 'data' is not defined",
     "traceback": [
      "\u001b[1;31m---------------------------------------------------------------------------\u001b[0m",
      "\u001b[1;31mNameError\u001b[0m                                 Traceback (most recent call last)",
      "\u001b[1;32m<ipython-input-42-cd30a5702719>\u001b[0m in \u001b[0;36m<module>\u001b[1;34m\u001b[0m\n\u001b[1;32m----> 1\u001b[1;33m \u001b[0mopciones\u001b[0m \u001b[1;33m=\u001b[0m \u001b[1;33m[\u001b[0m\u001b[0mrest\u001b[0m\u001b[1;33m[\u001b[0m\u001b[1;34m\"venue\"\u001b[0m\u001b[1;33m]\u001b[0m\u001b[1;33m[\u001b[0m\u001b[1;34m\"name\"\u001b[0m\u001b[1;33m]\u001b[0m \u001b[1;32mfor\u001b[0m \u001b[0mrest\u001b[0m \u001b[1;32min\u001b[0m \u001b[0mdata\u001b[0m\u001b[1;33m[\u001b[0m\u001b[1;34m\"response\"\u001b[0m\u001b[1;33m]\u001b[0m\u001b[1;33m[\u001b[0m\u001b[1;34m'groups'\u001b[0m\u001b[1;33m]\u001b[0m\u001b[1;33m[\u001b[0m\u001b[1;36m0\u001b[0m\u001b[1;33m]\u001b[0m\u001b[1;33m[\u001b[0m\u001b[1;34m\"items\"\u001b[0m\u001b[1;33m]\u001b[0m\u001b[1;33m]\u001b[0m\u001b[1;33m\u001b[0m\u001b[1;33m\u001b[0m\u001b[0m\n\u001b[0m",
      "\u001b[1;31mNameError\u001b[0m: name 'data' is not defined"
     ]
    }
   ],
   "source": [
    "opciones = [rest[\"venue\"][\"name\"] for rest in data[\"response\"]['groups'][0][\"items\"]]\n"
   ]
  },
  {
   "cell_type": "code",
   "execution_count": 43,
   "metadata": {
    "tags": []
   },
   "outputs": [
    {
     "output_type": "error",
     "ename": "NameError",
     "evalue": "name 'opciones' is not defined",
     "traceback": [
      "\u001b[1;31m---------------------------------------------------------------------------\u001b[0m",
      "\u001b[1;31mNameError\u001b[0m                                 Traceback (most recent call last)",
      "\u001b[1;32m<ipython-input-43-f72b473d468b>\u001b[0m in \u001b[0;36m<module>\u001b[1;34m\u001b[0m\n\u001b[1;32m----> 1\u001b[1;33m \u001b[0mprint\u001b[0m\u001b[1;33m(\u001b[0m\u001b[0mopciones\u001b[0m\u001b[1;33m)\u001b[0m\u001b[1;33m\u001b[0m\u001b[1;33m\u001b[0m\u001b[0m\n\u001b[0m",
      "\u001b[1;31mNameError\u001b[0m: name 'opciones' is not defined"
     ]
    }
   ],
   "source": [
    "print(opciones)"
   ]
  },
  {
   "cell_type": "markdown",
   "metadata": {},
   "source": [
    "Comprobamos que efectivamente están cerca de **The Bridge**"
   ]
  },
  {
   "cell_type": "markdown",
   "metadata": {},
   "source": [
    "- **Charrua**"
   ]
  },
  {
   "cell_type": "markdown",
   "metadata": {},
   "source": [
    "https://www.google.com/maps/place/Charr%C3%BAa+Madrid/@40.4213206,-3.6974034,15z/data=!4m5!3m4!1s0x0:0x8673b16903da6e51!8m2!3d40.4223987!4d-3.6940989"
   ]
  },
  {
   "cell_type": "markdown",
   "metadata": {},
   "source": [
    "- **Pelotari**"
   ]
  },
  {
   "cell_type": "markdown",
   "metadata": {},
   "source": [
    "https://www.google.com/maps/place/Pelotari/@40.4210322,-3.7011421,15.06z/data=!4m8!1m2!2m1!1spelotari!3m4!1s0xd42289a8d2d74cb:0x2b6420709612ce53!8m2!3d40.4222232!4d-3.6906525"
   ]
  },
  {
   "cell_type": "markdown",
   "metadata": {},
   "source": [
    "- **Doki doki**"
   ]
  },
  {
   "cell_type": "markdown",
   "metadata": {},
   "source": [
    "https://www.google.com/maps/place/Restaurante+Doki+Doki/@40.421046,-3.6919977,17z/data=!3m1!4b1!4m5!3m4!1s0xd42289a5313ac17:0x27cfb02077407a64!8m2!3d40.421046!4d-3.689809"
   ]
  }
 ],
 "metadata": {
  "language_info": {
   "codemirror_mode": {
    "name": "ipython",
    "version": 3
   },
   "file_extension": ".py",
   "mimetype": "text/x-python",
   "name": "python",
   "nbconvert_exporter": "python",
   "pygments_lexer": "ipython3",
   "version": 3
  },
  "orig_nbformat": 2,
  "kernelspec": {
   "name": "python_defaultSpec_1596641477140",
   "display_name": "Python 3.8.3 32-bit"
  }
 },
 "nbformat": 4,
 "nbformat_minor": 2
}