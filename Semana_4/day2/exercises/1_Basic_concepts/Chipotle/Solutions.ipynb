{
 "cells": [
  {
   "cell_type": "markdown",
   "metadata": {},
   "source": [
    "# Ex2 - Getting and Knowing your Data"
   ]
  },
  {
   "cell_type": "markdown",
   "metadata": {},
   "source": [
    "\n",
    "\n",
    "### Step 1. Import the necessary libraries"
   ]
  },
  {
   "cell_type": "code",
   "execution_count": 41,
   "metadata": {
    "collapsed": false
   },
   "outputs": [],
   "source": [
    "import pandas as pd\n",
    "import numpy as np"
   ]
  },
  {
   "cell_type": "markdown",
   "metadata": {},
   "source": [
    "### Step 2. Import the dataset from this [address](https://raw.githubusercontent.com/justmarkham/DAT8/master/data/chipotle.tsv). "
   ]
  },
  {
   "cell_type": "code",
   "execution_count": 42,
   "metadata": {},
   "outputs": [],
   "source": [
    "address =\"https://raw.githubusercontent.com/justmarkham/DAT8/master/data/chipotle.tsv\""
   ]
  },
  {
   "cell_type": "markdown",
   "metadata": {},
   "source": [
    "### Step 3. Assign it to a variable called chipo."
   ]
  },
  {
   "cell_type": "code",
   "execution_count": 43,
   "metadata": {
    "collapsed": false
   },
   "outputs": [
    {
     "output_type": "execute_result",
     "data": {
      "text/plain": "      order_id  quantity                              item_name  \\\n0            1         1           Chips and Fresh Tomato Salsa   \n1            1         1                                   Izze   \n2            1         1                       Nantucket Nectar   \n3            1         1  Chips and Tomatillo-Green Chili Salsa   \n4            2         2                           Chicken Bowl   \n...        ...       ...                                    ...   \n4617      1833         1                          Steak Burrito   \n4618      1833         1                          Steak Burrito   \n4619      1834         1                     Chicken Salad Bowl   \n4620      1834         1                     Chicken Salad Bowl   \n4621      1834         1                     Chicken Salad Bowl   \n\n                                     choice_description item_price  \n0                                                   NaN     $2.39   \n1                                          [Clementine]     $3.39   \n2                                               [Apple]     $3.39   \n3                                                   NaN     $2.39   \n4     [Tomatillo-Red Chili Salsa (Hot), [Black Beans...    $16.98   \n...                                                 ...        ...  \n4617  [Fresh Tomato Salsa, [Rice, Black Beans, Sour ...    $11.75   \n4618  [Fresh Tomato Salsa, [Rice, Sour Cream, Cheese...    $11.75   \n4619  [Fresh Tomato Salsa, [Fajita Vegetables, Pinto...    $11.25   \n4620  [Fresh Tomato Salsa, [Fajita Vegetables, Lettu...     $8.75   \n4621  [Fresh Tomato Salsa, [Fajita Vegetables, Pinto...     $8.75   \n\n[4622 rows x 5 columns]",
      "text/html": "<div>\n<style scoped>\n    .dataframe tbody tr th:only-of-type {\n        vertical-align: middle;\n    }\n\n    .dataframe tbody tr th {\n        vertical-align: top;\n    }\n\n    .dataframe thead th {\n        text-align: right;\n    }\n</style>\n<table border=\"1\" class=\"dataframe\">\n  <thead>\n    <tr style=\"text-align: right;\">\n      <th></th>\n      <th>order_id</th>\n      <th>quantity</th>\n      <th>item_name</th>\n      <th>choice_description</th>\n      <th>item_price</th>\n    </tr>\n  </thead>\n  <tbody>\n    <tr>\n      <th>0</th>\n      <td>1</td>\n      <td>1</td>\n      <td>Chips and Fresh Tomato Salsa</td>\n      <td>NaN</td>\n      <td>$2.39</td>\n    </tr>\n    <tr>\n      <th>1</th>\n      <td>1</td>\n      <td>1</td>\n      <td>Izze</td>\n      <td>[Clementine]</td>\n      <td>$3.39</td>\n    </tr>\n    <tr>\n      <th>2</th>\n      <td>1</td>\n      <td>1</td>\n      <td>Nantucket Nectar</td>\n      <td>[Apple]</td>\n      <td>$3.39</td>\n    </tr>\n    <tr>\n      <th>3</th>\n      <td>1</td>\n      <td>1</td>\n      <td>Chips and Tomatillo-Green Chili Salsa</td>\n      <td>NaN</td>\n      <td>$2.39</td>\n    </tr>\n    <tr>\n      <th>4</th>\n      <td>2</td>\n      <td>2</td>\n      <td>Chicken Bowl</td>\n      <td>[Tomatillo-Red Chili Salsa (Hot), [Black Beans...</td>\n      <td>$16.98</td>\n    </tr>\n    <tr>\n      <th>...</th>\n      <td>...</td>\n      <td>...</td>\n      <td>...</td>\n      <td>...</td>\n      <td>...</td>\n    </tr>\n    <tr>\n      <th>4617</th>\n      <td>1833</td>\n      <td>1</td>\n      <td>Steak Burrito</td>\n      <td>[Fresh Tomato Salsa, [Rice, Black Beans, Sour ...</td>\n      <td>$11.75</td>\n    </tr>\n    <tr>\n      <th>4618</th>\n      <td>1833</td>\n      <td>1</td>\n      <td>Steak Burrito</td>\n      <td>[Fresh Tomato Salsa, [Rice, Sour Cream, Cheese...</td>\n      <td>$11.75</td>\n    </tr>\n    <tr>\n      <th>4619</th>\n      <td>1834</td>\n      <td>1</td>\n      <td>Chicken Salad Bowl</td>\n      <td>[Fresh Tomato Salsa, [Fajita Vegetables, Pinto...</td>\n      <td>$11.25</td>\n    </tr>\n    <tr>\n      <th>4620</th>\n      <td>1834</td>\n      <td>1</td>\n      <td>Chicken Salad Bowl</td>\n      <td>[Fresh Tomato Salsa, [Fajita Vegetables, Lettu...</td>\n      <td>$8.75</td>\n    </tr>\n    <tr>\n      <th>4621</th>\n      <td>1834</td>\n      <td>1</td>\n      <td>Chicken Salad Bowl</td>\n      <td>[Fresh Tomato Salsa, [Fajita Vegetables, Pinto...</td>\n      <td>$8.75</td>\n    </tr>\n  </tbody>\n</table>\n<p>4622 rows × 5 columns</p>\n</div>"
     },
     "metadata": {},
     "execution_count": 43
    }
   ],
   "source": [
    "url= address\n",
    "chipo = pd.read_csv(url,sep=\"\\t\")  #tranforma en formato dataframe y el argumento sep= es para que sepa\n",
    "chipo                               #diferenciar unas columnas de otras. "
   ]
  },
  {
   "cell_type": "markdown",
   "metadata": {},
   "source": [
    "### Step 4. See the first 10 entries"
   ]
  },
  {
   "cell_type": "code",
   "execution_count": 44,
   "metadata": {},
   "outputs": [
    {
     "output_type": "execute_result",
     "data": {
      "text/plain": "   order_id  quantity                              item_name  \\\n0         1         1           Chips and Fresh Tomato Salsa   \n1         1         1                                   Izze   \n2         1         1                       Nantucket Nectar   \n3         1         1  Chips and Tomatillo-Green Chili Salsa   \n4         2         2                           Chicken Bowl   \n5         3         1                           Chicken Bowl   \n6         3         1                          Side of Chips   \n7         4         1                          Steak Burrito   \n8         4         1                       Steak Soft Tacos   \n9         5         1                          Steak Burrito   \n\n                                  choice_description item_price  \n0                                                NaN     $2.39   \n1                                       [Clementine]     $3.39   \n2                                            [Apple]     $3.39   \n3                                                NaN     $2.39   \n4  [Tomatillo-Red Chili Salsa (Hot), [Black Beans...    $16.98   \n5  [Fresh Tomato Salsa (Mild), [Rice, Cheese, Sou...    $10.98   \n6                                                NaN     $1.69   \n7  [Tomatillo Red Chili Salsa, [Fajita Vegetables...    $11.75   \n8  [Tomatillo Green Chili Salsa, [Pinto Beans, Ch...     $9.25   \n9  [Fresh Tomato Salsa, [Rice, Black Beans, Pinto...     $9.25   ",
      "text/html": "<div>\n<style scoped>\n    .dataframe tbody tr th:only-of-type {\n        vertical-align: middle;\n    }\n\n    .dataframe tbody tr th {\n        vertical-align: top;\n    }\n\n    .dataframe thead th {\n        text-align: right;\n    }\n</style>\n<table border=\"1\" class=\"dataframe\">\n  <thead>\n    <tr style=\"text-align: right;\">\n      <th></th>\n      <th>order_id</th>\n      <th>quantity</th>\n      <th>item_name</th>\n      <th>choice_description</th>\n      <th>item_price</th>\n    </tr>\n  </thead>\n  <tbody>\n    <tr>\n      <th>0</th>\n      <td>1</td>\n      <td>1</td>\n      <td>Chips and Fresh Tomato Salsa</td>\n      <td>NaN</td>\n      <td>$2.39</td>\n    </tr>\n    <tr>\n      <th>1</th>\n      <td>1</td>\n      <td>1</td>\n      <td>Izze</td>\n      <td>[Clementine]</td>\n      <td>$3.39</td>\n    </tr>\n    <tr>\n      <th>2</th>\n      <td>1</td>\n      <td>1</td>\n      <td>Nantucket Nectar</td>\n      <td>[Apple]</td>\n      <td>$3.39</td>\n    </tr>\n    <tr>\n      <th>3</th>\n      <td>1</td>\n      <td>1</td>\n      <td>Chips and Tomatillo-Green Chili Salsa</td>\n      <td>NaN</td>\n      <td>$2.39</td>\n    </tr>\n    <tr>\n      <th>4</th>\n      <td>2</td>\n      <td>2</td>\n      <td>Chicken Bowl</td>\n      <td>[Tomatillo-Red Chili Salsa (Hot), [Black Beans...</td>\n      <td>$16.98</td>\n    </tr>\n    <tr>\n      <th>5</th>\n      <td>3</td>\n      <td>1</td>\n      <td>Chicken Bowl</td>\n      <td>[Fresh Tomato Salsa (Mild), [Rice, Cheese, Sou...</td>\n      <td>$10.98</td>\n    </tr>\n    <tr>\n      <th>6</th>\n      <td>3</td>\n      <td>1</td>\n      <td>Side of Chips</td>\n      <td>NaN</td>\n      <td>$1.69</td>\n    </tr>\n    <tr>\n      <th>7</th>\n      <td>4</td>\n      <td>1</td>\n      <td>Steak Burrito</td>\n      <td>[Tomatillo Red Chili Salsa, [Fajita Vegetables...</td>\n      <td>$11.75</td>\n    </tr>\n    <tr>\n      <th>8</th>\n      <td>4</td>\n      <td>1</td>\n      <td>Steak Soft Tacos</td>\n      <td>[Tomatillo Green Chili Salsa, [Pinto Beans, Ch...</td>\n      <td>$9.25</td>\n    </tr>\n    <tr>\n      <th>9</th>\n      <td>5</td>\n      <td>1</td>\n      <td>Steak Burrito</td>\n      <td>[Fresh Tomato Salsa, [Rice, Black Beans, Pinto...</td>\n      <td>$9.25</td>\n    </tr>\n  </tbody>\n</table>\n</div>"
     },
     "metadata": {},
     "execution_count": 44
    }
   ],
   "source": [
    "chipo.loc[0:9]  #loc toma el valor explicito del indice, me saca las 10 primeras lineas"
   ]
  },
  {
   "cell_type": "code",
   "execution_count": null,
   "metadata": {},
   "outputs": [],
   "source": []
  },
  {
   "cell_type": "markdown",
   "metadata": {},
   "source": [
    "### Step 5. What is the number of observations in the dataset?"
   ]
  },
  {
   "cell_type": "code",
   "execution_count": 45,
   "metadata": {},
   "outputs": [
    {
     "output_type": "execute_result",
     "data": {
      "text/plain": "4622"
     },
     "metadata": {},
     "execution_count": 45
    }
   ],
   "source": [
    "len(chipo.index) #Me da las posiciones totales del índice"
   ]
  },
  {
   "cell_type": "code",
   "execution_count": 46,
   "metadata": {
    "tags": []
   },
   "outputs": [
    {
     "output_type": "stream",
     "name": "stdout",
     "text": "<class 'pandas.core.frame.DataFrame'>\nRangeIndex: 4622 entries, 0 to 4621\nData columns (total 5 columns):\n #   Column              Non-Null Count  Dtype \n---  ------              --------------  ----- \n 0   order_id            4622 non-null   int64 \n 1   quantity            4622 non-null   int64 \n 2   item_name           4622 non-null   object\n 3   choice_description  3376 non-null   object\n 4   item_price          4622 non-null   object\ndtypes: int64(2), object(3)\nmemory usage: 126.4+ KB\n"
    }
   ],
   "source": [
    "chipo.info() #Me da información general de la tabla"
   ]
  },
  {
   "cell_type": "code",
   "execution_count": 47,
   "metadata": {},
   "outputs": [
    {
     "output_type": "execute_result",
     "data": {
      "text/plain": "(4622, 5)"
     },
     "metadata": {},
     "execution_count": 47
    }
   ],
   "source": [
    "chipo.shape  #Me da las filas y columnas"
   ]
  },
  {
   "cell_type": "markdown",
   "metadata": {},
   "source": [
    "### Step 6. What is the number of columns in the dataset?"
   ]
  },
  {
   "cell_type": "code",
   "execution_count": 48,
   "metadata": {
    "collapsed": false
   },
   "outputs": [
    {
     "output_type": "execute_result",
     "data": {
      "text/plain": "5"
     },
     "metadata": {},
     "execution_count": 48
    }
   ],
   "source": [
    "\n",
    "chipo.columns\n",
    "len(chipo.columns) #Me da las columnas pero al poner Len me da el número total"
   ]
  },
  {
   "cell_type": "code",
   "execution_count": 49,
   "metadata": {},
   "outputs": [
    {
     "output_type": "execute_result",
     "data": {
      "text/plain": "5"
     },
     "metadata": {},
     "execution_count": 49
    }
   ],
   "source": [
    "chipo.shape[1] #Me da el númerode  las colum.accedo a su pos 1"
   ]
  },
  {
   "cell_type": "markdown",
   "metadata": {},
   "source": [
    "### Step 7. Print the name of all the columns."
   ]
  },
  {
   "cell_type": "code",
   "execution_count": 50,
   "metadata": {
    "collapsed": false
   },
   "outputs": [
    {
     "output_type": "execute_result",
     "data": {
      "text/plain": "Index(['order_id', 'quantity', 'item_name', 'choice_description',\n       'item_price'],\n      dtype='object')"
     },
     "metadata": {},
     "execution_count": 50
    }
   ],
   "source": [
    "chipo.columns  #Me imprime el nombre de todas las columnas."
   ]
  },
  {
   "cell_type": "code",
   "execution_count": 51,
   "metadata": {},
   "outputs": [
    {
     "output_type": "execute_result",
     "data": {
      "text/plain": "Index(['order_id', 'quantity', 'item_name', 'choice_description',\n       'item_price'],\n      dtype='object')"
     },
     "metadata": {},
     "execution_count": 51
    }
   ],
   "source": [
    "chipo.columns"
   ]
  },
  {
   "cell_type": "markdown",
   "metadata": {},
   "source": [
    "### Step 8. How is the dataset indexed?"
   ]
  },
  {
   "cell_type": "code",
   "execution_count": 52,
   "metadata": {
    "tags": []
   },
   "outputs": [
    {
     "output_type": "stream",
     "name": "stdout",
     "text": "RangeIndex(start=0, stop=4622, step=1)\n"
    }
   ],
   "source": [
    "print(chipo.index)  #Me da como está indexado el dataser  Comienza 0, Ultimo 4622, Con paso 1"
   ]
  },
  {
   "cell_type": "markdown",
   "metadata": {},
   "source": [
    "### Step 9. Which was the most-ordered item? "
   ]
  },
  {
   "cell_type": "code",
   "execution_count": 54,
   "metadata": {},
   "outputs": [
    {
     "output_type": "execute_result",
     "data": {
      "text/plain": "   order_id  quantity     item_name choice_description item_price\n0       926         1  Chicken Bowl        [Diet Coke]     $8.75 ",
      "text/html": "<div>\n<style scoped>\n    .dataframe tbody tr th:only-of-type {\n        vertical-align: middle;\n    }\n\n    .dataframe tbody tr th {\n        vertical-align: top;\n    }\n\n    .dataframe thead th {\n        text-align: right;\n    }\n</style>\n<table border=\"1\" class=\"dataframe\">\n  <thead>\n    <tr style=\"text-align: right;\">\n      <th></th>\n      <th>order_id</th>\n      <th>quantity</th>\n      <th>item_name</th>\n      <th>choice_description</th>\n      <th>item_price</th>\n    </tr>\n  </thead>\n  <tbody>\n    <tr>\n      <th>0</th>\n      <td>926</td>\n      <td>1</td>\n      <td>Chicken Bowl</td>\n      <td>[Diet Coke]</td>\n      <td>$8.75</td>\n    </tr>\n  </tbody>\n</table>\n</div>"
     },
     "metadata": {},
     "execution_count": 54
    }
   ],
   "source": [
    "chipo.mode() #Me da el mas repetido de dataframe"
   ]
  },
  {
   "cell_type": "code",
   "execution_count": 55,
   "metadata": {},
   "outputs": [
    {
     "output_type": "execute_result",
     "data": {
      "text/plain": "order_id    713926\nquantity       761\ndtype: int64"
     },
     "metadata": {},
     "execution_count": 55
    }
   ],
   "source": [
    "chipo.groupby([\"item_name\"]).sum().max() \n",
    "#selecciono por colum iter_name con groupby funciona agrupando sin repetir los elementos. Luego le pido que me de la suma de los valores de toda la tabla de cada item (puesto que tienen varios cada uno) y luego le digo que me busque el valor máximo de todos.\n"
   ]
  },
  {
   "cell_type": "code",
   "execution_count": 56,
   "metadata": {
    "tags": []
   },
   "outputs": [
    {
     "output_type": "stream",
     "name": "stdout",
     "text": "item_name\n6 Pack Soft Drink                         55\nBarbacoa Bowl                             66\nBarbacoa Burrito                          91\nBarbacoa Crispy Tacos                     12\nBarbacoa Salad Bowl                       10\nBarbacoa Soft Tacos                       25\nBottled Water                            211\nBowl                                       4\nBurrito                                    6\nCanned Soda                              126\nCanned Soft Drink                        351\nCarnitas Bowl                             71\nCarnitas Burrito                          60\nCarnitas Crispy Tacos                      8\nCarnitas Salad                             1\nCarnitas Salad Bowl                        6\nCarnitas Soft Tacos                       40\nChicken Bowl                             761\nChicken Burrito                          591\nChicken Crispy Tacos                      50\nChicken Salad                              9\nChicken Salad Bowl                       123\nChicken Soft Tacos                       120\nChips                                    230\nChips and Fresh Tomato Salsa             130\nChips and Guacamole                      506\nChips and Mild Fresh Tomato Salsa          1\nChips and Roasted Chili Corn Salsa        23\nChips and Roasted Chili-Corn Salsa        18\nChips and Tomatillo Green Chili Salsa     45\nChips and Tomatillo Red Chili Salsa       50\nChips and Tomatillo-Green Chili Salsa     33\nChips and Tomatillo-Red Chili Salsa       25\nCrispy Tacos                               2\nIzze                                      20\nNantucket Nectar                          29\nSalad                                      2\nSide of Chips                            110\nSteak Bowl                               221\nSteak Burrito                            386\nSteak Crispy Tacos                        36\nSteak Salad                                4\nSteak Salad Bowl                          31\nSteak Soft Tacos                          56\nVeggie Bowl                               87\nVeggie Burrito                            97\nVeggie Crispy Tacos                        1\nVeggie Salad                               6\nVeggie Salad Bowl                         18\nVeggie Soft Tacos                          8\nName: quantity, dtype: int64\n"
    }
   ],
   "source": [
    "c=chipo.groupby([\"item_name\"]).sum()\n",
    "print(c[\"quantity\"])\n",
    "\n",
    "#otra manera de hacer el ejercio es agrupar por columna item_name y que sume valores de quantity"
   ]
  },
  {
   "cell_type": "code",
   "execution_count": 57,
   "metadata": {},
   "outputs": [
    {
     "output_type": "execute_result",
     "data": {
      "text/plain": "                                       order_id  quantity\nitem_name                                                \nChicken Bowl                             713926       761\nChicken Burrito                          497303       591\nChips and Guacamole                      449959       506\nSteak Burrito                            328437       386\nCanned Soft Drink                        304753       351\nChips                                    208004       230\nSteak Bowl                               193752       221\nBottled Water                            175944       211\nChips and Fresh Tomato Salsa             100419       130\nCanned Soda                               76396       126\nChicken Salad Bowl                       117104       123\nChicken Soft Tacos                        98395       120\nSide of Chips                             84769       110\nVeggie Burrito                            80962        97\nBarbacoa Burrito                          74718        91\nVeggie Bowl                               72270        87\nCarnitas Bowl                             62742        71\nBarbacoa Bowl                             53972        66\nCarnitas Burrito                          51652        60\nSteak Soft Tacos                          50177        56\n6 Pack Soft Drink                         52322        55\nChips and Tomatillo Red Chili Salsa       45556        50\nChicken Crispy Tacos                      47382        50\nChips and Tomatillo Green Chili Salsa     41170        45\nCarnitas Soft Tacos                       37673        40\nSteak Crispy Tacos                        35818        36\nChips and Tomatillo-Green Chili Salsa     21826        33\nSteak Salad Bowl                          29590        31\nNantucket Nectar                          21814        29\nChips and Tomatillo-Red Chili Salsa       18344        25\nBarbacoa Soft Tacos                       18725        25\nChips and Roasted Chili Corn Salsa        14999        23\nIzze                                      10587        20\nVeggie Salad Bowl                         17303        18\nChips and Roasted Chili-Corn Salsa        17462        18\nBarbacoa Crispy Tacos                      5613        12\nBarbacoa Salad Bowl                        9708        10\nChicken Salad                             10465         9\nCarnitas Crispy Tacos                      5868         8\nVeggie Soft Tacos                          5520         8\nBurrito                                    1550         6\nVeggie Salad                               7265         6\nCarnitas Salad Bowl                        6693         6\nBowl                                        472         4\nSteak Salad                                2362         4\nSalad                                      1150         2\nCrispy Tacos                                434         2\nChips and Mild Fresh Tomato Salsa           279         1\nCarnitas Salad                             1500         1\nVeggie Crispy Tacos                         668         1",
      "text/html": "<div>\n<style scoped>\n    .dataframe tbody tr th:only-of-type {\n        vertical-align: middle;\n    }\n\n    .dataframe tbody tr th {\n        vertical-align: top;\n    }\n\n    .dataframe thead th {\n        text-align: right;\n    }\n</style>\n<table border=\"1\" class=\"dataframe\">\n  <thead>\n    <tr style=\"text-align: right;\">\n      <th></th>\n      <th>order_id</th>\n      <th>quantity</th>\n    </tr>\n    <tr>\n      <th>item_name</th>\n      <th></th>\n      <th></th>\n    </tr>\n  </thead>\n  <tbody>\n    <tr>\n      <th>Chicken Bowl</th>\n      <td>713926</td>\n      <td>761</td>\n    </tr>\n    <tr>\n      <th>Chicken Burrito</th>\n      <td>497303</td>\n      <td>591</td>\n    </tr>\n    <tr>\n      <th>Chips and Guacamole</th>\n      <td>449959</td>\n      <td>506</td>\n    </tr>\n    <tr>\n      <th>Steak Burrito</th>\n      <td>328437</td>\n      <td>386</td>\n    </tr>\n    <tr>\n      <th>Canned Soft Drink</th>\n      <td>304753</td>\n      <td>351</td>\n    </tr>\n    <tr>\n      <th>Chips</th>\n      <td>208004</td>\n      <td>230</td>\n    </tr>\n    <tr>\n      <th>Steak Bowl</th>\n      <td>193752</td>\n      <td>221</td>\n    </tr>\n    <tr>\n      <th>Bottled Water</th>\n      <td>175944</td>\n      <td>211</td>\n    </tr>\n    <tr>\n      <th>Chips and Fresh Tomato Salsa</th>\n      <td>100419</td>\n      <td>130</td>\n    </tr>\n    <tr>\n      <th>Canned Soda</th>\n      <td>76396</td>\n      <td>126</td>\n    </tr>\n    <tr>\n      <th>Chicken Salad Bowl</th>\n      <td>117104</td>\n      <td>123</td>\n    </tr>\n    <tr>\n      <th>Chicken Soft Tacos</th>\n      <td>98395</td>\n      <td>120</td>\n    </tr>\n    <tr>\n      <th>Side of Chips</th>\n      <td>84769</td>\n      <td>110</td>\n    </tr>\n    <tr>\n      <th>Veggie Burrito</th>\n      <td>80962</td>\n      <td>97</td>\n    </tr>\n    <tr>\n      <th>Barbacoa Burrito</th>\n      <td>74718</td>\n      <td>91</td>\n    </tr>\n    <tr>\n      <th>Veggie Bowl</th>\n      <td>72270</td>\n      <td>87</td>\n    </tr>\n    <tr>\n      <th>Carnitas Bowl</th>\n      <td>62742</td>\n      <td>71</td>\n    </tr>\n    <tr>\n      <th>Barbacoa Bowl</th>\n      <td>53972</td>\n      <td>66</td>\n    </tr>\n    <tr>\n      <th>Carnitas Burrito</th>\n      <td>51652</td>\n      <td>60</td>\n    </tr>\n    <tr>\n      <th>Steak Soft Tacos</th>\n      <td>50177</td>\n      <td>56</td>\n    </tr>\n    <tr>\n      <th>6 Pack Soft Drink</th>\n      <td>52322</td>\n      <td>55</td>\n    </tr>\n    <tr>\n      <th>Chips and Tomatillo Red Chili Salsa</th>\n      <td>45556</td>\n      <td>50</td>\n    </tr>\n    <tr>\n      <th>Chicken Crispy Tacos</th>\n      <td>47382</td>\n      <td>50</td>\n    </tr>\n    <tr>\n      <th>Chips and Tomatillo Green Chili Salsa</th>\n      <td>41170</td>\n      <td>45</td>\n    </tr>\n    <tr>\n      <th>Carnitas Soft Tacos</th>\n      <td>37673</td>\n      <td>40</td>\n    </tr>\n    <tr>\n      <th>Steak Crispy Tacos</th>\n      <td>35818</td>\n      <td>36</td>\n    </tr>\n    <tr>\n      <th>Chips and Tomatillo-Green Chili Salsa</th>\n      <td>21826</td>\n      <td>33</td>\n    </tr>\n    <tr>\n      <th>Steak Salad Bowl</th>\n      <td>29590</td>\n      <td>31</td>\n    </tr>\n    <tr>\n      <th>Nantucket Nectar</th>\n      <td>21814</td>\n      <td>29</td>\n    </tr>\n    <tr>\n      <th>Chips and Tomatillo-Red Chili Salsa</th>\n      <td>18344</td>\n      <td>25</td>\n    </tr>\n    <tr>\n      <th>Barbacoa Soft Tacos</th>\n      <td>18725</td>\n      <td>25</td>\n    </tr>\n    <tr>\n      <th>Chips and Roasted Chili Corn Salsa</th>\n      <td>14999</td>\n      <td>23</td>\n    </tr>\n    <tr>\n      <th>Izze</th>\n      <td>10587</td>\n      <td>20</td>\n    </tr>\n    <tr>\n      <th>Veggie Salad Bowl</th>\n      <td>17303</td>\n      <td>18</td>\n    </tr>\n    <tr>\n      <th>Chips and Roasted Chili-Corn Salsa</th>\n      <td>17462</td>\n      <td>18</td>\n    </tr>\n    <tr>\n      <th>Barbacoa Crispy Tacos</th>\n      <td>5613</td>\n      <td>12</td>\n    </tr>\n    <tr>\n      <th>Barbacoa Salad Bowl</th>\n      <td>9708</td>\n      <td>10</td>\n    </tr>\n    <tr>\n      <th>Chicken Salad</th>\n      <td>10465</td>\n      <td>9</td>\n    </tr>\n    <tr>\n      <th>Carnitas Crispy Tacos</th>\n      <td>5868</td>\n      <td>8</td>\n    </tr>\n    <tr>\n      <th>Veggie Soft Tacos</th>\n      <td>5520</td>\n      <td>8</td>\n    </tr>\n    <tr>\n      <th>Burrito</th>\n      <td>1550</td>\n      <td>6</td>\n    </tr>\n    <tr>\n      <th>Veggie Salad</th>\n      <td>7265</td>\n      <td>6</td>\n    </tr>\n    <tr>\n      <th>Carnitas Salad Bowl</th>\n      <td>6693</td>\n      <td>6</td>\n    </tr>\n    <tr>\n      <th>Bowl</th>\n      <td>472</td>\n      <td>4</td>\n    </tr>\n    <tr>\n      <th>Steak Salad</th>\n      <td>2362</td>\n      <td>4</td>\n    </tr>\n    <tr>\n      <th>Salad</th>\n      <td>1150</td>\n      <td>2</td>\n    </tr>\n    <tr>\n      <th>Crispy Tacos</th>\n      <td>434</td>\n      <td>2</td>\n    </tr>\n    <tr>\n      <th>Chips and Mild Fresh Tomato Salsa</th>\n      <td>279</td>\n      <td>1</td>\n    </tr>\n    <tr>\n      <th>Carnitas Salad</th>\n      <td>1500</td>\n      <td>1</td>\n    </tr>\n    <tr>\n      <th>Veggie Crispy Tacos</th>\n      <td>668</td>\n      <td>1</td>\n    </tr>\n  </tbody>\n</table>\n</div>"
     },
     "metadata": {},
     "execution_count": 57
    }
   ],
   "source": [
    "c=c.sort_values([\"quantity\"], ascending=False)\n",
    "c  \n",
    "# Le pido que lo ordene con sort, por defecto me lo da ascendente=true"
   ]
  },
  {
   "cell_type": "markdown",
   "metadata": {},
   "source": [
    "### Step 10. For the most-ordered item, how many items were ordered?"
   ]
  },
  {
   "cell_type": "code",
   "execution_count": 58,
   "metadata": {
    "collapsed": false
   },
   "outputs": [
    {
     "output_type": "execute_result",
     "data": {
      "text/plain": "order_id    713926\nquantity       761\ndtype: int64"
     },
     "metadata": {},
     "execution_count": 58
    }
   ],
   "source": [
    "chipo.groupby([\"item_name\"]).sum().max() #para el más pedido cuantos se pidieron en total"
   ]
  },
  {
   "cell_type": "code",
   "execution_count": 59,
   "metadata": {},
   "outputs": [
    {
     "output_type": "execute_result",
     "data": {
      "text/plain": "order_id    713926\nquantity       761\ndtype: int64"
     },
     "metadata": {},
     "execution_count": 59
    }
   ],
   "source": [
    "chipo.groupby([\"item_name\"]).sum().max()"
   ]
  },
  {
   "cell_type": "code",
   "execution_count": 60,
   "metadata": {},
   "outputs": [
    {
     "output_type": "execute_result",
     "data": {
      "text/plain": "<bound method DataFrame.groupby of       order_id  quantity                              item_name  \\\n0            1         1           Chips and Fresh Tomato Salsa   \n1            1         1                                   Izze   \n2            1         1                       Nantucket Nectar   \n3            1         1  Chips and Tomatillo-Green Chili Salsa   \n4            2         2                           Chicken Bowl   \n...        ...       ...                                    ...   \n4617      1833         1                          Steak Burrito   \n4618      1833         1                          Steak Burrito   \n4619      1834         1                     Chicken Salad Bowl   \n4620      1834         1                     Chicken Salad Bowl   \n4621      1834         1                     Chicken Salad Bowl   \n\n                                     choice_description item_price  \n0                                                   NaN     $2.39   \n1                                          [Clementine]     $3.39   \n2                                               [Apple]     $3.39   \n3                                                   NaN     $2.39   \n4     [Tomatillo-Red Chili Salsa (Hot), [Black Beans...    $16.98   \n...                                                 ...        ...  \n4617  [Fresh Tomato Salsa, [Rice, Black Beans, Sour ...    $11.75   \n4618  [Fresh Tomato Salsa, [Rice, Sour Cream, Cheese...    $11.75   \n4619  [Fresh Tomato Salsa, [Fajita Vegetables, Pinto...    $11.25   \n4620  [Fresh Tomato Salsa, [Fajita Vegetables, Lettu...     $8.75   \n4621  [Fresh Tomato Salsa, [Fajita Vegetables, Pinto...     $8.75   \n\n[4622 rows x 5 columns]>"
     },
     "metadata": {},
     "execution_count": 60
    }
   ],
   "source": [
    "chipo.groupby"
   ]
  },
  {
   "cell_type": "markdown",
   "metadata": {},
   "source": [
    "### Step 11. What was the most ordered item in the choice_description column?"
   ]
  },
  {
   "cell_type": "code",
   "execution_count": 11,
   "metadata": {
    "collapsed": false
   },
   "outputs": [
    {
     "data": {
      "text/html": [
       "<div>\n",
       "<table border=\"1\" class=\"dataframe\">\n",
       "  <thead>\n",
       "    <tr style=\"text-align: right;\">\n",
       "      <th></th>\n",
       "      <th>order_id</th>\n",
       "      <th>quantity</th>\n",
       "    </tr>\n",
       "    <tr>\n",
       "      <th>choice_description</th>\n",
       "      <th></th>\n",
       "      <th></th>\n",
       "    </tr>\n",
       "  </thead>\n",
       "  <tbody>\n",
       "    <tr>\n",
       "      <th>[Diet Coke]</th>\n",
       "      <td>123455</td>\n",
       "      <td>159</td>\n",
       "    </tr>\n",
       "  </tbody>\n",
       "</table>\n",
       "</div>"
      ],
      "text/plain": [
       "                    order_id  quantity\n",
       "choice_description                    \n",
       "[Diet Coke]           123455       159"
      ]
     },
     "execution_count": 11,
     "metadata": {},
     "output_type": "execute_result"
    }
   ],
   "source": []
  },
  {
   "cell_type": "code",
   "execution_count": 61,
   "metadata": {},
   "outputs": [
    {
     "output_type": "execute_result",
     "data": {
      "text/plain": "order_id    123455\nquantity       159\ndtype: int64"
     },
     "metadata": {},
     "execution_count": 61
    }
   ],
   "source": [
    "chipo.groupby([\"choice_description\"]).sum().max() #artícilo mas pedido en columna choice_description"
   ]
  },
  {
   "cell_type": "code",
   "execution_count": 62,
   "metadata": {},
   "outputs": [],
   "source": [
    "c=chipo.groupby([\"choice_description\"]).sum()\n",
    "c=c.sort_values([\"quantity\"], ascending=False)  #Enmascaramiento"
   ]
  },
  {
   "cell_type": "markdown",
   "metadata": {},
   "source": [
    "### Step 12. How many items were orderd in total?"
   ]
  },
  {
   "cell_type": "code",
   "execution_count": 12,
   "metadata": {
    "collapsed": false
   },
   "outputs": [
    {
     "data": {
      "text/plain": [
       "4972"
      ]
     },
     "execution_count": 12,
     "metadata": {},
     "output_type": "execute_result"
    }
   ],
   "source": []
  },
  {
   "cell_type": "code",
   "execution_count": 63,
   "metadata": {
    "tags": []
   },
   "outputs": [
    {
     "output_type": "execute_result",
     "data": {
      "text/plain": "4972"
     },
     "metadata": {},
     "execution_count": 63
    }
   ],
   "source": [
    "chipo.quantity.sum()  #cuantos items se pidieron en total"
   ]
  },
  {
   "cell_type": "markdown",
   "metadata": {},
   "source": [
    "### Step 13. Turn the item price into a float"
   ]
  },
  {
   "cell_type": "markdown",
   "metadata": {},
   "source": [
    "#### Step 13.a. Check the item price type"
   ]
  },
  {
   "cell_type": "code",
   "execution_count": 68,
   "metadata": {
    "collapsed": false
   },
   "outputs": [
    {
     "output_type": "execute_result",
     "data": {
      "text/plain": "dtype('O')"
     },
     "metadata": {},
     "execution_count": 68
    }
   ],
   "source": []
  },
  {
   "cell_type": "code",
   "execution_count": 64,
   "metadata": {},
   "outputs": [
    {
     "output_type": "execute_result",
     "data": {
      "text/plain": "dtype('O')"
     },
     "metadata": {},
     "execution_count": 64
    }
   ],
   "source": [
    "chipo[\"item_price\"].dtype #Me dice que el dato es tipo objeto"
   ]
  },
  {
   "cell_type": "markdown",
   "metadata": {},
   "source": [
    "#### Step 13.b. Create a lambda function and change the type of item price"
   ]
  },
  {
   "cell_type": "code",
   "execution_count": 65,
   "metadata": {
    "collapsed": true
   },
   "outputs": [
    {
     "output_type": "execute_result",
     "data": {
      "text/plain": "0        $2.39 \n1        $3.39 \n2        $3.39 \n3        $2.39 \n4       $16.98 \n         ...   \n4617    $11.75 \n4618    $11.75 \n4619    $11.25 \n4620     $8.75 \n4621     $8.75 \nName: item_price, Length: 4622, dtype: object"
     },
     "metadata": {},
     "execution_count": 65
    }
   ],
   "source": [
    "chipo[\"item_price\"]"
   ]
  },
  {
   "cell_type": "code",
   "execution_count": 66,
   "metadata": {},
   "outputs": [],
   "source": [
    "#def quitar(palabra):\n",
    "#   return palabra[1:]\n",
    "#chipo aplica una funcion lambda que le dice que palabra tome el valor [1:] y le aplique float. en un elemento solo\n",
    "#apply es funcion de pandas que hace que lo que la funcion hace para un elem, el lo hace en todos los elementos.\n",
    "\n",
    "chipo[\"item_price\"]=chipo[\"item_price\"].apply(lambda palabra:float(palabra[1:]))\n",
    "\n",
    "   "
   ]
  },
  {
   "cell_type": "markdown",
   "metadata": {},
   "source": [
    "#### Step 13.c. Check the item price type"
   ]
  },
  {
   "cell_type": "code",
   "execution_count": 67,
   "metadata": {},
   "outputs": [
    {
     "output_type": "execute_result",
     "data": {
      "text/plain": "0        2.39\n1        3.39\n2        3.39\n3        2.39\n4       16.98\n        ...  \n4617    11.75\n4618    11.75\n4619    11.25\n4620     8.75\n4621     8.75\nName: item_price, Length: 4622, dtype: float64"
     },
     "metadata": {},
     "execution_count": 67
    }
   ],
   "source": [
    "chipo[\"item_price\"]"
   ]
  },
  {
   "cell_type": "code",
   "execution_count": 15,
   "metadata": {
    "collapsed": false
   },
   "outputs": [
    {
     "data": {
      "text/plain": [
       "dtype('float64')"
      ]
     },
     "execution_count": 15,
     "metadata": {},
     "output_type": "execute_result"
    }
   ],
   "source": []
  },
  {
   "cell_type": "markdown",
   "metadata": {},
   "source": [
    "### Step 14. How much was the revenue for the period in the dataset?"
   ]
  },
  {
   "cell_type": "code",
   "execution_count": 22,
   "metadata": {
    "collapsed": false
   },
   "outputs": [
    {
     "name": "stdout",
     "output_type": "stream",
     "text": [
      "Revenue was: $39237.02\n"
     ]
    }
   ],
   "source": []
  },
  {
   "cell_type": "code",
   "execution_count": 68,
   "metadata": {
    "tags": []
   },
   "outputs": [
    {
     "output_type": "stream",
     "name": "stdout",
     "text": "0       11883.08\n1       16855.08\n2       16855.08\n3       11883.08\n4       84424.56\n          ...   \n4617    58421.00\n4618    58421.00\n4619    55935.00\n4620    43505.00\n4621    43505.00\nName: item_price, Length: 4622, dtype: float64\n"
    }
   ],
   "source": [
    "facturacion_platos = chipo[\"item_price\"] * chipo[\"quantity\"].sum()\n",
    "print(facturacion_platos) #Multiplico cada plato por el numero de veces que se ha pedido"
   ]
  },
  {
   "cell_type": "code",
   "execution_count": 69,
   "metadata": {},
   "outputs": [
    {
     "output_type": "execute_result",
     "data": {
      "text/plain": "39237.02"
     },
     "metadata": {},
     "execution_count": 69
    }
   ],
   "source": [
    "facturacion_platos = (chipo[\"item_price\"] * chipo[\"quantity\"]).sum()\n",
    "facturacion_platos"
   ]
  },
  {
   "cell_type": "code",
   "execution_count": 70,
   "metadata": {
    "tags": []
   },
   "outputs": [
    {
     "output_type": "stream",
     "name": "stdout",
     "text": "39237.02\n"
    }
   ],
   "source": [
    "fact_platos=facturacion_platos.sum()\n",
    "print(fact_platos) #sumo los resultados del apartado anterior."
   ]
  },
  {
   "cell_type": "markdown",
   "metadata": {},
   "source": [
    "### Step 15. How many orders were made in the period?"
   ]
  },
  {
   "cell_type": "code",
   "execution_count": 23,
   "metadata": {
    "collapsed": false
   },
   "outputs": [
    {
     "data": {
      "text/plain": [
       "1834"
      ]
     },
     "execution_count": 23,
     "metadata": {},
     "output_type": "execute_result"
    }
   ],
   "source": []
  },
  {
   "cell_type": "code",
   "execution_count": 87,
   "metadata": {},
   "outputs": [
    {
     "output_type": "execute_result",
     "data": {
      "text/plain": "      order_id  quantity                              item_name  \\\n0            1         1           Chips and Fresh Tomato Salsa   \n1            1         1                                   Izze   \n2            1         1                       Nantucket Nectar   \n3            1         1  Chips and Tomatillo-Green Chili Salsa   \n4            2         2                           Chicken Bowl   \n...        ...       ...                                    ...   \n4617      1833         1                          Steak Burrito   \n4618      1833         1                          Steak Burrito   \n4619      1834         1                     Chicken Salad Bowl   \n4620      1834         1                     Chicken Salad Bowl   \n4621      1834         1                     Chicken Salad Bowl   \n\n                                     choice_description  item_price  \n0                                                   NaN        2.39  \n1                                          [Clementine]        3.39  \n2                                               [Apple]        3.39  \n3                                                   NaN        2.39  \n4     [Tomatillo-Red Chili Salsa (Hot), [Black Beans...       16.98  \n...                                                 ...         ...  \n4617  [Fresh Tomato Salsa, [Rice, Black Beans, Sour ...       11.75  \n4618  [Fresh Tomato Salsa, [Rice, Sour Cream, Cheese...       11.75  \n4619  [Fresh Tomato Salsa, [Fajita Vegetables, Pinto...       11.25  \n4620  [Fresh Tomato Salsa, [Fajita Vegetables, Lettu...        8.75  \n4621  [Fresh Tomato Salsa, [Fajita Vegetables, Pinto...        8.75  \n\n[4622 rows x 5 columns]",
      "text/html": "<div>\n<style scoped>\n    .dataframe tbody tr th:only-of-type {\n        vertical-align: middle;\n    }\n\n    .dataframe tbody tr th {\n        vertical-align: top;\n    }\n\n    .dataframe thead th {\n        text-align: right;\n    }\n</style>\n<table border=\"1\" class=\"dataframe\">\n  <thead>\n    <tr style=\"text-align: right;\">\n      <th></th>\n      <th>order_id</th>\n      <th>quantity</th>\n      <th>item_name</th>\n      <th>choice_description</th>\n      <th>item_price</th>\n    </tr>\n  </thead>\n  <tbody>\n    <tr>\n      <th>0</th>\n      <td>1</td>\n      <td>1</td>\n      <td>Chips and Fresh Tomato Salsa</td>\n      <td>NaN</td>\n      <td>2.39</td>\n    </tr>\n    <tr>\n      <th>1</th>\n      <td>1</td>\n      <td>1</td>\n      <td>Izze</td>\n      <td>[Clementine]</td>\n      <td>3.39</td>\n    </tr>\n    <tr>\n      <th>2</th>\n      <td>1</td>\n      <td>1</td>\n      <td>Nantucket Nectar</td>\n      <td>[Apple]</td>\n      <td>3.39</td>\n    </tr>\n    <tr>\n      <th>3</th>\n      <td>1</td>\n      <td>1</td>\n      <td>Chips and Tomatillo-Green Chili Salsa</td>\n      <td>NaN</td>\n      <td>2.39</td>\n    </tr>\n    <tr>\n      <th>4</th>\n      <td>2</td>\n      <td>2</td>\n      <td>Chicken Bowl</td>\n      <td>[Tomatillo-Red Chili Salsa (Hot), [Black Beans...</td>\n      <td>16.98</td>\n    </tr>\n    <tr>\n      <th>...</th>\n      <td>...</td>\n      <td>...</td>\n      <td>...</td>\n      <td>...</td>\n      <td>...</td>\n    </tr>\n    <tr>\n      <th>4617</th>\n      <td>1833</td>\n      <td>1</td>\n      <td>Steak Burrito</td>\n      <td>[Fresh Tomato Salsa, [Rice, Black Beans, Sour ...</td>\n      <td>11.75</td>\n    </tr>\n    <tr>\n      <th>4618</th>\n      <td>1833</td>\n      <td>1</td>\n      <td>Steak Burrito</td>\n      <td>[Fresh Tomato Salsa, [Rice, Sour Cream, Cheese...</td>\n      <td>11.75</td>\n    </tr>\n    <tr>\n      <th>4619</th>\n      <td>1834</td>\n      <td>1</td>\n      <td>Chicken Salad Bowl</td>\n      <td>[Fresh Tomato Salsa, [Fajita Vegetables, Pinto...</td>\n      <td>11.25</td>\n    </tr>\n    <tr>\n      <th>4620</th>\n      <td>1834</td>\n      <td>1</td>\n      <td>Chicken Salad Bowl</td>\n      <td>[Fresh Tomato Salsa, [Fajita Vegetables, Lettu...</td>\n      <td>8.75</td>\n    </tr>\n    <tr>\n      <th>4621</th>\n      <td>1834</td>\n      <td>1</td>\n      <td>Chicken Salad Bowl</td>\n      <td>[Fresh Tomato Salsa, [Fajita Vegetables, Pinto...</td>\n      <td>8.75</td>\n    </tr>\n  </tbody>\n</table>\n<p>4622 rows × 5 columns</p>\n</div>"
     },
     "metadata": {},
     "execution_count": 87
    }
   ],
   "source": [
    "chipo"
   ]
  },
  {
   "cell_type": "code",
   "execution_count": 71,
   "metadata": {
    "tags": []
   },
   "outputs": [
    {
     "output_type": "stream",
     "name": "stdout",
     "text": "926     23\n1483    14\n205     12\n691     11\n1786    11\n        ..\n105      1\n702      1\n718      1\n568      1\n800      1\nName: order_id, Length: 1834, dtype: int64\n"
    }
   ],
   "source": [
    "id_orders=chipo[\"order_id\"].value_counts()\n",
    "print(id_orders)     #cuantos pedidos se han hecho en el periodo"
   ]
  },
  {
   "cell_type": "code",
   "execution_count": 72,
   "metadata": {
    "tags": []
   },
   "outputs": [
    {
     "output_type": "stream",
     "name": "stdout",
     "text": "1834\n"
    }
   ],
   "source": [
    "number_of_orders=chipo[\"order_id\"].max()\n",
    "print(number_of_orders)"
   ]
  },
  {
   "cell_type": "markdown",
   "metadata": {},
   "source": [
    "### Step 16. What is the average revenue amount per order?"
   ]
  },
  {
   "cell_type": "code",
   "execution_count": 73,
   "metadata": {
    "collapsed": false
   },
   "outputs": [],
   "source": [
    "# Solution 1\n",
    "\n"
   ]
  },
  {
   "cell_type": "code",
   "execution_count": null,
   "metadata": {},
   "outputs": [],
   "source": []
  },
  {
   "cell_type": "code",
   "execution_count": 74,
   "metadata": {
    "tags": []
   },
   "outputs": [
    {
     "output_type": "stream",
     "name": "stdout",
     "text": "21.39423118865867\n"
    }
   ],
   "source": [
    "media=fact_platos/number_of_orders  #media de facturacion\n",
    "print(media)"
   ]
  },
  {
   "cell_type": "markdown",
   "metadata": {},
   "source": [
    "### Step 17. How many different items are sold?"
   ]
  },
  {
   "cell_type": "code",
   "execution_count": 33,
   "metadata": {
    "collapsed": false
   },
   "outputs": [
    {
     "data": {
      "text/plain": [
       "50"
      ]
     },
     "execution_count": 33,
     "metadata": {},
     "output_type": "execute_result"
    }
   ],
   "source": []
  },
  {
   "cell_type": "code",
   "execution_count": 75,
   "metadata": {},
   "outputs": [
    {
     "output_type": "execute_result",
     "data": {
      "text/plain": "['Chips and Fresh Tomato Salsa',\n 'Izze',\n 'Nantucket Nectar',\n 'Chips and Tomatillo-Green Chili Salsa',\n 'Chicken Bowl',\n 'Side of Chips',\n 'Steak Burrito',\n 'Steak Soft Tacos',\n 'Chips and Guacamole',\n 'Chicken Crispy Tacos',\n 'Chicken Soft Tacos',\n 'Chicken Burrito',\n 'Canned Soda',\n 'Barbacoa Burrito',\n 'Carnitas Burrito',\n 'Carnitas Bowl',\n 'Bottled Water',\n 'Chips and Tomatillo Green Chili Salsa',\n 'Barbacoa Bowl',\n 'Chips',\n 'Chicken Salad Bowl',\n 'Steak Bowl',\n 'Barbacoa Soft Tacos',\n 'Veggie Burrito',\n 'Veggie Bowl',\n 'Steak Crispy Tacos',\n 'Chips and Tomatillo Red Chili Salsa',\n 'Barbacoa Crispy Tacos',\n 'Veggie Salad Bowl',\n 'Chips and Roasted Chili-Corn Salsa',\n 'Chips and Roasted Chili Corn Salsa',\n 'Carnitas Soft Tacos',\n 'Chicken Salad',\n 'Canned Soft Drink',\n 'Steak Salad Bowl',\n '6 Pack Soft Drink',\n 'Chips and Tomatillo-Red Chili Salsa',\n 'Bowl',\n 'Burrito',\n 'Crispy Tacos',\n 'Carnitas Crispy Tacos',\n 'Steak Salad',\n 'Chips and Mild Fresh Tomato Salsa',\n 'Veggie Soft Tacos',\n 'Carnitas Salad Bowl',\n 'Barbacoa Salad Bowl',\n 'Salad',\n 'Veggie Crispy Tacos',\n 'Veggie Salad',\n 'Carnitas Salad']"
     },
     "metadata": {},
     "execution_count": 75
    }
   ],
   "source": [
    "platos=chipo[\"item_name\"].unique().tolist()\n",
    "platos   #Me muestra los elementos únicos diferentes totales"
   ]
  },
  {
   "cell_type": "code",
   "execution_count": 76,
   "metadata": {
    "tags": []
   },
   "outputs": [
    {
     "output_type": "stream",
     "name": "stdout",
     "text": "50\n"
    }
   ],
   "source": [
    "print(len(platos))"
   ]
  },
  {
   "cell_type": "code",
   "execution_count": 77,
   "metadata": {
    "tags": []
   },
   "outputs": [
    {
     "output_type": "execute_result",
     "data": {
      "text/plain": "<pandas.core.groupby.generic.DataFrameGroupBy object at 0x0B9979E8>"
     },
     "metadata": {},
     "execution_count": 77
    }
   ],
   "source": [
    "platos=chipo.groupby([\"item_name\"])\n",
    "platos"
   ]
  },
  {
   "cell_type": "code",
   "execution_count": 78,
   "metadata": {
    "tags": []
   },
   "outputs": [
    {
     "output_type": "stream",
     "name": "stdout",
     "text": "50\n"
    }
   ],
   "source": [
    "print(len(platos))"
   ]
  },
  {
   "cell_type": "code",
   "execution_count": null,
   "metadata": {},
   "outputs": [],
   "source": []
  }
 ],
 "metadata": {
  "anaconda-cloud": {},
  "kernelspec": {
   "display_name": "Python 3.8.3 32-bit",
   "language": "python",
   "name": "python_defaultSpec_1595962746065"
  },
  "language_info": {
   "codemirror_mode": {
    "name": "ipython",
    "version": 2
   },
   "file_extension": ".py",
   "mimetype": "text/x-python",
   "name": "python",
   "nbconvert_exporter": "python",
   "pygments_lexer": "ipython2",
   "version": "3.7.4-final"
  }
 },
 "nbformat": 4,
 "nbformat_minor": 0
}