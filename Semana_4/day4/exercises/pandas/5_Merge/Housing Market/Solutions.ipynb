{
 "cells": [
  {
   "cell_type": "markdown",
   "metadata": {},
   "source": [
    "# Housing Market"
   ]
  },
  {
   "cell_type": "markdown",
   "metadata": {},
   "source": [
    "### Introduction:\n",
    "\n",
    "This time we will create our own dataset with fictional numbers to describe a house market. As we are going to create random data don't try to reason of the numbers.\n",
    "\n",
    "### Step 1. Import the necessary libraries"
   ]
  },
  {
   "cell_type": "code",
   "execution_count": 10,
   "metadata": {
    "collapsed": false
   },
   "outputs": [],
   "source": [
    "import pandas as pd\n",
    "import numpy as np"
   ]
  },
  {
   "cell_type": "markdown",
   "metadata": {},
   "source": [
    "### Step 2. Create 3 differents Series, each of length 100, as follows: \n",
    "1. The first a random number from 1 to 4 \n",
    "2. The second a random number from 1 to 3\n",
    "3. The third a random number from 10,000 to 30,000"
   ]
  },
  {
   "cell_type": "code",
   "execution_count": 11,
   "metadata": {},
   "outputs": [],
   "source": [
    "s1 = pd.Series(np.random.randint(low=1, high=5, size=100))\n",
    "s2 = pd.Series(np.random.randint(1, high=4, size=100))\n",
    "s3 = pd.Series(np.random.randint(10000, 30001, 100))\n"
   ]
  },
  {
   "cell_type": "code",
   "execution_count": 28,
   "metadata": {
    "collapsed": false
   },
   "outputs": [
    {
     "name": "stdout",
     "output_type": "stream",
     "text": [
      "0     2\n",
      "1     2\n",
      "2     4\n",
      "3     2\n",
      "4     1\n",
      "5     1\n",
      "6     2\n",
      "7     3\n",
      "8     3\n",
      "9     2\n",
      "10    1\n",
      "11    2\n",
      "12    4\n",
      "13    1\n",
      "14    2\n",
      "15    3\n",
      "16    4\n",
      "17    4\n",
      "18    4\n",
      "19    3\n",
      "20    2\n",
      "21    1\n",
      "22    4\n",
      "23    1\n",
      "24    3\n",
      "25    2\n",
      "26    3\n",
      "27    1\n",
      "28    3\n",
      "29    4\n",
      "     ..\n",
      "70    4\n",
      "71    2\n",
      "72    2\n",
      "73    4\n",
      "74    2\n",
      "75    1\n",
      "76    2\n",
      "77    4\n",
      "78    3\n",
      "79    2\n",
      "80    2\n",
      "81    2\n",
      "82    4\n",
      "83    2\n",
      "84    2\n",
      "85    2\n",
      "86    1\n",
      "87    3\n",
      "88    1\n",
      "89    1\n",
      "90    1\n",
      "91    3\n",
      "92    1\n",
      "93    2\n",
      "94    3\n",
      "95    4\n",
      "96    4\n",
      "97    2\n",
      "98    1\n",
      "99    3\n",
      "dtype: int64 0     2\n",
      "1     3\n",
      "2     2\n",
      "3     3\n",
      "4     3\n",
      "5     1\n",
      "6     2\n",
      "7     1\n",
      "8     2\n",
      "9     2\n",
      "10    2\n",
      "11    3\n",
      "12    3\n",
      "13    1\n",
      "14    3\n",
      "15    3\n",
      "16    3\n",
      "17    1\n",
      "18    3\n",
      "19    3\n",
      "20    3\n",
      "21    3\n",
      "22    1\n",
      "23    2\n",
      "24    3\n",
      "25    2\n",
      "26    2\n",
      "27    1\n",
      "28    3\n",
      "29    3\n",
      "     ..\n",
      "70    3\n",
      "71    2\n",
      "72    2\n",
      "73    2\n",
      "74    3\n",
      "75    2\n",
      "76    3\n",
      "77    1\n",
      "78    1\n",
      "79    1\n",
      "80    2\n",
      "81    1\n",
      "82    1\n",
      "83    3\n",
      "84    1\n",
      "85    3\n",
      "86    1\n",
      "87    2\n",
      "88    3\n",
      "89    2\n",
      "90    2\n",
      "91    3\n",
      "92    2\n",
      "93    2\n",
      "94    2\n",
      "95    2\n",
      "96    2\n",
      "97    3\n",
      "98    1\n",
      "99    1\n",
      "dtype: int64 0     16957\n",
      "1     24571\n",
      "2     28303\n",
      "3     14153\n",
      "4     23445\n",
      "5     21444\n",
      "6     16179\n",
      "7     22696\n",
      "8     18595\n",
      "9     27145\n",
      "10    14406\n",
      "11    15011\n",
      "12    17444\n",
      "13    26236\n",
      "14    23808\n",
      "15    21417\n",
      "16    15079\n",
      "17    13100\n",
      "18    21470\n",
      "19    17082\n",
      "20    21935\n",
      "21    26770\n",
      "22    10059\n",
      "23    11095\n",
      "24    25916\n",
      "25    17137\n",
      "26    22023\n",
      "27    21612\n",
      "28    11446\n",
      "29    29281\n",
      "      ...  \n",
      "70    23963\n",
      "71    26782\n",
      "72    11199\n",
      "73    23600\n",
      "74    26935\n",
      "75    27365\n",
      "76    23084\n",
      "77    19052\n",
      "78    19922\n",
      "79    17088\n",
      "80    25468\n",
      "81    10924\n",
      "82    10243\n",
      "83    19834\n",
      "84    21288\n",
      "85    22410\n",
      "86    22348\n",
      "87    18812\n",
      "88    29522\n",
      "89    20838\n",
      "90    28695\n",
      "91    23000\n",
      "92    21684\n",
      "93    26316\n",
      "94    10866\n",
      "95    12337\n",
      "96    13480\n",
      "97    25158\n",
      "98    25585\n",
      "99    26142\n",
      "dtype: int64\n"
     ]
    }
   ],
   "source": []
  },
  {
   "cell_type": "markdown",
   "metadata": {},
   "source": [
    "### Step 3. Let's create a DataFrame by joinning the Series by column"
   ]
  },
  {
   "cell_type": "code",
   "execution_count": 12,
   "metadata": {},
   "outputs": [
    {
     "output_type": "execute_result",
     "data": {
      "text/plain": "    0  1      2\n0   1  3  14644\n1   3  2  17599\n2   2  1  22836\n3   4  2  25654\n4   1  1  24042\n.. .. ..    ...\n95  1  2  14070\n96  1  2  16849\n97  1  2  24653\n98  1  3  26140\n99  4  2  19526\n\n[100 rows x 3 columns]",
      "text/html": "<div>\n<style scoped>\n    .dataframe tbody tr th:only-of-type {\n        vertical-align: middle;\n    }\n\n    .dataframe tbody tr th {\n        vertical-align: top;\n    }\n\n    .dataframe thead th {\n        text-align: right;\n    }\n</style>\n<table border=\"1\" class=\"dataframe\">\n  <thead>\n    <tr style=\"text-align: right;\">\n      <th></th>\n      <th>0</th>\n      <th>1</th>\n      <th>2</th>\n    </tr>\n  </thead>\n  <tbody>\n    <tr>\n      <th>0</th>\n      <td>1</td>\n      <td>3</td>\n      <td>14644</td>\n    </tr>\n    <tr>\n      <th>1</th>\n      <td>3</td>\n      <td>2</td>\n      <td>17599</td>\n    </tr>\n    <tr>\n      <th>2</th>\n      <td>2</td>\n      <td>1</td>\n      <td>22836</td>\n    </tr>\n    <tr>\n      <th>3</th>\n      <td>4</td>\n      <td>2</td>\n      <td>25654</td>\n    </tr>\n    <tr>\n      <th>4</th>\n      <td>1</td>\n      <td>1</td>\n      <td>24042</td>\n    </tr>\n    <tr>\n      <th>...</th>\n      <td>...</td>\n      <td>...</td>\n      <td>...</td>\n    </tr>\n    <tr>\n      <th>95</th>\n      <td>1</td>\n      <td>2</td>\n      <td>14070</td>\n    </tr>\n    <tr>\n      <th>96</th>\n      <td>1</td>\n      <td>2</td>\n      <td>16849</td>\n    </tr>\n    <tr>\n      <th>97</th>\n      <td>1</td>\n      <td>2</td>\n      <td>24653</td>\n    </tr>\n    <tr>\n      <th>98</th>\n      <td>1</td>\n      <td>3</td>\n      <td>26140</td>\n    </tr>\n    <tr>\n      <th>99</th>\n      <td>4</td>\n      <td>2</td>\n      <td>19526</td>\n    </tr>\n  </tbody>\n</table>\n<p>100 rows × 3 columns</p>\n</div>"
     },
     "metadata": {},
     "execution_count": 12
    }
   ],
   "source": [
    "nuevo=[s1,s2,s3]                                                                                                                                 \n",
    "nueva_data=pd.concat(nuevo,axis=1)\n",
    "nueva_data"
   ]
  },
  {
   "cell_type": "markdown",
   "metadata": {},
   "source": [
    "### Step 4. Change the name of the columns to bedrs, bathrs, price_sqr_meter"
   ]
  },
  {
   "cell_type": "code",
   "execution_count": 13,
   "metadata": {},
   "outputs": [],
   "source": [
    "nueva_data.columns=[\"bedrs\",\"bathrs\",\"price_sqr_meter\"]\n"
   ]
  },
  {
   "cell_type": "code",
   "execution_count": 36,
   "metadata": {
    "collapsed": false
   },
   "outputs": [
    {
     "data": {
      "text/html": [
       "<div>\n",
       "<table border=\"1\" class=\"dataframe\">\n",
       "  <thead>\n",
       "    <tr style=\"text-align: right;\">\n",
       "      <th></th>\n",
       "      <th>bedrs</th>\n",
       "      <th>bathrs</th>\n",
       "      <th>price_sqr_meter</th>\n",
       "    </tr>\n",
       "  </thead>\n",
       "  <tbody>\n",
       "    <tr>\n",
       "      <th>0</th>\n",
       "      <td>2</td>\n",
       "      <td>2</td>\n",
       "      <td>16957</td>\n",
       "    </tr>\n",
       "    <tr>\n",
       "      <th>1</th>\n",
       "      <td>2</td>\n",
       "      <td>3</td>\n",
       "      <td>24571</td>\n",
       "    </tr>\n",
       "    <tr>\n",
       "      <th>2</th>\n",
       "      <td>4</td>\n",
       "      <td>2</td>\n",
       "      <td>28303</td>\n",
       "    </tr>\n",
       "    <tr>\n",
       "      <th>3</th>\n",
       "      <td>2</td>\n",
       "      <td>3</td>\n",
       "      <td>14153</td>\n",
       "    </tr>\n",
       "    <tr>\n",
       "      <th>4</th>\n",
       "      <td>1</td>\n",
       "      <td>3</td>\n",
       "      <td>23445</td>\n",
       "    </tr>\n",
       "  </tbody>\n",
       "</table>\n",
       "</div>"
      ],
      "text/plain": [
       "   bedrs  bathrs  price_sqr_meter\n",
       "0      2       2            16957\n",
       "1      2       3            24571\n",
       "2      4       2            28303\n",
       "3      2       3            14153\n",
       "4      1       3            23445"
      ]
     },
     "execution_count": 36,
     "metadata": {},
     "output_type": "execute_result"
    }
   ],
   "source": []
  },
  {
   "cell_type": "markdown",
   "metadata": {},
   "source": [
    "### Step 5. Create a one column DataFrame with the values of the 3 Series and assign it to 'bigcolumn'"
   ]
  },
  {
   "cell_type": "code",
   "execution_count": 17,
   "metadata": {},
   "outputs": [
    {
     "output_type": "execute_result",
     "data": {
      "text/plain": "0         1\n1         3\n2         2\n3         4\n4         1\n      ...  \n95    14070\n96    16849\n97    24653\n98    26140\n99    19526\nLength: 300, dtype: int32"
     },
     "metadata": {},
     "execution_count": 17
    }
   ],
   "source": [
    "big=(s1,s2,s3)\n",
    "bigcolumn=pd.concat(big, axis=0)\n",
    "bigcolumn"
   ]
  },
  {
   "cell_type": "markdown",
   "metadata": {},
   "source": [
    "### Step 6. Oops, it seems it is going only until index 99. Is it true?"
   ]
  },
  {
   "cell_type": "code",
   "execution_count": 19,
   "metadata": {
    "collapsed": false
   },
   "outputs": [
    {
     "output_type": "execute_result",
     "data": {
      "text/plain": "Int64Index([ 0,  1,  2,  3,  4,  5,  6,  7,  8,  9,\n            ...\n            90, 91, 92, 93, 94, 95, 96, 97, 98, 99],\n           dtype='int64', length=300)"
     },
     "metadata": {},
     "execution_count": 19
    }
   ],
   "source": [
    "bigcolumn.index\n"
   ]
  },
  {
   "cell_type": "markdown",
   "metadata": {},
   "source": [
    "### Step 7. Reindex the DataFrame so it goes from 0 to 299"
   ]
  },
  {
   "cell_type": "code",
   "execution_count": 22,
   "metadata": {
    "collapsed": false
   },
   "outputs": [
    {
     "output_type": "execute_result",
     "data": {
      "text/plain": "0          1\n1          3\n2          2\n3          4\n4          1\n       ...  \n295    14070\n296    16849\n297    24653\n298    26140\n299    19526\nLength: 300, dtype: int32"
     },
     "metadata": {},
     "execution_count": 22
    }
   ],
   "source": [
    "bigcolumn.reset_index(drop=True,inplace=True)\n",
    "bigcolumn"
   ]
  }
 ],
 "metadata": {
  "kernelspec": {
   "display_name": "Python 3.8.3 32-bit",
   "language": "python",
   "name": "python_defaultSpec_1595411847055"
  },
  "language_info": {
   "codemirror_mode": {
    "name": "ipython",
    "version": 2
   },
   "file_extension": ".py",
   "mimetype": "text/x-python",
   "name": "python",
   "nbconvert_exporter": "python",
   "pygments_lexer": "ipython2",
   "version": "2.7.11"
  }
 },
 "nbformat": 4,
 "nbformat_minor": 0
}