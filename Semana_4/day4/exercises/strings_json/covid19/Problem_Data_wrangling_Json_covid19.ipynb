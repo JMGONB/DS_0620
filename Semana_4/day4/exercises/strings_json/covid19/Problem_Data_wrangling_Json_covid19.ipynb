{
 "cells": [
  {
   "cell_type": "markdown",
   "metadata": {},
   "source": [
    "## Working on Jsons"
   ]
  },
  {
   "cell_type": "code",
   "execution_count": 1,
   "metadata": {},
   "outputs": [],
   "source": [
    "import requests  #importo las librerias necesarias\n",
    "import json\n",
    "import pandas as pd"
   ]
  },
  {
   "cell_type": "code",
   "execution_count": 2,
   "metadata": {
    "tags": []
   },
   "outputs": [
    {
     "output_type": "execute_result",
     "data": {
      "text/plain": "342&top_comunidades1=Madrid&top_comunidades2=Catalu%C3%B1a&top_comunidades3=Castilla%20y%20Le%C3%B3n&top_comunidades1_num=67%2C049&top_comunidades2_num=55%2C888&top_comunidades3_num=18%2C627&gen_date=2020/05/27&gen_time=08%3A58&client=default_web&region=world',\n    '_id': '6658f6eb15b745e282dee2ccf6131ac7',\n    'id': '2020-5-27-09_01-COVID-world-en_generic_COVID_EN_GENERIC'},\n   {'date': '2020-05-27T08:02:18+02:00',\n    'metadata': {'picurl_square_spain': 'https://4i2g925ohj.execute-api.eu-west-3.amazonaws.com/pro/coronavirus?confirmed_num=233%2C037&actives_num=54%2C721&recovered_num=150%2C376&deaths_num=27%2C940&date=27%20de%20mayo%20del%202020&region=spain&aspect_ratio=square&client=default',\n     'picurl_square_spain_extended': 'https://4i2g925ohj.execute-api.eu-west-3.amazonaws.com/pro/coronavirus?confirmed_num=233%2C037&confirmed_today_num=344&deaths_today_num=48&deaths_num=27%2C940&date=27%20de%20mayo%20del%202020&region=spain&aspect_ratio=square&client=default&extended=true',\n     'graphs': {'graph_picurl_china': 'https://resources.gabriele.ai/coronavirus/2020-5-27-08_01-COVID-world-en_generic_COVID_EN_GENERIC_china.png',\n      'graph_picurl_us': 'https://resources.gabriele.ai/coronavirus/2020-5-27-08_01-COVID-world-en_generic_COVID_EN_GENERIC_us.png',\n      'graph_picurl_deaths_evolution': 'https://resources.gabriele.ai/coronavirus/2020-5-27-08_01-COVID-world-en_generic_COVID_EN_GENERIC_deaths_evolution.png',\n      'graph_picurl_world': 'https://resources.gabriele.ai/coronavirus/2020-5-27-08_01-COVID-world-en_generic_COVID_EN_GENERIC_world.png',\n      'graph_picurl_china_confirmed': 'https://resources.gabriele.ai/coronavirus/2020-5-27-08_01-COVID-world-en_generic_COVID_EN_GENERIC_china_confirmed.png',\n      'graph_picurl_us_confirmed': 'https://resources.gabriele.ai/coronavirus/2020-5-27-08_01-COVID-world-en_generic_COVID_EN_GENERIC_us_confirmed.png',\n      'graph_picurl_spain_deaths': 'https://resources.gabriele.ai/coronavirus/2020-5-27-08_01-COVID-world-en_generic_COVID_EN_GENERIC_spain_deaths.png',\n      'graph_picurl_us_recovered': 'https://resources.gabriele.ai/coronavirus/2020-5-27-08_01-COVID-world-en_generic_COVID_EN_GENERIC_us_recovered.png',\n      'graph_picurl_deaths_log_evolution': 'https://resources.gabriele.ai/coronavirus/2020-5-27-08_01-COVID-world-en_generic_COVID_EN_GENERIC_deaths_log_evolution.png',\n      'graph_picurl_italy': 'https://resources.gabriele.ai/coronavirus/2020-5-27-08_01-COVID-world-en_generic_COVID_EN_GENERIC_italy.png',\n      'graph_picurl_italy_recovered': 'https://resources.gabriele.ai/coronavirus/2020-5-27-08_01-COVID-world-en_generic_COVID_EN_GENERIC_italy_recovered.png',\n      'graph_picurl_us_deaths': 'https://resources.gabriele.ai/coronavirus/2020-5-27-08_01-COVID-world-en_generic_COVID_EN_GENERIC_us_deaths.png',\n      'graph_picurl_italy_deaths': 'https://resources.gabriele.ai/coronavirus/2020-5-27-08_01-COVID-world-en_generic_COVID_EN_GENERIC_italy_deaths.png',\n      'graph_picurl_china_deaths': 'https://resources.gabriele.ai/coronavirus/2020-5-27-08_01-COVID-world-en_generic_COVID_EN_GENERIC_china_deaths.png',\n      'graph_picurl_italy_confirmed': 'https://resources.gabriele.ai/coronavirus/2020-5-27-08_01-COVID-world-en_generic_COVID_EN_GENERIC_italy_confirmed.png',\n      'graph_picurl_spain_confirmed': 'https://resources.gabriele.ai/coronavirus/2020-5-27-08_01-COVID-world-en_generic_COVID_EN_GENERIC_spain_confirmed.png',\n      'graph_picurl_china_recovered': 'https://resources.gabriele.ai/coronavirus/2020-5-27-08_01-COVID-world-en_generic_COVID_EN_GENERIC_china_recovered.png'},\n     'picurl_square_world': 'https://4i2g925ohj.execute-api.eu-west-3.amazonaws.com/pro/coronavirus?confirmed_num=5%2C543%2C288&actives_num=2%2C917%2C564&recovered_num=2%2C284%2C992&deaths_num=340%2C732&date=27%20de%20mayo%20del%202020&region=world&aspect_ratio=square&client=default',\n     'picurl_16_9_spain': 'https://4i2g925ohj.execute-api.eu-west-3.amazonaws.com/pro/coronavirus?confirmed_num=5%2C543%2C288&deaths_num=340%2C732&date=27%20de%20mayo%20del%202020&top_countries=EE.UU.%20%281%2C681%2C418%29%2C%20Brasil%20%28391%2C222%29%2C%20Rusia%20%28362%2C342%29&top_spain=Madrid%20%2867%2C049%29%2C%20Catalu%C3%B1a%20%2855%2C888%29%2C%20Castilla%20y%20Le%C3%B3n%20%2818%2C627%29&region=spain&aspect_ratio=16_9&client=default',\n     'composition_type': 'world',\n     'country_selected': None,\n     'picurl_square_world_extended': 'https://4i2g925ohj.execute-api.eu-west-3.amazonaws.com/pro/coronavirus?confirmed_num=5%2C543%2C288&actives_num=2%2C917%2C564&recovered_num=2%2C284%2C992&deaths_num=340%2C732&date=27%20de%20mayo%20del%202020&region=world&aspect_ratio=square&client=default&extended=true',\n     'state_selected': None},\n    'author': 'Narrativa',\n    '_rev': '1-b0475f2d73f83dd45bfe7c8e27816239',\n    'language': 'en_generic',\n    'title': 'Coronavirus outbreak latest: <strong>458</strong> new deaths confirmed worldwide',\n    'content': '<p><small>Narrativa | Wednesday, May 27, 2020 </small></p><p>There are now <strong>5,543,288</strong> <strong>people infected worldwide</strong>. Of these, <strong>2,284,992</strong></strong> have already recovered, according to the data <a href=\"https://systems.jhu.edu/research/public-health/ncov/\" target=\"_blank\">provided by Johns Hopkins University</a>. <b>The US</b> has the most cases with <strong>1,681,418</strong>, followed by <b> Brazil</b>, <b> Russia</b>, and <b>The United Kingdom</b>, who have confirmed <strong>391,222, 362,342, and 266,599</strong> cases respectively.</p><h4>COVID-19 Status Worldwide</h4><p><table width=\"100%\"><thead><tr><th><strong>Active Cases</strong></th><th colspan=\"2\"><strong>Infected</strong></th><th colspan=\"2\"><strong>Deaths</strong></th><th colspan=\"2\"><strong>Recovered</strong></th></tr><tr><th>Total</th><th>Total</th><th>Last 24h</th><th>Total</th><th>Last 24h</th><th>Total</th><th>Last 24h</th></tr></thead><tbody><tr><td>1. The US: 1,197,587</td><td>1. The US: 1,681,418</td><td>1. Pakistan: 1,446</td><td>1. The US: 98,929</td><td>1. France: 83</td><td>1. The US: 384,902</strong></td><td>1. Italy: 2,677</strong></td></tr><tr><td>2. The United Kingdom: 228,307</td><td>2. Brazil: 391,222</td><td>2. The United Kingdom: 1,372</td><td>2. The United Kingdom: 37,130</td><td>2. The United Kingdom: 82</td><td>2. Germany: 161,967</strong></td><td>2. Mexico: 2,256</strong></td></tr><tr><td>3. Russia: 227,406</td><td>3. Russia: 362,342</td><td>3. The US: 1,117</td><td>3. Italy: 32,955</td><td>3. Italy: 78</td><td>3. Brazil: 158,593</strong></td><td>3. Pakistan: 828</strong></td></tr></tbody></table></p><p>Over the last 24 hours, there has been a <strong>0.15</strong>% growth with <strong>8,401</strong> new cases. <strong> Pakistan</strong> is reporting the highest number of new cases with <strong>1,446</strong>, followed by <b>The United Kingdom</b> with <strong>1,372</strong>. <strong>The US</strong> and <strong> India</strong> are not far behind, with <strong>1,117</strong> and <strong>1,064</strong> new cases respectively.</p><p> </p><p>So far, <strong> 340,732 people</strong> have died from the coronavirus worldwide. <strong>The US</strong> is the country with the highest count so far with <strong>98,929</strong> deceased, followed by <strong>The United Kingdom, Italy, and Spain</strong> with <strong>37,130, 32,955, and 27,940</strong> deaths respectively.</p><p>The first news of this new strain of coronavirus appeared in <strong>China</strong>, in the city of <strong>Wuhan</strong>, on <strong>31 December 2019</strong>. Since then, the infection has spread across the Asian continent and the globe. At the moment, cases in China have grown to <strong>1</strong> new cases since yesterday. Overall, <strong>107</strong> people are infected with the virus.</p><hr><p><strong>Note</strong>: This article has been <strong><u>generated automatically by <a href=\"https://www.narrativa.com\" target=\"_blank\">Narrativa</a></u></strong> from the data by <a href=\"https://www.mscbs.gob.es/profesionales/saludPublica/ccayes/alertasActual/nCov-China/situacionActual.htm\" target=\"_blank\">Ministerio de Sanidad</a>, <a href=\"https://github.com/pcm-dpc/COVID-19\" target=\"_blank\">Dipartimento della Protezione Civile de Italia</a>, <a href=\"https://www.rki.de/DE/Content/InfAZ/N/Neuartiges_Coronavirus/Situationsberichte/Gesamt.html\" target=\"_blank\">Robert Koch Institute</a> and <a href=\"https://systems.jhu.edu/research/public-health/ncov/\" target=\"_blank\">Johns Hopkins University</a>.</p>',\n    'picurl_world': 'https://4i2g925ohj.execute-api.eu-west-3.amazonaws.com/pro/coronavirus?confirmed_num=5%2C543%2C288&actives_num=2%2C917%2C564&recovered_num=2%2C284%2C992&deaths_num=340%2C732&date=27%20de%20mayo%20del%202020&top_paises1=EE.UU.%3A%201%2C681%2C418&top_paises2=Brasil%3A%20391%2C222&top_paises3=Rusia%3A%20362%2C342&client=default&region=world',\n    'picurl': 'https://4i2g925ohj.execute-api.eu-west-3.amazonaws.com/pro/coronavirus?confirmed_num=233%2C037&confirmed_today_num=344&deaths_today_num=48&deaths_num=27%2C940&date=27%20de%20mayo%20del%202020&top_comunidades=Madrid%20%2867%2C049%29%2C%20Catalu%C3%B1a%20%2855%2C888%29%2C%20Castilla%20y%20Le%C3%B3n%20%2818%2C627%29&client=default&region=spain',\n    'metatitle': '',\n    'subtitle': '',\n    'picurl_banner_web': 'https://4i2g925ohj.execute-api.eu-west-3.amazonaws.com/pro/coronavirus?confirmed_num=5%2C543%2C288&actives_num=2%2C917%2C564&recovered_num=2%2C284%2C992&deaths_num=340%2C732&region_confirmed_num=233%2C037&region_confirmed_today_num=344&region_deaths_today_num=48&region_deaths_num=27%2C940&date=27%20de%20mayo%20del%202020&top_paises1=EE.UU.&top_paises2=Brasil&top_paises3=Rusia&top_paises1_num=1%2C681%2C418&top_paises2_num=391%2C222&top_paises3_num=362%2C342&top_comunidades1=Madrid&top_comunidades2=Catalu%C3%B1a&top_comunidades3=Castilla%20y%20Le%C3%B3n&top_comunidades1_num=67%2C049&top_comunidades2_num=55%2C888&top_comunidades3_num=18%2C627&gen_date=2020/05/27&gen_time=08%3A01&client=default_web&region=world',\n    '_id': '2b8c001e193e5a19ee09d5f677fbbcd1',\n    'id': '2020-5-27-08_01-COVID-world-en_generic_COVID_EN_GENERIC'},\n   {'date': '2020-05-27T07:02:16+02:00',\n    'metadata': {'picurl_square_spain': 'https://4i2g925ohj.execute-api.eu-west-3.amazonaws.com/pro/coronavirus?confirmed_num=233%2C037&actives_num=54%2C721&recovered_num=150%2C376&deaths_num=27%2C940&date=27%20de%20mayo%20del%202020&region=spain&aspect_ratio=square&client=default',\n     'picurl_square_spain_extended': 'https://4i2g925ohj.execute-api.eu-west-3.amazonaws.com/pro/coronavirus?confirmed_num=233%2C037&confirmed_today_num=344&deaths_today_num=48&deaths_num=27%2C940&date=27%20de%20mayo%20del%202020&region=spain&aspect_ratio=square&client=default&extended=true',\n     'graphs': {'graph_picurl_china': 'https://resources.gabriele.ai/coronavirus/2020-5-27-07_01-COVID-world-en_generic_COVID_EN_GENERIC_china.png',\n      'graph_picurl_us': 'https://resources.gabriele.ai/coronavirus/2020-5-27-07_01-COVID-world-en_generic_COVID_EN_GENERIC_us.png',\n      'graph_picurl_deaths_evolution': 'https://resources.gabriele.ai/coronavirus/2020-5-27-07_01-COVID-world-en_generic_COVID_EN_GENERIC_deaths_evolution.png',\n      'graph_picurl_world': 'https://resources.gabriele.ai/coronavirus/2020-5-27-07_01-COVID-world-en_generic_COVID_EN_GENERIC_world.png',\n      'graph_picurl_china_confirmed': 'https://resources.gabriele.ai/coronavirus/2020-5-27-07_01-COVID-world-en_generic_COVID_EN_GENERIC_china_confirmed.png',\n      'graph_picurl_us_confirmed': 'https://resources.gabriele.ai/coronavirus/2020-5-27-07_01-COVID-world-en_generic_COVID_EN_GENERIC_us_confirmed.png',\n      'graph_picurl_spain_deaths': 'https://resources.gabriele.ai/coronavirus/2020-5-27-07_01-COVID-world-en_generic_COVID_EN_GENERIC_spain_deaths.png',\n      'graph_picurl_us_recovered': 'https://resources.gabriele.ai/coronavirus/2020-5-27-07_01-COVID-world-en_generic_COVID_EN_GENERIC_us_recovered.png',\n      'graph_picurl_deaths_log_evolution': 'https://resources.gabriele.ai/coronavirus/2020-5-27-07_01-COVID-world-en_generic_COVID_EN_GENERIC_deaths_log_evolution.png',\n      'graph_picurl_italy': 'https://resources.gabriele.ai/coronavirus/2020-5-27-07_01-COVID-world-en_generic_COVID_EN_GENERIC_italy.png',\n      'graph_picurl_italy_recovered': 'https://resources.gabriele.ai/coronavirus/2020-5-27-07_01-COVID-world-en_generic_COVID_EN_GENERIC_italy_recovered.png',\n      'graph_picurl_us_deaths': 'https://resources.gabriele.ai/coronavirus/2020-5-27-07_01-COVID-world-en_generic_COVID_EN_GENERIC_us_deaths.png',\n      'graph_picurl_italy_deaths': 'https://resources.gabriele.ai/coronavirus/2020-5-27-07_01-COVID-world-en_generic_COVID_EN_GENERIC_italy_deaths.png',\n      'graph_picurl_china_deaths': 'https://resources.gabriele.ai/coronavirus/2020-5-27-07_01-COVID-world-en_generic_COVID_EN_GENERIC_china_deaths.png',\n      'graph_picurl_italy_confirmed': 'https://resources.gabriele.ai/coronavirus/2020-5-27-07_01-COVID-world-en_generic_COVID_EN_GENERIC_italy_confirmed.png',\n      'graph_picurl_spain_confirmed': 'https://resources.gabriele.ai/coronavirus/2020-5-27-07_01-COVID-world-en_generic_COVID_EN_GENERIC_spain_confirmed.png',\n      'graph_picurl_china_recovered': 'https://resources.gabriele.ai/coronavirus/2020-5-27-07_01-COVID-world-en_generic_COVID_EN_GENERIC_china_recovered.png'},\n     'picurl_square_world': 'https://4i2g925ohj.execute-api.eu-west-3.amazonaws.com/pro/coronavirus?confirmed_num=5%2C541%2C207&actives_num=2%2C916%2C416&recovered_num=2%2C284%2C110&deaths_num=340%2C681&date=27%20de%20mayo%20del%202020&region=world&aspect_ratio=square&client=default',\n     'picurl_16_9_spain': 'https://4i2g925ohj.execute-api.eu-west-3.amazonaws.com/pro/coronavirus?confirmed_num=5%2C541%2C207&deaths_num=340%2C681&date=27%20de%20mayo%20del%202020&top_countries=EE.UU.%20%281%2C681%2C212%29%2C%20Brasil%20%28391%2C222%29%2C%20Rusia%20%28362%2C342%29&top_spain=Madrid%20%2867%2C049%29%2C%20Catalu%C3%B1a%20%2855%2C888%29%2C%20Castilla%20y%20Le%C3%B3n%20%2818%2C627%29&region=spain&aspect_ratio=16_9&client=default',\n     'composition_type': 'world',\n     'country_selected': None,\n     'picurl_square_world_extended': 'https://4i2g925ohj.execute-api.eu-west-3.amazonaws.com/pro/coronavirus?confirmed_num=5%2C541%2C207&actives_num=2%2C916%2C416&recovered_num=2%2C284%2C110&deaths_num=340%2C681&date=27%20de%20mayo%20del%202020&region=world&aspect_ratio=square&client=default&extended=true',\n     'state_selected': None},\n    'author': 'Narrativa',\n    '_rev': '1-a8e671f05b9a0ca0f434ee1ed4a66cd5',\n    'language': 'en_generic',\n    'title': 'Coronavirus outbreak latest: <strong>5,541,207</strong> people affected around the world',\n    'content': '<p><small>Narrativa | Wednesday, May 27, 2020 </small></p><p>The number of COVID-19 cases has now reached <strong>5,541,207</strong> <strong>people worldwide</strong>. Of these, <strong>2,284,110</strong></strong> have already recovered, according to the data <a href=\"https://systems.jhu.edu/research/public-health/ncov/\" target=\"_blank\">provided by Johns Hopkins University</a>. <b>The US</b> has the most cases with <strong>1,681,212</strong>, followed by <b> Brazil</b>, <b> Russia</b>, and <b>The United Kingdom</b>, who have confirmed <strong>391,222, 362,342, and 266,599</strong> cases respectively.</p><h4>Status in the world</h4><p><table width=\"100%\"><thead><tr><th><strong>Currently Infected</strong></th><th colspan=\"2\"><strong>Infected</strong></th><th colspan=\"2\"><strong>Deaths</strong></th><th colspan=\"2\"><strong>Recovered</strong></th></tr><tr><th>Total</th><th>Total</th><th>Last 24h</th><th>Total</th><th>Last 24h</th><th>Total</th><th>Last 24h</th></tr></thead><tbody><tr><td>1. The US: 1,197,394</td><td>1. The US: 1,681,212</td><td>1. The United Kingdom: 1,372</td><td>1. The US: 98,916</td><td>1. France: 83</td><td>1. The US: 384,902</strong></td><td>1. Italy: 2,677</strong></td></tr><tr><td>2. The United Kingdom: 228,307</td><td>2. Brazil: 391,222</td><td>2. India: 1,064</td><td>2. The United Kingdom: 37,130</td><td>2. The United Kingdom: 82</td><td>2. Germany: 161,967</strong></td><td>2. Mexico: 2,256</strong></td></tr><tr><td>3. Russia: 227,406</td><td>3. Russia: 362,342</td><td>3. The US: 911</td><td>3. Italy: 32,955</td><td>3. Italy: 78</td><td>3. Brazil: 158,593</strong></td><td>3. Spain: 797</strong></td></tr></tbody></table></p><p>In addition, <strong>6,320</strong> new positive cases have been added in the last 24 hours, demonstrating a <strong>0.11</strong>% growth from the previous day. <strong>The United Kingdom</strong> is the country with the most new cases, having now confirmed <strong>1,372</strong>, followed by <b> India</b> with <strong>1,064</strong>. <strong>The US</strong> and <strong> Bolivia</strong> are not far behind, with <strong>476</strong> and <strong>476</strong> new patients respectively.</p><p> </p><p>So far, <strong> 340,681 people</strong> have died from the coronavirus worldwide. <strong>The US</strong> has the most victims so far with <strong>98,916</strong> deceased, followed by <strong>The United Kingdom, Italy, and Spain</strong> with <strong>37,130, 32,955, and 27,940</strong> deaths respectively.</p><p>The first cases of the virus appeared in <strong>China</strong>, in the city of <strong>Wuhan</strong>, on <strong>31 December 2019</strong>. Since that date, the number of infections have multiplied across the continent and later to other countries around the world. As of the latest reports, cases in China have increased to <strong>1</strong> new cases since Tuesday. Overall, <strong>107</strong> people are infected with the virus.</p><hr><p><strong>Note</strong>: This article has been <strong><u>generated automatically by <a href=\"https://www.narrativa.com\" target=\"_blank\">Narrativa</a></u></strong> from the data by <a href=\"https://www.mscbs.gob.es/profesionales/saludPublica/ccayes/alertasActual/nCov-China/situacionActual.htm\" target=\"_blank\">Ministerio de Sanidad</a>, <a href=\"https://github.com/pcm-dpc/COVID-19\" target=\"_blank\">Dipartimento della Protezione Civile de Italia</a>, <a href=\"https://www.rki.de/DE/Content/InfAZ/N/Neuartiges_Coronavirus/Situationsberichte/Gesamt.html\" target=\"_blank\">Robert Koch Institute</a> and <a href=\"https://systems.jhu.edu/research/public-health/ncov/\" target=\"_blank\">Johns Hopkins University</a>.</p>',\n    'picurl_world': 'https://4i2g925ohj.execute-api.eu-west-3.amazonaws.com/pro/coronavirus?confirmed_num=5%2C541%2C207&actives_num=2%2C916%2C416&recovered_num=2%2C284%2C110&deaths_num=340%2C681&date=27%20de%20mayo%20del%202020&top_paises1=EE.UU.%3A%201%2C681%2C212&top_paises2=Brasil%3A%20391%2C222&top_paises3=Rusia%3A%20362%2C342&client=default&region=world',\n    'picurl': 'https://4i2g925ohj.execute-api.eu-west-3.amazonaws.com/pro/coronavirus?confirmed_num=233%2C037&confirmed_today_num=344&deaths_today_num=48&deaths_num=27%2C940&date=27%20de%20mayo%20del%202020&top_comunidades=Madrid%20%2867%2C049%29%2C%20Catalu%C3%B1a%20%2855%2C888%29%2C%20Castilla%20y%20Le%C3%B3n%20%2818%2C627%29&client=default&region=spain',\n    'metatitle': '',\n    'subtitle': '',\n    'picurl_banner_web': 'https://4i2g925ohj.execute-api.eu-west-3.amazonaws.com/pro/coronavirus?confirmed_num=5%2C541%2C207&actives_num=2%2C916%2C416&recovered_num=2%2C284%2C110&deaths_num=340%2C681&region_confirmed_num=233%2C037&region_confirmed_today_num=344&region_deaths_today_num=48&region_deaths_num=27%2C940&date=27%20de%20mayo%20del%202020&top_paises1=EE.UU.&top_paises2=Brasil&top_paises3=Rusia&top_paises1_num=1%2C681%2C212&top_paises2_num=391%2C222&top_paises3_num=362%2C342&top_comunidades1=Madrid&top_comunidades2=Catalu%C3%B1a&top_comunidades3=Castilla%20y%20Le%C3%B3n&top_comunidades1_num=67%2C049&top_comunidades2_num=55%2C888&top_comunidades3_num=18%2C627&gen_date=2020/05/27&gen_time=07%3A00&client=default_web&region=world',\n    '_id': '2b8c001e193e5a19ee09d5f677e719cb',\n    'id': '2020-5-27-07_01-COVID-world-en_generic_COVID_EN_GENERIC'}]}}"
     },
     "metadata": {},
     "execution_count": 2
    }
   ],
   "source": [
    "r = requests.get(url='https://covid19tracking.narrativa.com/feed_en.json') #hago la peticion de datos a la url y \n",
    "json_readed = json.loads(r.text)                                           #los guardo en una variable \"r\"\n",
    "json_readed"
   ]
  },
  {
   "cell_type": "markdown",
   "metadata": {},
   "source": [
    "Save json in a local file called \"data.json\""
   ]
  },
  {
   "cell_type": "code",
   "execution_count": 3,
   "metadata": {},
   "outputs": [],
   "source": [
    "with open('data.json', 'w+') as outfile: #que abra un archivo json en modo w y si no exite que lo cree con nombre\n",
    "    json.dump(json_readed, outfile)     # \"outfile\". dump vuelca los datos"
   ]
  },
  {
   "cell_type": "code",
   "execution_count": 4,
   "metadata": {
    "tags": [
     "outputPrepend"
    ]
   },
   "outputs": [
    {
     "output_type": "stream",
     "name": "stdout",
     "text": "d_num=2%2C285%2C537&deaths_num=340%2C801&region_confirmed_num=233%2C037&region_confirmed_today_num=344&region_deaths_today_num=48&region_deaths_num=27%2C940&date=27%20de%20mayo%20del%202020&top_paises1=EE.UU.&top_paises2=Brasil&top_paises3=Rusia&top_paises1_num=1%2C681%2C418&top_paises2_num=391%2C222&top_paises3_num=362%2C342&top_comunidades1=Madrid&top_comunidades2=Catalu%C3%B1a&top_comunidades3=Castilla%20y%20Le%C3%B3n&top_comunidades1_num=67%2C049&top_comunidades2_num=55%2C888&top_comunidades3_num=18%2C627&gen_date=2020/05/27&gen_time=08%3A58&client=default_web&region=world\", \"_id\": \"6658f6eb15b745e282dee2ccf6131ac7\", \"id\": \"2020-5-27-09_01-COVID-world-en_generic_COVID_EN_GENERIC\"}, {\"date\": \"2020-05-27T08:02:18+02:00\", \"metadata\": {\"picurl_square_spain\": \"https://4i2g925ohj.execute-api.eu-west-3.amazonaws.com/pro/coronavirus?confirmed_num=233%2C037&actives_num=54%2C721&recovered_num=150%2C376&deaths_num=27%2C940&date=27%20de%20mayo%20del%202020&region=spain&aspect_ratio=square&client=default\", \"picurl_square_spain_extended\": \"https://4i2g925ohj.execute-api.eu-west-3.amazonaws.com/pro/coronavirus?confirmed_num=233%2C037&confirmed_today_num=344&deaths_today_num=48&deaths_num=27%2C940&date=27%20de%20mayo%20del%202020&region=spain&aspect_ratio=square&client=default&extended=true\", \"graphs\": {\"graph_picurl_china\": \"https://resources.gabriele.ai/coronavirus/2020-5-27-08_01-COVID-world-en_generic_COVID_EN_GENERIC_china.png\", \"graph_picurl_us\": \"https://resources.gabriele.ai/coronavirus/2020-5-27-08_01-COVID-world-en_generic_COVID_EN_GENERIC_us.png\", \"graph_picurl_deaths_evolution\": \"https://resources.gabriele.ai/coronavirus/2020-5-27-08_01-COVID-world-en_generic_COVID_EN_GENERIC_deaths_evolution.png\", \"graph_picurl_world\": \"https://resources.gabriele.ai/coronavirus/2020-5-27-08_01-COVID-world-en_generic_COVID_EN_GENERIC_world.png\", \"graph_picurl_china_confirmed\": \"https://resources.gabriele.ai/coronavirus/2020-5-27-08_01-COVID-world-en_generic_COVID_EN_GENERIC_china_confirmed.png\", \"graph_picurl_us_confirmed\": \"https://resources.gabriele.ai/coronavirus/2020-5-27-08_01-COVID-world-en_generic_COVID_EN_GENERIC_us_confirmed.png\", \"graph_picurl_spain_deaths\": \"https://resources.gabriele.ai/coronavirus/2020-5-27-08_01-COVID-world-en_generic_COVID_EN_GENERIC_spain_deaths.png\", \"graph_picurl_us_recovered\": \"https://resources.gabriele.ai/coronavirus/2020-5-27-08_01-COVID-world-en_generic_COVID_EN_GENERIC_us_recovered.png\", \"graph_picurl_deaths_log_evolution\": \"https://resources.gabriele.ai/coronavirus/2020-5-27-08_01-COVID-world-en_generic_COVID_EN_GENERIC_deaths_log_evolution.png\", \"graph_picurl_italy\": \"https://resources.gabriele.ai/coronavirus/2020-5-27-08_01-COVID-world-en_generic_COVID_EN_GENERIC_italy.png\", \"graph_picurl_italy_recovered\": \"https://resources.gabriele.ai/coronavirus/2020-5-27-08_01-COVID-world-en_generic_COVID_EN_GENERIC_italy_recovered.png\", \"graph_picurl_us_deaths\": \"https://resources.gabriele.ai/coronavirus/2020-5-27-08_01-COVID-world-en_generic_COVID_EN_GENERIC_us_deaths.png\", \"graph_picurl_italy_deaths\": \"https://resources.gabriele.ai/coronavirus/2020-5-27-08_01-COVID-world-en_generic_COVID_EN_GENERIC_italy_deaths.png\", \"graph_picurl_china_deaths\": \"https://resources.gabriele.ai/coronavirus/2020-5-27-08_01-COVID-world-en_generic_COVID_EN_GENERIC_china_deaths.png\", \"graph_picurl_italy_confirmed\": \"https://resources.gabriele.ai/coronavirus/2020-5-27-08_01-COVID-world-en_generic_COVID_EN_GENERIC_italy_confirmed.png\", \"graph_picurl_spain_confirmed\": \"https://resources.gabriele.ai/coronavirus/2020-5-27-08_01-COVID-world-en_generic_COVID_EN_GENERIC_spain_confirmed.png\", \"graph_picurl_china_recovered\": \"https://resources.gabriele.ai/coronavirus/2020-5-27-08_01-COVID-world-en_generic_COVID_EN_GENERIC_china_recovered.png\"}, \"picurl_square_world\": \"https://4i2g925ohj.execute-api.eu-west-3.amazonaws.com/pro/coronavirus?confirmed_num=5%2C543%2C288&actives_num=2%2C917%2C564&recovered_num=2%2C284%2C992&deaths_num=340%2C732&date=27%20de%20mayo%20del%202020&region=world&aspect_ratio=square&client=default\", \"picurl_16_9_spain\": \"https://4i2g925ohj.execute-api.eu-west-3.amazonaws.com/pro/coronavirus?confirmed_num=5%2C543%2C288&deaths_num=340%2C732&date=27%20de%20mayo%20del%202020&top_countries=EE.UU.%20%281%2C681%2C418%29%2C%20Brasil%20%28391%2C222%29%2C%20Rusia%20%28362%2C342%29&top_spain=Madrid%20%2867%2C049%29%2C%20Catalu%C3%B1a%20%2855%2C888%29%2C%20Castilla%20y%20Le%C3%B3n%20%2818%2C627%29&region=spain&aspect_ratio=16_9&client=default\", \"composition_type\": \"world\", \"country_selected\": null, \"picurl_square_world_extended\": \"https://4i2g925ohj.execute-api.eu-west-3.amazonaws.com/pro/coronavirus?confirmed_num=5%2C543%2C288&actives_num=2%2C917%2C564&recovered_num=2%2C284%2C992&deaths_num=340%2C732&date=27%20de%20mayo%20del%202020&region=world&aspect_ratio=square&client=default&extended=true\", \"state_selected\": null}, \"author\": \"Narrativa\", \"_rev\": \"1-b0475f2d73f83dd45bfe7c8e27816239\", \"language\": \"en_generic\", \"title\": \"Coronavirus outbreak latest: <strong>458</strong> new deaths confirmed worldwide\", \"content\": \"<p><small>Narrativa | Wednesday, May 27, 2020 </small></p><p>There are now <strong>5,543,288</strong> <strong>people infected worldwide</strong>. Of these, <strong>2,284,992</strong></strong> have already recovered, according to the data <a href=\\\"https://systems.jhu.edu/research/public-health/ncov/\\\" target=\\\"_blank\\\">provided by Johns Hopkins University</a>. <b>The US</b> has the most cases with <strong>1,681,418</strong>, followed by <b> Brazil</b>, <b> Russia</b>, and <b>The United Kingdom</b>, who have confirmed <strong>391,222, 362,342, and 266,599</strong> cases respectively.</p><h4>COVID-19 Status Worldwide</h4><p><table width=\\\"100%\\\"><thead><tr><th><strong>Active Cases</strong></th><th colspan=\\\"2\\\"><strong>Infected</strong></th><th colspan=\\\"2\\\"><strong>Deaths</strong></th><th colspan=\\\"2\\\"><strong>Recovered</strong></th></tr><tr><th>Total</th><th>Total</th><th>Last 24h</th><th>Total</th><th>Last 24h</th><th>Total</th><th>Last 24h</th></tr></thead><tbody><tr><td>1. The US: 1,197,587</td><td>1. The US: 1,681,418</td><td>1. Pakistan: 1,446</td><td>1. The US: 98,929</td><td>1. France: 83</td><td>1. The US: 384,902</strong></td><td>1. Italy: 2,677</strong></td></tr><tr><td>2. The United Kingdom: 228,307</td><td>2. Brazil: 391,222</td><td>2. The United Kingdom: 1,372</td><td>2. The United Kingdom: 37,130</td><td>2. The United Kingdom: 82</td><td>2. Germany: 161,967</strong></td><td>2. Mexico: 2,256</strong></td></tr><tr><td>3. Russia: 227,406</td><td>3. Russia: 362,342</td><td>3. The US: 1,117</td><td>3. Italy: 32,955</td><td>3. Italy: 78</td><td>3. Brazil: 158,593</strong></td><td>3. Pakistan: 828</strong></td></tr></tbody></table></p><p>Over the last 24 hours, there has been a <strong>0.15</strong>% growth with <strong>8,401</strong> new cases. <strong> Pakistan</strong> is reporting the highest number of new cases with <strong>1,446</strong>, followed by <b>The United Kingdom</b> with <strong>1,372</strong>. <strong>The US</strong> and <strong> India</strong> are not far behind, with <strong>1,117</strong> and <strong>1,064</strong> new cases respectively.</p><p> </p><p>So far, <strong> 340,732 people</strong> have died from the coronavirus worldwide. <strong>The US</strong> is the country with the highest count so far with <strong>98,929</strong> deceased, followed by <strong>The United Kingdom, Italy, and Spain</strong> with <strong>37,130, 32,955, and 27,940</strong> deaths respectively.</p><p>The first news of this new strain of coronavirus appeared in <strong>China</strong>, in the city of <strong>Wuhan</strong>, on <strong>31 December 2019</strong>. Since then, the infection has spread across the Asian continent and the globe. At the moment, cases in China have grown to <strong>1</strong> new cases since yesterday. Overall, <strong>107</strong> people are infected with the virus.</p><hr><p><strong>Note</strong>: This article has been <strong><u>generated automatically by <a href=\\\"https://www.narrativa.com\\\" target=\\\"_blank\\\">Narrativa</a></u></strong> from the data by <a href=\\\"https://www.mscbs.gob.es/profesionales/saludPublica/ccayes/alertasActual/nCov-China/situacionActual.htm\\\" target=\\\"_blank\\\">Ministerio de Sanidad</a>, <a href=\\\"https://github.com/pcm-dpc/COVID-19\\\" target=\\\"_blank\\\">Dipartimento della Protezione Civile de Italia</a>, <a href=\\\"https://www.rki.de/DE/Content/InfAZ/N/Neuartiges_Coronavirus/Situationsberichte/Gesamt.html\\\" target=\\\"_blank\\\">Robert Koch Institute</a> and <a href=\\\"https://systems.jhu.edu/research/public-health/ncov/\\\" target=\\\"_blank\\\">Johns Hopkins University</a>.</p>\", \"picurl_world\": \"https://4i2g925ohj.execute-api.eu-west-3.amazonaws.com/pro/coronavirus?confirmed_num=5%2C543%2C288&actives_num=2%2C917%2C564&recovered_num=2%2C284%2C992&deaths_num=340%2C732&date=27%20de%20mayo%20del%202020&top_paises1=EE.UU.%3A%201%2C681%2C418&top_paises2=Brasil%3A%20391%2C222&top_paises3=Rusia%3A%20362%2C342&client=default&region=world\", \"picurl\": \"https://4i2g925ohj.execute-api.eu-west-3.amazonaws.com/pro/coronavirus?confirmed_num=233%2C037&confirmed_today_num=344&deaths_today_num=48&deaths_num=27%2C940&date=27%20de%20mayo%20del%202020&top_comunidades=Madrid%20%2867%2C049%29%2C%20Catalu%C3%B1a%20%2855%2C888%29%2C%20Castilla%20y%20Le%C3%B3n%20%2818%2C627%29&client=default&region=spain\", \"metatitle\": \"\", \"subtitle\": \"\", \"picurl_banner_web\": \"https://4i2g925ohj.execute-api.eu-west-3.amazonaws.com/pro/coronavirus?confirmed_num=5%2C543%2C288&actives_num=2%2C917%2C564&recovered_num=2%2C284%2C992&deaths_num=340%2C732&region_confirmed_num=233%2C037&region_confirmed_today_num=344&region_deaths_today_num=48&region_deaths_num=27%2C940&date=27%20de%20mayo%20del%202020&top_paises1=EE.UU.&top_paises2=Brasil&top_paises3=Rusia&top_paises1_num=1%2C681%2C418&top_paises2_num=391%2C222&top_paises3_num=362%2C342&top_comunidades1=Madrid&top_comunidades2=Catalu%C3%B1a&top_comunidades3=Castilla%20y%20Le%C3%B3n&top_comunidades1_num=67%2C049&top_comunidades2_num=55%2C888&top_comunidades3_num=18%2C627&gen_date=2020/05/27&gen_time=08%3A01&client=default_web&region=world\", \"_id\": \"2b8c001e193e5a19ee09d5f677fbbcd1\", \"id\": \"2020-5-27-08_01-COVID-world-en_generic_COVID_EN_GENERIC\"}, {\"date\": \"2020-05-27T07:02:16+02:00\", \"metadata\": {\"picurl_square_spain\": \"https://4i2g925ohj.execute-api.eu-west-3.amazonaws.com/pro/coronavirus?confirmed_num=233%2C037&actives_num=54%2C721&recovered_num=150%2C376&deaths_num=27%2C940&date=27%20de%20mayo%20del%202020&region=spain&aspect_ratio=square&client=default\", \"picurl_square_spain_extended\": \"https://4i2g925ohj.execute-api.eu-west-3.amazonaws.com/pro/coronavirus?confirmed_num=233%2C037&confirmed_today_num=344&deaths_today_num=48&deaths_num=27%2C940&date=27%20de%20mayo%20del%202020&region=spain&aspect_ratio=square&client=default&extended=true\", \"graphs\": {\"graph_picurl_china\": \"https://resources.gabriele.ai/coronavirus/2020-5-27-07_01-COVID-world-en_generic_COVID_EN_GENERIC_china.png\", \"graph_picurl_us\": \"https://resources.gabriele.ai/coronavirus/2020-5-27-07_01-COVID-world-en_generic_COVID_EN_GENERIC_us.png\", \"graph_picurl_deaths_evolution\": \"https://resources.gabriele.ai/coronavirus/2020-5-27-07_01-COVID-world-en_generic_COVID_EN_GENERIC_deaths_evolution.png\", \"graph_picurl_world\": \"https://resources.gabriele.ai/coronavirus/2020-5-27-07_01-COVID-world-en_generic_COVID_EN_GENERIC_world.png\", \"graph_picurl_china_confirmed\": \"https://resources.gabriele.ai/coronavirus/2020-5-27-07_01-COVID-world-en_generic_COVID_EN_GENERIC_china_confirmed.png\", \"graph_picurl_us_confirmed\": \"https://resources.gabriele.ai/coronavirus/2020-5-27-07_01-COVID-world-en_generic_COVID_EN_GENERIC_us_confirmed.png\", \"graph_picurl_spain_deaths\": \"https://resources.gabriele.ai/coronavirus/2020-5-27-07_01-COVID-world-en_generic_COVID_EN_GENERIC_spain_deaths.png\", \"graph_picurl_us_recovered\": \"https://resources.gabriele.ai/coronavirus/2020-5-27-07_01-COVID-world-en_generic_COVID_EN_GENERIC_us_recovered.png\", \"graph_picurl_deaths_log_evolution\": \"https://resources.gabriele.ai/coronavirus/2020-5-27-07_01-COVID-world-en_generic_COVID_EN_GENERIC_deaths_log_evolution.png\", \"graph_picurl_italy\": \"https://resources.gabriele.ai/coronavirus/2020-5-27-07_01-COVID-world-en_generic_COVID_EN_GENERIC_italy.png\", \"graph_picurl_italy_recovered\": \"https://resources.gabriele.ai/coronavirus/2020-5-27-07_01-COVID-world-en_generic_COVID_EN_GENERIC_italy_recovered.png\", \"graph_picurl_us_deaths\": \"https://resources.gabriele.ai/coronavirus/2020-5-27-07_01-COVID-world-en_generic_COVID_EN_GENERIC_us_deaths.png\", \"graph_picurl_italy_deaths\": \"https://resources.gabriele.ai/coronavirus/2020-5-27-07_01-COVID-world-en_generic_COVID_EN_GENERIC_italy_deaths.png\", \"graph_picurl_china_deaths\": \"https://resources.gabriele.ai/coronavirus/2020-5-27-07_01-COVID-world-en_generic_COVID_EN_GENERIC_china_deaths.png\", \"graph_picurl_italy_confirmed\": \"https://resources.gabriele.ai/coronavirus/2020-5-27-07_01-COVID-world-en_generic_COVID_EN_GENERIC_italy_confirmed.png\", \"graph_picurl_spain_confirmed\": \"https://resources.gabriele.ai/coronavirus/2020-5-27-07_01-COVID-world-en_generic_COVID_EN_GENERIC_spain_confirmed.png\", \"graph_picurl_china_recovered\": \"https://resources.gabriele.ai/coronavirus/2020-5-27-07_01-COVID-world-en_generic_COVID_EN_GENERIC_china_recovered.png\"}, \"picurl_square_world\": \"https://4i2g925ohj.execute-api.eu-west-3.amazonaws.com/pro/coronavirus?confirmed_num=5%2C541%2C207&actives_num=2%2C916%2C416&recovered_num=2%2C284%2C110&deaths_num=340%2C681&date=27%20de%20mayo%20del%202020&region=world&aspect_ratio=square&client=default\", \"picurl_16_9_spain\": \"https://4i2g925ohj.execute-api.eu-west-3.amazonaws.com/pro/coronavirus?confirmed_num=5%2C541%2C207&deaths_num=340%2C681&date=27%20de%20mayo%20del%202020&top_countries=EE.UU.%20%281%2C681%2C212%29%2C%20Brasil%20%28391%2C222%29%2C%20Rusia%20%28362%2C342%29&top_spain=Madrid%20%2867%2C049%29%2C%20Catalu%C3%B1a%20%2855%2C888%29%2C%20Castilla%20y%20Le%C3%B3n%20%2818%2C627%29&region=spain&aspect_ratio=16_9&client=default\", \"composition_type\": \"world\", \"country_selected\": null, \"picurl_square_world_extended\": \"https://4i2g925ohj.execute-api.eu-west-3.amazonaws.com/pro/coronavirus?confirmed_num=5%2C541%2C207&actives_num=2%2C916%2C416&recovered_num=2%2C284%2C110&deaths_num=340%2C681&date=27%20de%20mayo%20del%202020&region=world&aspect_ratio=square&client=default&extended=true\", \"state_selected\": null}, \"author\": \"Narrativa\", \"_rev\": \"1-a8e671f05b9a0ca0f434ee1ed4a66cd5\", \"language\": \"en_generic\", \"title\": \"Coronavirus outbreak latest: <strong>5,541,207</strong> people affected around the world\", \"content\": \"<p><small>Narrativa | Wednesday, May 27, 2020 </small></p><p>The number of COVID-19 cases has now reached <strong>5,541,207</strong> <strong>people worldwide</strong>. Of these, <strong>2,284,110</strong></strong> have already recovered, according to the data <a href=\\\"https://systems.jhu.edu/research/public-health/ncov/\\\" target=\\\"_blank\\\">provided by Johns Hopkins University</a>. <b>The US</b> has the most cases with <strong>1,681,212</strong>, followed by <b> Brazil</b>, <b> Russia</b>, and <b>The United Kingdom</b>, who have confirmed <strong>391,222, 362,342, and 266,599</strong> cases respectively.</p><h4>Status in the world</h4><p><table width=\\\"100%\\\"><thead><tr><th><strong>Currently Infected</strong></th><th colspan=\\\"2\\\"><strong>Infected</strong></th><th colspan=\\\"2\\\"><strong>Deaths</strong></th><th colspan=\\\"2\\\"><strong>Recovered</strong></th></tr><tr><th>Total</th><th>Total</th><th>Last 24h</th><th>Total</th><th>Last 24h</th><th>Total</th><th>Last 24h</th></tr></thead><tbody><tr><td>1. The US: 1,197,394</td><td>1. The US: 1,681,212</td><td>1. The United Kingdom: 1,372</td><td>1. The US: 98,916</td><td>1. France: 83</td><td>1. The US: 384,902</strong></td><td>1. Italy: 2,677</strong></td></tr><tr><td>2. The United Kingdom: 228,307</td><td>2. Brazil: 391,222</td><td>2. India: 1,064</td><td>2. The United Kingdom: 37,130</td><td>2. The United Kingdom: 82</td><td>2. Germany: 161,967</strong></td><td>2. Mexico: 2,256</strong></td></tr><tr><td>3. Russia: 227,406</td><td>3. Russia: 362,342</td><td>3. The US: 911</td><td>3. Italy: 32,955</td><td>3. Italy: 78</td><td>3. Brazil: 158,593</strong></td><td>3. Spain: 797</strong></td></tr></tbody></table></p><p>In addition, <strong>6,320</strong> new positive cases have been added in the last 24 hours, demonstrating a <strong>0.11</strong>% growth from the previous day. <strong>The United Kingdom</strong> is the country with the most new cases, having now confirmed <strong>1,372</strong>, followed by <b> India</b> with <strong>1,064</strong>. <strong>The US</strong> and <strong> Bolivia</strong> are not far behind, with <strong>476</strong> and <strong>476</strong> new patients respectively.</p><p> </p><p>So far, <strong> 340,681 people</strong> have died from the coronavirus worldwide. <strong>The US</strong> has the most victims so far with <strong>98,916</strong> deceased, followed by <strong>The United Kingdom, Italy, and Spain</strong> with <strong>37,130, 32,955, and 27,940</strong> deaths respectively.</p><p>The first cases of the virus appeared in <strong>China</strong>, in the city of <strong>Wuhan</strong>, on <strong>31 December 2019</strong>. Since that date, the number of infections have multiplied across the continent and later to other countries around the world. As of the latest reports, cases in China have increased to <strong>1</strong> new cases since Tuesday. Overall, <strong>107</strong> people are infected with the virus.</p><hr><p><strong>Note</strong>: This article has been <strong><u>generated automatically by <a href=\\\"https://www.narrativa.com\\\" target=\\\"_blank\\\">Narrativa</a></u></strong> from the data by <a href=\\\"https://www.mscbs.gob.es/profesionales/saludPublica/ccayes/alertasActual/nCov-China/situacionActual.htm\\\" target=\\\"_blank\\\">Ministerio de Sanidad</a>, <a href=\\\"https://github.com/pcm-dpc/COVID-19\\\" target=\\\"_blank\\\">Dipartimento della Protezione Civile de Italia</a>, <a href=\\\"https://www.rki.de/DE/Content/InfAZ/N/Neuartiges_Coronavirus/Situationsberichte/Gesamt.html\\\" target=\\\"_blank\\\">Robert Koch Institute</a> and <a href=\\\"https://systems.jhu.edu/research/public-health/ncov/\\\" target=\\\"_blank\\\">Johns Hopkins University</a>.</p>\", \"picurl_world\": \"https://4i2g925ohj.execute-api.eu-west-3.amazonaws.com/pro/coronavirus?confirmed_num=5%2C541%2C207&actives_num=2%2C916%2C416&recovered_num=2%2C284%2C110&deaths_num=340%2C681&date=27%20de%20mayo%20del%202020&top_paises1=EE.UU.%3A%201%2C681%2C212&top_paises2=Brasil%3A%20391%2C222&top_paises3=Rusia%3A%20362%2C342&client=default&region=world\", \"picurl\": \"https://4i2g925ohj.execute-api.eu-west-3.amazonaws.com/pro/coronavirus?confirmed_num=233%2C037&confirmed_today_num=344&deaths_today_num=48&deaths_num=27%2C940&date=27%20de%20mayo%20del%202020&top_comunidades=Madrid%20%2867%2C049%29%2C%20Catalu%C3%B1a%20%2855%2C888%29%2C%20Castilla%20y%20Le%C3%B3n%20%2818%2C627%29&client=default&region=spain\", \"metatitle\": \"\", \"subtitle\": \"\", \"picurl_banner_web\": \"https://4i2g925ohj.execute-api.eu-west-3.amazonaws.com/pro/coronavirus?confirmed_num=5%2C541%2C207&actives_num=2%2C916%2C416&recovered_num=2%2C284%2C110&deaths_num=340%2C681&region_confirmed_num=233%2C037&region_confirmed_today_num=344&region_deaths_today_num=48&region_deaths_num=27%2C940&date=27%20de%20mayo%20del%202020&top_paises1=EE.UU.&top_paises2=Brasil&top_paises3=Rusia&top_paises1_num=1%2C681%2C212&top_paises2_num=391%2C222&top_paises3_num=362%2C342&top_comunidades1=Madrid&top_comunidades2=Catalu%C3%B1a&top_comunidades3=Castilla%20y%20Le%C3%B3n&top_comunidades1_num=67%2C049&top_comunidades2_num=55%2C888&top_comunidades3_num=18%2C627&gen_date=2020/05/27&gen_time=07%3A00&client=default_web&region=world\", \"_id\": \"2b8c001e193e5a19ee09d5f677e719cb\", \"id\": \"2020-5-27-07_01-COVID-world-en_generic_COVID_EN_GENERIC\"}]}}\n\n"
    }
   ],
   "source": [
    "with open('data.json') as f: #ahora leemos linea a linea\n",
    "    line = f.readline()\n",
    "    if line:\n",
    "        print(line)\n",
    "        line = f.readline()\n",
    "print(line)"
   ]
  },
  {
   "cell_type": "markdown",
   "metadata": {},
   "source": [
    "Save with indent"
   ]
  },
  {
   "cell_type": "code",
   "execution_count": 5,
   "metadata": {},
   "outputs": [
    {
     "output_type": "execute_result",
     "data": {
      "text/plain": "<module 'json' from 'C:\\\\Python3.8.3\\\\lib\\\\json\\\\__init__.py'>"
     },
     "metadata": {},
     "execution_count": 5
    }
   ],
   "source": [
    "with open('data_indented.json', 'w+') as outfile: #nuestra variable json_readed que contiene el archivo la podemos\n",
    "    json.dump(json_readed, outfile, indent=4)   #guardar identada para mejor lectura\n",
    "json"
   ]
  },
  {
   "cell_type": "markdown",
   "metadata": {},
   "source": [
    "Read local json\n"
   ]
  },
  {
   "cell_type": "code",
   "execution_count": 6,
   "metadata": {
    "tags": []
   },
   "outputs": [
    {
     "output_type": "stream",
     "name": "stdout",
     "text": "<class 'dict'>\n"
    }
   ],
   "source": [
    "with open('data_indented.json', 'r+') as outfile: #leemos el archivo que tenemos en local\n",
    "    json_readed = json.load(outfile)\n",
    "print(type(json_readed))\n"
   ]
  },
  {
   "cell_type": "code",
   "execution_count": 23,
   "metadata": {},
   "outputs": [
    {
     "output_type": "execute_result",
     "data": {
      "text/plain": "                                                   data\npost  [{'date': '2020-07-12T09:17:23+02:00', 'metada...",
      "text/html": "<div>\n<style scoped>\n    .dataframe tbody tr th:only-of-type {\n        vertical-align: middle;\n    }\n\n    .dataframe tbody tr th {\n        vertical-align: top;\n    }\n\n    .dataframe thead th {\n        text-align: right;\n    }\n</style>\n<table border=\"1\" class=\"dataframe\">\n  <thead>\n    <tr style=\"text-align: right;\">\n      <th></th>\n      <th>data</th>\n    </tr>\n  </thead>\n  <tbody>\n    <tr>\n      <th>post</th>\n      <td>[{'date': '2020-07-12T09:17:23+02:00', 'metada...</td>\n    </tr>\n  </tbody>\n</table>\n</div>"
     },
     "metadata": {},
     "execution_count": 23
    }
   ],
   "source": [
    "df_json_readed= pd.read_json(\"data_indented.json\") #vemos que se carga como dataframe. ya renemos una columna \"data\"\n",
    "df_json_readed"
   ]
  },
  {
   "cell_type": "markdown",
   "metadata": {},
   "source": [
    "### Data Mining & Data Wrangling\n",
    "As you can see, there are jsons inside the original json. For that, we have to mining the json (data mining) to be able to use it correctly (data wrangling). \n",
    "\n",
    "How do you solve this issue? Research about this and try a solution. "
   ]
  },
  {
   "cell_type": "code",
   "execution_count": 8,
   "metadata": {},
   "outputs": [
    {
     "output_type": "execute_result",
     "data": {
      "text/plain": "pandas.core.frame.DataFrame"
     },
     "metadata": {},
     "execution_count": 8
    }
   ],
   "source": [
    "df_json[\"data\"]\n",
    "type(df_json)   #vemos que data es type DataFrame"
   ]
  },
  {
   "cell_type": "code",
   "execution_count": 9,
   "metadata": {
    "tags": []
   },
   "outputs": [
    {
     "output_type": "stream",
     "name": "stdout",
     "text": "post\n"
    }
   ],
   "source": [
    "with open (\"data_indented.json\",\"r\")as outfile: #accedo a los datos del diccionario que son otros json\n",
    "    json_readed=json.load(outfile)\n",
    "    for dict_ in json_readed [\"data\"]:\n",
    "        print(dict_)"
   ]
  },
  {
   "cell_type": "code",
   "execution_count": 19,
   "metadata": {
    "tags": []
   },
   "outputs": [],
   "source": [
    "with open (\"data_indented.json\",\"r+\") as outfile: #leemos el fichero data_idented y guardamos sus datos en una \n",
    "    json_readed=json.load(outfile)                  #variable\n",
    "    data_json_list=json_readed [\"data\"]\n",
    "\n"
   ]
  },
  {
   "cell_type": "code",
   "execution_count": 11,
   "metadata": {},
   "outputs": [],
   "source": [
    "with open (\"final_data.json\", \"w+\") as outfile: #guardamos los datos en un fichero final_data.json\n",
    "    json.dump(data_json_list, outfile,indent=4)"
   ]
  },
  {
   "cell_type": "code",
   "execution_count": 24,
   "metadata": {},
   "outputs": [
    {
     "output_type": "execute_result",
     "data": {
      "text/plain": "                                                  post\n0    {'date': '2020-07-12T09:17:23+02:00', 'metadat...\n1    {'date': '2020-07-12T08:25:52+02:00', 'metadat...\n2    {'date': '2020-07-12T07:26:21+02:00', 'metadat...\n3    {'date': '2020-07-12T06:30:35+02:00', 'metadat...\n4    {'date': '2020-07-12T05:36:52+02:00', 'metadat...\n..                                                 ...\n995  {'date': '2020-05-27T11:06:53+02:00', 'metadat...\n996  {'date': '2020-05-27T10:05:09+02:00', 'metadat...\n997  {'date': '2020-05-27T09:04:46+02:00', 'metadat...\n998  {'date': '2020-05-27T08:02:18+02:00', 'metadat...\n999  {'date': '2020-05-27T07:02:16+02:00', 'metadat...\n\n[1000 rows x 1 columns]",
      "text/html": "<div>\n<style scoped>\n    .dataframe tbody tr th:only-of-type {\n        vertical-align: middle;\n    }\n\n    .dataframe tbody tr th {\n        vertical-align: top;\n    }\n\n    .dataframe thead th {\n        text-align: right;\n    }\n</style>\n<table border=\"1\" class=\"dataframe\">\n  <thead>\n    <tr style=\"text-align: right;\">\n      <th></th>\n      <th>post</th>\n    </tr>\n  </thead>\n  <tbody>\n    <tr>\n      <th>0</th>\n      <td>{'date': '2020-07-12T09:17:23+02:00', 'metadat...</td>\n    </tr>\n    <tr>\n      <th>1</th>\n      <td>{'date': '2020-07-12T08:25:52+02:00', 'metadat...</td>\n    </tr>\n    <tr>\n      <th>2</th>\n      <td>{'date': '2020-07-12T07:26:21+02:00', 'metadat...</td>\n    </tr>\n    <tr>\n      <th>3</th>\n      <td>{'date': '2020-07-12T06:30:35+02:00', 'metadat...</td>\n    </tr>\n    <tr>\n      <th>4</th>\n      <td>{'date': '2020-07-12T05:36:52+02:00', 'metadat...</td>\n    </tr>\n    <tr>\n      <th>...</th>\n      <td>...</td>\n    </tr>\n    <tr>\n      <th>995</th>\n      <td>{'date': '2020-05-27T11:06:53+02:00', 'metadat...</td>\n    </tr>\n    <tr>\n      <th>996</th>\n      <td>{'date': '2020-05-27T10:05:09+02:00', 'metadat...</td>\n    </tr>\n    <tr>\n      <th>997</th>\n      <td>{'date': '2020-05-27T09:04:46+02:00', 'metadat...</td>\n    </tr>\n    <tr>\n      <th>998</th>\n      <td>{'date': '2020-05-27T08:02:18+02:00', 'metadat...</td>\n    </tr>\n    <tr>\n      <th>999</th>\n      <td>{'date': '2020-05-27T07:02:16+02:00', 'metadat...</td>\n    </tr>\n  </tbody>\n</table>\n<p>1000 rows × 1 columns</p>\n</div>"
     },
     "metadata": {},
     "execution_count": 24
    }
   ],
   "source": [
    "df_data_json_list=pd.read_json (\"final_data.json\") #creamos un pandas y cargamos el fichero con pandas\n",
    "df_data_json_list\n"
   ]
  },
  {
   "cell_type": "code",
   "execution_count": 26,
   "metadata": {},
   "outputs": [
    {
     "output_type": "execute_result",
     "data": {
      "text/plain": "                                                   post  \\\n0     {'date': '2020-07-12T09:17:23+02:00', 'metadat...   \n1     {'date': '2020-07-12T08:25:52+02:00', 'metadat...   \n2     {'date': '2020-07-12T07:26:21+02:00', 'metadat...   \n3     {'date': '2020-07-12T06:30:35+02:00', 'metadat...   \n4     {'date': '2020-07-12T05:36:52+02:00', 'metadat...   \n...                                                 ...   \n996   {'date': '2020-05-27T10:05:09+02:00', 'metadat...   \n997   {'date': '2020-05-27T09:04:46+02:00', 'metadat...   \n998   {'date': '2020-05-27T08:02:18+02:00', 'metadat...   \n999   {'date': '2020-05-27T07:02:16+02:00', 'metadat...   \npost                                                NaN   \n\n                                                   data  \n0                                                   NaN  \n1                                                   NaN  \n2                                                   NaN  \n3                                                   NaN  \n4                                                   NaN  \n...                                                 ...  \n996                                                 NaN  \n997                                                 NaN  \n998                                                 NaN  \n999                                                 NaN  \npost  [{'date': '2020-07-12T09:17:23+02:00', 'metada...  \n\n[1001 rows x 2 columns]",
      "text/html": "<div>\n<style scoped>\n    .dataframe tbody tr th:only-of-type {\n        vertical-align: middle;\n    }\n\n    .dataframe tbody tr th {\n        vertical-align: top;\n    }\n\n    .dataframe thead th {\n        text-align: right;\n    }\n</style>\n<table border=\"1\" class=\"dataframe\">\n  <thead>\n    <tr style=\"text-align: right;\">\n      <th></th>\n      <th>post</th>\n      <th>data</th>\n    </tr>\n  </thead>\n  <tbody>\n    <tr>\n      <th>0</th>\n      <td>{'date': '2020-07-12T09:17:23+02:00', 'metadat...</td>\n      <td>NaN</td>\n    </tr>\n    <tr>\n      <th>1</th>\n      <td>{'date': '2020-07-12T08:25:52+02:00', 'metadat...</td>\n      <td>NaN</td>\n    </tr>\n    <tr>\n      <th>2</th>\n      <td>{'date': '2020-07-12T07:26:21+02:00', 'metadat...</td>\n      <td>NaN</td>\n    </tr>\n    <tr>\n      <th>3</th>\n      <td>{'date': '2020-07-12T06:30:35+02:00', 'metadat...</td>\n      <td>NaN</td>\n    </tr>\n    <tr>\n      <th>4</th>\n      <td>{'date': '2020-07-12T05:36:52+02:00', 'metadat...</td>\n      <td>NaN</td>\n    </tr>\n    <tr>\n      <th>...</th>\n      <td>...</td>\n      <td>...</td>\n    </tr>\n    <tr>\n      <th>996</th>\n      <td>{'date': '2020-05-27T10:05:09+02:00', 'metadat...</td>\n      <td>NaN</td>\n    </tr>\n    <tr>\n      <th>997</th>\n      <td>{'date': '2020-05-27T09:04:46+02:00', 'metadat...</td>\n      <td>NaN</td>\n    </tr>\n    <tr>\n      <th>998</th>\n      <td>{'date': '2020-05-27T08:02:18+02:00', 'metadat...</td>\n      <td>NaN</td>\n    </tr>\n    <tr>\n      <th>999</th>\n      <td>{'date': '2020-05-27T07:02:16+02:00', 'metadat...</td>\n      <td>NaN</td>\n    </tr>\n    <tr>\n      <th>post</th>\n      <td>NaN</td>\n      <td>[{'date': '2020-07-12T09:17:23+02:00', 'metada...</td>\n    </tr>\n  </tbody>\n</table>\n<p>1001 rows × 2 columns</p>\n</div>"
     },
     "metadata": {},
     "execution_count": 26
    }
   ],
   "source": [
    "final_df=pd.concat([df_data_json_list,df_json_readed],axis=1,sort=False) #ahora concateno los dos dataframe por columnas. \n",
    "final_df"
   ]
  },
  {
   "cell_type": "code",
   "execution_count": null,
   "metadata": {},
   "outputs": [],
   "source": []
  }
 ],
 "metadata": {
  "language_info": {
   "name": "python",
   "codemirror_mode": {
    "name": "ipython",
    "version": 3
   },
   "version": "3.6.4-final"
  },
  "orig_nbformat": 2,
  "file_extension": ".py",
  "mimetype": "text/x-python",
  "name": "python",
  "npconvert_exporter": "python",
  "pygments_lexer": "ipython3",
  "version": 3,
  "kernelspec": {
   "name": "python_defaultSpec_1594542043930",
   "display_name": "Python 3.8.3 32-bit"
  }
 },
 "nbformat": 4,
 "nbformat_minor": 2
}