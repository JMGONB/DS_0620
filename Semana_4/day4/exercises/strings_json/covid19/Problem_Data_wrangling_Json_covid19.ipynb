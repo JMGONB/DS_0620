{
 "cells": [
  {
   "cell_type": "markdown",
   "metadata": {},
   "source": [
    "## Working on Jsons"
   ]
  },
  {
   "cell_type": "code",
   "execution_count": 1,
   "metadata": {},
   "outputs": [],
   "source": [
    "import requests  #importo las librerias necesarias\n",
    "import json\n",
    "import pandas as pd"
   ]
  },
  {
   "cell_type": "code",
   "execution_count": 2,
   "metadata": {
    "tags": []
   },
   "outputs": [
    {
     "output_type": "execute_result",
     "data": {
      "text/plain": "munidades3=Castilla%20y%20Le%C3%B3n&top_comunidades1_num=67%2C049&top_comunidades2_num=55%2C888&top_comunidades3_num=18%2C627&gen_date=2020/05/28&gen_time=14%3A11&client=default_web&region=world',\n    '_id': 'df2c7402c292508dccc86291880d1d49',\n    'id': '2020-5-28-14_01-COVID-world-en_generic_COVID_EN_GENERIC'},\n   {'date': '2020-05-28T13:55:13+02:00',\n    'metadata': {'picurl_square_spain': 'https://4i2g925ohj.execute-api.eu-west-3.amazonaws.com/pro/coronavirus?confirmed_num=233%2C037&actives_num=54%2C721&recovered_num=150%2C376&deaths_num=27%2C940&date=28%20de%20mayo%20del%202020&region=spain&aspect_ratio=square&client=default',\n     'picurl_square_spain_extended': 'https://4i2g925ohj.execute-api.eu-west-3.amazonaws.com/pro/coronavirus?confirmed_num=233%2C037&confirmed_today_num=344&deaths_today_num=48&deaths_num=27%2C940&date=28%20de%20mayo%20del%202020&region=spain&aspect_ratio=square&client=default&extended=true',\n     'graphs': {'graph_picurl_china': 'https://resources.gabriele.ai/coronavirus/2020-5-28-13_01-COVID-world-en_generic_COVID_EN_GENERIC_china.png',\n      'graph_picurl_us': 'https://resources.gabriele.ai/coronavirus/2020-5-28-13_01-COVID-world-en_generic_COVID_EN_GENERIC_us.png',\n      'graph_picurl_deaths_evolution': 'https://resources.gabriele.ai/coronavirus/2020-5-28-13_01-COVID-world-en_generic_COVID_EN_GENERIC_deaths_evolution.png',\n      'graph_picurl_world': 'https://resources.gabriele.ai/coronavirus/2020-5-28-13_01-COVID-world-en_generic_COVID_EN_GENERIC_world.png',\n      'graph_picurl_china_confirmed': 'https://resources.gabriele.ai/coronavirus/2020-5-28-13_01-COVID-world-en_generic_COVID_EN_GENERIC_china_confirmed.png',\n      'graph_picurl_us_confirmed': 'https://resources.gabriele.ai/coronavirus/2020-5-28-13_01-COVID-world-en_generic_COVID_EN_GENERIC_us_confirmed.png',\n      'graph_picurl_spain_deaths': 'https://resources.gabriele.ai/coronavirus/2020-5-28-13_01-COVID-world-en_generic_COVID_EN_GENERIC_spain_deaths.png',\n      'graph_picurl_us_recovered': 'https://resources.gabriele.ai/coronavirus/2020-5-28-13_01-COVID-world-en_generic_COVID_EN_GENERIC_us_recovered.png',\n      'graph_picurl_deaths_log_evolution': 'https://resources.gabriele.ai/coronavirus/2020-5-28-13_01-COVID-world-en_generic_COVID_EN_GENERIC_deaths_log_evolution.png',\n      'graph_picurl_italy': 'https://resources.gabriele.ai/coronavirus/2020-5-28-13_01-COVID-world-en_generic_COVID_EN_GENERIC_italy.png',\n      'graph_picurl_italy_recovered': 'https://resources.gabriele.ai/coronavirus/2020-5-28-13_01-COVID-world-en_generic_COVID_EN_GENERIC_italy_recovered.png',\n      'graph_picurl_us_deaths': 'https://resources.gabriele.ai/coronavirus/2020-5-28-13_01-COVID-world-en_generic_COVID_EN_GENERIC_us_deaths.png',\n      'graph_picurl_italy_deaths': 'https://resources.gabriele.ai/coronavirus/2020-5-28-13_01-COVID-world-en_generic_COVID_EN_GENERIC_italy_deaths.png',\n      'graph_picurl_china_deaths': 'https://resources.gabriele.ai/coronavirus/2020-5-28-13_01-COVID-world-en_generic_COVID_EN_GENERIC_china_deaths.png',\n      'graph_picurl_italy_confirmed': 'https://resources.gabriele.ai/coronavirus/2020-5-28-13_01-COVID-world-en_generic_COVID_EN_GENERIC_italy_confirmed.png',\n      'graph_picurl_spain_confirmed': 'https://resources.gabriele.ai/coronavirus/2020-5-28-13_01-COVID-world-en_generic_COVID_EN_GENERIC_spain_confirmed.png',\n      'graph_picurl_china_recovered': 'https://resources.gabriele.ai/coronavirus/2020-5-28-13_01-COVID-world-en_generic_COVID_EN_GENERIC_china_recovered.png'},\n     'picurl_square_world': 'https://4i2g925ohj.execute-api.eu-west-3.amazonaws.com/pro/coronavirus?confirmed_num=5%2C637%2C932&actives_num=2%2C928%2C656&recovered_num=2%2C363%2C902&deaths_num=345%2C374&date=28%20de%20mayo%20del%202020&region=world&aspect_ratio=square&client=default',\n     'picurl_16_9_spain': 'https://4i2g925ohj.execute-api.eu-west-3.amazonaws.com/pro/coronavirus?confirmed_num=5%2C637%2C932&deaths_num=345%2C374&date=28%20de%20mayo%20del%202020&top_countries=EE.UU.%20%281%2C699%2C933%29%2C%20Brasil%20%28411%2C821%29%2C%20Rusia%20%28379%2C051%29&top_spain=Madrid%20%2867%2C049%29%2C%20Catalu%C3%B1a%20%2855%2C888%29%2C%20Castilla%20y%20Le%C3%B3n%20%2818%2C627%29&region=spain&aspect_ratio=16_9&client=default',\n     'composition_type': 'world',\n     'country_selected': None,\n     'picurl_square_world_extended': 'https://4i2g925ohj.execute-api.eu-west-3.amazonaws.com/pro/coronavirus?confirmed_num=5%2C637%2C932&actives_num=2%2C928%2C656&recovered_num=2%2C363%2C902&deaths_num=345%2C374&date=28%20de%20mayo%20del%202020&region=world&aspect_ratio=square&client=default&extended=true',\n     'state_selected': None},\n    'author': 'Narrativa',\n    '_rev': '1-6d68f2ced837d30f1b846b5e6110b62a',\n    'language': 'en_generic',\n    'title': 'Coronavirus outbreak latest: <strong>1,668</strong> new cases reported worldwide',\n    'content': '<p><small>Narrativa | Thursday, May 28, 2020 </small></p><p>There are now <strong>5,637,932</strong> <strong>people infected worldwide</strong>, with <strong>2,363,902</strong></strong> of these having already recovered, according to the data <a href=\"https://systems.jhu.edu/research/public-health/ncov/\" target=\"_blank\">provided by Johns Hopkins University</a>. <b>The US</b> tops the list with <strong>1,699,933</strong> recorded cases, followed by <b> Brazil</b>, <b> Russia</b>, and <b>The United Kingdom</b>, who have confirmed <strong>411,821, 379,051, and 268,619</strong> cases respectively.</p><h4>Coronavirus in the world</h4><p><table width=\"100%\"><thead><tr><th><strong>Active Cases</strong></th><th colspan=\"2\"><strong>Infected</strong></th><th colspan=\"2\"><strong>Deaths</strong></th><th colspan=\"2\"><strong>Recovered</strong></th></tr><tr><th>Total</th><th>Total</th><th>Last 24h</th><th>Total</th><th>Last 24h</th><th>Total</th><th>Last 24h</th></tr></thead><tbody><tr><td>1. The US: 1,207,983</td><td>1. The US: 1,699,933</td><td>1. Russia: 8,371</td><td>1. The US: 100,442</td><td>1. Russia: 174</td><td>1. The US: 391,508</strong></td><td>1. Russia: 8,785</strong></td></tr><tr><td>2. The United Kingdom: 229,911</td><td>2. Brazil: 411,821</td><td>2. Iran: 2,258</td><td>2. The United Kingdom: 37,542</td><td>2. The US: 166</td><td>2. Brazil: 166,647</strong></td><td>2. Italy: 2,443</strong></td></tr><tr><td>3. Russia: 223,916</td><td>3. Russia: 379,051</td><td>3. Pakistan: 2,076</td><td>3. Italy: 33,072</td><td>3. Italy: 117</td><td>3. Germany: 163,010</strong></td><td>3. Mexico: 2,126</strong></td></tr></tbody></table></p><p>During the last 24 hours, there has been a <strong>0.03</strong>% increase with <strong>1,668</strong> new cases. <strong> Russia</strong> has the most new cases so far with <strong>8,371</strong>, followed by <b> Iran</b> with <strong>2,258</strong>. <strong> Pakistan</strong> and <strong> Bangladesh</strong> are not far behind, with <strong>2,076</strong> and <strong>2,029</strong> new patients respectively.</p><p> </p><p>Since the coronavirus outbreak started, a total of<strong> 345,374 people</strong> have died worldwide. <strong>The US</strong> has registered the most victims so far with <strong>100,442</strong> deceased, followed by <strong>The United Kingdom, Italy, and Spain</strong> with <strong>37,542, 33,072, and 27,940</strong> deaths respectively.</p><p>The first signs of the virus appeared in <strong>China</strong>, in the city of <strong>Wuhan</strong>, on <strong>31 December 2019</strong>. Since that date, the number of infections have multiplied across the continent and the globe. As of the latest reports, cases in China have grown to <strong>2</strong> new cases since Wednesday. Overall, <strong>98</strong> people are infected with the virus.</p><hr><p><strong>Note</strong>: This article has been <strong><u>generated automatically by <a href=\"https://www.narrativa.com\" target=\"_blank\">Narrativa</a></u></strong> from the data by <a href=\"https://www.mscbs.gob.es/profesionales/saludPublica/ccayes/alertasActual/nCov-China/situacionActual.htm\" target=\"_blank\">Ministerio de Sanidad</a>, <a href=\"https://github.com/pcm-dpc/COVID-19\" target=\"_blank\">Dipartimento della Protezione Civile de Italia</a>, <a href=\"https://www.rki.de/DE/Content/InfAZ/N/Neuartiges_Coronavirus/Situationsberichte/Gesamt.html\" target=\"_blank\">Robert Koch Institute</a> and <a href=\"https://systems.jhu.edu/research/public-health/ncov/\" target=\"_blank\">Johns Hopkins University</a>.</p>',\n    'picurl_world': 'https://4i2g925ohj.execute-api.eu-west-3.amazonaws.com/pro/coronavirus?confirmed_num=5%2C637%2C932&actives_num=2%2C928%2C656&recovered_num=2%2C363%2C902&deaths_num=345%2C374&date=28%20de%20mayo%20del%202020&top_paises1=EE.UU.%3A%201%2C699%2C933&top_paises2=Brasil%3A%20411%2C821&top_paises3=Rusia%3A%20379%2C051&client=default&region=world',\n    'picurl': 'https://4i2g925ohj.execute-api.eu-west-3.amazonaws.com/pro/coronavirus?confirmed_num=233%2C037&confirmed_today_num=344&deaths_today_num=48&deaths_num=27%2C940&date=28%20de%20mayo%20del%202020&top_comunidades=Madrid%20%2867%2C049%29%2C%20Catalu%C3%B1a%20%2855%2C888%29%2C%20Castilla%20y%20Le%C3%B3n%20%2818%2C627%29&client=default&region=spain',\n    'metatitle': '',\n    'subtitle': '',\n    'picurl_banner_web': 'https://4i2g925ohj.execute-api.eu-west-3.amazonaws.com/pro/coronavirus?confirmed_num=5%2C637%2C932&actives_num=2%2C928%2C656&recovered_num=2%2C363%2C902&deaths_num=345%2C374&region_confirmed_num=233%2C037&region_confirmed_today_num=344&region_deaths_today_num=48&region_deaths_num=27%2C940&date=28%20de%20mayo%20del%202020&top_paises1=EE.UU.&top_paises2=Brasil&top_paises3=Rusia&top_paises1_num=1%2C699%2C933&top_paises2_num=411%2C821&top_paises3_num=379%2C051&top_comunidades1=Madrid&top_comunidades2=Catalu%C3%B1a&top_comunidades3=Castilla%20y%20Le%C3%B3n&top_comunidades1_num=67%2C049&top_comunidades2_num=55%2C888&top_comunidades3_num=18%2C627&gen_date=2020/05/28&gen_time=13%3A35&client=default_web&region=world',\n    '_id': 'df2c7402c292508dccc8629188014dde',\n    'id': '2020-5-28-13_01-COVID-world-en_generic_COVID_EN_GENERIC'},\n   {'date': '2020-05-28T12:26:05+02:00',\n    'metadata': {'picurl_square_spain': 'https://4i2g925ohj.execute-api.eu-west-3.amazonaws.com/pro/coronavirus?confirmed_num=233%2C037&actives_num=54%2C721&recovered_num=150%2C376&deaths_num=27%2C940&date=28%20de%20mayo%20del%202020&region=spain&aspect_ratio=square&client=default',\n     'picurl_square_spain_extended': 'https://4i2g925ohj.execute-api.eu-west-3.amazonaws.com/pro/coronavirus?confirmed_num=233%2C037&confirmed_today_num=344&deaths_today_num=48&deaths_num=27%2C940&date=28%20de%20mayo%20del%202020&region=spain&aspect_ratio=square&client=default&extended=true',\n     'graphs': {'graph_picurl_china': 'https://resources.gabriele.ai/coronavirus/2020-5-28-12_01-COVID-world-en_generic_COVID_EN_GENERIC_china.png',\n      'graph_picurl_us': 'https://resources.gabriele.ai/coronavirus/2020-5-28-12_01-COVID-world-en_generic_COVID_EN_GENERIC_us.png',\n      'graph_picurl_deaths_evolution': 'https://resources.gabriele.ai/coronavirus/2020-5-28-12_01-COVID-world-en_generic_COVID_EN_GENERIC_deaths_evolution.png',\n      'graph_picurl_world': 'https://resources.gabriele.ai/coronavirus/2020-5-28-12_01-COVID-world-en_generic_COVID_EN_GENERIC_world.png',\n      'graph_picurl_china_confirmed': 'https://resources.gabriele.ai/coronavirus/2020-5-28-12_01-COVID-world-en_generic_COVID_EN_GENERIC_china_confirmed.png',\n      'graph_picurl_us_confirmed': 'https://resources.gabriele.ai/coronavirus/2020-5-28-12_01-COVID-world-en_generic_COVID_EN_GENERIC_us_confirmed.png',\n      'graph_picurl_spain_deaths': 'https://resources.gabriele.ai/coronavirus/2020-5-28-12_01-COVID-world-en_generic_COVID_EN_GENERIC_spain_deaths.png',\n      'graph_picurl_us_recovered': 'https://resources.gabriele.ai/coronavirus/2020-5-28-12_01-COVID-world-en_generic_COVID_EN_GENERIC_us_recovered.png',\n      'graph_picurl_deaths_log_evolution': 'https://resources.gabriele.ai/coronavirus/2020-5-28-12_01-COVID-world-en_generic_COVID_EN_GENERIC_deaths_log_evolution.png',\n      'graph_picurl_italy': 'https://resources.gabriele.ai/coronavirus/2020-5-28-12_01-COVID-world-en_generic_COVID_EN_GENERIC_italy.png',\n      'graph_picurl_italy_recovered': 'https://resources.gabriele.ai/coronavirus/2020-5-28-12_01-COVID-world-en_generic_COVID_EN_GENERIC_italy_recovered.png',\n      'graph_picurl_us_deaths': 'https://resources.gabriele.ai/coronavirus/2020-5-28-12_01-COVID-world-en_generic_COVID_EN_GENERIC_us_deaths.png',\n      'graph_picurl_italy_deaths': 'https://resources.gabriele.ai/coronavirus/2020-5-28-12_01-COVID-world-en_generic_COVID_EN_GENERIC_italy_deaths.png',\n      'graph_picurl_china_deaths': 'https://resources.gabriele.ai/coronavirus/2020-5-28-12_01-COVID-world-en_generic_COVID_EN_GENERIC_china_deaths.png',\n      'graph_picurl_italy_confirmed': 'https://resources.gabriele.ai/coronavirus/2020-5-28-12_01-COVID-world-en_generic_COVID_EN_GENERIC_italy_confirmed.png',\n      'graph_picurl_spain_confirmed': 'https://resources.gabriele.ai/coronavirus/2020-5-28-12_01-COVID-world-en_generic_COVID_EN_GENERIC_spain_confirmed.png',\n      'graph_picurl_china_recovered': 'https://resources.gabriele.ai/coronavirus/2020-5-28-12_01-COVID-world-en_generic_COVID_EN_GENERIC_china_recovered.png'},\n     'picurl_square_world': 'https://4i2g925ohj.execute-api.eu-west-3.amazonaws.com/pro/coronavirus?confirmed_num=5%2C658%2C868&actives_num=2%2C953%2C149&recovered_num=2%2C359%2C521&deaths_num=346%2C198&date=28%20de%20mayo%20del%202020&region=world&aspect_ratio=square&client=default',\n     'picurl_16_9_spain': 'https://4i2g925ohj.execute-api.eu-west-3.amazonaws.com/pro/coronavirus?confirmed_num=5%2C658%2C868&deaths_num=346%2C198&date=28%20de%20mayo%20del%202020&top_countries=EE.UU.%20%281%2C699%2C933%29%2C%20Brasil%20%28411%2C821%29%2C%20Rusia%20%28379%2C051%29&top_spain=Madrid%20%2867%2C049%29%2C%20Catalu%C3%B1a%20%2855%2C888%29%2C%20Castilla%20y%20Le%C3%B3n%20%2818%2C627%29&region=spain&aspect_ratio=16_9&client=default',\n     'composition_type': 'world',\n     'country_selected': None,\n     'picurl_square_world_extended': 'https://4i2g925ohj.execute-api.eu-west-3.amazonaws.com/pro/coronavirus?confirmed_num=5%2C658%2C868&actives_num=2%2C953%2C149&recovered_num=2%2C359%2C521&deaths_num=346%2C198&date=28%20de%20mayo%20del%202020&region=world&aspect_ratio=square&client=default&extended=true',\n     'state_selected': None},\n    'author': 'Narrativa',\n    '_rev': '1-27b05d532847f3930e2e4e0acf24eb37',\n    'language': 'en_generic',\n    'title': 'Coronavirus outbreak latest: <strong>22,604</strong> new cases reported worldwide',\n    'content': '<p><small>Narrativa | Thursday, May 28, 2020 </small></p><p>The number of COVID-19 cases worldwide is now at <strong>5,658,868</strong>, of which <strong>2,359,521</strong></strong> have already recovered, according to the data <a href=\"https://systems.jhu.edu/research/public-health/ncov/\" target=\"_blank\">provided by Johns Hopkins University</a>. <b>The US</b> has the most cases with <strong>1,699,933</strong>, followed by <b> Brazil</b>, <b> Russia</b>, and <b>The United Kingdom</b>, who have confirmed <strong>411,821, 379,051, and 268,619</strong> cases respectively.</p><h4>COVID-19 Status Worldwide</h4><p><table width=\"100%\"><thead><tr><th><strong>Currently Infected</strong></th><th colspan=\"2\"><strong>Infected</strong></th><th colspan=\"2\"><strong>Deaths</strong></th><th colspan=\"2\"><strong>Recovered</strong></th></tr><tr><th>Total</th><th>Total</th><th>Last 24h</th><th>Total</th><th>Last 24h</th><th>Total</th><th>Last 24h</th></tr></thead><tbody><tr><td>1. The US: 1,207,983</td><td>1. The US: 1,699,933</td><td>1. Russia: 8,371</td><td>1. The US: 100,442</td><td>1. Russia: 174</td><td>1. The US: 391,508</strong></td><td>1. Russia: 8,785</strong></td></tr><tr><td>2. The United Kingdom: 229,911</td><td>2. Brazil: 411,821</td><td>2. Pakistan: 2,076</td><td>2. The United Kingdom: 37,542</td><td>2. The US: 166</td><td>2. Brazil: 166,647</strong></td><td>2. Italy: 2,443</strong></td></tr><tr><td>3. Russia: 223,916</td><td>3. Russia: 379,051</td><td>3. Bangladesh: 2,029</td><td>3. Italy: 33,072</td><td>3. Italy: 117</td><td>3. Germany: 163,010</strong></td><td>3. Mexico: 2,126</strong></td></tr></tbody></table></p><p>Moreover, <strong>22,604</strong> new cases have been confirmed in the last 24 hours, which means an increase of <strong>0.4</strong>% from the previous day. <strong> Russia</strong> is the country with the most new cases, having now confirmed <strong>8,371</strong>, followed by <b> Pakistan</b> with <strong>2,076</strong>. <strong> Bangladesh</strong> and <strong>The United Kingdom</strong> are not far behind, with <strong>1,379</strong> and <strong>1,379</strong> new patients respectively.</p><p> </p><p>Since the beginning, <strong>the number of COVID-19 related deaths worldwide</strong> is <strong>346,198 people</strong>, including the <strong>862</strong> new deaths over last 24 hours. <strong>The US</strong> has the most victims so far with <strong>100,442</strong> deaths, followed by <strong>The United Kingdom, Italy, and Spain</strong> with <strong>37,542, 33,072, and 27,940</strong> deaths respectively.</p><p>The first evidences about this new strain of the virus appeared in <strong>China</strong>, in the city of <strong>Wuhan</strong>, on <strong>31 December 2019</strong>. Since that date, the number of infections have multiplied across the continent and the globe. As of the latest reports, cases in China have increased to <strong>2</strong> new cases since yesterday. Overall, <strong>98</strong> people are infected with coronavirus.</p><hr><p><strong>Note</strong>: This article has been <strong><u>generated automatically by <a href=\"https://www.narrativa.com\" target=\"_blank\">Narrativa</a></u></strong> from the data by <a href=\"https://www.mscbs.gob.es/profesionales/saludPublica/ccayes/alertasActual/nCov-China/situacionActual.htm\" target=\"_blank\">Ministerio de Sanidad</a>, <a href=\"https://github.com/pcm-dpc/COVID-19\" target=\"_blank\">Dipartimento della Protezione Civile de Italia</a>, <a href=\"https://www.rki.de/DE/Content/InfAZ/N/Neuartiges_Coronavirus/Situationsberichte/Gesamt.html\" target=\"_blank\">Robert Koch Institute</a> and <a href=\"https://systems.jhu.edu/research/public-health/ncov/\" target=\"_blank\">Johns Hopkins University</a>.</p>',\n    'picurl_world': 'https://4i2g925ohj.execute-api.eu-west-3.amazonaws.com/pro/coronavirus?confirmed_num=5%2C658%2C868&actives_num=2%2C953%2C149&recovered_num=2%2C359%2C521&deaths_num=346%2C198&date=28%20de%20mayo%20del%202020&top_paises1=EE.UU.%3A%201%2C699%2C933&top_paises2=Brasil%3A%20411%2C821&top_paises3=Rusia%3A%20379%2C051&client=default&region=world',\n    'picurl': 'https://4i2g925ohj.execute-api.eu-west-3.amazonaws.com/pro/coronavirus?confirmed_num=233%2C037&confirmed_today_num=344&deaths_today_num=48&deaths_num=27%2C940&date=28%20de%20mayo%20del%202020&top_comunidades=Madrid%20%2867%2C049%29%2C%20Catalu%C3%B1a%20%2855%2C888%29%2C%20Castilla%20y%20Le%C3%B3n%20%2818%2C627%29&client=default&region=spain',\n    'metatitle': '',\n    'subtitle': '',\n    'picurl_banner_web': 'https://4i2g925ohj.execute-api.eu-west-3.amazonaws.com/pro/coronavirus?confirmed_num=5%2C658%2C868&actives_num=2%2C953%2C149&recovered_num=2%2C359%2C521&deaths_num=346%2C198&region_confirmed_num=233%2C037&region_confirmed_today_num=344&region_deaths_today_num=48&region_deaths_num=27%2C940&date=28%20de%20mayo%20del%202020&top_paises1=EE.UU.&top_paises2=Brasil&top_paises3=Rusia&top_paises1_num=1%2C699%2C933&top_paises2_num=411%2C821&top_paises3_num=379%2C051&top_comunidades1=Madrid&top_comunidades2=Catalu%C3%B1a&top_comunidades3=Castilla%20y%20Le%C3%B3n&top_comunidades1_num=67%2C049&top_comunidades2_num=55%2C888&top_comunidades3_num=18%2C627&gen_date=2020/05/28&gen_time=12%3A16&client=default_web&region=world',\n    '_id': 'a9a97d8366303af830c81363bfe2ef34',\n    'id': '2020-5-28-12_01-COVID-world-en_generic_COVID_EN_GENERIC'}]}}"
     },
     "metadata": {},
     "execution_count": 2
    }
   ],
   "source": [
    "r = requests.get(url='https://covid19tracking.narrativa.com/feed_en.json') #hago la peticion de datos a la url y \n",
    "json_readed = json.loads(r.text)                                           #los guardo en una variable \"r\"\n",
    "json_readed"
   ]
  },
  {
   "cell_type": "markdown",
   "metadata": {},
   "source": [
    "Save json in a local file called \"data.json\""
   ]
  },
  {
   "cell_type": "code",
   "execution_count": 3,
   "metadata": {},
   "outputs": [],
   "source": [
    "with open('data.json', 'w+') as outfile: #que abra un archivo json en modo w y si no exite que lo cree con nombre\n",
    "    json.dump(json_readed, outfile)     # \"outfile\". dump vuelca los datos"
   ]
  },
  {
   "cell_type": "code",
   "execution_count": 4,
   "metadata": {
    "tags": [
     "outputPrepend"
    ]
   },
   "outputs": [
    {
     "output_type": "stream",
     "name": "stdout",
     "text": "%2C037&region_confirmed_today_num=344&region_deaths_today_num=48&region_deaths_num=27%2C940&date=28%20de%20mayo%20del%202020&top_paises1=EE.UU.&top_paises2=Brasil&top_paises3=Rusia&top_paises1_num=1%2C699%2C933&top_paises2_num=411%2C821&top_paises3_num=379%2C051&top_comunidades1=Madrid&top_comunidades2=Catalu%C3%B1a&top_comunidades3=Castilla%20y%20Le%C3%B3n&top_comunidades1_num=67%2C049&top_comunidades2_num=55%2C888&top_comunidades3_num=18%2C627&gen_date=2020/05/28&gen_time=14%3A11&client=default_web&region=world\", \"_id\": \"df2c7402c292508dccc86291880d1d49\", \"id\": \"2020-5-28-14_01-COVID-world-en_generic_COVID_EN_GENERIC\"}, {\"date\": \"2020-05-28T13:55:13+02:00\", \"metadata\": {\"picurl_square_spain\": \"https://4i2g925ohj.execute-api.eu-west-3.amazonaws.com/pro/coronavirus?confirmed_num=233%2C037&actives_num=54%2C721&recovered_num=150%2C376&deaths_num=27%2C940&date=28%20de%20mayo%20del%202020&region=spain&aspect_ratio=square&client=default\", \"picurl_square_spain_extended\": \"https://4i2g925ohj.execute-api.eu-west-3.amazonaws.com/pro/coronavirus?confirmed_num=233%2C037&confirmed_today_num=344&deaths_today_num=48&deaths_num=27%2C940&date=28%20de%20mayo%20del%202020&region=spain&aspect_ratio=square&client=default&extended=true\", \"graphs\": {\"graph_picurl_china\": \"https://resources.gabriele.ai/coronavirus/2020-5-28-13_01-COVID-world-en_generic_COVID_EN_GENERIC_china.png\", \"graph_picurl_us\": \"https://resources.gabriele.ai/coronavirus/2020-5-28-13_01-COVID-world-en_generic_COVID_EN_GENERIC_us.png\", \"graph_picurl_deaths_evolution\": \"https://resources.gabriele.ai/coronavirus/2020-5-28-13_01-COVID-world-en_generic_COVID_EN_GENERIC_deaths_evolution.png\", \"graph_picurl_world\": \"https://resources.gabriele.ai/coronavirus/2020-5-28-13_01-COVID-world-en_generic_COVID_EN_GENERIC_world.png\", \"graph_picurl_china_confirmed\": \"https://resources.gabriele.ai/coronavirus/2020-5-28-13_01-COVID-world-en_generic_COVID_EN_GENERIC_china_confirmed.png\", \"graph_picurl_us_confirmed\": \"https://resources.gabriele.ai/coronavirus/2020-5-28-13_01-COVID-world-en_generic_COVID_EN_GENERIC_us_confirmed.png\", \"graph_picurl_spain_deaths\": \"https://resources.gabriele.ai/coronavirus/2020-5-28-13_01-COVID-world-en_generic_COVID_EN_GENERIC_spain_deaths.png\", \"graph_picurl_us_recovered\": \"https://resources.gabriele.ai/coronavirus/2020-5-28-13_01-COVID-world-en_generic_COVID_EN_GENERIC_us_recovered.png\", \"graph_picurl_deaths_log_evolution\": \"https://resources.gabriele.ai/coronavirus/2020-5-28-13_01-COVID-world-en_generic_COVID_EN_GENERIC_deaths_log_evolution.png\", \"graph_picurl_italy\": \"https://resources.gabriele.ai/coronavirus/2020-5-28-13_01-COVID-world-en_generic_COVID_EN_GENERIC_italy.png\", \"graph_picurl_italy_recovered\": \"https://resources.gabriele.ai/coronavirus/2020-5-28-13_01-COVID-world-en_generic_COVID_EN_GENERIC_italy_recovered.png\", \"graph_picurl_us_deaths\": \"https://resources.gabriele.ai/coronavirus/2020-5-28-13_01-COVID-world-en_generic_COVID_EN_GENERIC_us_deaths.png\", \"graph_picurl_italy_deaths\": \"https://resources.gabriele.ai/coronavirus/2020-5-28-13_01-COVID-world-en_generic_COVID_EN_GENERIC_italy_deaths.png\", \"graph_picurl_china_deaths\": \"https://resources.gabriele.ai/coronavirus/2020-5-28-13_01-COVID-world-en_generic_COVID_EN_GENERIC_china_deaths.png\", \"graph_picurl_italy_confirmed\": \"https://resources.gabriele.ai/coronavirus/2020-5-28-13_01-COVID-world-en_generic_COVID_EN_GENERIC_italy_confirmed.png\", \"graph_picurl_spain_confirmed\": \"https://resources.gabriele.ai/coronavirus/2020-5-28-13_01-COVID-world-en_generic_COVID_EN_GENERIC_spain_confirmed.png\", \"graph_picurl_china_recovered\": \"https://resources.gabriele.ai/coronavirus/2020-5-28-13_01-COVID-world-en_generic_COVID_EN_GENERIC_china_recovered.png\"}, \"picurl_square_world\": \"https://4i2g925ohj.execute-api.eu-west-3.amazonaws.com/pro/coronavirus?confirmed_num=5%2C637%2C932&actives_num=2%2C928%2C656&recovered_num=2%2C363%2C902&deaths_num=345%2C374&date=28%20de%20mayo%20del%202020&region=world&aspect_ratio=square&client=default\", \"picurl_16_9_spain\": \"https://4i2g925ohj.execute-api.eu-west-3.amazonaws.com/pro/coronavirus?confirmed_num=5%2C637%2C932&deaths_num=345%2C374&date=28%20de%20mayo%20del%202020&top_countries=EE.UU.%20%281%2C699%2C933%29%2C%20Brasil%20%28411%2C821%29%2C%20Rusia%20%28379%2C051%29&top_spain=Madrid%20%2867%2C049%29%2C%20Catalu%C3%B1a%20%2855%2C888%29%2C%20Castilla%20y%20Le%C3%B3n%20%2818%2C627%29&region=spain&aspect_ratio=16_9&client=default\", \"composition_type\": \"world\", \"country_selected\": null, \"picurl_square_world_extended\": \"https://4i2g925ohj.execute-api.eu-west-3.amazonaws.com/pro/coronavirus?confirmed_num=5%2C637%2C932&actives_num=2%2C928%2C656&recovered_num=2%2C363%2C902&deaths_num=345%2C374&date=28%20de%20mayo%20del%202020&region=world&aspect_ratio=square&client=default&extended=true\", \"state_selected\": null}, \"author\": \"Narrativa\", \"_rev\": \"1-6d68f2ced837d30f1b846b5e6110b62a\", \"language\": \"en_generic\", \"title\": \"Coronavirus outbreak latest: <strong>1,668</strong> new cases reported worldwide\", \"content\": \"<p><small>Narrativa | Thursday, May 28, 2020 </small></p><p>There are now <strong>5,637,932</strong> <strong>people infected worldwide</strong>, with <strong>2,363,902</strong></strong> of these having already recovered, according to the data <a href=\\\"https://systems.jhu.edu/research/public-health/ncov/\\\" target=\\\"_blank\\\">provided by Johns Hopkins University</a>. <b>The US</b> tops the list with <strong>1,699,933</strong> recorded cases, followed by <b> Brazil</b>, <b> Russia</b>, and <b>The United Kingdom</b>, who have confirmed <strong>411,821, 379,051, and 268,619</strong> cases respectively.</p><h4>Coronavirus in the world</h4><p><table width=\\\"100%\\\"><thead><tr><th><strong>Active Cases</strong></th><th colspan=\\\"2\\\"><strong>Infected</strong></th><th colspan=\\\"2\\\"><strong>Deaths</strong></th><th colspan=\\\"2\\\"><strong>Recovered</strong></th></tr><tr><th>Total</th><th>Total</th><th>Last 24h</th><th>Total</th><th>Last 24h</th><th>Total</th><th>Last 24h</th></tr></thead><tbody><tr><td>1. The US: 1,207,983</td><td>1. The US: 1,699,933</td><td>1. Russia: 8,371</td><td>1. The US: 100,442</td><td>1. Russia: 174</td><td>1. The US: 391,508</strong></td><td>1. Russia: 8,785</strong></td></tr><tr><td>2. The United Kingdom: 229,911</td><td>2. Brazil: 411,821</td><td>2. Iran: 2,258</td><td>2. The United Kingdom: 37,542</td><td>2. The US: 166</td><td>2. Brazil: 166,647</strong></td><td>2. Italy: 2,443</strong></td></tr><tr><td>3. Russia: 223,916</td><td>3. Russia: 379,051</td><td>3. Pakistan: 2,076</td><td>3. Italy: 33,072</td><td>3. Italy: 117</td><td>3. Germany: 163,010</strong></td><td>3. Mexico: 2,126</strong></td></tr></tbody></table></p><p>During the last 24 hours, there has been a <strong>0.03</strong>% increase with <strong>1,668</strong> new cases. <strong> Russia</strong> has the most new cases so far with <strong>8,371</strong>, followed by <b> Iran</b> with <strong>2,258</strong>. <strong> Pakistan</strong> and <strong> Bangladesh</strong> are not far behind, with <strong>2,076</strong> and <strong>2,029</strong> new patients respectively.</p><p> </p><p>Since the coronavirus outbreak started, a total of<strong> 345,374 people</strong> have died worldwide. <strong>The US</strong> has registered the most victims so far with <strong>100,442</strong> deceased, followed by <strong>The United Kingdom, Italy, and Spain</strong> with <strong>37,542, 33,072, and 27,940</strong> deaths respectively.</p><p>The first signs of the virus appeared in <strong>China</strong>, in the city of <strong>Wuhan</strong>, on <strong>31 December 2019</strong>. Since that date, the number of infections have multiplied across the continent and the globe. As of the latest reports, cases in China have grown to <strong>2</strong> new cases since Wednesday. Overall, <strong>98</strong> people are infected with the virus.</p><hr><p><strong>Note</strong>: This article has been <strong><u>generated automatically by <a href=\\\"https://www.narrativa.com\\\" target=\\\"_blank\\\">Narrativa</a></u></strong> from the data by <a href=\\\"https://www.mscbs.gob.es/profesionales/saludPublica/ccayes/alertasActual/nCov-China/situacionActual.htm\\\" target=\\\"_blank\\\">Ministerio de Sanidad</a>, <a href=\\\"https://github.com/pcm-dpc/COVID-19\\\" target=\\\"_blank\\\">Dipartimento della Protezione Civile de Italia</a>, <a href=\\\"https://www.rki.de/DE/Content/InfAZ/N/Neuartiges_Coronavirus/Situationsberichte/Gesamt.html\\\" target=\\\"_blank\\\">Robert Koch Institute</a> and <a href=\\\"https://systems.jhu.edu/research/public-health/ncov/\\\" target=\\\"_blank\\\">Johns Hopkins University</a>.</p>\", \"picurl_world\": \"https://4i2g925ohj.execute-api.eu-west-3.amazonaws.com/pro/coronavirus?confirmed_num=5%2C637%2C932&actives_num=2%2C928%2C656&recovered_num=2%2C363%2C902&deaths_num=345%2C374&date=28%20de%20mayo%20del%202020&top_paises1=EE.UU.%3A%201%2C699%2C933&top_paises2=Brasil%3A%20411%2C821&top_paises3=Rusia%3A%20379%2C051&client=default&region=world\", \"picurl\": \"https://4i2g925ohj.execute-api.eu-west-3.amazonaws.com/pro/coronavirus?confirmed_num=233%2C037&confirmed_today_num=344&deaths_today_num=48&deaths_num=27%2C940&date=28%20de%20mayo%20del%202020&top_comunidades=Madrid%20%2867%2C049%29%2C%20Catalu%C3%B1a%20%2855%2C888%29%2C%20Castilla%20y%20Le%C3%B3n%20%2818%2C627%29&client=default&region=spain\", \"metatitle\": \"\", \"subtitle\": \"\", \"picurl_banner_web\": \"https://4i2g925ohj.execute-api.eu-west-3.amazonaws.com/pro/coronavirus?confirmed_num=5%2C637%2C932&actives_num=2%2C928%2C656&recovered_num=2%2C363%2C902&deaths_num=345%2C374&region_confirmed_num=233%2C037&region_confirmed_today_num=344&region_deaths_today_num=48&region_deaths_num=27%2C940&date=28%20de%20mayo%20del%202020&top_paises1=EE.UU.&top_paises2=Brasil&top_paises3=Rusia&top_paises1_num=1%2C699%2C933&top_paises2_num=411%2C821&top_paises3_num=379%2C051&top_comunidades1=Madrid&top_comunidades2=Catalu%C3%B1a&top_comunidades3=Castilla%20y%20Le%C3%B3n&top_comunidades1_num=67%2C049&top_comunidades2_num=55%2C888&top_comunidades3_num=18%2C627&gen_date=2020/05/28&gen_time=13%3A35&client=default_web&region=world\", \"_id\": \"df2c7402c292508dccc8629188014dde\", \"id\": \"2020-5-28-13_01-COVID-world-en_generic_COVID_EN_GENERIC\"}, {\"date\": \"2020-05-28T12:26:05+02:00\", \"metadata\": {\"picurl_square_spain\": \"https://4i2g925ohj.execute-api.eu-west-3.amazonaws.com/pro/coronavirus?confirmed_num=233%2C037&actives_num=54%2C721&recovered_num=150%2C376&deaths_num=27%2C940&date=28%20de%20mayo%20del%202020&region=spain&aspect_ratio=square&client=default\", \"picurl_square_spain_extended\": \"https://4i2g925ohj.execute-api.eu-west-3.amazonaws.com/pro/coronavirus?confirmed_num=233%2C037&confirmed_today_num=344&deaths_today_num=48&deaths_num=27%2C940&date=28%20de%20mayo%20del%202020&region=spain&aspect_ratio=square&client=default&extended=true\", \"graphs\": {\"graph_picurl_china\": \"https://resources.gabriele.ai/coronavirus/2020-5-28-12_01-COVID-world-en_generic_COVID_EN_GENERIC_china.png\", \"graph_picurl_us\": \"https://resources.gabriele.ai/coronavirus/2020-5-28-12_01-COVID-world-en_generic_COVID_EN_GENERIC_us.png\", \"graph_picurl_deaths_evolution\": \"https://resources.gabriele.ai/coronavirus/2020-5-28-12_01-COVID-world-en_generic_COVID_EN_GENERIC_deaths_evolution.png\", \"graph_picurl_world\": \"https://resources.gabriele.ai/coronavirus/2020-5-28-12_01-COVID-world-en_generic_COVID_EN_GENERIC_world.png\", \"graph_picurl_china_confirmed\": \"https://resources.gabriele.ai/coronavirus/2020-5-28-12_01-COVID-world-en_generic_COVID_EN_GENERIC_china_confirmed.png\", \"graph_picurl_us_confirmed\": \"https://resources.gabriele.ai/coronavirus/2020-5-28-12_01-COVID-world-en_generic_COVID_EN_GENERIC_us_confirmed.png\", \"graph_picurl_spain_deaths\": \"https://resources.gabriele.ai/coronavirus/2020-5-28-12_01-COVID-world-en_generic_COVID_EN_GENERIC_spain_deaths.png\", \"graph_picurl_us_recovered\": \"https://resources.gabriele.ai/coronavirus/2020-5-28-12_01-COVID-world-en_generic_COVID_EN_GENERIC_us_recovered.png\", \"graph_picurl_deaths_log_evolution\": \"https://resources.gabriele.ai/coronavirus/2020-5-28-12_01-COVID-world-en_generic_COVID_EN_GENERIC_deaths_log_evolution.png\", \"graph_picurl_italy\": \"https://resources.gabriele.ai/coronavirus/2020-5-28-12_01-COVID-world-en_generic_COVID_EN_GENERIC_italy.png\", \"graph_picurl_italy_recovered\": \"https://resources.gabriele.ai/coronavirus/2020-5-28-12_01-COVID-world-en_generic_COVID_EN_GENERIC_italy_recovered.png\", \"graph_picurl_us_deaths\": \"https://resources.gabriele.ai/coronavirus/2020-5-28-12_01-COVID-world-en_generic_COVID_EN_GENERIC_us_deaths.png\", \"graph_picurl_italy_deaths\": \"https://resources.gabriele.ai/coronavirus/2020-5-28-12_01-COVID-world-en_generic_COVID_EN_GENERIC_italy_deaths.png\", \"graph_picurl_china_deaths\": \"https://resources.gabriele.ai/coronavirus/2020-5-28-12_01-COVID-world-en_generic_COVID_EN_GENERIC_china_deaths.png\", \"graph_picurl_italy_confirmed\": \"https://resources.gabriele.ai/coronavirus/2020-5-28-12_01-COVID-world-en_generic_COVID_EN_GENERIC_italy_confirmed.png\", \"graph_picurl_spain_confirmed\": \"https://resources.gabriele.ai/coronavirus/2020-5-28-12_01-COVID-world-en_generic_COVID_EN_GENERIC_spain_confirmed.png\", \"graph_picurl_china_recovered\": \"https://resources.gabriele.ai/coronavirus/2020-5-28-12_01-COVID-world-en_generic_COVID_EN_GENERIC_china_recovered.png\"}, \"picurl_square_world\": \"https://4i2g925ohj.execute-api.eu-west-3.amazonaws.com/pro/coronavirus?confirmed_num=5%2C658%2C868&actives_num=2%2C953%2C149&recovered_num=2%2C359%2C521&deaths_num=346%2C198&date=28%20de%20mayo%20del%202020&region=world&aspect_ratio=square&client=default\", \"picurl_16_9_spain\": \"https://4i2g925ohj.execute-api.eu-west-3.amazonaws.com/pro/coronavirus?confirmed_num=5%2C658%2C868&deaths_num=346%2C198&date=28%20de%20mayo%20del%202020&top_countries=EE.UU.%20%281%2C699%2C933%29%2C%20Brasil%20%28411%2C821%29%2C%20Rusia%20%28379%2C051%29&top_spain=Madrid%20%2867%2C049%29%2C%20Catalu%C3%B1a%20%2855%2C888%29%2C%20Castilla%20y%20Le%C3%B3n%20%2818%2C627%29&region=spain&aspect_ratio=16_9&client=default\", \"composition_type\": \"world\", \"country_selected\": null, \"picurl_square_world_extended\": \"https://4i2g925ohj.execute-api.eu-west-3.amazonaws.com/pro/coronavirus?confirmed_num=5%2C658%2C868&actives_num=2%2C953%2C149&recovered_num=2%2C359%2C521&deaths_num=346%2C198&date=28%20de%20mayo%20del%202020&region=world&aspect_ratio=square&client=default&extended=true\", \"state_selected\": null}, \"author\": \"Narrativa\", \"_rev\": \"1-27b05d532847f3930e2e4e0acf24eb37\", \"language\": \"en_generic\", \"title\": \"Coronavirus outbreak latest: <strong>22,604</strong> new cases reported worldwide\", \"content\": \"<p><small>Narrativa | Thursday, May 28, 2020 </small></p><p>The number of COVID-19 cases worldwide is now at <strong>5,658,868</strong>, of which <strong>2,359,521</strong></strong> have already recovered, according to the data <a href=\\\"https://systems.jhu.edu/research/public-health/ncov/\\\" target=\\\"_blank\\\">provided by Johns Hopkins University</a>. <b>The US</b> has the most cases with <strong>1,699,933</strong>, followed by <b> Brazil</b>, <b> Russia</b>, and <b>The United Kingdom</b>, who have confirmed <strong>411,821, 379,051, and 268,619</strong> cases respectively.</p><h4>COVID-19 Status Worldwide</h4><p><table width=\\\"100%\\\"><thead><tr><th><strong>Currently Infected</strong></th><th colspan=\\\"2\\\"><strong>Infected</strong></th><th colspan=\\\"2\\\"><strong>Deaths</strong></th><th colspan=\\\"2\\\"><strong>Recovered</strong></th></tr><tr><th>Total</th><th>Total</th><th>Last 24h</th><th>Total</th><th>Last 24h</th><th>Total</th><th>Last 24h</th></tr></thead><tbody><tr><td>1. The US: 1,207,983</td><td>1. The US: 1,699,933</td><td>1. Russia: 8,371</td><td>1. The US: 100,442</td><td>1. Russia: 174</td><td>1. The US: 391,508</strong></td><td>1. Russia: 8,785</strong></td></tr><tr><td>2. The United Kingdom: 229,911</td><td>2. Brazil: 411,821</td><td>2. Pakistan: 2,076</td><td>2. The United Kingdom: 37,542</td><td>2. The US: 166</td><td>2. Brazil: 166,647</strong></td><td>2. Italy: 2,443</strong></td></tr><tr><td>3. Russia: 223,916</td><td>3. Russia: 379,051</td><td>3. Bangladesh: 2,029</td><td>3. Italy: 33,072</td><td>3. Italy: 117</td><td>3. Germany: 163,010</strong></td><td>3. Mexico: 2,126</strong></td></tr></tbody></table></p><p>Moreover, <strong>22,604</strong> new cases have been confirmed in the last 24 hours, which means an increase of <strong>0.4</strong>% from the previous day. <strong> Russia</strong> is the country with the most new cases, having now confirmed <strong>8,371</strong>, followed by <b> Pakistan</b> with <strong>2,076</strong>. <strong> Bangladesh</strong> and <strong>The United Kingdom</strong> are not far behind, with <strong>1,379</strong> and <strong>1,379</strong> new patients respectively.</p><p> </p><p>Since the beginning, <strong>the number of COVID-19 related deaths worldwide</strong> is <strong>346,198 people</strong>, including the <strong>862</strong> new deaths over last 24 hours. <strong>The US</strong> has the most victims so far with <strong>100,442</strong> deaths, followed by <strong>The United Kingdom, Italy, and Spain</strong> with <strong>37,542, 33,072, and 27,940</strong> deaths respectively.</p><p>The first evidences about this new strain of the virus appeared in <strong>China</strong>, in the city of <strong>Wuhan</strong>, on <strong>31 December 2019</strong>. Since that date, the number of infections have multiplied across the continent and the globe. As of the latest reports, cases in China have increased to <strong>2</strong> new cases since yesterday. Overall, <strong>98</strong> people are infected with coronavirus.</p><hr><p><strong>Note</strong>: This article has been <strong><u>generated automatically by <a href=\\\"https://www.narrativa.com\\\" target=\\\"_blank\\\">Narrativa</a></u></strong> from the data by <a href=\\\"https://www.mscbs.gob.es/profesionales/saludPublica/ccayes/alertasActual/nCov-China/situacionActual.htm\\\" target=\\\"_blank\\\">Ministerio de Sanidad</a>, <a href=\\\"https://github.com/pcm-dpc/COVID-19\\\" target=\\\"_blank\\\">Dipartimento della Protezione Civile de Italia</a>, <a href=\\\"https://www.rki.de/DE/Content/InfAZ/N/Neuartiges_Coronavirus/Situationsberichte/Gesamt.html\\\" target=\\\"_blank\\\">Robert Koch Institute</a> and <a href=\\\"https://systems.jhu.edu/research/public-health/ncov/\\\" target=\\\"_blank\\\">Johns Hopkins University</a>.</p>\", \"picurl_world\": \"https://4i2g925ohj.execute-api.eu-west-3.amazonaws.com/pro/coronavirus?confirmed_num=5%2C658%2C868&actives_num=2%2C953%2C149&recovered_num=2%2C359%2C521&deaths_num=346%2C198&date=28%20de%20mayo%20del%202020&top_paises1=EE.UU.%3A%201%2C699%2C933&top_paises2=Brasil%3A%20411%2C821&top_paises3=Rusia%3A%20379%2C051&client=default&region=world\", \"picurl\": \"https://4i2g925ohj.execute-api.eu-west-3.amazonaws.com/pro/coronavirus?confirmed_num=233%2C037&confirmed_today_num=344&deaths_today_num=48&deaths_num=27%2C940&date=28%20de%20mayo%20del%202020&top_comunidades=Madrid%20%2867%2C049%29%2C%20Catalu%C3%B1a%20%2855%2C888%29%2C%20Castilla%20y%20Le%C3%B3n%20%2818%2C627%29&client=default&region=spain\", \"metatitle\": \"\", \"subtitle\": \"\", \"picurl_banner_web\": \"https://4i2g925ohj.execute-api.eu-west-3.amazonaws.com/pro/coronavirus?confirmed_num=5%2C658%2C868&actives_num=2%2C953%2C149&recovered_num=2%2C359%2C521&deaths_num=346%2C198&region_confirmed_num=233%2C037&region_confirmed_today_num=344&region_deaths_today_num=48&region_deaths_num=27%2C940&date=28%20de%20mayo%20del%202020&top_paises1=EE.UU.&top_paises2=Brasil&top_paises3=Rusia&top_paises1_num=1%2C699%2C933&top_paises2_num=411%2C821&top_paises3_num=379%2C051&top_comunidades1=Madrid&top_comunidades2=Catalu%C3%B1a&top_comunidades3=Castilla%20y%20Le%C3%B3n&top_comunidades1_num=67%2C049&top_comunidades2_num=55%2C888&top_comunidades3_num=18%2C627&gen_date=2020/05/28&gen_time=12%3A16&client=default_web&region=world\", \"_id\": \"a9a97d8366303af830c81363bfe2ef34\", \"id\": \"2020-5-28-12_01-COVID-world-en_generic_COVID_EN_GENERIC\"}]}}\n\n"
    }
   ],
   "source": [
    "with open('data.json') as f: #ahora leemos linea a linea\n",
    "    line = f.readline()\n",
    "    if line:\n",
    "        print(line)\n",
    "        line = f.readline()\n",
    "print(line)"
   ]
  },
  {
   "cell_type": "markdown",
   "metadata": {},
   "source": [
    "Save with indent"
   ]
  },
  {
   "cell_type": "code",
   "execution_count": 5,
   "metadata": {},
   "outputs": [
    {
     "output_type": "execute_result",
     "data": {
      "text/plain": "<module 'json' from 'C:\\\\Python3.8.3\\\\lib\\\\json\\\\__init__.py'>"
     },
     "metadata": {},
     "execution_count": 5
    }
   ],
   "source": [
    "with open('data_indented.json', 'w+') as outfile: #nuestra variable json_readed que contiene el archivo la podemos\n",
    "    json.dump(json_readed, outfile, indent=4)   #guardar identada para mejor lectura\n",
    "json"
   ]
  },
  {
   "cell_type": "markdown",
   "metadata": {},
   "source": [
    "Read local json\n"
   ]
  },
  {
   "cell_type": "code",
   "execution_count": 6,
   "metadata": {
    "tags": []
   },
   "outputs": [
    {
     "output_type": "stream",
     "name": "stdout",
     "text": "<class 'dict'>\n"
    }
   ],
   "source": [
    "with open('data_indented.json', 'r+') as outfile: #leemos el archivo que tenemos en local\n",
    "    json_readed = json.load(outfile)\n",
    "print(type(json_readed))\n"
   ]
  },
  {
   "cell_type": "code",
   "execution_count": 7,
   "metadata": {},
   "outputs": [
    {
     "output_type": "execute_result",
     "data": {
      "text/plain": "                                                   data\npost  [{'date': '2020-07-13T16:03:32+02:00', 'metada...",
      "text/html": "<div>\n<style scoped>\n    .dataframe tbody tr th:only-of-type {\n        vertical-align: middle;\n    }\n\n    .dataframe tbody tr th {\n        vertical-align: top;\n    }\n\n    .dataframe thead th {\n        text-align: right;\n    }\n</style>\n<table border=\"1\" class=\"dataframe\">\n  <thead>\n    <tr style=\"text-align: right;\">\n      <th></th>\n      <th>data</th>\n    </tr>\n  </thead>\n  <tbody>\n    <tr>\n      <th>post</th>\n      <td>[{'date': '2020-07-13T16:03:32+02:00', 'metada...</td>\n    </tr>\n  </tbody>\n</table>\n</div>"
     },
     "metadata": {},
     "execution_count": 7
    }
   ],
   "source": [
    "df_json_readed= pd.read_json(\"data_indented.json\") #vemos que se carga como dataframe. ya renemos una columna \"data\"\n",
    "df_json_readed"
   ]
  },
  {
   "cell_type": "markdown",
   "metadata": {},
   "source": [
    "### Data Mining & Data Wrangling\n",
    "As you can see, there are jsons inside the original json. For that, we have to mining the json (data mining) to be able to use it correctly (data wrangling). \n",
    "\n",
    "How do you solve this issue? Research about this and try a solution. "
   ]
  },
  {
   "cell_type": "code",
   "execution_count": 15,
   "metadata": {},
   "outputs": [
    {
     "output_type": "execute_result",
     "data": {
      "text/plain": "list"
     },
     "metadata": {},
     "execution_count": 15
    }
   ],
   "source": [
    "df_json=[\"data\"]\n",
    "type(df_json)   #vemos que data es type DataFrame"
   ]
  },
  {
   "cell_type": "code",
   "execution_count": 9,
   "metadata": {
    "tags": []
   },
   "outputs": [
    {
     "output_type": "stream",
     "name": "stdout",
     "text": "post\n"
    }
   ],
   "source": [
    "with open (\"data_indented.json\",\"r\")as outfile: #accedo a los datos del diccionario que son otros json\n",
    "    json_readed=json.load(outfile)\n",
    "    for dict_ in json_readed [\"data\"]:\n",
    "        print(dict_)"
   ]
  },
  {
   "cell_type": "code",
   "execution_count": 10,
   "metadata": {
    "tags": []
   },
   "outputs": [],
   "source": [
    "with open (\"data_indented.json\",\"r+\") as outfile: #leemos el fichero data_idented y guardamos sus datos en una \n",
    "    json_readed=json.load(outfile)                  #variable\n",
    "    data_json_list=json_readed [\"data\"]\n",
    "\n"
   ]
  },
  {
   "cell_type": "code",
   "execution_count": 11,
   "metadata": {},
   "outputs": [],
   "source": [
    "with open (\"final_data.json\", \"w+\") as outfile: #guardamos los datos en un fichero final_data.json\n",
    "    json.dump(data_json_list, outfile,indent=4)"
   ]
  },
  {
   "cell_type": "code",
   "execution_count": 12,
   "metadata": {},
   "outputs": [
    {
     "output_type": "execute_result",
     "data": {
      "text/plain": "                                                  post\n0    {'date': '2020-07-13T16:03:32+02:00', 'metadat...\n1    {'date': '2020-07-13T15:10:44+02:00', 'metadat...\n2    {'date': '2020-07-13T14:08:52+02:00', 'metadat...\n3    {'date': '2020-07-13T13:01:51+02:00', 'metadat...\n4    {'date': '2020-07-13T12:02:36+02:00', 'metadat...\n..                                                 ...\n995  {'date': '2020-05-28T16:18:46+02:00', 'metadat...\n996  {'date': '2020-05-28T15:16:02+02:00', 'metadat...\n997  {'date': '2020-05-28T14:16:02+02:00', 'metadat...\n998  {'date': '2020-05-28T13:55:13+02:00', 'metadat...\n999  {'date': '2020-05-28T12:26:05+02:00', 'metadat...\n\n[1000 rows x 1 columns]",
      "text/html": "<div>\n<style scoped>\n    .dataframe tbody tr th:only-of-type {\n        vertical-align: middle;\n    }\n\n    .dataframe tbody tr th {\n        vertical-align: top;\n    }\n\n    .dataframe thead th {\n        text-align: right;\n    }\n</style>\n<table border=\"1\" class=\"dataframe\">\n  <thead>\n    <tr style=\"text-align: right;\">\n      <th></th>\n      <th>post</th>\n    </tr>\n  </thead>\n  <tbody>\n    <tr>\n      <th>0</th>\n      <td>{'date': '2020-07-13T16:03:32+02:00', 'metadat...</td>\n    </tr>\n    <tr>\n      <th>1</th>\n      <td>{'date': '2020-07-13T15:10:44+02:00', 'metadat...</td>\n    </tr>\n    <tr>\n      <th>2</th>\n      <td>{'date': '2020-07-13T14:08:52+02:00', 'metadat...</td>\n    </tr>\n    <tr>\n      <th>3</th>\n      <td>{'date': '2020-07-13T13:01:51+02:00', 'metadat...</td>\n    </tr>\n    <tr>\n      <th>4</th>\n      <td>{'date': '2020-07-13T12:02:36+02:00', 'metadat...</td>\n    </tr>\n    <tr>\n      <th>...</th>\n      <td>...</td>\n    </tr>\n    <tr>\n      <th>995</th>\n      <td>{'date': '2020-05-28T16:18:46+02:00', 'metadat...</td>\n    </tr>\n    <tr>\n      <th>996</th>\n      <td>{'date': '2020-05-28T15:16:02+02:00', 'metadat...</td>\n    </tr>\n    <tr>\n      <th>997</th>\n      <td>{'date': '2020-05-28T14:16:02+02:00', 'metadat...</td>\n    </tr>\n    <tr>\n      <th>998</th>\n      <td>{'date': '2020-05-28T13:55:13+02:00', 'metadat...</td>\n    </tr>\n    <tr>\n      <th>999</th>\n      <td>{'date': '2020-05-28T12:26:05+02:00', 'metadat...</td>\n    </tr>\n  </tbody>\n</table>\n<p>1000 rows × 1 columns</p>\n</div>"
     },
     "metadata": {},
     "execution_count": 12
    }
   ],
   "source": [
    "df_data_json_list=pd.read_json (\"final_data.json\") #creamos un pandas y cargamos el fichero con pandas\n",
    "df_data_json_list\n"
   ]
  },
  {
   "cell_type": "code",
   "execution_count": 13,
   "metadata": {},
   "outputs": [
    {
     "output_type": "execute_result",
     "data": {
      "text/plain": "                                                   post  \\\n0     {'date': '2020-07-13T16:03:32+02:00', 'metadat...   \n1     {'date': '2020-07-13T15:10:44+02:00', 'metadat...   \n2     {'date': '2020-07-13T14:08:52+02:00', 'metadat...   \n3     {'date': '2020-07-13T13:01:51+02:00', 'metadat...   \n4     {'date': '2020-07-13T12:02:36+02:00', 'metadat...   \n...                                                 ...   \n996   {'date': '2020-05-28T15:16:02+02:00', 'metadat...   \n997   {'date': '2020-05-28T14:16:02+02:00', 'metadat...   \n998   {'date': '2020-05-28T13:55:13+02:00', 'metadat...   \n999   {'date': '2020-05-28T12:26:05+02:00', 'metadat...   \npost                                                NaN   \n\n                                                   data  \n0                                                   NaN  \n1                                                   NaN  \n2                                                   NaN  \n3                                                   NaN  \n4                                                   NaN  \n...                                                 ...  \n996                                                 NaN  \n997                                                 NaN  \n998                                                 NaN  \n999                                                 NaN  \npost  [{'date': '2020-07-13T16:03:32+02:00', 'metada...  \n\n[1001 rows x 2 columns]",
      "text/html": "<div>\n<style scoped>\n    .dataframe tbody tr th:only-of-type {\n        vertical-align: middle;\n    }\n\n    .dataframe tbody tr th {\n        vertical-align: top;\n    }\n\n    .dataframe thead th {\n        text-align: right;\n    }\n</style>\n<table border=\"1\" class=\"dataframe\">\n  <thead>\n    <tr style=\"text-align: right;\">\n      <th></th>\n      <th>post</th>\n      <th>data</th>\n    </tr>\n  </thead>\n  <tbody>\n    <tr>\n      <th>0</th>\n      <td>{'date': '2020-07-13T16:03:32+02:00', 'metadat...</td>\n      <td>NaN</td>\n    </tr>\n    <tr>\n      <th>1</th>\n      <td>{'date': '2020-07-13T15:10:44+02:00', 'metadat...</td>\n      <td>NaN</td>\n    </tr>\n    <tr>\n      <th>2</th>\n      <td>{'date': '2020-07-13T14:08:52+02:00', 'metadat...</td>\n      <td>NaN</td>\n    </tr>\n    <tr>\n      <th>3</th>\n      <td>{'date': '2020-07-13T13:01:51+02:00', 'metadat...</td>\n      <td>NaN</td>\n    </tr>\n    <tr>\n      <th>4</th>\n      <td>{'date': '2020-07-13T12:02:36+02:00', 'metadat...</td>\n      <td>NaN</td>\n    </tr>\n    <tr>\n      <th>...</th>\n      <td>...</td>\n      <td>...</td>\n    </tr>\n    <tr>\n      <th>996</th>\n      <td>{'date': '2020-05-28T15:16:02+02:00', 'metadat...</td>\n      <td>NaN</td>\n    </tr>\n    <tr>\n      <th>997</th>\n      <td>{'date': '2020-05-28T14:16:02+02:00', 'metadat...</td>\n      <td>NaN</td>\n    </tr>\n    <tr>\n      <th>998</th>\n      <td>{'date': '2020-05-28T13:55:13+02:00', 'metadat...</td>\n      <td>NaN</td>\n    </tr>\n    <tr>\n      <th>999</th>\n      <td>{'date': '2020-05-28T12:26:05+02:00', 'metadat...</td>\n      <td>NaN</td>\n    </tr>\n    <tr>\n      <th>post</th>\n      <td>NaN</td>\n      <td>[{'date': '2020-07-13T16:03:32+02:00', 'metada...</td>\n    </tr>\n  </tbody>\n</table>\n<p>1001 rows × 2 columns</p>\n</div>"
     },
     "metadata": {},
     "execution_count": 13
    }
   ],
   "source": [
    "final_df=pd.concat([df_data_json_list,df_json_readed],axis=1,sort=False) #ahora concateno los dos dataframe por columnas. \n",
    "final_df"
   ]
  },
  {
   "cell_type": "code",
   "execution_count": null,
   "metadata": {},
   "outputs": [],
   "source": []
  }
 ],
 "metadata": {
  "language_info": {
   "name": "python",
   "codemirror_mode": {
    "name": "ipython",
    "version": 3
   },
   "version": "3.6.4-final"
  },
  "orig_nbformat": 2,
  "file_extension": ".py",
  "mimetype": "text/x-python",
  "name": "python",
  "npconvert_exporter": "python",
  "pygments_lexer": "ipython3",
  "version": 3,
  "kernelspec": {
   "name": "python_defaultSpec_1594648706371",
   "display_name": "Python 3.8.3 32-bit"
  }
 },
 "nbformat": 4,
 "nbformat_minor": 2
}